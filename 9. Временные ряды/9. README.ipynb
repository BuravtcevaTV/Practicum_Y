{
 "cells": [
  {
   "cell_type": "markdown",
   "source": [
    "## Прогнозирование заказов такси\n",
    "\n",
    "В нашем распоряжении исторические данные о заказах такси в аэропортах. Чтобы привлекать больше водителей в период пиковой нагрузки, нужно спрогнозировать количество заказов такси на следующий час. \n",
    "**Задача:** построить модель для такого предсказания.\n",
    "\n",
    "## Библиотеки\n",
    "\n",
    "`pandas`\n",
    "`numpy`\n",
    "`matplotlib`\n",
    "`time`\n",
    "`sklearn`\n",
    "`statsmodels`\n",
    "`lightgbm`\n",
    "`catboost`\n",
    "\n",
    "\n",
    "##  Модели\n",
    "\n",
    "- Случайный лес\n",
    "- CatBoost\n",
    "- LightGBM\n",
    "- Константная модель\n",
    "\n",
    "\n",
    "## Итоги:\n",
    "\n",
    "- Проведена обработка и исследовательский анализ данных\n",
    "- Проведено исследование на тренды и сезонность при помощи seasonal_decompose\n",
    "- Обучены модели \"Случайный лес\", \"CatBoost\" и \"LightGBM\" с использованием GridSearchCV\n",
    "- Рассчитаны метрики RMSE для всех моделей\n",
    "- Проведено сравнение моделей с константной моделью\n",
    "- Проведена проверка лучшей модели на тестовой выборке\n",
    "\n"
   ],
   "metadata": {
    "collapsed": false
   },
   "id": "fcdb469424e17184"
  },
  {
   "cell_type": "code",
   "execution_count": null,
   "outputs": [],
   "source": [],
   "metadata": {
    "collapsed": false
   },
   "id": "ebab757659b8c8d"
  }
 ],
 "metadata": {
  "kernelspec": {
   "display_name": "Python 3",
   "language": "python",
   "name": "python3"
  },
  "language_info": {
   "codemirror_mode": {
    "name": "ipython",
    "version": 2
   },
   "file_extension": ".py",
   "mimetype": "text/x-python",
   "name": "python",
   "nbconvert_exporter": "python",
   "pygments_lexer": "ipython2",
   "version": "2.7.6"
  }
 },
 "nbformat": 4,
 "nbformat_minor": 5
}
