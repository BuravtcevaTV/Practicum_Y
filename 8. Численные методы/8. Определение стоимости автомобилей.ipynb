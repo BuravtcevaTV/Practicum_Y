{
 "cells": [
  {
   "cell_type": "markdown",
   "metadata": {},
   "source": [
    "# Определение стоимости автомобилей"
   ]
  },
  {
   "cell_type": "markdown",
   "metadata": {},
   "source": [
    "Сервис по продаже автомобилей с пробегом разрабатывает приложение, чтобы привлечь новых клиентов. В нём можно будет узнать рыночную стоимость своего автомобиля. \n",
    "\n",
    "**Задача:** построить модель, которая умеет определять рыночную стоимость автомобиля. В нашем распоряжении данные о технических характеристиках, комплектации и ценах других автомобилей.\n",
    "\n",
    "Критерии, которые важны заказчику:\n",
    "качество предсказания;\n",
    "время обучения модели;\n",
    "время предсказания модели."
   ]
  },
  {
   "cell_type": "markdown",
   "metadata": {},
   "source": [
    "## Подготовка данных"
   ]
  },
  {
   "cell_type": "code",
   "execution_count": 1,
   "metadata": {},
   "outputs": [],
   "source": [
    "import pandas as pd\n",
    "import numpy as np\n",
    "import matplotlib.pyplot as plt\n",
    "import seaborn as sns\n",
    "import time\n",
    "\n",
    "from lightgbm import LGBMRegressor\n",
    "from sklearn.dummy import DummyRegressor\n",
    "\n",
    "from sklearn.preprocessing import OrdinalEncoder\n",
    "\n",
    "from sklearn.ensemble import RandomForestRegressor\n",
    "from catboost import CatBoostRegressor\n",
    "\n",
    "from sklearn.metrics import mean_squared_error, make_scorer\n",
    "\n",
    "from sklearn.model_selection import train_test_split\n",
    "from sklearn.preprocessing import StandardScaler\n",
    "from sklearn.model_selection import GridSearchCV\n",
    "\n",
    "import warnings\n",
    "warnings.filterwarnings(\"ignore\")"
   ]
  },
  {
   "cell_type": "code",
   "execution_count": 2,
   "metadata": {},
   "outputs": [
    {
     "name": "stdout",
     "output_type": "stream",
     "text": [
      "<class 'pandas.core.frame.DataFrame'>\n",
      "RangeIndex: 354369 entries, 0 to 354368\n",
      "Data columns (total 16 columns):\n",
      " #   Column             Non-Null Count   Dtype \n",
      "---  ------             --------------   ----- \n",
      " 0   DateCrawled        354369 non-null  object\n",
      " 1   Price              354369 non-null  int64 \n",
      " 2   VehicleType        316879 non-null  object\n",
      " 3   RegistrationYear   354369 non-null  int64 \n",
      " 4   Gearbox            334536 non-null  object\n",
      " 5   Power              354369 non-null  int64 \n",
      " 6   Model              334664 non-null  object\n",
      " 7   Kilometer          354369 non-null  int64 \n",
      " 8   RegistrationMonth  354369 non-null  int64 \n",
      " 9   FuelType           321474 non-null  object\n",
      " 10  Brand              354369 non-null  object\n",
      " 11  Repaired           283215 non-null  object\n",
      " 12  DateCreated        354369 non-null  object\n",
      " 13  NumberOfPictures   354369 non-null  int64 \n",
      " 14  PostalCode         354369 non-null  int64 \n",
      " 15  LastSeen           354369 non-null  object\n",
      "dtypes: int64(7), object(9)\n",
      "memory usage: 43.3+ MB\n"
     ]
    },
    {
     "data": {
      "text/html": [
       "<div>\n",
       "<style scoped>\n",
       "    .dataframe tbody tr th:only-of-type {\n",
       "        vertical-align: middle;\n",
       "    }\n",
       "\n",
       "    .dataframe tbody tr th {\n",
       "        vertical-align: top;\n",
       "    }\n",
       "\n",
       "    .dataframe thead th {\n",
       "        text-align: right;\n",
       "    }\n",
       "</style>\n",
       "<table border=\"1\" class=\"dataframe\">\n",
       "  <thead>\n",
       "    <tr style=\"text-align: right;\">\n",
       "      <th></th>\n",
       "      <th>DateCrawled</th>\n",
       "      <th>Price</th>\n",
       "      <th>VehicleType</th>\n",
       "      <th>RegistrationYear</th>\n",
       "      <th>Gearbox</th>\n",
       "      <th>Power</th>\n",
       "      <th>Model</th>\n",
       "      <th>Kilometer</th>\n",
       "      <th>RegistrationMonth</th>\n",
       "      <th>FuelType</th>\n",
       "      <th>Brand</th>\n",
       "      <th>Repaired</th>\n",
       "      <th>DateCreated</th>\n",
       "      <th>NumberOfPictures</th>\n",
       "      <th>PostalCode</th>\n",
       "      <th>LastSeen</th>\n",
       "    </tr>\n",
       "  </thead>\n",
       "  <tbody>\n",
       "    <tr>\n",
       "      <th>0</th>\n",
       "      <td>2016-03-24 11:52:17</td>\n",
       "      <td>480</td>\n",
       "      <td>NaN</td>\n",
       "      <td>1993</td>\n",
       "      <td>manual</td>\n",
       "      <td>0</td>\n",
       "      <td>golf</td>\n",
       "      <td>150000</td>\n",
       "      <td>0</td>\n",
       "      <td>petrol</td>\n",
       "      <td>volkswagen</td>\n",
       "      <td>NaN</td>\n",
       "      <td>2016-03-24 00:00:00</td>\n",
       "      <td>0</td>\n",
       "      <td>70435</td>\n",
       "      <td>2016-04-07 03:16:57</td>\n",
       "    </tr>\n",
       "    <tr>\n",
       "      <th>1</th>\n",
       "      <td>2016-03-24 10:58:45</td>\n",
       "      <td>18300</td>\n",
       "      <td>coupe</td>\n",
       "      <td>2011</td>\n",
       "      <td>manual</td>\n",
       "      <td>190</td>\n",
       "      <td>NaN</td>\n",
       "      <td>125000</td>\n",
       "      <td>5</td>\n",
       "      <td>gasoline</td>\n",
       "      <td>audi</td>\n",
       "      <td>yes</td>\n",
       "      <td>2016-03-24 00:00:00</td>\n",
       "      <td>0</td>\n",
       "      <td>66954</td>\n",
       "      <td>2016-04-07 01:46:50</td>\n",
       "    </tr>\n",
       "    <tr>\n",
       "      <th>2</th>\n",
       "      <td>2016-03-14 12:52:21</td>\n",
       "      <td>9800</td>\n",
       "      <td>suv</td>\n",
       "      <td>2004</td>\n",
       "      <td>auto</td>\n",
       "      <td>163</td>\n",
       "      <td>grand</td>\n",
       "      <td>125000</td>\n",
       "      <td>8</td>\n",
       "      <td>gasoline</td>\n",
       "      <td>jeep</td>\n",
       "      <td>NaN</td>\n",
       "      <td>2016-03-14 00:00:00</td>\n",
       "      <td>0</td>\n",
       "      <td>90480</td>\n",
       "      <td>2016-04-05 12:47:46</td>\n",
       "    </tr>\n",
       "    <tr>\n",
       "      <th>3</th>\n",
       "      <td>2016-03-17 16:54:04</td>\n",
       "      <td>1500</td>\n",
       "      <td>small</td>\n",
       "      <td>2001</td>\n",
       "      <td>manual</td>\n",
       "      <td>75</td>\n",
       "      <td>golf</td>\n",
       "      <td>150000</td>\n",
       "      <td>6</td>\n",
       "      <td>petrol</td>\n",
       "      <td>volkswagen</td>\n",
       "      <td>no</td>\n",
       "      <td>2016-03-17 00:00:00</td>\n",
       "      <td>0</td>\n",
       "      <td>91074</td>\n",
       "      <td>2016-03-17 17:40:17</td>\n",
       "    </tr>\n",
       "    <tr>\n",
       "      <th>4</th>\n",
       "      <td>2016-03-31 17:25:20</td>\n",
       "      <td>3600</td>\n",
       "      <td>small</td>\n",
       "      <td>2008</td>\n",
       "      <td>manual</td>\n",
       "      <td>69</td>\n",
       "      <td>fabia</td>\n",
       "      <td>90000</td>\n",
       "      <td>7</td>\n",
       "      <td>gasoline</td>\n",
       "      <td>skoda</td>\n",
       "      <td>no</td>\n",
       "      <td>2016-03-31 00:00:00</td>\n",
       "      <td>0</td>\n",
       "      <td>60437</td>\n",
       "      <td>2016-04-06 10:17:21</td>\n",
       "    </tr>\n",
       "  </tbody>\n",
       "</table>\n",
       "</div>"
      ],
      "text/plain": [
       "           DateCrawled  Price VehicleType  RegistrationYear Gearbox  Power  \\\n",
       "0  2016-03-24 11:52:17    480         NaN              1993  manual      0   \n",
       "1  2016-03-24 10:58:45  18300       coupe              2011  manual    190   \n",
       "2  2016-03-14 12:52:21   9800         suv              2004    auto    163   \n",
       "3  2016-03-17 16:54:04   1500       small              2001  manual     75   \n",
       "4  2016-03-31 17:25:20   3600       small              2008  manual     69   \n",
       "\n",
       "   Model  Kilometer  RegistrationMonth  FuelType       Brand Repaired  \\\n",
       "0   golf     150000                  0    petrol  volkswagen      NaN   \n",
       "1    NaN     125000                  5  gasoline        audi      yes   \n",
       "2  grand     125000                  8  gasoline        jeep      NaN   \n",
       "3   golf     150000                  6    petrol  volkswagen       no   \n",
       "4  fabia      90000                  7  gasoline       skoda       no   \n",
       "\n",
       "           DateCreated  NumberOfPictures  PostalCode             LastSeen  \n",
       "0  2016-03-24 00:00:00                 0       70435  2016-04-07 03:16:57  \n",
       "1  2016-03-24 00:00:00                 0       66954  2016-04-07 01:46:50  \n",
       "2  2016-03-14 00:00:00                 0       90480  2016-04-05 12:47:46  \n",
       "3  2016-03-17 00:00:00                 0       91074  2016-03-17 17:40:17  \n",
       "4  2016-03-31 00:00:00                 0       60437  2016-04-06 10:17:21  "
      ]
     },
     "execution_count": 2,
     "metadata": {},
     "output_type": "execute_result"
    }
   ],
   "source": [
    "df = pd.read_csv('/datasets/autos.csv')\n",
    "\n",
    "df.info()\n",
    "df.head()"
   ]
  },
  {
   "cell_type": "code",
   "execution_count": 3,
   "metadata": {},
   "outputs": [
    {
     "data": {
      "image/png": "[encoded data removed]",
      "text/plain": [
       "<Figure size 720x1080 with 9 Axes>"
      ]
     },
     "metadata": {
      "needs_background": "light"
     },
     "output_type": "display_data"
    }
   ],
   "source": [
    "df.hist(figsize=(10, 15))\n",
    "plt.show()"
   ]
  },
  {
   "cell_type": "markdown",
   "metadata": {},
   "source": [
    "Гистограммы для столбцов `RegistrationYear`, `Power`, `NumberOfPictures` выглядят странно. Проверим эти столбцы на наличие аномалий.\n",
    "Также, стоит проверить столбец `Price` на наличие аномалий (слишком низкая или нулевая цена). "
   ]
  },
  {
   "cell_type": "code",
   "execution_count": 4,
   "metadata": {},
   "outputs": [
    {
     "data": {
      "text/html": [
       "<div>\n",
       "<style scoped>\n",
       "    .dataframe tbody tr th:only-of-type {\n",
       "        vertical-align: middle;\n",
       "    }\n",
       "\n",
       "    .dataframe tbody tr th {\n",
       "        vertical-align: top;\n",
       "    }\n",
       "\n",
       "    .dataframe thead th {\n",
       "        text-align: right;\n",
       "    }\n",
       "</style>\n",
       "<table border=\"1\" class=\"dataframe\">\n",
       "  <thead>\n",
       "    <tr style=\"text-align: right;\">\n",
       "      <th></th>\n",
       "      <th>Price</th>\n",
       "      <th>RegistrationYear</th>\n",
       "      <th>Power</th>\n",
       "      <th>Kilometer</th>\n",
       "      <th>RegistrationMonth</th>\n",
       "      <th>NumberOfPictures</th>\n",
       "      <th>PostalCode</th>\n",
       "    </tr>\n",
       "  </thead>\n",
       "  <tbody>\n",
       "    <tr>\n",
       "      <th>count</th>\n",
       "      <td>354369.000000</td>\n",
       "      <td>354369.000000</td>\n",
       "      <td>354369.000000</td>\n",
       "      <td>354369.000000</td>\n",
       "      <td>354369.000000</td>\n",
       "      <td>354369.0</td>\n",
       "      <td>354369.000000</td>\n",
       "    </tr>\n",
       "    <tr>\n",
       "      <th>mean</th>\n",
       "      <td>4416.656776</td>\n",
       "      <td>2004.234448</td>\n",
       "      <td>110.094337</td>\n",
       "      <td>128211.172535</td>\n",
       "      <td>5.714645</td>\n",
       "      <td>0.0</td>\n",
       "      <td>50508.689087</td>\n",
       "    </tr>\n",
       "    <tr>\n",
       "      <th>std</th>\n",
       "      <td>4514.158514</td>\n",
       "      <td>90.227958</td>\n",
       "      <td>189.850405</td>\n",
       "      <td>37905.341530</td>\n",
       "      <td>3.726421</td>\n",
       "      <td>0.0</td>\n",
       "      <td>25783.096248</td>\n",
       "    </tr>\n",
       "    <tr>\n",
       "      <th>min</th>\n",
       "      <td>0.000000</td>\n",
       "      <td>1000.000000</td>\n",
       "      <td>0.000000</td>\n",
       "      <td>5000.000000</td>\n",
       "      <td>0.000000</td>\n",
       "      <td>0.0</td>\n",
       "      <td>1067.000000</td>\n",
       "    </tr>\n",
       "    <tr>\n",
       "      <th>25%</th>\n",
       "      <td>1050.000000</td>\n",
       "      <td>1999.000000</td>\n",
       "      <td>69.000000</td>\n",
       "      <td>125000.000000</td>\n",
       "      <td>3.000000</td>\n",
       "      <td>0.0</td>\n",
       "      <td>30165.000000</td>\n",
       "    </tr>\n",
       "    <tr>\n",
       "      <th>50%</th>\n",
       "      <td>2700.000000</td>\n",
       "      <td>2003.000000</td>\n",
       "      <td>105.000000</td>\n",
       "      <td>150000.000000</td>\n",
       "      <td>6.000000</td>\n",
       "      <td>0.0</td>\n",
       "      <td>49413.000000</td>\n",
       "    </tr>\n",
       "    <tr>\n",
       "      <th>75%</th>\n",
       "      <td>6400.000000</td>\n",
       "      <td>2008.000000</td>\n",
       "      <td>143.000000</td>\n",
       "      <td>150000.000000</td>\n",
       "      <td>9.000000</td>\n",
       "      <td>0.0</td>\n",
       "      <td>71083.000000</td>\n",
       "    </tr>\n",
       "    <tr>\n",
       "      <th>max</th>\n",
       "      <td>20000.000000</td>\n",
       "      <td>9999.000000</td>\n",
       "      <td>20000.000000</td>\n",
       "      <td>150000.000000</td>\n",
       "      <td>12.000000</td>\n",
       "      <td>0.0</td>\n",
       "      <td>99998.000000</td>\n",
       "    </tr>\n",
       "  </tbody>\n",
       "</table>\n",
       "</div>"
      ],
      "text/plain": [
       "               Price  RegistrationYear          Power      Kilometer  \\\n",
       "count  354369.000000     354369.000000  354369.000000  354369.000000   \n",
       "mean     4416.656776       2004.234448     110.094337  128211.172535   \n",
       "std      4514.158514         90.227958     189.850405   37905.341530   \n",
       "min         0.000000       1000.000000       0.000000    5000.000000   \n",
       "25%      1050.000000       1999.000000      69.000000  125000.000000   \n",
       "50%      2700.000000       2003.000000     105.000000  150000.000000   \n",
       "75%      6400.000000       2008.000000     143.000000  150000.000000   \n",
       "max     20000.000000       9999.000000   20000.000000  150000.000000   \n",
       "\n",
       "       RegistrationMonth  NumberOfPictures     PostalCode  \n",
       "count      354369.000000          354369.0  354369.000000  \n",
       "mean            5.714645               0.0   50508.689087  \n",
       "std             3.726421               0.0   25783.096248  \n",
       "min             0.000000               0.0    1067.000000  \n",
       "25%             3.000000               0.0   30165.000000  \n",
       "50%             6.000000               0.0   49413.000000  \n",
       "75%             9.000000               0.0   71083.000000  \n",
       "max            12.000000               0.0   99998.000000  "
      ]
     },
     "execution_count": 4,
     "metadata": {},
     "output_type": "execute_result"
    }
   ],
   "source": [
    "df.describe()"
   ]
  },
  {
   "cell_type": "markdown",
   "metadata": {},
   "source": [
    "- `Price`. В столбце есть нулевые значения. Вряд ли получитася действительно найти авто, которое будет стоить менее 25 тыс.руб.(~ 300 евро). Заменим все значения <300 медианой.\n",
    "\n",
    "\n",
    "- `RegistrationYear`. Минимальное значение - 1000, Максмальное - 9999. Это, очевидно, аномальные отношения, и , так как их немного - можно удалить. \n",
    "\n",
    "\n",
    "- `Power`. В данных минимальная мощность - 0, масимальная - 20000. Ни того ни другого не может быть. Существующие сейчас минимальная и максимальная мощности для автомобилей - 50-60 и 2000 л.с. соответственно. Таких мощных автомобилей единицы. 75% всех значений меньше 143 л.с. Удалим значения > 300 л.с. Значений, меньших 50 л.с. много Заменим эти значения на медианные.\n",
    "\n",
    "\n",
    "- `NumberOfPictures`. И минимальное и максимальное значение 0 - столбец не содержит значений и не будет влиять на обучение модели. Его можно удалить.\n",
    "\n",
    "Так же на обучение не повлияют столбцы `RegistrationMonth`, `DateCrawled`, `DateCreated`и `LastSeen` и их так же можно удалить."
   ]
  },
  {
   "cell_type": "code",
   "execution_count": 5,
   "metadata": {},
   "outputs": [
    {
     "data": {
      "image/png": "[encoded data removed]",
      "text/plain": [
       "<Figure size 432x288 with 1 Axes>"
      ]
     },
     "metadata": {
      "needs_background": "light"
     },
     "output_type": "display_data"
    },
    {
     "data": {
      "text/plain": [
       "count    354369.000000\n",
       "mean       4587.469313\n",
       "std        4394.875810\n",
       "min         300.000000\n",
       "25%        1400.000000\n",
       "50%        2700.000000\n",
       "75%        6400.000000\n",
       "max       20000.000000\n",
       "Name: Price, dtype: float64"
      ]
     },
     "execution_count": 5,
     "metadata": {},
     "output_type": "execute_result"
    }
   ],
   "source": [
    "df.loc[(df['Price']<300), 'Price'] = df['Price'].median()\n",
    "df['Price'].hist()\n",
    "plt.show()\n",
    "df['Price'].describe()"
   ]
  },
  {
   "cell_type": "code",
   "execution_count": 6,
   "metadata": {},
   "outputs": [
    {
     "data": {
      "image/png": "[encoded data removed]",
      "text/plain": [
       "<Figure size 432x288 with 1 Axes>"
      ]
     },
     "metadata": {
      "needs_background": "light"
     },
     "output_type": "display_data"
    },
    {
     "data": {
      "text/plain": [
       "count    352593.000000\n",
       "mean       2003.281398\n",
       "std           6.890340\n",
       "min        1971.000000\n",
       "25%        1999.000000\n",
       "50%        2003.000000\n",
       "75%        2008.000000\n",
       "max        2019.000000\n",
       "Name: RegistrationYear, dtype: float64"
      ]
     },
     "execution_count": 6,
     "metadata": {},
     "output_type": "execute_result"
    }
   ],
   "source": [
    "df['RegistrationYear'] = df.loc[(df['RegistrationYear']<2023)&(df['RegistrationYear']>1970), 'RegistrationYear']\n",
    "df['RegistrationYear'].hist()\n",
    "plt.show()\n",
    "df['RegistrationYear'].describe()"
   ]
  },
  {
   "cell_type": "code",
   "execution_count": 7,
   "metadata": {},
   "outputs": [
    {
     "data": {
      "text/plain": [
       "(0.0, 300.0)"
      ]
     },
     "execution_count": 7,
     "metadata": {},
     "output_type": "execute_result"
    },
    {
     "data": {
      "image/png": "[encoded data removed]",
      "text/plain": [
       "<Figure size 432x288 with 1 Axes>"
      ]
     },
     "metadata": {
      "needs_background": "light"
     },
     "output_type": "display_data"
    }
   ],
   "source": [
    "sns.boxplot(data=df['Power'])\n",
    "plt.ylim(0,300)"
   ]
  },
  {
   "cell_type": "markdown",
   "metadata": {},
   "source": [
    "Выбросы начинаются примерно с уровня 250 л.с. Удалим выбросы больше300 л.с."
   ]
  },
  {
   "cell_type": "code",
   "execution_count": 8,
   "metadata": {},
   "outputs": [
    {
     "data": {
      "image/png": "[encoded data removed]",
      "text/plain": [
       "<Figure size 432x288 with 1 Axes>"
      ]
     },
     "metadata": {
      "needs_background": "light"
     },
     "output_type": "display_data"
    },
    {
     "data": {
      "text/plain": [
       "count    350650.000000\n",
       "mean        116.982301\n",
       "std          44.929772\n",
       "min          50.000000\n",
       "25%          88.000000\n",
       "50%         102.000000\n",
       "75%         140.000000\n",
       "max         299.000000\n",
       "Name: Power, dtype: float64"
      ]
     },
     "execution_count": 8,
     "metadata": {},
     "output_type": "execute_result"
    }
   ],
   "source": [
    "df['Power'] = df.loc[df['Power']<300, 'Power']\n",
    "df.loc[df['Power']<50, 'Power'] = df['Power'].median()\n",
    "df['Power'].hist()\n",
    "plt.show()\n",
    "df['Power'].describe()"
   ]
  },
  {
   "cell_type": "markdown",
   "metadata": {},
   "source": [
    "### Исследование пропусков и дубликатов"
   ]
  },
  {
   "cell_type": "code",
   "execution_count": 9,
   "metadata": {},
   "outputs": [
    {
     "data": {
      "text/plain": [
       "4"
      ]
     },
     "execution_count": 9,
     "metadata": {},
     "output_type": "execute_result"
    }
   ],
   "source": [
    "df.duplicated().sum()"
   ]
  },
  {
   "cell_type": "markdown",
   "metadata": {},
   "source": [
    "Дубликатов мало - их удаление не повлияет на исследование"
   ]
  },
  {
   "cell_type": "code",
   "execution_count": 10,
   "metadata": {},
   "outputs": [
    {
     "data": {
      "text/plain": [
       "0"
      ]
     },
     "execution_count": 10,
     "metadata": {},
     "output_type": "execute_result"
    }
   ],
   "source": [
    "df = df.drop_duplicates()\n",
    "df.duplicated().sum()"
   ]
  },
  {
   "cell_type": "code",
   "execution_count": 11,
   "metadata": {},
   "outputs": [
    {
     "data": {
      "text/html": [
       "<div>\n",
       "<style scoped>\n",
       "    .dataframe tbody tr th:only-of-type {\n",
       "        vertical-align: middle;\n",
       "    }\n",
       "\n",
       "    .dataframe tbody tr th {\n",
       "        vertical-align: top;\n",
       "    }\n",
       "\n",
       "    .dataframe thead th {\n",
       "        text-align: right;\n",
       "    }\n",
       "</style>\n",
       "<table border=\"1\" class=\"dataframe\">\n",
       "  <thead>\n",
       "    <tr style=\"text-align: right;\">\n",
       "      <th></th>\n",
       "      <th>Price</th>\n",
       "      <th>VehicleType</th>\n",
       "      <th>RegistrationYear</th>\n",
       "      <th>Gearbox</th>\n",
       "      <th>Power</th>\n",
       "      <th>Model</th>\n",
       "      <th>Kilometer</th>\n",
       "      <th>FuelType</th>\n",
       "      <th>Brand</th>\n",
       "      <th>Repaired</th>\n",
       "    </tr>\n",
       "  </thead>\n",
       "  <tbody>\n",
       "    <tr>\n",
       "      <th>0</th>\n",
       "      <td>480.0</td>\n",
       "      <td>NaN</td>\n",
       "      <td>1993.0</td>\n",
       "      <td>manual</td>\n",
       "      <td>102.0</td>\n",
       "      <td>golf</td>\n",
       "      <td>150000</td>\n",
       "      <td>petrol</td>\n",
       "      <td>volkswagen</td>\n",
       "      <td>NaN</td>\n",
       "    </tr>\n",
       "    <tr>\n",
       "      <th>1</th>\n",
       "      <td>18300.0</td>\n",
       "      <td>coupe</td>\n",
       "      <td>2011.0</td>\n",
       "      <td>manual</td>\n",
       "      <td>190.0</td>\n",
       "      <td>NaN</td>\n",
       "      <td>125000</td>\n",
       "      <td>gasoline</td>\n",
       "      <td>audi</td>\n",
       "      <td>yes</td>\n",
       "    </tr>\n",
       "    <tr>\n",
       "      <th>2</th>\n",
       "      <td>9800.0</td>\n",
       "      <td>suv</td>\n",
       "      <td>2004.0</td>\n",
       "      <td>auto</td>\n",
       "      <td>163.0</td>\n",
       "      <td>grand</td>\n",
       "      <td>125000</td>\n",
       "      <td>gasoline</td>\n",
       "      <td>jeep</td>\n",
       "      <td>NaN</td>\n",
       "    </tr>\n",
       "    <tr>\n",
       "      <th>3</th>\n",
       "      <td>1500.0</td>\n",
       "      <td>small</td>\n",
       "      <td>2001.0</td>\n",
       "      <td>manual</td>\n",
       "      <td>75.0</td>\n",
       "      <td>golf</td>\n",
       "      <td>150000</td>\n",
       "      <td>petrol</td>\n",
       "      <td>volkswagen</td>\n",
       "      <td>no</td>\n",
       "    </tr>\n",
       "    <tr>\n",
       "      <th>4</th>\n",
       "      <td>3600.0</td>\n",
       "      <td>small</td>\n",
       "      <td>2008.0</td>\n",
       "      <td>manual</td>\n",
       "      <td>69.0</td>\n",
       "      <td>fabia</td>\n",
       "      <td>90000</td>\n",
       "      <td>gasoline</td>\n",
       "      <td>skoda</td>\n",
       "      <td>no</td>\n",
       "    </tr>\n",
       "  </tbody>\n",
       "</table>\n",
       "</div>"
      ],
      "text/plain": [
       "     Price VehicleType  RegistrationYear Gearbox  Power  Model  Kilometer  \\\n",
       "0    480.0         NaN            1993.0  manual  102.0   golf     150000   \n",
       "1  18300.0       coupe            2011.0  manual  190.0    NaN     125000   \n",
       "2   9800.0         suv            2004.0    auto  163.0  grand     125000   \n",
       "3   1500.0       small            2001.0  manual   75.0   golf     150000   \n",
       "4   3600.0       small            2008.0  manual   69.0  fabia      90000   \n",
       "\n",
       "   FuelType       Brand Repaired  \n",
       "0    petrol  volkswagen      NaN  \n",
       "1  gasoline        audi      yes  \n",
       "2  gasoline        jeep      NaN  \n",
       "3    petrol  volkswagen       no  \n",
       "4  gasoline       skoda       no  "
      ]
     },
     "execution_count": 11,
     "metadata": {},
     "output_type": "execute_result"
    }
   ],
   "source": [
    "# Удаление ненужных столбцов\n",
    "df = df.drop(['NumberOfPictures','DateCrawled','DateCreated','RegistrationMonth','LastSeen', 'PostalCode'], axis=1)\n",
    "df.head()"
   ]
  },
  {
   "cell_type": "code",
   "execution_count": 12,
   "metadata": {},
   "outputs": [
    {
     "data": {
      "text/plain": [
       "Price                   0\n",
       "VehicleType         37490\n",
       "RegistrationYear     1776\n",
       "Gearbox             19833\n",
       "Power                3719\n",
       "Model               19705\n",
       "Kilometer               0\n",
       "FuelType            32895\n",
       "Brand                   0\n",
       "Repaired            71154\n",
       "dtype: int64"
      ]
     },
     "execution_count": 12,
     "metadata": {},
     "output_type": "execute_result"
    }
   ],
   "source": [
    "df.isna().sum()"
   ]
  },
  {
   "cell_type": "markdown",
   "metadata": {},
   "source": [
    "В столбцах `VehicleType`, `Gearbox`, `Model`, `FuelType`, `Repaired` Пропусков много. Исследуем каждый из этих столбцов. \n",
    "- В столбцах, которые уже содержат наименование 'other', заменим пропуски на 'other'. \n",
    "\n",
    "- В столбце `Gearbox`заменим на самый популярный тип коробки предач - 'auto'\n",
    "- В столбце `Repaired` заменим пропуски на наиболее часто встречающийся вариант ('yes' или 'no')\n",
    "\n",
    "Пропуски в столбцах `RegistrationYear`, `Power` можно удалить или заменить медианными значениями."
   ]
  },
  {
   "cell_type": "code",
   "execution_count": 13,
   "metadata": {},
   "outputs": [],
   "source": [
    "df['RegistrationYear'] = df['RegistrationYear'].fillna(df['RegistrationYear'].median())\n",
    "df['Power'] = df['Power'].fillna(df['Power'].median())"
   ]
  },
  {
   "cell_type": "code",
   "execution_count": 14,
   "metadata": {},
   "outputs": [
    {
     "data": {
      "text/plain": [
       "array(['other', 'coupe', 'suv', 'small', 'sedan', 'convertible', 'bus',\n",
       "       'wagon'], dtype=object)"
      ]
     },
     "execution_count": 14,
     "metadata": {},
     "output_type": "execute_result"
    }
   ],
   "source": [
    "df['VehicleType'] = df['VehicleType'].fillna('other')\n",
    "df['VehicleType'].unique()"
   ]
  },
  {
   "cell_type": "code",
   "execution_count": 15,
   "metadata": {},
   "outputs": [
    {
     "data": {
      "text/plain": [
       "array(['manual', 'auto'], dtype=object)"
      ]
     },
     "execution_count": 15,
     "metadata": {},
     "output_type": "execute_result"
    }
   ],
   "source": [
    "df['Gearbox'] = df['Gearbox'].fillna('auto')\n",
    "df['Gearbox'].unique()"
   ]
  },
  {
   "cell_type": "code",
   "execution_count": 16,
   "metadata": {},
   "outputs": [
    {
     "data": {
      "text/plain": [
       "array(['golf', 'other', 'grand', 'fabia', '3er', '2_reihe', 'c_max',\n",
       "       '3_reihe', 'passat', 'navara', 'ka', 'polo', 'twingo', 'a_klasse',\n",
       "       'scirocco', '5er', 'meriva', 'arosa', 'c4', 'civic', 'transporter',\n",
       "       'punto', 'e_klasse', 'clio', 'kadett', 'kangoo', 'corsa', 'one',\n",
       "       'fortwo', '1er', 'b_klasse', 'signum', 'astra', 'a8', 'jetta',\n",
       "       'fiesta', 'c_klasse', 'micra', 'vito', 'sprinter', '156', 'escort',\n",
       "       'forester', 'xc_reihe', 'scenic', 'a4', 'a1', 'insignia', 'combo',\n",
       "       'focus', 'tt', 'a6', 'jazz', 'omega', 'slk', '7er', '80', '147',\n",
       "       '100', 'z_reihe', 'sportage', 'sorento', 'v40', 'ibiza', 'mustang',\n",
       "       'eos', 'touran', 'getz', 'a3', 'almera', 'megane', 'lupo', 'r19',\n",
       "       'zafira', 'caddy', 'mondeo', 'cordoba', 'colt', 'impreza',\n",
       "       'vectra', 'berlingo', 'tiguan', 'i_reihe', 'espace', 'sharan',\n",
       "       '6_reihe', 'panda', 'up', 'seicento', 'ceed', '5_reihe', 'yeti',\n",
       "       'octavia', 'mii', 'rx_reihe', '6er', 'modus', 'fox', 'matiz',\n",
       "       'beetle', 'c1', 'rio', 'touareg', 'logan', 'spider', 'cuore',\n",
       "       's_max', 'a2', 'galaxy', 'c3', 'viano', 's_klasse', '1_reihe',\n",
       "       'avensis', 'roomster', 'sl', 'kaefer', 'santa', 'cooper', 'leon',\n",
       "       '4_reihe', 'a5', '500', 'laguna', 'ptcruiser', 'clk', 'primera',\n",
       "       'x_reihe', 'exeo', '159', 'transit', 'juke', 'qashqai', 'carisma',\n",
       "       'accord', 'corolla', 'lanos', 'phaeton', 'verso', 'swift', 'rav',\n",
       "       'picanto', 'boxster', 'kalos', 'superb', 'stilo', 'alhambra',\n",
       "       'mx_reihe', 'roadster', 'ypsilon', 'cayenne', 'galant', 'justy',\n",
       "       '90', 'sirion', 'crossfire', 'agila', 'duster', 'cr_reihe', 'v50',\n",
       "       'c_reihe', 'v_klasse', 'm_klasse', 'yaris', 'c5', 'aygo', 'cc',\n",
       "       'carnival', 'fusion', '911', 'bora', 'forfour', 'm_reihe', 'cl',\n",
       "       'tigra', '300c', 'spark', 'v70', 'kuga', 'x_type', 'ducato',\n",
       "       's_type', 'x_trail', 'toledo', 'altea', 'voyager', 'calibra',\n",
       "       'bravo', 'antara', 'tucson', 'citigo', 'jimny', 'wrangler',\n",
       "       'lybra', 'q7', 'lancer', 'captiva', 'c2', 'discovery',\n",
       "       'freelander', 'sandero', 'note', '900', 'cherokee', 'clubman',\n",
       "       'samara', 'defender', '601', 'cx_reihe', 'legacy', 'pajero',\n",
       "       'auris', 'niva', 's60', 'nubira', 'vivaro', 'g_klasse', 'lodgy',\n",
       "       '850', 'range_rover', 'q3', 'serie_2', 'glk', 'charade', 'croma',\n",
       "       'outlander', 'doblo', 'musa', 'move', '9000', 'v60', '145', 'aveo',\n",
       "       '200', 'b_max', 'range_rover_sport', 'terios', 'rangerover', 'q5',\n",
       "       'range_rover_evoque', 'materia', 'delta', 'gl', 'kalina', 'amarok',\n",
       "       'elefantino', 'i3', 'kappa', 'serie_3', 'serie_1'], dtype=object)"
      ]
     },
     "execution_count": 16,
     "metadata": {},
     "output_type": "execute_result"
    }
   ],
   "source": [
    "df['Model'] = df['Model'].fillna('other')\n",
    "df['Model'].unique()"
   ]
  },
  {
   "cell_type": "code",
   "execution_count": 17,
   "metadata": {},
   "outputs": [
    {
     "data": {
      "text/plain": [
       "array(['petrol', 'gasoline', 'other', 'lpg', 'hybrid', 'cng', 'electric'],\n",
       "      dtype=object)"
      ]
     },
     "execution_count": 17,
     "metadata": {},
     "output_type": "execute_result"
    }
   ],
   "source": [
    "df['FuelType'] = df['FuelType'].fillna('other')\n",
    "df['FuelType'].unique()"
   ]
  },
  {
   "cell_type": "code",
   "execution_count": 18,
   "metadata": {},
   "outputs": [
    {
     "name": "stdout",
     "output_type": "stream",
     "text": [
      "0.14587025303651915\n"
     ]
    }
   ],
   "source": [
    "print(df.loc[df['Repaired']=='yes','Repaired'].count()/df.loc[df['Repaired']=='no','Repaired'].count())"
   ]
  },
  {
   "cell_type": "markdown",
   "metadata": {},
   "source": [
    "Машин не бывших в ремонте встречается значительно меньше."
   ]
  },
  {
   "cell_type": "code",
   "execution_count": 19,
   "metadata": {},
   "outputs": [
    {
     "data": {
      "text/plain": [
       "array(['no', 'yes'], dtype=object)"
      ]
     },
     "execution_count": 19,
     "metadata": {},
     "output_type": "execute_result"
    }
   ],
   "source": [
    "df['Repaired'] = df['Repaired'].fillna('no')\n",
    "df['Repaired'].unique()"
   ]
  },
  {
   "cell_type": "code",
   "execution_count": 20,
   "metadata": {
    "scrolled": true
   },
   "outputs": [
    {
     "data": {
      "text/plain": [
       "Price               0\n",
       "VehicleType         0\n",
       "RegistrationYear    0\n",
       "Gearbox             0\n",
       "Power               0\n",
       "Model               0\n",
       "Kilometer           0\n",
       "FuelType            0\n",
       "Brand               0\n",
       "Repaired            0\n",
       "dtype: int64"
      ]
     },
     "execution_count": 20,
     "metadata": {},
     "output_type": "execute_result"
    }
   ],
   "source": [
    "df.isna().sum()"
   ]
  },
  {
   "cell_type": "markdown",
   "metadata": {},
   "source": [
    "Таким образом, в ходе обработки данных: \n",
    "- Удалены аномальные значения в столбцах `RegistrationYear`, `Power`.\n",
    "- В столбце `Price` аномальные значения заменены медианой.\n",
    "- Удалены столбцы  `RegistrationMonth`, `DateCrawled`, `DateCreated`, `NumberOfPictures`, `LastSeen`, `PostalCode`\n",
    "- Удалены дубликаты\n",
    "- В столбцах `RegistrationYear`, `Power` пропуски заменены медианным значением.\n",
    "- В столбцах `VehicleType`, `Gearbox`, `Model`, `FuelType`, `Repaired` пропуски заменены на 'other' или на наиболее часто встречающуюся характеристику."
   ]
  },
  {
   "cell_type": "markdown",
   "metadata": {},
   "source": [
    "## Обучение моделей"
   ]
  },
  {
   "cell_type": "markdown",
   "metadata": {},
   "source": [
    "Будем исследовать модели **Случайный лес**,  **CatBoost** и **LightGBM**"
   ]
  },
  {
   "cell_type": "markdown",
   "metadata": {},
   "source": [
    "### Разделение на выборки"
   ]
  },
  {
   "cell_type": "markdown",
   "metadata": {},
   "source": [
    "Так как таблица содержит категориальные признаки, среди которых много параметров(`VehicleType`, `Model`, `FuelType`, `Brand`,), будем использовать порядковое кодирование (OE). "
   ]
  },
  {
   "cell_type": "code",
   "execution_count": 21,
   "metadata": {},
   "outputs": [
    {
     "data": {
      "text/html": [
       "<div>\n",
       "<style scoped>\n",
       "    .dataframe tbody tr th:only-of-type {\n",
       "        vertical-align: middle;\n",
       "    }\n",
       "\n",
       "    .dataframe tbody tr th {\n",
       "        vertical-align: top;\n",
       "    }\n",
       "\n",
       "    .dataframe thead th {\n",
       "        text-align: right;\n",
       "    }\n",
       "</style>\n",
       "<table border=\"1\" class=\"dataframe\">\n",
       "  <thead>\n",
       "    <tr style=\"text-align: right;\">\n",
       "      <th></th>\n",
       "      <th>Price</th>\n",
       "      <th>VehicleType</th>\n",
       "      <th>RegistrationYear</th>\n",
       "      <th>Gearbox</th>\n",
       "      <th>Power</th>\n",
       "      <th>Model</th>\n",
       "      <th>Kilometer</th>\n",
       "      <th>FuelType</th>\n",
       "      <th>Brand</th>\n",
       "      <th>Repaired</th>\n",
       "    </tr>\n",
       "  </thead>\n",
       "  <tbody>\n",
       "    <tr>\n",
       "      <th>0</th>\n",
       "      <td>480.0</td>\n",
       "      <td>other</td>\n",
       "      <td>1993.0</td>\n",
       "      <td>manual</td>\n",
       "      <td>102.0</td>\n",
       "      <td>golf</td>\n",
       "      <td>150000</td>\n",
       "      <td>petrol</td>\n",
       "      <td>volkswagen</td>\n",
       "      <td>no</td>\n",
       "    </tr>\n",
       "    <tr>\n",
       "      <th>1</th>\n",
       "      <td>18300.0</td>\n",
       "      <td>coupe</td>\n",
       "      <td>2011.0</td>\n",
       "      <td>manual</td>\n",
       "      <td>190.0</td>\n",
       "      <td>other</td>\n",
       "      <td>125000</td>\n",
       "      <td>gasoline</td>\n",
       "      <td>audi</td>\n",
       "      <td>yes</td>\n",
       "    </tr>\n",
       "    <tr>\n",
       "      <th>2</th>\n",
       "      <td>9800.0</td>\n",
       "      <td>suv</td>\n",
       "      <td>2004.0</td>\n",
       "      <td>auto</td>\n",
       "      <td>163.0</td>\n",
       "      <td>grand</td>\n",
       "      <td>125000</td>\n",
       "      <td>gasoline</td>\n",
       "      <td>jeep</td>\n",
       "      <td>no</td>\n",
       "    </tr>\n",
       "    <tr>\n",
       "      <th>3</th>\n",
       "      <td>1500.0</td>\n",
       "      <td>small</td>\n",
       "      <td>2001.0</td>\n",
       "      <td>manual</td>\n",
       "      <td>75.0</td>\n",
       "      <td>golf</td>\n",
       "      <td>150000</td>\n",
       "      <td>petrol</td>\n",
       "      <td>volkswagen</td>\n",
       "      <td>no</td>\n",
       "    </tr>\n",
       "    <tr>\n",
       "      <th>4</th>\n",
       "      <td>3600.0</td>\n",
       "      <td>small</td>\n",
       "      <td>2008.0</td>\n",
       "      <td>manual</td>\n",
       "      <td>69.0</td>\n",
       "      <td>fabia</td>\n",
       "      <td>90000</td>\n",
       "      <td>gasoline</td>\n",
       "      <td>skoda</td>\n",
       "      <td>no</td>\n",
       "    </tr>\n",
       "  </tbody>\n",
       "</table>\n",
       "</div>"
      ],
      "text/plain": [
       "     Price VehicleType  RegistrationYear Gearbox  Power  Model  Kilometer  \\\n",
       "0    480.0       other            1993.0  manual  102.0   golf     150000   \n",
       "1  18300.0       coupe            2011.0  manual  190.0  other     125000   \n",
       "2   9800.0         suv            2004.0    auto  163.0  grand     125000   \n",
       "3   1500.0       small            2001.0  manual   75.0   golf     150000   \n",
       "4   3600.0       small            2008.0  manual   69.0  fabia      90000   \n",
       "\n",
       "   FuelType       Brand Repaired  \n",
       "0    petrol  volkswagen       no  \n",
       "1  gasoline        audi      yes  \n",
       "2  gasoline        jeep       no  \n",
       "3    petrol  volkswagen       no  \n",
       "4  gasoline       skoda       no  "
      ]
     },
     "execution_count": 21,
     "metadata": {},
     "output_type": "execute_result"
    }
   ],
   "source": [
    "df.head()"
   ]
  },
  {
   "cell_type": "code",
   "execution_count": 22,
   "metadata": {},
   "outputs": [
    {
     "name": "stdout",
     "output_type": "stream",
     "text": [
      "(265773, 9)\n",
      "(88592, 9)\n"
     ]
    }
   ],
   "source": [
    "features = df.drop(['Price'],axis=1)\n",
    "target = df['Price'].reset_index(drop=True)\n",
    "\n",
    "# разделение на выборки\n",
    "features_train, features_test, target_train, target_test = train_test_split(\n",
    "    features, target, random_state=12345, test_size=.25)\n",
    "\n",
    "print(features_train.shape)\n",
    "print(features_test.shape)"
   ]
  },
  {
   "cell_type": "code",
   "execution_count": 23,
   "metadata": {},
   "outputs": [
    {
     "data": {
      "text/html": [
       "<div>\n",
       "<style scoped>\n",
       "    .dataframe tbody tr th:only-of-type {\n",
       "        vertical-align: middle;\n",
       "    }\n",
       "\n",
       "    .dataframe tbody tr th {\n",
       "        vertical-align: top;\n",
       "    }\n",
       "\n",
       "    .dataframe thead th {\n",
       "        text-align: right;\n",
       "    }\n",
       "</style>\n",
       "<table border=\"1\" class=\"dataframe\">\n",
       "  <thead>\n",
       "    <tr style=\"text-align: right;\">\n",
       "      <th></th>\n",
       "      <th>VehicleType</th>\n",
       "      <th>RegistrationYear</th>\n",
       "      <th>Gearbox</th>\n",
       "      <th>Power</th>\n",
       "      <th>Model</th>\n",
       "      <th>Kilometer</th>\n",
       "      <th>FuelType</th>\n",
       "      <th>Brand</th>\n",
       "      <th>Repaired</th>\n",
       "    </tr>\n",
       "  </thead>\n",
       "  <tbody>\n",
       "    <tr>\n",
       "      <th>283908</th>\n",
       "      <td>bus</td>\n",
       "      <td>2001.0</td>\n",
       "      <td>manual</td>\n",
       "      <td>122.0</td>\n",
       "      <td>other</td>\n",
       "      <td>150000</td>\n",
       "      <td>petrol</td>\n",
       "      <td>mitsubishi</td>\n",
       "      <td>no</td>\n",
       "    </tr>\n",
       "    <tr>\n",
       "      <th>131329</th>\n",
       "      <td>wagon</td>\n",
       "      <td>2004.0</td>\n",
       "      <td>auto</td>\n",
       "      <td>204.0</td>\n",
       "      <td>a4</td>\n",
       "      <td>150000</td>\n",
       "      <td>gasoline</td>\n",
       "      <td>audi</td>\n",
       "      <td>no</td>\n",
       "    </tr>\n",
       "    <tr>\n",
       "      <th>345689</th>\n",
       "      <td>coupe</td>\n",
       "      <td>2007.0</td>\n",
       "      <td>manual</td>\n",
       "      <td>200.0</td>\n",
       "      <td>other</td>\n",
       "      <td>150000</td>\n",
       "      <td>gasoline</td>\n",
       "      <td>alfa_romeo</td>\n",
       "      <td>no</td>\n",
       "    </tr>\n",
       "    <tr>\n",
       "      <th>152481</th>\n",
       "      <td>small</td>\n",
       "      <td>1998.0</td>\n",
       "      <td>manual</td>\n",
       "      <td>68.0</td>\n",
       "      <td>corsa</td>\n",
       "      <td>150000</td>\n",
       "      <td>petrol</td>\n",
       "      <td>opel</td>\n",
       "      <td>no</td>\n",
       "    </tr>\n",
       "    <tr>\n",
       "      <th>93707</th>\n",
       "      <td>suv</td>\n",
       "      <td>1990.0</td>\n",
       "      <td>manual</td>\n",
       "      <td>69.0</td>\n",
       "      <td>other</td>\n",
       "      <td>70000</td>\n",
       "      <td>petrol</td>\n",
       "      <td>suzuki</td>\n",
       "      <td>no</td>\n",
       "    </tr>\n",
       "  </tbody>\n",
       "</table>\n",
       "</div>"
      ],
      "text/plain": [
       "       VehicleType  RegistrationYear Gearbox  Power  Model  Kilometer  \\\n",
       "283908         bus            2001.0  manual  122.0  other     150000   \n",
       "131329       wagon            2004.0    auto  204.0     a4     150000   \n",
       "345689       coupe            2007.0  manual  200.0  other     150000   \n",
       "152481       small            1998.0  manual   68.0  corsa     150000   \n",
       "93707          suv            1990.0  manual   69.0  other      70000   \n",
       "\n",
       "        FuelType       Brand Repaired  \n",
       "283908    petrol  mitsubishi       no  \n",
       "131329  gasoline        audi       no  \n",
       "345689  gasoline  alfa_romeo       no  \n",
       "152481    petrol        opel       no  \n",
       "93707     petrol      suzuki       no  "
      ]
     },
     "execution_count": 23,
     "metadata": {},
     "output_type": "execute_result"
    }
   ],
   "source": [
    "features_train.head()"
   ]
  },
  {
   "cell_type": "code",
   "execution_count": 24,
   "metadata": {},
   "outputs": [
    {
     "data": {
      "text/html": [
       "<div>\n",
       "<style scoped>\n",
       "    .dataframe tbody tr th:only-of-type {\n",
       "        vertical-align: middle;\n",
       "    }\n",
       "\n",
       "    .dataframe tbody tr th {\n",
       "        vertical-align: top;\n",
       "    }\n",
       "\n",
       "    .dataframe thead th {\n",
       "        text-align: right;\n",
       "    }\n",
       "</style>\n",
       "<table border=\"1\" class=\"dataframe\">\n",
       "  <thead>\n",
       "    <tr style=\"text-align: right;\">\n",
       "      <th></th>\n",
       "      <th>VehicleType</th>\n",
       "      <th>RegistrationYear</th>\n",
       "      <th>Gearbox</th>\n",
       "      <th>Power</th>\n",
       "      <th>Model</th>\n",
       "      <th>Kilometer</th>\n",
       "      <th>FuelType</th>\n",
       "      <th>Brand</th>\n",
       "      <th>Repaired</th>\n",
       "    </tr>\n",
       "  </thead>\n",
       "  <tbody>\n",
       "    <tr>\n",
       "      <th>0</th>\n",
       "      <td>0.0</td>\n",
       "      <td>30.0</td>\n",
       "      <td>1.0</td>\n",
       "      <td>72.0</td>\n",
       "      <td>166.0</td>\n",
       "      <td>12.0</td>\n",
       "      <td>6.0</td>\n",
       "      <td>22.0</td>\n",
       "      <td>0.0</td>\n",
       "    </tr>\n",
       "    <tr>\n",
       "      <th>1</th>\n",
       "      <td>7.0</td>\n",
       "      <td>33.0</td>\n",
       "      <td>0.0</td>\n",
       "      <td>154.0</td>\n",
       "      <td>29.0</td>\n",
       "      <td>12.0</td>\n",
       "      <td>2.0</td>\n",
       "      <td>1.0</td>\n",
       "      <td>0.0</td>\n",
       "    </tr>\n",
       "    <tr>\n",
       "      <th>2</th>\n",
       "      <td>2.0</td>\n",
       "      <td>36.0</td>\n",
       "      <td>1.0</td>\n",
       "      <td>150.0</td>\n",
       "      <td>166.0</td>\n",
       "      <td>12.0</td>\n",
       "      <td>2.0</td>\n",
       "      <td>0.0</td>\n",
       "      <td>0.0</td>\n",
       "    </tr>\n",
       "    <tr>\n",
       "      <th>3</th>\n",
       "      <td>5.0</td>\n",
       "      <td>27.0</td>\n",
       "      <td>1.0</td>\n",
       "      <td>18.0</td>\n",
       "      <td>83.0</td>\n",
       "      <td>12.0</td>\n",
       "      <td>6.0</td>\n",
       "      <td>24.0</td>\n",
       "      <td>0.0</td>\n",
       "    </tr>\n",
       "    <tr>\n",
       "      <th>4</th>\n",
       "      <td>6.0</td>\n",
       "      <td>19.0</td>\n",
       "      <td>1.0</td>\n",
       "      <td>19.0</td>\n",
       "      <td>166.0</td>\n",
       "      <td>7.0</td>\n",
       "      <td>6.0</td>\n",
       "      <td>35.0</td>\n",
       "      <td>0.0</td>\n",
       "    </tr>\n",
       "  </tbody>\n",
       "</table>\n",
       "</div>"
      ],
      "text/plain": [
       "   VehicleType  RegistrationYear  Gearbox  Power  Model  Kilometer  FuelType  \\\n",
       "0          0.0              30.0      1.0   72.0  166.0       12.0       6.0   \n",
       "1          7.0              33.0      0.0  154.0   29.0       12.0       2.0   \n",
       "2          2.0              36.0      1.0  150.0  166.0       12.0       2.0   \n",
       "3          5.0              27.0      1.0   18.0   83.0       12.0       6.0   \n",
       "4          6.0              19.0      1.0   19.0  166.0        7.0       6.0   \n",
       "\n",
       "   Brand  Repaired  \n",
       "0   22.0       0.0  \n",
       "1    1.0       0.0  \n",
       "2    0.0       0.0  \n",
       "3   24.0       0.0  \n",
       "4   35.0       0.0  "
      ]
     },
     "execution_count": 24,
     "metadata": {},
     "output_type": "execute_result"
    }
   ],
   "source": [
    "encoder = OrdinalEncoder(handle_unknown='ignore')\n",
    "\n",
    "features_train_oe = pd.DataFrame(encoder.fit_transform(features_train), columns=features_train.columns)\n",
    "features_train_oe.head()"
   ]
  },
  {
   "cell_type": "code",
   "execution_count": 25,
   "metadata": {},
   "outputs": [
    {
     "data": {
      "text/html": [
       "<div>\n",
       "<style scoped>\n",
       "    .dataframe tbody tr th:only-of-type {\n",
       "        vertical-align: middle;\n",
       "    }\n",
       "\n",
       "    .dataframe tbody tr th {\n",
       "        vertical-align: top;\n",
       "    }\n",
       "\n",
       "    .dataframe thead th {\n",
       "        text-align: right;\n",
       "    }\n",
       "</style>\n",
       "<table border=\"1\" class=\"dataframe\">\n",
       "  <thead>\n",
       "    <tr style=\"text-align: right;\">\n",
       "      <th></th>\n",
       "      <th>VehicleType</th>\n",
       "      <th>RegistrationYear</th>\n",
       "      <th>Gearbox</th>\n",
       "      <th>Power</th>\n",
       "      <th>Model</th>\n",
       "      <th>Kilometer</th>\n",
       "      <th>FuelType</th>\n",
       "      <th>Brand</th>\n",
       "      <th>Repaired</th>\n",
       "    </tr>\n",
       "  </thead>\n",
       "  <tbody>\n",
       "    <tr>\n",
       "      <th>283908</th>\n",
       "      <td>bus</td>\n",
       "      <td>-0.331928</td>\n",
       "      <td>manual</td>\n",
       "      <td>0.115713</td>\n",
       "      <td>other</td>\n",
       "      <td>0.576128</td>\n",
       "      <td>petrol</td>\n",
       "      <td>mitsubishi</td>\n",
       "      <td>no</td>\n",
       "    </tr>\n",
       "    <tr>\n",
       "      <th>131329</th>\n",
       "      <td>wagon</td>\n",
       "      <td>0.104829</td>\n",
       "      <td>auto</td>\n",
       "      <td>1.949140</td>\n",
       "      <td>a4</td>\n",
       "      <td>0.576128</td>\n",
       "      <td>gasoline</td>\n",
       "      <td>audi</td>\n",
       "      <td>no</td>\n",
       "    </tr>\n",
       "    <tr>\n",
       "      <th>345689</th>\n",
       "      <td>coupe</td>\n",
       "      <td>0.541586</td>\n",
       "      <td>manual</td>\n",
       "      <td>1.859705</td>\n",
       "      <td>other</td>\n",
       "      <td>0.576128</td>\n",
       "      <td>gasoline</td>\n",
       "      <td>alfa_romeo</td>\n",
       "      <td>no</td>\n",
       "    </tr>\n",
       "    <tr>\n",
       "      <th>152481</th>\n",
       "      <td>small</td>\n",
       "      <td>-0.768685</td>\n",
       "      <td>manual</td>\n",
       "      <td>-1.091666</td>\n",
       "      <td>corsa</td>\n",
       "      <td>0.576128</td>\n",
       "      <td>petrol</td>\n",
       "      <td>opel</td>\n",
       "      <td>no</td>\n",
       "    </tr>\n",
       "    <tr>\n",
       "      <th>93707</th>\n",
       "      <td>suv</td>\n",
       "      <td>-1.933371</td>\n",
       "      <td>manual</td>\n",
       "      <td>-1.069307</td>\n",
       "      <td>other</td>\n",
       "      <td>-1.532449</td>\n",
       "      <td>petrol</td>\n",
       "      <td>suzuki</td>\n",
       "      <td>no</td>\n",
       "    </tr>\n",
       "  </tbody>\n",
       "</table>\n",
       "</div>"
      ],
      "text/plain": [
       "       VehicleType  RegistrationYear Gearbox     Power  Model  Kilometer  \\\n",
       "283908         bus         -0.331928  manual  0.115713  other   0.576128   \n",
       "131329       wagon          0.104829    auto  1.949140     a4   0.576128   \n",
       "345689       coupe          0.541586  manual  1.859705  other   0.576128   \n",
       "152481       small         -0.768685  manual -1.091666  corsa   0.576128   \n",
       "93707          suv         -1.933371  manual -1.069307  other  -1.532449   \n",
       "\n",
       "        FuelType       Brand Repaired  \n",
       "283908    petrol  mitsubishi       no  \n",
       "131329  gasoline        audi       no  \n",
       "345689  gasoline  alfa_romeo       no  \n",
       "152481    petrol        opel       no  \n",
       "93707     petrol      suzuki       no  "
      ]
     },
     "execution_count": 25,
     "metadata": {},
     "output_type": "execute_result"
    }
   ],
   "source": [
    "# стандартизация\n",
    "columns_ss = ['RegistrationYear', 'Power', 'Kilometer']\n",
    "all_col = list(features_train.columns)\n",
    "\n",
    "scaler = StandardScaler()\n",
    "scaler_oe = StandardScaler()\n",
    "\n",
    "scaler.fit(features_train[columns_ss])\n",
    "scaler_oe.fit(features_train_oe[all_col])\n",
    "\n",
    "features_train[columns_ss] = scaler.transform(features_train[columns_ss])\n",
    "features_train_oe[all_col] = scaler_oe.transform(features_train_oe[all_col])\n",
    "features_train.head()"
   ]
  },
  {
   "cell_type": "code",
   "execution_count": 26,
   "metadata": {},
   "outputs": [
    {
     "data": {
      "text/html": [
       "<div>\n",
       "<style scoped>\n",
       "    .dataframe tbody tr th:only-of-type {\n",
       "        vertical-align: middle;\n",
       "    }\n",
       "\n",
       "    .dataframe tbody tr th {\n",
       "        vertical-align: top;\n",
       "    }\n",
       "\n",
       "    .dataframe thead th {\n",
       "        text-align: right;\n",
       "    }\n",
       "</style>\n",
       "<table border=\"1\" class=\"dataframe\">\n",
       "  <thead>\n",
       "    <tr style=\"text-align: right;\">\n",
       "      <th></th>\n",
       "      <th>VehicleType</th>\n",
       "      <th>RegistrationYear</th>\n",
       "      <th>Gearbox</th>\n",
       "      <th>Power</th>\n",
       "      <th>Model</th>\n",
       "      <th>Kilometer</th>\n",
       "      <th>FuelType</th>\n",
       "      <th>Brand</th>\n",
       "      <th>Repaired</th>\n",
       "    </tr>\n",
       "  </thead>\n",
       "  <tbody>\n",
       "    <tr>\n",
       "      <th>0</th>\n",
       "      <td>-2.046178</td>\n",
       "      <td>-0.331928</td>\n",
       "      <td>0.566272</td>\n",
       "      <td>0.116099</td>\n",
       "      <td>0.768687</td>\n",
       "      <td>0.499596</td>\n",
       "      <td>0.707181</td>\n",
       "      <td>0.082962</td>\n",
       "      <td>-0.33625</td>\n",
       "    </tr>\n",
       "    <tr>\n",
       "      <th>1</th>\n",
       "      <td>1.409963</td>\n",
       "      <td>0.104829</td>\n",
       "      <td>-1.765937</td>\n",
       "      <td>1.951349</td>\n",
       "      <td>-1.192217</td>\n",
       "      <td>0.499596</td>\n",
       "      <td>-1.559799</td>\n",
       "      <td>-1.495413</td>\n",
       "      <td>-0.33625</td>\n",
       "    </tr>\n",
       "    <tr>\n",
       "      <th>2</th>\n",
       "      <td>-1.058709</td>\n",
       "      <td>0.541586</td>\n",
       "      <td>0.566272</td>\n",
       "      <td>1.861825</td>\n",
       "      <td>0.768687</td>\n",
       "      <td>0.499596</td>\n",
       "      <td>-1.559799</td>\n",
       "      <td>-1.570574</td>\n",
       "      <td>-0.33625</td>\n",
       "    </tr>\n",
       "    <tr>\n",
       "      <th>3</th>\n",
       "      <td>0.422494</td>\n",
       "      <td>-0.768685</td>\n",
       "      <td>0.566272</td>\n",
       "      <td>-1.092480</td>\n",
       "      <td>-0.419306</td>\n",
       "      <td>0.499596</td>\n",
       "      <td>0.707181</td>\n",
       "      <td>0.233283</td>\n",
       "      <td>-0.33625</td>\n",
       "    </tr>\n",
       "    <tr>\n",
       "      <th>4</th>\n",
       "      <td>0.916229</td>\n",
       "      <td>-1.933371</td>\n",
       "      <td>0.566272</td>\n",
       "      <td>-1.070099</td>\n",
       "      <td>0.768687</td>\n",
       "      <td>-1.332892</td>\n",
       "      <td>0.707181</td>\n",
       "      <td>1.060051</td>\n",
       "      <td>-0.33625</td>\n",
       "    </tr>\n",
       "  </tbody>\n",
       "</table>\n",
       "</div>"
      ],
      "text/plain": [
       "   VehicleType  RegistrationYear   Gearbox     Power     Model  Kilometer  \\\n",
       "0    -2.046178         -0.331928  0.566272  0.116099  0.768687   0.499596   \n",
       "1     1.409963          0.104829 -1.765937  1.951349 -1.192217   0.499596   \n",
       "2    -1.058709          0.541586  0.566272  1.861825  0.768687   0.499596   \n",
       "3     0.422494         -0.768685  0.566272 -1.092480 -0.419306   0.499596   \n",
       "4     0.916229         -1.933371  0.566272 -1.070099  0.768687  -1.332892   \n",
       "\n",
       "   FuelType     Brand  Repaired  \n",
       "0  0.707181  0.082962  -0.33625  \n",
       "1 -1.559799 -1.495413  -0.33625  \n",
       "2 -1.559799 -1.570574  -0.33625  \n",
       "3  0.707181  0.233283  -0.33625  \n",
       "4  0.707181  1.060051  -0.33625  "
      ]
     },
     "execution_count": 26,
     "metadata": {},
     "output_type": "execute_result"
    }
   ],
   "source": [
    "features_train_oe.head()"
   ]
  },
  {
   "cell_type": "markdown",
   "metadata": {},
   "source": [
    "### Обучение моделей"
   ]
  },
  {
   "cell_type": "code",
   "execution_count": 27,
   "metadata": {},
   "outputs": [],
   "source": [
    "def RMSE(target,predict):\n",
    "    return mean_squared_error(target, predict) ** 0.5"
   ]
  },
  {
   "cell_type": "markdown",
   "metadata": {},
   "source": [
    "#### Случайный лес"
   ]
  },
  {
   "cell_type": "code",
   "execution_count": 28,
   "metadata": {},
   "outputs": [
    {
     "name": "stdout",
     "output_type": "stream",
     "text": [
      "Лучшие параметры модели: {'max_depth': 20, 'n_estimators': 100}\n",
      "CPU times: user 11min 32s, sys: 7.2 s, total: 11min 39s\n",
      "Wall time: 11min 42s\n"
     ]
    }
   ],
   "source": [
    "%%time\n",
    "\n",
    "RMSE_score = make_scorer(RMSE, greater_is_better=False)\n",
    "model_forest = RandomForestRegressor(random_state=12345)\n",
    "params_forest = {'n_estimators':range(100,101,1),\n",
    "                 'max_depth':[10, 15, 20]}\n",
    "\n",
    "grid_forest = GridSearchCV(model_forest, params_forest, cv=5, scoring=RMSE_score, n_jobs=-1)\n",
    "grid_forest.fit(features_train_oe, target_train)\n",
    "\n",
    "print('Лучшие параметры модели:', grid_forest.best_params_)"
   ]
  },
  {
   "cell_type": "code",
   "execution_count": 28,
   "metadata": {},
   "outputs": [
    {
     "name": "stdout",
     "output_type": "stream",
     "text": [
      "CPU times: user 55.1 s, sys: 106 ms, total: 55.2 s\n",
      "Wall time: 55.4 s\n"
     ]
    },
    {
     "data": {
      "text/plain": [
       "RandomForestRegressor(max_depth=15, random_state=12345)"
      ]
     },
     "execution_count": 28,
     "metadata": {},
     "output_type": "execute_result"
    }
   ],
   "source": [
    "%%time\n",
    "model_forest = RandomForestRegressor(random_state=12345, max_depth=15, n_estimators=100)\n",
    "model_forest.fit(features_train_oe, target_train)"
   ]
  },
  {
   "cell_type": "code",
   "execution_count": 29,
   "metadata": {},
   "outputs": [
    {
     "name": "stdout",
     "output_type": "stream",
     "text": [
      "CPU times: user 4.15 s, sys: 12 µs, total: 4.15 s\n",
      "Wall time: 4.16 s\n"
     ]
    }
   ],
   "source": [
    "%%time\n",
    "prediction_forest = model_forest.predict(features_train_oe)"
   ]
  },
  {
   "cell_type": "code",
   "execution_count": 30,
   "metadata": {},
   "outputs": [
    {
     "name": "stdout",
     "output_type": "stream",
     "text": [
      "RMSE модели случайный лес: 1485.5316656874957\n"
     ]
    }
   ],
   "source": [
    "print('RMSE модели случайный лес:', RMSE(target_train, prediction_forest))"
   ]
  },
  {
   "cell_type": "markdown",
   "metadata": {},
   "source": [
    "Время обучения: 55.4 s\n",
    "\n",
    "Время предсказания: 4.16 s"
   ]
  },
  {
   "cell_type": "markdown",
   "metadata": {},
   "source": [
    "#### CatBoost"
   ]
  },
  {
   "cell_type": "markdown",
   "metadata": {},
   "source": [
    "**С кодированием**"
   ]
  },
  {
   "cell_type": "code",
   "execution_count": 32,
   "metadata": {},
   "outputs": [
    {
     "name": "stdout",
     "output_type": "stream",
     "text": [
      "Лучшие параметры модели CatBoost: {'depth': 15, 'learning_rate': 0.15}\n",
      "CPU times: user 8min 32s, sys: 3min 47s, total: 12min 20s\n",
      "Wall time: 12min 42s\n"
     ]
    }
   ],
   "source": [
    "%%time\n",
    "\n",
    "model_cat = CatBoostRegressor(iterations=100, verbose=False, random_state=12345)\n",
    "params_cat = {'learning_rate':[0.1, 0.15], \n",
    "                    'depth':[10, 15, 20]} \n",
    "\n",
    "grid_cat = GridSearchCV(model_cat, params_cat, cv=5, scoring = RMSE_score, n_jobs=-1)\n",
    "grid_cat.fit(features_train_oe, target_train)\n",
    "\n",
    "print('Лучшие параметры модели CatBoost:', grid_cat.best_params_)"
   ]
  },
  {
   "cell_type": "code",
   "execution_count": 31,
   "metadata": {},
   "outputs": [
    {
     "name": "stdout",
     "output_type": "stream",
     "text": [
      "CPU times: user 40.3 s, sys: 22.2 s, total: 1min 2s\n",
      "Wall time: 1min 3s\n"
     ]
    },
    {
     "data": {
      "text/plain": [
       "<catboost.core.CatBoostRegressor at 0x7f44accedbe0>"
      ]
     },
     "execution_count": 31,
     "metadata": {},
     "output_type": "execute_result"
    }
   ],
   "source": [
    "%%time\n",
    "model_cat_oe =  CatBoostRegressor(iterations=100, verbose=False, random_state=12345, learning_rate=0.15, depth=15)\n",
    "model_cat_oe.fit(features_train_oe, target_train)"
   ]
  },
  {
   "cell_type": "code",
   "execution_count": 32,
   "metadata": {},
   "outputs": [
    {
     "name": "stdout",
     "output_type": "stream",
     "text": [
      "CPU times: user 289 ms, sys: 294 µs, total: 289 ms\n",
      "Wall time: 288 ms\n"
     ]
    }
   ],
   "source": [
    "%%time\n",
    "prediction_cat_oe = model_cat_oe.predict(features_train_oe)"
   ]
  },
  {
   "cell_type": "code",
   "execution_count": 33,
   "metadata": {},
   "outputs": [
    {
     "name": "stdout",
     "output_type": "stream",
     "text": [
      "RMSE модели CatBoost с кодированием: 1600.4873994628529\n"
     ]
    }
   ],
   "source": [
    "print('RMSE модели CatBoost с кодированием:', RMSE(target_train, prediction_cat_oe))"
   ]
  },
  {
   "cell_type": "markdown",
   "metadata": {},
   "source": [
    "Время обучения: 63 s\n",
    "\n",
    "Время предсказания: 288 ms"
   ]
  },
  {
   "cell_type": "markdown",
   "metadata": {},
   "source": [
    "**Без кодирования**"
   ]
  },
  {
   "cell_type": "code",
   "execution_count": 34,
   "metadata": {},
   "outputs": [],
   "source": [
    "cat_features = ['VehicleType', 'Gearbox', 'Model', 'FuelType', 'Brand', 'Repaired']"
   ]
  },
  {
   "cell_type": "code",
   "execution_count": 35,
   "metadata": {},
   "outputs": [
    {
     "name": "stdout",
     "output_type": "stream",
     "text": [
      "CPU times: user 53.7 s, sys: 10.7 s, total: 1min 4s\n",
      "Wall time: 1min 5s\n"
     ]
    },
    {
     "data": {
      "text/plain": [
       "<catboost.core.CatBoostRegressor at 0x7f44acced730>"
      ]
     },
     "execution_count": 35,
     "metadata": {},
     "output_type": "execute_result"
    }
   ],
   "source": [
    "%%time\n",
    "model_cat = CatBoostRegressor(iterations=100, verbose=False,  cat_features = cat_features, \n",
    "                               random_state=12345, learning_rate=0.15, depth=15)\n",
    "model_cat.fit(features_train, target_train)"
   ]
  },
  {
   "cell_type": "code",
   "execution_count": 36,
   "metadata": {},
   "outputs": [
    {
     "name": "stdout",
     "output_type": "stream",
     "text": [
      "CPU times: user 551 ms, sys: 7.11 ms, total: 559 ms\n",
      "Wall time: 560 ms\n"
     ]
    }
   ],
   "source": [
    "%%time\n",
    "prediction_cat = model_cat.predict(features_train)"
   ]
  },
  {
   "cell_type": "code",
   "execution_count": 37,
   "metadata": {},
   "outputs": [
    {
     "name": "stdout",
     "output_type": "stream",
     "text": [
      "RMSE модели CatBoost без кодирования: 1565.646940520935\n"
     ]
    }
   ],
   "source": [
    "print('RMSE модели CatBoost без кодирования:', RMSE(target_train, prediction_cat))"
   ]
  },
  {
   "cell_type": "markdown",
   "metadata": {},
   "source": [
    "Время обучения: 65 s\n",
    "\n",
    "Время предсказания: 560 ms"
   ]
  },
  {
   "cell_type": "markdown",
   "metadata": {},
   "source": [
    "#### LightGBM"
   ]
  },
  {
   "cell_type": "markdown",
   "metadata": {},
   "source": [
    "**С кодированием**"
   ]
  },
  {
   "cell_type": "code",
   "execution_count": 40,
   "metadata": {},
   "outputs": [
    {
     "name": "stdout",
     "output_type": "stream",
     "text": [
      "Лучшие параметры модели CatBoost: {'n_estimators': 150, 'num_leaves': 15}\n",
      "CPU times: user 57min 47s, sys: 36 s, total: 58min 23s\n",
      "Wall time: 58min 39s\n"
     ]
    }
   ],
   "source": [
    "%%time\n",
    "\n",
    "model_lgbm_oe = LGBMRegressor(random_state=12345)\n",
    "params_lgbm_oe = {'n_estimators':[100, 150], \n",
    "                  'num_leaves':[10, 15]} \n",
    "grid_lgbm_oe = GridSearchCV(model_lgbm_oe, params_lgbm_oe, cv=5, scoring = RMSE_score, n_jobs=-1)\n",
    "grid_lgbm_oe.fit (features_train_oe, target_train)\n",
    "\n",
    "print('Лучшие параметры модели LightGBM:', grid_lgbm_oe.best_params_)"
   ]
  },
  {
   "cell_type": "code",
   "execution_count": 38,
   "metadata": {},
   "outputs": [
    {
     "name": "stdout",
     "output_type": "stream",
     "text": [
      "CPU times: user 1min 17s, sys: 743 ms, total: 1min 17s\n",
      "Wall time: 1min 18s\n"
     ]
    },
    {
     "data": {
      "text/plain": [
       "LGBMRegressor(n_estimators=150, num_leaves=15, random_state=12345)"
      ]
     },
     "execution_count": 38,
     "metadata": {},
     "output_type": "execute_result"
    }
   ],
   "source": [
    "%%time\n",
    "\n",
    "model_lgbm_oe = LGBMRegressor(random_state=12345, n_estimators=150, num_leaves=15) \n",
    "model_lgbm_oe.fit(features_train_oe, target_train)"
   ]
  },
  {
   "cell_type": "code",
   "execution_count": 39,
   "metadata": {},
   "outputs": [
    {
     "name": "stdout",
     "output_type": "stream",
     "text": [
      "CPU times: user 2.26 s, sys: 0 ns, total: 2.26 s\n",
      "Wall time: 2.23 s\n"
     ]
    }
   ],
   "source": [
    "%%time\n",
    "prediction_lgbm_oe = model_lgbm_oe.predict(features_train_oe)"
   ]
  },
  {
   "cell_type": "code",
   "execution_count": 40,
   "metadata": {},
   "outputs": [
    {
     "name": "stdout",
     "output_type": "stream",
     "text": [
      "RMSE модели LightGBM с кодированием: 1919.3947085501209\n"
     ]
    }
   ],
   "source": [
    "print('RMSE модели LightGBM с кодированием:', RMSE(target_train, prediction_lgbm_oe))"
   ]
  },
  {
   "cell_type": "markdown",
   "metadata": {},
   "source": [
    "Время обучения: 1 min 18 s\n",
    "\n",
    "Время предсказания: 2.23 s"
   ]
  },
  {
   "cell_type": "markdown",
   "metadata": {},
   "source": [
    "**Без кодирования**"
   ]
  },
  {
   "cell_type": "code",
   "execution_count": 41,
   "metadata": {},
   "outputs": [],
   "source": [
    "features_train[['VehicleType', 'Gearbox', 'Model', 'FuelType', 'Brand','Repaired']]=\\\n",
    "features_train[['VehicleType', 'Gearbox', 'Model', 'FuelType', 'Brand','Repaired']].astype('category')"
   ]
  },
  {
   "cell_type": "code",
   "execution_count": 42,
   "metadata": {},
   "outputs": [
    {
     "name": "stdout",
     "output_type": "stream",
     "text": [
      "CPU times: user 1min 46s, sys: 938 ms, total: 1min 47s\n",
      "Wall time: 1min 47s\n"
     ]
    },
    {
     "data": {
      "text/plain": [
       "LGBMRegressor(n_estimators=150, num_leaves=15, random_state=12345)"
      ]
     },
     "execution_count": 42,
     "metadata": {},
     "output_type": "execute_result"
    }
   ],
   "source": [
    "%%time\n",
    "\n",
    "model_lgbm = LGBMRegressor(random_state=12345, n_estimators=150, num_leaves=15) \n",
    "model_lgbm.fit(features_train, target_train, categorical_feature=cat_features, verbose=False)"
   ]
  },
  {
   "cell_type": "code",
   "execution_count": 43,
   "metadata": {},
   "outputs": [
    {
     "name": "stdout",
     "output_type": "stream",
     "text": [
      "CPU times: user 3.03 s, sys: 0 ns, total: 3.03 s\n",
      "Wall time: 2.98 s\n"
     ]
    }
   ],
   "source": [
    "%%time\n",
    "prediction_lgbm = model_lgbm.predict(features_train)"
   ]
  },
  {
   "cell_type": "code",
   "execution_count": 44,
   "metadata": {},
   "outputs": [
    {
     "name": "stdout",
     "output_type": "stream",
     "text": [
      "RMSE модели LightGBM с кодированием: 1796.1235647816134\n"
     ]
    }
   ],
   "source": [
    "print('RMSE модели LightGBM с кодированием:', RMSE(target_train, prediction_lgbm))"
   ]
  },
  {
   "cell_type": "markdown",
   "metadata": {},
   "source": [
    "Время обучения: 1 min 47 s\n",
    "\n",
    "Время предсказания: 2.98 s"
   ]
  },
  {
   "cell_type": "markdown",
   "metadata": {},
   "source": [
    "#### Константная модель"
   ]
  },
  {
   "cell_type": "code",
   "execution_count": 45,
   "metadata": {},
   "outputs": [
    {
     "name": "stdout",
     "output_type": "stream",
     "text": [
      "RMSE модели константной модели: 4397.2071190257975\n"
     ]
    }
   ],
   "source": [
    "model_mean = DummyRegressor(strategy=\"mean\")\n",
    "model_mean.fit(features_train, target_train)\n",
    "prediction_mean = model_mean.predict(features_train)\n",
    "print('RMSE модели константной модели:', RMSE(target_train, prediction_mean))"
   ]
  },
  {
   "cell_type": "markdown",
   "metadata": {},
   "source": [
    "## Анализ моделей"
   ]
  },
  {
   "cell_type": "code",
   "execution_count": 46,
   "metadata": {},
   "outputs": [
    {
     "data": {
      "text/html": [
       "<div>\n",
       "<style scoped>\n",
       "    .dataframe tbody tr th:only-of-type {\n",
       "        vertical-align: middle;\n",
       "    }\n",
       "\n",
       "    .dataframe tbody tr th {\n",
       "        vertical-align: top;\n",
       "    }\n",
       "\n",
       "    .dataframe thead th {\n",
       "        text-align: right;\n",
       "    }\n",
       "</style>\n",
       "<table border=\"1\" class=\"dataframe\">\n",
       "  <thead>\n",
       "    <tr style=\"text-align: right;\">\n",
       "      <th></th>\n",
       "      <th>Модель</th>\n",
       "      <th>Время обучения</th>\n",
       "      <th>Время предсказания</th>\n",
       "      <th>RMSE</th>\n",
       "    </tr>\n",
       "  </thead>\n",
       "  <tbody>\n",
       "    <tr>\n",
       "      <th>0</th>\n",
       "      <td>RandomForest</td>\n",
       "      <td>55.4 s</td>\n",
       "      <td>4.16 s</td>\n",
       "      <td>1486</td>\n",
       "    </tr>\n",
       "    <tr>\n",
       "      <th>1</th>\n",
       "      <td>CatBoost OE</td>\n",
       "      <td>63 s</td>\n",
       "      <td>0.29 s</td>\n",
       "      <td>1600</td>\n",
       "    </tr>\n",
       "    <tr>\n",
       "      <th>2</th>\n",
       "      <td>CatBoost Category</td>\n",
       "      <td>65 s</td>\n",
       "      <td>0.56 s</td>\n",
       "      <td>1566</td>\n",
       "    </tr>\n",
       "    <tr>\n",
       "      <th>3</th>\n",
       "      <td>LGBMRegressor OE</td>\n",
       "      <td>78 s</td>\n",
       "      <td>2.23 s</td>\n",
       "      <td>1919</td>\n",
       "    </tr>\n",
       "    <tr>\n",
       "      <th>4</th>\n",
       "      <td>LGBMRegressor Category</td>\n",
       "      <td>107 s</td>\n",
       "      <td>2.98 s</td>\n",
       "      <td>1796</td>\n",
       "    </tr>\n",
       "    <tr>\n",
       "      <th>5</th>\n",
       "      <td>Mean</td>\n",
       "      <td>-</td>\n",
       "      <td>-</td>\n",
       "      <td>4397</td>\n",
       "    </tr>\n",
       "  </tbody>\n",
       "</table>\n",
       "</div>"
      ],
      "text/plain": [
       "                   Модель Время обучения Время предсказания  RMSE\n",
       "0            RandomForest         55.4 s             4.16 s  1486\n",
       "1             CatBoost OE           63 s             0.29 s  1600\n",
       "2       CatBoost Category           65 s             0.56 s  1566\n",
       "3        LGBMRegressor OE           78 s             2.23 s  1919\n",
       "4  LGBMRegressor Category          107 s             2.98 s  1796\n",
       "5                    Mean              -                  -  4397"
      ]
     },
     "metadata": {},
     "output_type": "display_data"
    }
   ],
   "source": [
    "models = {'Модель':['RandomForest', 'CatBoost OE', 'CatBoost Category','LGBMRegressor OE','LGBMRegressor Category','Mean'],\n",
    "         'Время обучения':['55.4 s', '63 s', '65 s', '78 s', '107 s', '-'],\n",
    "         'Время предсказания':['4.16 s', '0.29 s', '0.56 s', '2.23 s', '2.98 s', '-'],\n",
    "         'RMSE':['1486', '1600', '1566', '1919', '1796', '4397']}\n",
    "\n",
    "display(pd.DataFrame.from_dict(models))\n"
   ]
  },
  {
   "cell_type": "markdown",
   "metadata": {},
   "source": [
    "Все модели показали результат RMSE лучше, чем константная модель. Наилучший (минимальный) результат у модели RandomForest. Она же самая быстрая по времени обучения, однако модель CatBoost Category намного быстрее по времени предсказания, и почти не уступает по качеству предсказания. \n",
    "Таким образом, наилучшими моделями можно назвать RandomForest и CatBoost Category. Проверим эти модели на тестовой выборке."
   ]
  },
  {
   "cell_type": "code",
   "execution_count": 47,
   "metadata": {},
   "outputs": [
    {
     "data": {
      "text/html": [
       "<div>\n",
       "<style scoped>\n",
       "    .dataframe tbody tr th:only-of-type {\n",
       "        vertical-align: middle;\n",
       "    }\n",
       "\n",
       "    .dataframe tbody tr th {\n",
       "        vertical-align: top;\n",
       "    }\n",
       "\n",
       "    .dataframe thead th {\n",
       "        text-align: right;\n",
       "    }\n",
       "</style>\n",
       "<table border=\"1\" class=\"dataframe\">\n",
       "  <thead>\n",
       "    <tr style=\"text-align: right;\">\n",
       "      <th></th>\n",
       "      <th>VehicleType</th>\n",
       "      <th>RegistrationYear</th>\n",
       "      <th>Gearbox</th>\n",
       "      <th>Power</th>\n",
       "      <th>Model</th>\n",
       "      <th>Kilometer</th>\n",
       "      <th>FuelType</th>\n",
       "      <th>Brand</th>\n",
       "      <th>Repaired</th>\n",
       "    </tr>\n",
       "  </thead>\n",
       "  <tbody>\n",
       "    <tr>\n",
       "      <th>0</th>\n",
       "      <td>1.409963</td>\n",
       "      <td>0.104829</td>\n",
       "      <td>0.566272</td>\n",
       "      <td>0.071337</td>\n",
       "      <td>-1.363975</td>\n",
       "      <td>0.499596</td>\n",
       "      <td>0.707181</td>\n",
       "      <td>-0.142520</td>\n",
       "      <td>-0.33625</td>\n",
       "    </tr>\n",
       "    <tr>\n",
       "      <th>1</th>\n",
       "      <td>-0.071240</td>\n",
       "      <td>-2.224542</td>\n",
       "      <td>0.566272</td>\n",
       "      <td>-0.331523</td>\n",
       "      <td>-1.378288</td>\n",
       "      <td>-2.432386</td>\n",
       "      <td>0.707181</td>\n",
       "      <td>1.210373</td>\n",
       "      <td>-0.33625</td>\n",
       "    </tr>\n",
       "    <tr>\n",
       "      <th>2</th>\n",
       "      <td>0.422494</td>\n",
       "      <td>-0.186342</td>\n",
       "      <td>0.566272</td>\n",
       "      <td>-1.182005</td>\n",
       "      <td>0.110281</td>\n",
       "      <td>0.499596</td>\n",
       "      <td>0.707181</td>\n",
       "      <td>0.684248</td>\n",
       "      <td>-0.33625</td>\n",
       "    </tr>\n",
       "    <tr>\n",
       "      <th>3</th>\n",
       "      <td>-0.564975</td>\n",
       "      <td>1.851858</td>\n",
       "      <td>-1.765937</td>\n",
       "      <td>-1.405816</td>\n",
       "      <td>0.768687</td>\n",
       "      <td>-0.233399</td>\n",
       "      <td>0.140436</td>\n",
       "      <td>0.834569</td>\n",
       "      <td>-0.33625</td>\n",
       "    </tr>\n",
       "    <tr>\n",
       "      <th>4</th>\n",
       "      <td>0.422494</td>\n",
       "      <td>-1.205442</td>\n",
       "      <td>-1.765937</td>\n",
       "      <td>-1.271529</td>\n",
       "      <td>0.053028</td>\n",
       "      <td>0.499596</td>\n",
       "      <td>0.707181</td>\n",
       "      <td>1.285533</td>\n",
       "      <td>-0.33625</td>\n",
       "    </tr>\n",
       "  </tbody>\n",
       "</table>\n",
       "</div>"
      ],
      "text/plain": [
       "   VehicleType  RegistrationYear   Gearbox     Power     Model  Kilometer  \\\n",
       "0     1.409963          0.104829  0.566272  0.071337 -1.363975   0.499596   \n",
       "1    -0.071240         -2.224542  0.566272 -0.331523 -1.378288  -2.432386   \n",
       "2     0.422494         -0.186342  0.566272 -1.182005  0.110281   0.499596   \n",
       "3    -0.564975          1.851858 -1.765937 -1.405816  0.768687  -0.233399   \n",
       "4     0.422494         -1.205442 -1.765937 -1.271529  0.053028   0.499596   \n",
       "\n",
       "   FuelType     Brand  Repaired  \n",
       "0  0.707181 -0.142520  -0.33625  \n",
       "1  0.707181  1.210373  -0.33625  \n",
       "2  0.707181  0.684248  -0.33625  \n",
       "3  0.140436  0.834569  -0.33625  \n",
       "4  0.707181  1.285533  -0.33625  "
      ]
     },
     "execution_count": 47,
     "metadata": {},
     "output_type": "execute_result"
    }
   ],
   "source": [
    "# кодирование и стандартизация тестовой выборки\n",
    "features_test_oe = features_test\n",
    "features_test_oe = pd.DataFrame(encoder.transform(features_test_oe), columns=features_test_oe.columns)\n",
    "\n",
    "features_test_oe[all_col] = scaler_oe.transform(features_test_oe[all_col])\n",
    "features_test[columns_ss] = scaler.transform(features_test[columns_ss])\n",
    "\n",
    "features_test_oe.head()"
   ]
  },
  {
   "cell_type": "code",
   "execution_count": 48,
   "metadata": {},
   "outputs": [
    {
     "name": "stdout",
     "output_type": "stream",
     "text": [
      "RMSE модели RandomForest на тестовой выборке: 1785.683320222774\n"
     ]
    }
   ],
   "source": [
    "prediction_forest = model_forest.predict(features_test_oe)\n",
    "print('RMSE модели RandomForest на тестовой выборке:', RMSE(target_test, prediction_forest))"
   ]
  },
  {
   "cell_type": "code",
   "execution_count": 49,
   "metadata": {},
   "outputs": [
    {
     "name": "stdout",
     "output_type": "stream",
     "text": [
      "RMSE модели CatBoost Category на тестовой выборке: 1741.068850059678\n"
     ]
    }
   ],
   "source": [
    "prediction_cat = model_cat.predict(features_test)\n",
    "print('RMSE модели CatBoost Category на тестовой выборке:', RMSE(target_test, prediction_cat))"
   ]
  },
  {
   "cell_type": "markdown",
   "metadata": {},
   "source": [
    "Обе модели показали хороший результат на тестовой выборке. RMSE модели CatBoost Category чуть выше, чем у модели RandomForest.\n",
    "Учитывая так же примерно одинаковое время обучения и высокую скорость обучения модели CatBoost Category относительно модели RandomForest, модель CatBoost Category является более предпочтительной для решения поставленной задачи."
   ]
  },
  {
   "cell_type": "markdown",
   "metadata": {},
   "source": [
    "## Вывод"
   ]
  },
  {
   "cell_type": "markdown",
   "metadata": {},
   "source": [
    "В ходе работы над проектом была проведена предобработка данных:\n",
    "- Удалены аномальные значения в столбцах `RegistrationYear`, `Power`.\n",
    "- В столбце `Price` аномальные значения заменены медианой.\n",
    "- Удалены столбцы  `RegistrationMonth`, `DateCrawled`, `DateCreated`, `NumberOfPictures`, `LastSeen`, `PostalCode`\n",
    "- Удалены дубликаты\n",
    "- В столбцах `RegistrationYear`, `Power` пропуски заменены медианным значением.\n",
    "- В столбцах `VehicleType`, `Gearbox`, `Model`, `FuelType`, `Repaired` пропуски заменены на 'other' или на наиболее часто встречающуюся характеристику.\n",
    "\n",
    "Для исслеования использовались следующие модели:\n",
    "\n",
    "- RandomForest\n",
    "- CatBoost OE\n",
    "- CatBoost Category\n",
    "- LGBMRegressor OE\n",
    "- LGBMRegressor Category\n",
    "- Константная модель\n",
    "        \n",
    "Все модели показали результат RMSE лучше, чем константная модель. Наилучший (минимальный) результат у модели RandomForest. Она же самая быстрая по времени обучения, однако модель CatBoost Category намного быстрее по времени предсказания, и почти не уступает по качеству предсказания. Таким образом, **наилучшими моделями можно назвать RandomForest и CatBoost Category**.   \n",
    "\n",
    "Наиболее быстрой для обучения оказалась модель RandomForest (53.8 с.).\n",
    "Наиболее быстрая бля предсказания модель CatBoost OE (0.27 с.).\n",
    "Наиболее точные (согласно метрике RMSE) модели CatBoost Category (1566) и RandomForest(1486).\n",
    "\n",
    "- RMSE модели RandomForest на тестовой выборке: 1785.\n",
    "- RMSE модели CatBoost Category на тестовой выборке: 1741.\n",
    "\n",
    "Обе модели показали хороший результат на тестовой выборке. RMSE модели CatBoost Category чуть выше, чем у модели RandomForest.\n",
    "Учитывая так же примерно одинаковое время обучения и высокую скорость обучения модели CatBoost Category относительно модели RandomForest, **модель CatBoost Category является более предпочтительной для решения поставленной задачи.**"
   ]
  },
  {
   "cell_type": "code",
   "execution_count": null,
   "metadata": {},
   "outputs": [],
   "source": []
  }
 ],
 "metadata": {
  "ExecuteTimeLog": [
   {
    "duration": 407,
    "start_time": "2023-02-24T12:13:08.518Z"
   },
   {
    "duration": 1102,
    "start_time": "2023-02-24T12:13:42.901Z"
   },
   {
    "duration": 1095,
    "start_time": "2023-02-24T12:13:45.625Z"
   },
   {
    "duration": 825,
    "start_time": "2023-02-24T12:14:37.932Z"
   },
   {
    "duration": 45,
    "start_time": "2023-02-24T17:37:06.601Z"
   },
   {
    "duration": 93,
    "start_time": "2023-02-28T19:07:07.084Z"
   },
   {
    "duration": 44,
    "start_time": "2023-02-28T19:07:11.696Z"
   },
   {
    "duration": 1692,
    "start_time": "2023-02-28T19:07:20.194Z"
   },
   {
    "duration": 3061,
    "start_time": "2023-02-28T19:07:22.410Z"
   },
   {
    "duration": 925,
    "start_time": "2023-02-28T19:07:25.473Z"
   },
   {
    "duration": 941,
    "start_time": "2023-02-28T19:07:28.427Z"
   },
   {
    "duration": 89,
    "start_time": "2023-02-28T19:07:36.370Z"
   },
   {
    "duration": 99,
    "start_time": "2023-02-28T19:10:19.452Z"
   },
   {
    "duration": 185,
    "start_time": "2023-02-28T19:14:25.848Z"
   },
   {
    "duration": 203,
    "start_time": "2023-02-28T19:14:49.321Z"
   },
   {
    "duration": 480,
    "start_time": "2023-02-28T19:20:22.535Z"
   },
   {
    "duration": 104,
    "start_time": "2023-02-28T19:22:13.654Z"
   },
   {
    "duration": 335,
    "start_time": "2023-02-28T19:22:17.674Z"
   },
   {
    "duration": 117,
    "start_time": "2023-02-28T19:23:11.432Z"
   },
   {
    "duration": 319,
    "start_time": "2023-02-28T19:23:13.493Z"
   },
   {
    "duration": 5,
    "start_time": "2023-02-28T19:23:21.823Z"
   },
   {
    "duration": 944,
    "start_time": "2023-02-28T19:23:24.420Z"
   },
   {
    "duration": 830,
    "start_time": "2023-02-28T19:23:28.517Z"
   },
   {
    "duration": 100,
    "start_time": "2023-02-28T19:23:31.851Z"
   },
   {
    "duration": 116,
    "start_time": "2023-02-28T19:23:37.449Z"
   },
   {
    "duration": 401,
    "start_time": "2023-02-28T19:23:40.221Z"
   },
   {
    "duration": 1008,
    "start_time": "2023-02-28T19:26:01.918Z"
   },
   {
    "duration": 59,
    "start_time": "2023-03-01T07:23:04.739Z"
   },
   {
    "duration": 1773,
    "start_time": "2023-03-01T07:23:13.898Z"
   },
   {
    "duration": 3310,
    "start_time": "2023-03-01T07:23:15.673Z"
   },
   {
    "duration": 1072,
    "start_time": "2023-03-01T07:23:18.985Z"
   },
   {
    "duration": 102,
    "start_time": "2023-03-01T07:23:20.059Z"
   },
   {
    "duration": 200,
    "start_time": "2023-03-01T07:23:20.163Z"
   },
   {
    "duration": 147,
    "start_time": "2023-03-01T07:23:20.365Z"
   },
   {
    "duration": 445,
    "start_time": "2023-03-01T07:23:20.515Z"
   },
   {
    "duration": 752,
    "start_time": "2023-03-01T07:23:20.962Z"
   },
   {
    "duration": 5,
    "start_time": "2023-03-01T07:24:05.296Z"
   },
   {
    "duration": 117,
    "start_time": "2023-03-01T07:38:27.033Z"
   },
   {
    "duration": 108,
    "start_time": "2023-03-01T07:45:27.085Z"
   },
   {
    "duration": 35,
    "start_time": "2023-03-01T10:50:26.446Z"
   },
   {
    "duration": 163,
    "start_time": "2023-03-01T10:51:29.393Z"
   },
   {
    "duration": 149,
    "start_time": "2023-03-01T10:51:47.226Z"
   },
   {
    "duration": 196,
    "start_time": "2023-03-01T10:52:00.406Z"
   },
   {
    "duration": 173,
    "start_time": "2023-03-01T10:52:43.997Z"
   },
   {
    "duration": 165,
    "start_time": "2023-03-01T10:52:53.876Z"
   },
   {
    "duration": 185,
    "start_time": "2023-03-01T10:55:09.676Z"
   },
   {
    "duration": 205,
    "start_time": "2023-03-01T10:55:42.344Z"
   },
   {
    "duration": 192,
    "start_time": "2023-03-01T10:56:22.347Z"
   },
   {
    "duration": 190,
    "start_time": "2023-03-01T10:56:36.356Z"
   },
   {
    "duration": 284,
    "start_time": "2023-03-01T11:29:35.962Z"
   },
   {
    "duration": 1568,
    "start_time": "2023-03-01T11:30:40.999Z"
   },
   {
    "duration": 1134,
    "start_time": "2023-03-01T11:30:42.569Z"
   },
   {
    "duration": 1010,
    "start_time": "2023-03-01T11:30:43.705Z"
   },
   {
    "duration": 109,
    "start_time": "2023-03-01T11:30:44.717Z"
   },
   {
    "duration": 205,
    "start_time": "2023-03-01T11:30:44.828Z"
   },
   {
    "duration": 230,
    "start_time": "2023-03-01T11:30:45.044Z"
   },
   {
    "duration": 155,
    "start_time": "2023-03-01T11:30:45.276Z"
   },
   {
    "duration": 533,
    "start_time": "2023-03-01T11:30:45.433Z"
   },
   {
    "duration": 1010,
    "start_time": "2023-03-01T11:30:45.968Z"
   },
   {
    "duration": 1541,
    "start_time": "2023-03-01T11:34:31.746Z"
   },
   {
    "duration": 1011,
    "start_time": "2023-03-01T11:34:33.289Z"
   },
   {
    "duration": 944,
    "start_time": "2023-03-01T11:34:34.302Z"
   },
   {
    "duration": 98,
    "start_time": "2023-03-01T11:34:35.248Z"
   },
   {
    "duration": 197,
    "start_time": "2023-03-01T11:34:35.348Z"
   },
   {
    "duration": 204,
    "start_time": "2023-03-01T11:34:35.546Z"
   },
   {
    "duration": 135,
    "start_time": "2023-03-01T11:34:35.751Z"
   },
   {
    "duration": 503,
    "start_time": "2023-03-01T11:34:35.888Z"
   },
   {
    "duration": 991,
    "start_time": "2023-03-01T11:34:36.393Z"
   },
   {
    "duration": 88,
    "start_time": "2023-03-01T11:37:11.495Z"
   },
   {
    "duration": 198,
    "start_time": "2023-03-01T11:37:22.756Z"
   },
   {
    "duration": 142,
    "start_time": "2023-03-01T11:37:53.898Z"
   },
   {
    "duration": 1533,
    "start_time": "2023-03-01T11:38:11.855Z"
   },
   {
    "duration": 1052,
    "start_time": "2023-03-01T11:38:13.390Z"
   },
   {
    "duration": 1006,
    "start_time": "2023-03-01T11:38:14.444Z"
   },
   {
    "duration": 104,
    "start_time": "2023-03-01T11:38:15.452Z"
   },
   {
    "duration": 221,
    "start_time": "2023-03-01T11:38:15.558Z"
   },
   {
    "duration": 210,
    "start_time": "2023-03-01T11:38:15.780Z"
   },
   {
    "duration": 135,
    "start_time": "2023-03-01T11:38:15.992Z"
   },
   {
    "duration": 482,
    "start_time": "2023-03-01T11:38:16.128Z"
   },
   {
    "duration": 964,
    "start_time": "2023-03-01T11:38:16.612Z"
   },
   {
    "duration": 204,
    "start_time": "2023-03-01T11:38:47.396Z"
   },
   {
    "duration": 190,
    "start_time": "2023-03-01T11:38:56.715Z"
   },
   {
    "duration": 183,
    "start_time": "2023-03-01T11:39:39.877Z"
   },
   {
    "duration": 1525,
    "start_time": "2023-03-01T11:39:52.287Z"
   },
   {
    "duration": 1018,
    "start_time": "2023-03-01T11:39:53.814Z"
   },
   {
    "duration": 957,
    "start_time": "2023-03-01T11:39:54.833Z"
   },
   {
    "duration": 110,
    "start_time": "2023-03-01T11:39:55.792Z"
   },
   {
    "duration": 211,
    "start_time": "2023-03-01T11:39:55.904Z"
   },
   {
    "duration": 197,
    "start_time": "2023-03-01T11:39:56.117Z"
   },
   {
    "duration": 138,
    "start_time": "2023-03-01T11:39:56.316Z"
   },
   {
    "duration": 459,
    "start_time": "2023-03-01T11:39:56.456Z"
   },
   {
    "duration": 995,
    "start_time": "2023-03-01T11:39:56.917Z"
   },
   {
    "duration": 206,
    "start_time": "2023-03-01T11:43:01.062Z"
   },
   {
    "duration": 1590,
    "start_time": "2023-03-01T11:44:03.244Z"
   },
   {
    "duration": 1163,
    "start_time": "2023-03-01T11:44:04.836Z"
   },
   {
    "duration": 1056,
    "start_time": "2023-03-01T11:44:06.001Z"
   },
   {
    "duration": 111,
    "start_time": "2023-03-01T11:44:07.059Z"
   },
   {
    "duration": 222,
    "start_time": "2023-03-01T11:44:07.172Z"
   },
   {
    "duration": 262,
    "start_time": "2023-03-01T11:44:07.396Z"
   },
   {
    "duration": 139,
    "start_time": "2023-03-01T11:44:07.660Z"
   },
   {
    "duration": 484,
    "start_time": "2023-03-01T11:44:07.801Z"
   },
   {
    "duration": 947,
    "start_time": "2023-03-01T11:44:08.287Z"
   },
   {
    "duration": 167,
    "start_time": "2023-03-01T11:45:48.694Z"
   },
   {
    "duration": 40,
    "start_time": "2023-03-01T11:49:20.583Z"
   },
   {
    "duration": 123,
    "start_time": "2023-03-01T11:49:37.503Z"
   },
   {
    "duration": 49,
    "start_time": "2023-03-01T11:50:05.434Z"
   },
   {
    "duration": 1483,
    "start_time": "2023-03-01T11:50:23.454Z"
   },
   {
    "duration": 1047,
    "start_time": "2023-03-01T11:50:24.939Z"
   },
   {
    "duration": 983,
    "start_time": "2023-03-01T11:50:25.988Z"
   },
   {
    "duration": 105,
    "start_time": "2023-03-01T11:50:26.973Z"
   },
   {
    "duration": 210,
    "start_time": "2023-03-01T11:50:27.081Z"
   },
   {
    "duration": 220,
    "start_time": "2023-03-01T11:50:27.294Z"
   },
   {
    "duration": 53,
    "start_time": "2023-03-01T11:50:27.516Z"
   },
   {
    "duration": 112,
    "start_time": "2023-03-01T11:50:27.570Z"
   },
   {
    "duration": 362,
    "start_time": "2023-03-01T11:50:27.684Z"
   },
   {
    "duration": 690,
    "start_time": "2023-03-01T11:50:28.048Z"
   },
   {
    "duration": 103,
    "start_time": "2023-03-01T11:52:41.913Z"
   },
   {
    "duration": 124,
    "start_time": "2023-03-01T11:59:45.272Z"
   },
   {
    "duration": 24,
    "start_time": "2023-03-01T11:59:59.132Z"
   },
   {
    "duration": 22,
    "start_time": "2023-03-01T12:00:42.492Z"
   },
   {
    "duration": 94,
    "start_time": "2023-03-01T13:29:45.679Z"
   },
   {
    "duration": 2110,
    "start_time": "2023-03-01T13:29:51.757Z"
   },
   {
    "duration": 2182,
    "start_time": "2023-03-01T13:29:53.870Z"
   },
   {
    "duration": 1203,
    "start_time": "2023-03-01T13:29:56.054Z"
   },
   {
    "duration": 115,
    "start_time": "2023-03-01T13:29:57.259Z"
   },
   {
    "duration": 282,
    "start_time": "2023-03-01T13:29:57.378Z"
   },
   {
    "duration": 307,
    "start_time": "2023-03-01T13:29:57.664Z"
   },
   {
    "duration": 76,
    "start_time": "2023-03-01T13:29:57.972Z"
   },
   {
    "duration": 162,
    "start_time": "2023-03-01T13:29:58.054Z"
   },
   {
    "duration": 39,
    "start_time": "2023-03-01T13:29:58.222Z"
   },
   {
    "duration": 27,
    "start_time": "2023-03-01T13:29:58.263Z"
   },
   {
    "duration": 219,
    "start_time": "2023-03-01T13:29:58.292Z"
   },
   {
    "duration": 501,
    "start_time": "2023-03-01T13:29:58.513Z"
   },
   {
    "duration": 943,
    "start_time": "2023-03-01T13:29:59.016Z"
   },
   {
    "duration": 23,
    "start_time": "2023-03-01T13:30:27.640Z"
   },
   {
    "duration": 41,
    "start_time": "2023-03-01T13:30:29.927Z"
   },
   {
    "duration": 36,
    "start_time": "2023-03-01T13:30:33.854Z"
   },
   {
    "duration": 24,
    "start_time": "2023-03-01T13:30:35.663Z"
   },
   {
    "duration": 447,
    "start_time": "2023-03-01T13:30:37.529Z"
   },
   {
    "duration": 203,
    "start_time": "2023-03-01T13:33:16.975Z"
   },
   {
    "duration": 42,
    "start_time": "2023-03-01T13:33:46.844Z"
   },
   {
    "duration": 37,
    "start_time": "2023-03-01T13:40:58.739Z"
   },
   {
    "duration": 37,
    "start_time": "2023-03-01T13:41:06.570Z"
   },
   {
    "duration": 45,
    "start_time": "2023-03-01T13:41:07.738Z"
   },
   {
    "duration": 68,
    "start_time": "2023-03-01T13:41:16.184Z"
   },
   {
    "duration": 42,
    "start_time": "2023-03-01T17:02:33.159Z"
   },
   {
    "duration": 42,
    "start_time": "2023-03-01T17:03:00.868Z"
   },
   {
    "duration": 0,
    "start_time": "2023-03-01T17:05:24.712Z"
   },
   {
    "duration": 0,
    "start_time": "2023-03-01T17:05:24.713Z"
   },
   {
    "duration": 0,
    "start_time": "2023-03-01T17:05:24.714Z"
   },
   {
    "duration": 0,
    "start_time": "2023-03-01T17:05:24.715Z"
   },
   {
    "duration": 0,
    "start_time": "2023-03-01T17:05:24.716Z"
   },
   {
    "duration": 0,
    "start_time": "2023-03-01T17:05:24.717Z"
   },
   {
    "duration": 0,
    "start_time": "2023-03-01T17:05:24.718Z"
   },
   {
    "duration": 0,
    "start_time": "2023-03-01T17:05:24.719Z"
   },
   {
    "duration": 0,
    "start_time": "2023-03-01T17:05:24.720Z"
   },
   {
    "duration": 0,
    "start_time": "2023-03-01T17:05:24.721Z"
   },
   {
    "duration": 0,
    "start_time": "2023-03-01T17:05:24.722Z"
   },
   {
    "duration": 0,
    "start_time": "2023-03-01T17:05:24.723Z"
   },
   {
    "duration": 0,
    "start_time": "2023-03-01T17:05:24.724Z"
   },
   {
    "duration": 0,
    "start_time": "2023-03-01T17:05:24.725Z"
   },
   {
    "duration": 0,
    "start_time": "2023-03-01T17:05:24.726Z"
   },
   {
    "duration": 0,
    "start_time": "2023-03-01T17:05:24.727Z"
   },
   {
    "duration": 4,
    "start_time": "2023-03-01T17:07:35.023Z"
   },
   {
    "duration": 24,
    "start_time": "2023-03-01T17:07:38.216Z"
   },
   {
    "duration": 1441,
    "start_time": "2023-03-01T17:07:57.119Z"
   },
   {
    "duration": 141,
    "start_time": "2023-03-01T17:07:58.562Z"
   },
   {
    "duration": 0,
    "start_time": "2023-03-01T17:07:58.706Z"
   },
   {
    "duration": 0,
    "start_time": "2023-03-01T17:07:58.708Z"
   },
   {
    "duration": 0,
    "start_time": "2023-03-01T17:07:58.709Z"
   },
   {
    "duration": 0,
    "start_time": "2023-03-01T17:07:58.710Z"
   },
   {
    "duration": 0,
    "start_time": "2023-03-01T17:07:58.712Z"
   },
   {
    "duration": 0,
    "start_time": "2023-03-01T17:07:58.713Z"
   },
   {
    "duration": 0,
    "start_time": "2023-03-01T17:07:58.715Z"
   },
   {
    "duration": 0,
    "start_time": "2023-03-01T17:07:58.717Z"
   },
   {
    "duration": 0,
    "start_time": "2023-03-01T17:07:58.718Z"
   },
   {
    "duration": 0,
    "start_time": "2023-03-01T17:07:58.720Z"
   },
   {
    "duration": 0,
    "start_time": "2023-03-01T17:07:58.721Z"
   },
   {
    "duration": 0,
    "start_time": "2023-03-01T17:07:58.723Z"
   },
   {
    "duration": 0,
    "start_time": "2023-03-01T17:07:58.725Z"
   },
   {
    "duration": 0,
    "start_time": "2023-03-01T17:07:58.726Z"
   },
   {
    "duration": 29,
    "start_time": "2023-03-01T17:08:49.907Z"
   },
   {
    "duration": 24,
    "start_time": "2023-03-01T17:09:05.879Z"
   },
   {
    "duration": 1054,
    "start_time": "2023-03-01T17:25:49.087Z"
   },
   {
    "duration": 1584,
    "start_time": "2023-03-01T17:25:55.195Z"
   },
   {
    "duration": 985,
    "start_time": "2023-03-01T17:25:56.781Z"
   },
   {
    "duration": 944,
    "start_time": "2023-03-01T17:25:57.767Z"
   },
   {
    "duration": 106,
    "start_time": "2023-03-01T17:25:58.713Z"
   },
   {
    "duration": 211,
    "start_time": "2023-03-01T17:25:58.822Z"
   },
   {
    "duration": 208,
    "start_time": "2023-03-01T17:25:59.034Z"
   },
   {
    "duration": 39,
    "start_time": "2023-03-01T17:25:59.244Z"
   },
   {
    "duration": 109,
    "start_time": "2023-03-01T17:25:59.285Z"
   },
   {
    "duration": 34,
    "start_time": "2023-03-01T17:25:59.395Z"
   },
   {
    "duration": 42,
    "start_time": "2023-03-01T17:25:59.431Z"
   },
   {
    "duration": 53,
    "start_time": "2023-03-01T17:25:59.475Z"
   },
   {
    "duration": 41,
    "start_time": "2023-03-01T17:25:59.530Z"
   },
   {
    "duration": 176,
    "start_time": "2023-03-01T17:25:59.573Z"
   },
   {
    "duration": 0,
    "start_time": "2023-03-01T17:25:59.751Z"
   },
   {
    "duration": 0,
    "start_time": "2023-03-01T17:25:59.753Z"
   },
   {
    "duration": 0,
    "start_time": "2023-03-01T17:25:59.754Z"
   },
   {
    "duration": 38,
    "start_time": "2023-03-01T17:29:28.736Z"
   },
   {
    "duration": 174,
    "start_time": "2023-03-01T17:32:24.530Z"
   },
   {
    "duration": 73,
    "start_time": "2023-03-01T17:33:18.245Z"
   },
   {
    "duration": 64,
    "start_time": "2023-03-01T17:33:31.534Z"
   },
   {
    "duration": 38,
    "start_time": "2023-03-01T17:34:38.940Z"
   },
   {
    "duration": 250,
    "start_time": "2023-03-01T17:34:43.249Z"
   },
   {
    "duration": 552,
    "start_time": "2023-03-01T17:34:46.233Z"
   },
   {
    "duration": 99,
    "start_time": "2023-03-01T17:35:04.065Z"
   },
   {
    "duration": 193,
    "start_time": "2023-03-01T17:46:35.433Z"
   },
   {
    "duration": 186,
    "start_time": "2023-03-01T17:46:52.712Z"
   },
   {
    "duration": 1004,
    "start_time": "2023-03-01T17:48:42.040Z"
   },
   {
    "duration": 195,
    "start_time": "2023-03-01T17:48:47.399Z"
   },
   {
    "duration": 197,
    "start_time": "2023-03-01T17:49:02.766Z"
   },
   {
    "duration": 205,
    "start_time": "2023-03-01T17:51:04.456Z"
   },
   {
    "duration": 175,
    "start_time": "2023-03-01T17:52:47.249Z"
   },
   {
    "duration": 119,
    "start_time": "2023-03-01T18:03:42.279Z"
   },
   {
    "duration": 222,
    "start_time": "2023-03-01T18:03:58.866Z"
   },
   {
    "duration": 186,
    "start_time": "2023-03-01T18:05:51.849Z"
   },
   {
    "duration": 190,
    "start_time": "2023-03-01T18:06:22.908Z"
   },
   {
    "duration": 45,
    "start_time": "2023-03-02T18:10:42.167Z"
   },
   {
    "duration": 1836,
    "start_time": "2023-03-02T18:10:51.141Z"
   },
   {
    "duration": 1498,
    "start_time": "2023-03-02T18:10:52.980Z"
   },
   {
    "duration": 964,
    "start_time": "2023-03-02T18:10:54.480Z"
   },
   {
    "duration": 115,
    "start_time": "2023-03-02T18:10:55.447Z"
   },
   {
    "duration": 178,
    "start_time": "2023-03-02T18:10:55.568Z"
   },
   {
    "duration": 232,
    "start_time": "2023-03-02T18:10:55.748Z"
   },
   {
    "duration": 136,
    "start_time": "2023-03-02T18:10:55.982Z"
   },
   {
    "duration": 223,
    "start_time": "2023-03-02T18:10:56.120Z"
   },
   {
    "duration": 34,
    "start_time": "2023-03-02T18:10:56.355Z"
   },
   {
    "duration": 81,
    "start_time": "2023-03-02T18:10:56.391Z"
   },
   {
    "duration": 23,
    "start_time": "2023-03-02T18:10:56.474Z"
   },
   {
    "duration": 65,
    "start_time": "2023-03-02T18:10:56.499Z"
   },
   {
    "duration": 35,
    "start_time": "2023-03-02T18:10:56.565Z"
   },
   {
    "duration": 36,
    "start_time": "2023-03-02T18:10:56.602Z"
   },
   {
    "duration": 52,
    "start_time": "2023-03-02T18:10:56.653Z"
   },
   {
    "duration": 65,
    "start_time": "2023-03-02T18:10:56.706Z"
   },
   {
    "duration": 36,
    "start_time": "2023-03-02T18:10:56.773Z"
   },
   {
    "duration": 88,
    "start_time": "2023-03-02T18:10:56.811Z"
   },
   {
    "duration": 212,
    "start_time": "2023-03-02T18:10:56.901Z"
   },
   {
    "duration": 417,
    "start_time": "2023-03-02T18:10:57.115Z"
   },
   {
    "duration": 574,
    "start_time": "2023-03-02T18:10:57.533Z"
   },
   {
    "duration": 236,
    "start_time": "2023-03-02T18:11:16.368Z"
   },
   {
    "duration": 1598,
    "start_time": "2023-03-02T18:11:29.194Z"
   },
   {
    "duration": 1083,
    "start_time": "2023-03-02T18:11:30.794Z"
   },
   {
    "duration": 1021,
    "start_time": "2023-03-02T18:11:31.878Z"
   },
   {
    "duration": 109,
    "start_time": "2023-03-02T18:11:32.902Z"
   },
   {
    "duration": 217,
    "start_time": "2023-03-02T18:11:33.013Z"
   },
   {
    "duration": 236,
    "start_time": "2023-03-02T18:11:33.232Z"
   },
   {
    "duration": 139,
    "start_time": "2023-03-02T18:11:33.470Z"
   },
   {
    "duration": 216,
    "start_time": "2023-03-02T18:11:33.610Z"
   },
   {
    "duration": 41,
    "start_time": "2023-03-02T18:11:33.827Z"
   },
   {
    "duration": 94,
    "start_time": "2023-03-02T18:11:33.871Z"
   },
   {
    "duration": 48,
    "start_time": "2023-03-02T18:11:33.967Z"
   },
   {
    "duration": 42,
    "start_time": "2023-03-02T18:11:34.017Z"
   },
   {
    "duration": 47,
    "start_time": "2023-03-02T18:11:34.060Z"
   },
   {
    "duration": 49,
    "start_time": "2023-03-02T18:11:34.109Z"
   },
   {
    "duration": 49,
    "start_time": "2023-03-02T18:11:34.160Z"
   },
   {
    "duration": 93,
    "start_time": "2023-03-02T18:11:34.211Z"
   },
   {
    "duration": 35,
    "start_time": "2023-03-02T18:11:34.306Z"
   },
   {
    "duration": 112,
    "start_time": "2023-03-02T18:11:34.343Z"
   },
   {
    "duration": 240,
    "start_time": "2023-03-02T18:11:34.457Z"
   },
   {
    "duration": 450,
    "start_time": "2023-03-02T18:11:34.699Z"
   },
   {
    "duration": 646,
    "start_time": "2023-03-02T18:11:35.150Z"
   },
   {
    "duration": 1637,
    "start_time": "2023-03-02T18:19:46.767Z"
   },
   {
    "duration": 1189,
    "start_time": "2023-03-02T18:19:48.406Z"
   },
   {
    "duration": 1088,
    "start_time": "2023-03-02T18:19:49.596Z"
   },
   {
    "duration": 117,
    "start_time": "2023-03-02T18:19:50.689Z"
   },
   {
    "duration": 216,
    "start_time": "2023-03-02T18:19:50.809Z"
   },
   {
    "duration": 233,
    "start_time": "2023-03-02T18:19:51.027Z"
   },
   {
    "duration": 145,
    "start_time": "2023-03-02T18:19:51.262Z"
   },
   {
    "duration": 225,
    "start_time": "2023-03-02T18:19:51.409Z"
   },
   {
    "duration": 565,
    "start_time": "2023-03-02T18:19:51.635Z"
   },
   {
    "duration": 1157,
    "start_time": "2023-03-02T18:19:52.202Z"
   },
   {
    "duration": 54,
    "start_time": "2023-03-02T18:19:53.361Z"
   },
   {
    "duration": 83,
    "start_time": "2023-03-02T18:19:53.416Z"
   },
   {
    "duration": 27,
    "start_time": "2023-03-02T18:19:53.501Z"
   },
   {
    "duration": 69,
    "start_time": "2023-03-02T18:19:53.532Z"
   },
   {
    "duration": 58,
    "start_time": "2023-03-02T18:19:53.603Z"
   },
   {
    "duration": 48,
    "start_time": "2023-03-02T18:19:53.667Z"
   },
   {
    "duration": 72,
    "start_time": "2023-03-02T18:19:53.717Z"
   },
   {
    "duration": 71,
    "start_time": "2023-03-02T18:19:53.792Z"
   },
   {
    "duration": 55,
    "start_time": "2023-03-02T18:19:53.865Z"
   },
   {
    "duration": 92,
    "start_time": "2023-03-02T18:19:53.922Z"
   },
   {
    "duration": 712,
    "start_time": "2023-03-02T18:19:54.016Z"
   },
   {
    "duration": 155,
    "start_time": "2023-03-02T19:05:33.306Z"
   },
   {
    "duration": 92,
    "start_time": "2023-03-02T19:05:42.776Z"
   },
   {
    "duration": 79,
    "start_time": "2023-03-02T19:06:42.973Z"
   },
   {
    "duration": 83,
    "start_time": "2023-03-02T19:31:19.047Z"
   },
   {
    "duration": 85,
    "start_time": "2023-03-02T19:33:18.379Z"
   },
   {
    "duration": 38,
    "start_time": "2023-03-03T06:01:16.471Z"
   },
   {
    "duration": 26,
    "start_time": "2023-03-03T06:12:26.187Z"
   },
   {
    "duration": 94,
    "start_time": "2023-03-03T06:12:36.510Z"
   },
   {
    "duration": 1503,
    "start_time": "2023-03-03T06:12:46.676Z"
   },
   {
    "duration": 2923,
    "start_time": "2023-03-03T06:12:48.181Z"
   },
   {
    "duration": 857,
    "start_time": "2023-03-03T06:12:51.105Z"
   },
   {
    "duration": 98,
    "start_time": "2023-03-03T06:12:51.964Z"
   },
   {
    "duration": 166,
    "start_time": "2023-03-03T06:12:52.064Z"
   },
   {
    "duration": 174,
    "start_time": "2023-03-03T06:12:52.232Z"
   },
   {
    "duration": 141,
    "start_time": "2023-03-03T06:12:52.409Z"
   },
   {
    "duration": 192,
    "start_time": "2023-03-03T06:12:52.552Z"
   },
   {
    "duration": 392,
    "start_time": "2023-03-03T06:12:52.745Z"
   },
   {
    "duration": 809,
    "start_time": "2023-03-03T06:12:53.141Z"
   },
   {
    "duration": 33,
    "start_time": "2023-03-03T06:12:53.951Z"
   },
   {
    "duration": 77,
    "start_time": "2023-03-03T06:12:53.986Z"
   },
   {
    "duration": 20,
    "start_time": "2023-03-03T06:12:54.064Z"
   },
   {
    "duration": 31,
    "start_time": "2023-03-03T06:12:54.086Z"
   },
   {
    "duration": 50,
    "start_time": "2023-03-03T06:12:54.119Z"
   },
   {
    "duration": 37,
    "start_time": "2023-03-03T06:12:54.170Z"
   },
   {
    "duration": 53,
    "start_time": "2023-03-03T06:12:54.209Z"
   },
   {
    "duration": 45,
    "start_time": "2023-03-03T06:12:54.263Z"
   },
   {
    "duration": 47,
    "start_time": "2023-03-03T06:12:54.310Z"
   },
   {
    "duration": 66,
    "start_time": "2023-03-03T06:12:54.358Z"
   },
   {
    "duration": 538,
    "start_time": "2023-03-03T06:12:54.426Z"
   },
   {
    "duration": 83,
    "start_time": "2023-03-03T06:12:54.966Z"
   },
   {
    "duration": 552,
    "start_time": "2023-03-03T06:12:55.051Z"
   },
   {
    "duration": 55,
    "start_time": "2023-03-03T06:34:17.888Z"
   },
   {
    "duration": 3,
    "start_time": "2023-03-03T06:39:32.133Z"
   },
   {
    "duration": 462,
    "start_time": "2023-03-03T06:39:33.426Z"
   },
   {
    "duration": 724,
    "start_time": "2023-03-03T06:40:08.560Z"
   },
   {
    "duration": 64,
    "start_time": "2023-03-03T06:41:39.540Z"
   },
   {
    "duration": 86,
    "start_time": "2023-03-03T06:41:47.973Z"
   },
   {
    "duration": 68,
    "start_time": "2023-03-03T06:43:36.284Z"
   },
   {
    "duration": 71,
    "start_time": "2023-03-03T06:43:53.490Z"
   },
   {
    "duration": 70,
    "start_time": "2023-03-03T06:44:04.839Z"
   },
   {
    "duration": 69,
    "start_time": "2023-03-03T06:44:18.799Z"
   },
   {
    "duration": 80,
    "start_time": "2023-03-03T06:45:00.451Z"
   },
   {
    "duration": 87,
    "start_time": "2023-03-03T06:45:12.557Z"
   },
   {
    "duration": 11,
    "start_time": "2023-03-03T06:45:20.230Z"
   },
   {
    "duration": 12,
    "start_time": "2023-03-03T06:46:55.155Z"
   },
   {
    "duration": 19,
    "start_time": "2023-03-03T06:49:52.652Z"
   },
   {
    "duration": 19,
    "start_time": "2023-03-03T06:49:56.188Z"
   },
   {
    "duration": 11,
    "start_time": "2023-03-03T06:50:08.402Z"
   },
   {
    "duration": 27,
    "start_time": "2023-03-03T06:52:34.419Z"
   },
   {
    "duration": 18,
    "start_time": "2023-03-03T06:52:50.647Z"
   },
   {
    "duration": 78,
    "start_time": "2023-03-03T06:52:54.284Z"
   },
   {
    "duration": 54,
    "start_time": "2023-03-03T06:53:06.034Z"
   },
   {
    "duration": 3,
    "start_time": "2023-03-03T06:53:11.030Z"
   },
   {
    "duration": 9637,
    "start_time": "2023-03-03T06:53:12.334Z"
   },
   {
    "duration": 9746,
    "start_time": "2023-03-03T06:53:26.333Z"
   },
   {
    "duration": 109537,
    "start_time": "2023-03-03T06:54:01.772Z"
   },
   {
    "duration": 66,
    "start_time": "2023-03-03T07:21:52.884Z"
   },
   {
    "duration": 65,
    "start_time": "2023-03-03T07:22:06.921Z"
   },
   {
    "duration": 18232,
    "start_time": "2023-03-03T07:22:33.913Z"
   },
   {
    "duration": 523,
    "start_time": "2023-03-03T07:24:14.929Z"
   },
   {
    "duration": 5,
    "start_time": "2023-03-03T07:26:25.254Z"
   },
   {
    "duration": 2300851,
    "start_time": "2023-03-03T07:27:17.163Z"
   },
   {
    "duration": 33487,
    "start_time": "2023-03-03T09:08:00.658Z"
   },
   {
    "duration": 1211,
    "start_time": "2023-03-03T09:08:42.059Z"
   },
   {
    "duration": 4,
    "start_time": "2023-03-03T09:08:46.976Z"
   },
   {
    "duration": 16942,
    "start_time": "2023-03-03T09:10:21.421Z"
   },
   {
    "duration": 463,
    "start_time": "2023-03-03T09:10:41.506Z"
   },
   {
    "duration": 4,
    "start_time": "2023-03-03T09:10:44.693Z"
   },
   {
    "duration": 47010,
    "start_time": "2023-03-03T09:11:29.993Z"
   },
   {
    "duration": 1607,
    "start_time": "2023-03-03T09:12:19.728Z"
   },
   {
    "duration": 4,
    "start_time": "2023-03-03T09:12:24.005Z"
   },
   {
    "duration": 33474,
    "start_time": "2023-03-03T09:12:33.481Z"
   },
   {
    "duration": 1204,
    "start_time": "2023-03-03T09:16:30.054Z"
   },
   {
    "duration": 4,
    "start_time": "2023-03-03T09:16:33.760Z"
   },
   {
    "duration": 15422,
    "start_time": "2023-03-03T09:17:12.961Z"
   },
   {
    "duration": 634139,
    "start_time": "2023-03-03T09:18:10.455Z"
   },
   {
    "duration": 45296,
    "start_time": "2023-03-03T09:29:01.107Z"
   },
   {
    "duration": 1510,
    "start_time": "2023-03-03T09:32:38.493Z"
   },
   {
    "duration": 5,
    "start_time": "2023-03-03T09:32:42.253Z"
   },
   {
    "duration": 607887,
    "start_time": "2023-03-03T09:33:01.872Z"
   },
   {
    "duration": 39017,
    "start_time": "2023-03-03T09:43:53.221Z"
   },
   {
    "duration": 1053,
    "start_time": "2023-03-03T09:44:37.100Z"
   },
   {
    "duration": 4,
    "start_time": "2023-03-03T09:44:40.793Z"
   },
   {
    "duration": 45164,
    "start_time": "2023-03-03T09:44:58.485Z"
   },
   {
    "duration": 1391,
    "start_time": "2023-03-03T09:45:47.505Z"
   },
   {
    "duration": 4,
    "start_time": "2023-03-03T09:45:50.956Z"
   },
   {
    "duration": 615218,
    "start_time": "2023-03-03T09:53:00.893Z"
   },
   {
    "duration": 17,
    "start_time": "2023-03-03T10:15:44.971Z"
   },
   {
    "duration": 77,
    "start_time": "2023-03-03T10:15:47.263Z"
   },
   {
    "duration": 209,
    "start_time": "2023-03-03T10:16:20.612Z"
   },
   {
    "duration": 155,
    "start_time": "2023-03-03T10:16:30.033Z"
   },
   {
    "duration": 76,
    "start_time": "2023-03-03T10:16:49.004Z"
   },
   {
    "duration": 57,
    "start_time": "2023-03-03T10:18:02.631Z"
   },
   {
    "duration": 60,
    "start_time": "2023-03-03T10:19:21.615Z"
   },
   {
    "duration": 64,
    "start_time": "2023-03-03T10:19:27.659Z"
   },
   {
    "duration": 22,
    "start_time": "2023-03-03T10:20:18.182Z"
   },
   {
    "duration": 54,
    "start_time": "2023-03-03T10:20:51.291Z"
   },
   {
    "duration": 55,
    "start_time": "2023-03-03T10:20:57.578Z"
   },
   {
    "duration": 81,
    "start_time": "2023-03-03T10:21:02.110Z"
   },
   {
    "duration": 1364,
    "start_time": "2023-03-03T10:30:32.786Z"
   },
   {
    "duration": 957,
    "start_time": "2023-03-03T10:30:34.152Z"
   },
   {
    "duration": 942,
    "start_time": "2023-03-03T10:30:35.111Z"
   },
   {
    "duration": 92,
    "start_time": "2023-03-03T10:30:36.055Z"
   },
   {
    "duration": 177,
    "start_time": "2023-03-03T10:30:36.149Z"
   },
   {
    "duration": 197,
    "start_time": "2023-03-03T10:30:36.328Z"
   },
   {
    "duration": 126,
    "start_time": "2023-03-03T10:30:36.527Z"
   },
   {
    "duration": 176,
    "start_time": "2023-03-03T10:30:36.655Z"
   },
   {
    "duration": 408,
    "start_time": "2023-03-03T10:30:36.832Z"
   },
   {
    "duration": 786,
    "start_time": "2023-03-03T10:30:37.242Z"
   },
   {
    "duration": 39,
    "start_time": "2023-03-03T10:30:38.030Z"
   },
   {
    "duration": 85,
    "start_time": "2023-03-03T10:30:38.071Z"
   },
   {
    "duration": 19,
    "start_time": "2023-03-03T10:30:38.158Z"
   },
   {
    "duration": 31,
    "start_time": "2023-03-03T10:30:38.179Z"
   },
   {
    "duration": 49,
    "start_time": "2023-03-03T10:30:38.212Z"
   },
   {
    "duration": 34,
    "start_time": "2023-03-03T10:30:38.263Z"
   },
   {
    "duration": 49,
    "start_time": "2023-03-03T10:30:38.298Z"
   },
   {
    "duration": 42,
    "start_time": "2023-03-03T10:30:38.348Z"
   },
   {
    "duration": 30,
    "start_time": "2023-03-03T10:30:38.392Z"
   },
   {
    "duration": 73,
    "start_time": "2023-03-03T10:30:38.423Z"
   },
   {
    "duration": 496,
    "start_time": "2023-03-03T10:30:38.498Z"
   },
   {
    "duration": 11,
    "start_time": "2023-03-03T10:30:38.996Z"
   },
   {
    "duration": 12,
    "start_time": "2023-03-03T10:30:39.008Z"
   },
   {
    "duration": 32,
    "start_time": "2023-03-03T10:30:39.021Z"
   },
   {
    "duration": 55,
    "start_time": "2023-03-03T10:30:39.055Z"
   },
   {
    "duration": 351,
    "start_time": "2023-03-03T10:30:39.112Z"
   },
   {
    "duration": 135,
    "start_time": "2023-03-03T10:30:39.465Z"
   },
   {
    "duration": 3,
    "start_time": "2023-03-03T10:30:39.601Z"
   },
   {
    "duration": 582323,
    "start_time": "2023-03-03T10:30:39.606Z"
   },
   {
    "duration": 46851,
    "start_time": "2023-03-03T10:40:21.931Z"
   },
   {
    "duration": 1466,
    "start_time": "2023-03-03T10:41:08.783Z"
   },
   {
    "duration": 113,
    "start_time": "2023-03-03T10:41:10.250Z"
   },
   {
    "duration": 0,
    "start_time": "2023-03-03T10:41:10.364Z"
   },
   {
    "duration": 0,
    "start_time": "2023-03-03T10:41:10.366Z"
   },
   {
    "duration": 0,
    "start_time": "2023-03-03T10:41:10.367Z"
   },
   {
    "duration": 0,
    "start_time": "2023-03-03T10:41:10.367Z"
   },
   {
    "duration": 0,
    "start_time": "2023-03-03T10:41:10.368Z"
   },
   {
    "duration": 0,
    "start_time": "2023-03-03T10:41:10.369Z"
   },
   {
    "duration": 0,
    "start_time": "2023-03-03T10:41:10.370Z"
   },
   {
    "duration": 0,
    "start_time": "2023-03-03T10:41:10.371Z"
   },
   {
    "duration": 17,
    "start_time": "2023-03-03T10:45:38.028Z"
   },
   {
    "duration": 5,
    "start_time": "2023-03-03T10:45:54.261Z"
   },
   {
    "duration": 593768,
    "start_time": "2023-03-03T10:45:59.970Z"
   },
   {
    "duration": 5,
    "start_time": "2023-03-03T10:59:14.535Z"
   },
   {
    "duration": 24,
    "start_time": "2023-03-03T10:59:21.014Z"
   },
   {
    "duration": 50549,
    "start_time": "2023-03-03T10:59:41.275Z"
   },
   {
    "duration": 78,
    "start_time": "2023-03-03T11:14:26.532Z"
   },
   {
    "duration": 66,
    "start_time": "2023-03-03T11:14:28.450Z"
   },
   {
    "duration": 8,
    "start_time": "2023-03-03T11:14:39.044Z"
   },
   {
    "duration": 2,
    "start_time": "2023-03-03T11:15:19.368Z"
   },
   {
    "duration": 25,
    "start_time": "2023-03-03T11:15:20.482Z"
   },
   {
    "duration": 1295,
    "start_time": "2023-03-03T11:15:31.465Z"
   },
   {
    "duration": 1282,
    "start_time": "2023-03-03T11:17:07.268Z"
   },
   {
    "duration": 2,
    "start_time": "2023-03-03T11:18:16.734Z"
   },
   {
    "duration": 1265,
    "start_time": "2023-03-03T11:18:18.372Z"
   },
   {
    "duration": 3,
    "start_time": "2023-03-03T11:23:25.185Z"
   },
   {
    "duration": 10,
    "start_time": "2023-03-03T11:23:59.649Z"
   },
   {
    "duration": 17,
    "start_time": "2023-03-03T11:24:37.624Z"
   },
   {
    "duration": 10,
    "start_time": "2023-03-03T11:24:43.261Z"
   },
   {
    "duration": 10,
    "start_time": "2023-03-03T11:25:01.615Z"
   },
   {
    "duration": 13,
    "start_time": "2023-03-03T11:25:05.936Z"
   },
   {
    "duration": 11,
    "start_time": "2023-03-03T11:25:29.459Z"
   },
   {
    "duration": 11,
    "start_time": "2023-03-03T11:25:34.358Z"
   },
   {
    "duration": 12,
    "start_time": "2023-03-03T11:25:36.951Z"
   },
   {
    "duration": 19,
    "start_time": "2023-03-03T11:25:55.386Z"
   },
   {
    "duration": 25,
    "start_time": "2023-03-03T11:26:30.783Z"
   },
   {
    "duration": 28,
    "start_time": "2023-03-03T11:26:42.896Z"
   },
   {
    "duration": 14,
    "start_time": "2023-03-03T11:26:54.549Z"
   },
   {
    "duration": 273,
    "start_time": "2023-03-03T11:26:58.261Z"
   },
   {
    "duration": 119,
    "start_time": "2023-03-03T11:27:00.998Z"
   },
   {
    "duration": 11,
    "start_time": "2023-03-03T11:27:06.983Z"
   },
   {
    "duration": 3,
    "start_time": "2023-03-03T11:27:11.687Z"
   },
   {
    "duration": 1279,
    "start_time": "2023-03-03T11:27:13.376Z"
   },
   {
    "duration": 11,
    "start_time": "2023-03-03T11:28:22.439Z"
   },
   {
    "duration": 255,
    "start_time": "2023-03-03T11:29:03.684Z"
   },
   {
    "duration": 14,
    "start_time": "2023-03-03T11:29:16.054Z"
   },
   {
    "duration": 12,
    "start_time": "2023-03-03T11:29:34.625Z"
   },
   {
    "duration": 4,
    "start_time": "2023-03-03T11:29:58.383Z"
   },
   {
    "duration": 771,
    "start_time": "2023-03-03T11:30:00.535Z"
   },
   {
    "duration": 1269,
    "start_time": "2023-03-03T11:30:06.493Z"
   },
   {
    "duration": 833,
    "start_time": "2023-03-03T11:30:07.764Z"
   },
   {
    "duration": 832,
    "start_time": "2023-03-03T11:30:08.599Z"
   },
   {
    "duration": 85,
    "start_time": "2023-03-03T11:30:09.432Z"
   },
   {
    "duration": 172,
    "start_time": "2023-03-03T11:30:09.518Z"
   },
   {
    "duration": 175,
    "start_time": "2023-03-03T11:30:09.691Z"
   },
   {
    "duration": 108,
    "start_time": "2023-03-03T11:30:09.867Z"
   },
   {
    "duration": 169,
    "start_time": "2023-03-03T11:30:09.977Z"
   },
   {
    "duration": 393,
    "start_time": "2023-03-03T11:30:10.149Z"
   },
   {
    "duration": 866,
    "start_time": "2023-03-03T11:30:10.544Z"
   },
   {
    "duration": 42,
    "start_time": "2023-03-03T11:30:11.412Z"
   },
   {
    "duration": 60,
    "start_time": "2023-03-03T11:30:11.456Z"
   },
   {
    "duration": 34,
    "start_time": "2023-03-03T11:30:11.517Z"
   },
   {
    "duration": 31,
    "start_time": "2023-03-03T11:30:11.552Z"
   },
   {
    "duration": 30,
    "start_time": "2023-03-03T11:30:11.584Z"
   },
   {
    "duration": 47,
    "start_time": "2023-03-03T11:30:11.616Z"
   },
   {
    "duration": 31,
    "start_time": "2023-03-03T11:30:11.664Z"
   },
   {
    "duration": 56,
    "start_time": "2023-03-03T11:30:11.696Z"
   },
   {
    "duration": 30,
    "start_time": "2023-03-03T11:30:11.754Z"
   },
   {
    "duration": 73,
    "start_time": "2023-03-03T11:30:11.785Z"
   },
   {
    "duration": 507,
    "start_time": "2023-03-03T11:30:11.860Z"
   },
   {
    "duration": 12,
    "start_time": "2023-03-03T11:30:12.368Z"
   },
   {
    "duration": 14,
    "start_time": "2023-03-03T11:30:12.382Z"
   },
   {
    "duration": 43,
    "start_time": "2023-03-03T11:30:12.398Z"
   },
   {
    "duration": 15,
    "start_time": "2023-03-03T11:30:12.443Z"
   },
   {
    "duration": 52,
    "start_time": "2023-03-03T11:30:12.460Z"
   },
   {
    "duration": 321,
    "start_time": "2023-03-03T11:30:12.516Z"
   },
   {
    "duration": 122,
    "start_time": "2023-03-03T11:30:12.840Z"
   },
   {
    "duration": 2,
    "start_time": "2023-03-03T11:30:12.963Z"
   },
   {
    "duration": 47363,
    "start_time": "2023-03-03T11:30:12.967Z"
   },
   {
    "duration": 31246,
    "start_time": "2023-03-03T11:31:00.331Z"
   },
   {
    "duration": 58,
    "start_time": "2023-03-03T11:31:31.578Z"
   },
   {
    "duration": 8,
    "start_time": "2023-03-03T11:31:31.637Z"
   },
   {
    "duration": 0,
    "start_time": "2023-03-03T11:31:31.646Z"
   },
   {
    "duration": 0,
    "start_time": "2023-03-03T11:31:31.647Z"
   },
   {
    "duration": 0,
    "start_time": "2023-03-03T11:31:31.649Z"
   },
   {
    "duration": 0,
    "start_time": "2023-03-03T11:31:31.650Z"
   },
   {
    "duration": 0,
    "start_time": "2023-03-03T11:31:31.651Z"
   },
   {
    "duration": 0,
    "start_time": "2023-03-03T11:31:31.652Z"
   },
   {
    "duration": 0,
    "start_time": "2023-03-03T11:31:31.653Z"
   },
   {
    "duration": 0,
    "start_time": "2023-03-03T11:31:31.654Z"
   },
   {
    "duration": 0,
    "start_time": "2023-03-03T11:31:31.656Z"
   },
   {
    "duration": 12,
    "start_time": "2023-03-03T11:31:44.827Z"
   },
   {
    "duration": 6,
    "start_time": "2023-03-03T11:31:52.571Z"
   },
   {
    "duration": 696,
    "start_time": "2023-03-03T11:31:54.505Z"
   },
   {
    "duration": 685,
    "start_time": "2023-03-03T11:31:57.791Z"
   },
   {
    "duration": 76,
    "start_time": "2023-03-03T11:32:00.713Z"
   },
   {
    "duration": 252,
    "start_time": "2023-03-03T11:32:02.766Z"
   },
   {
    "duration": 141,
    "start_time": "2023-03-03T11:32:05.136Z"
   },
   {
    "duration": 86,
    "start_time": "2023-03-03T11:32:07.440Z"
   },
   {
    "duration": 151,
    "start_time": "2023-03-03T11:32:09.429Z"
   },
   {
    "duration": 358,
    "start_time": "2023-03-03T11:32:13.799Z"
   },
   {
    "duration": 771,
    "start_time": "2023-03-03T11:32:15.847Z"
   },
   {
    "duration": 32,
    "start_time": "2023-03-03T11:32:17.660Z"
   },
   {
    "duration": 59,
    "start_time": "2023-03-03T11:32:18.930Z"
   },
   {
    "duration": 19,
    "start_time": "2023-03-03T11:32:20.852Z"
   },
   {
    "duration": 35,
    "start_time": "2023-03-03T11:32:22.590Z"
   },
   {
    "duration": 31,
    "start_time": "2023-03-03T11:32:23.860Z"
   },
   {
    "duration": 34,
    "start_time": "2023-03-03T11:32:26.031Z"
   },
   {
    "duration": 32,
    "start_time": "2023-03-03T11:32:28.502Z"
   },
   {
    "duration": 43,
    "start_time": "2023-03-03T11:32:29.615Z"
   },
   {
    "duration": 32,
    "start_time": "2023-03-03T11:32:30.686Z"
   },
   {
    "duration": 74,
    "start_time": "2023-03-03T11:32:32.449Z"
   },
   {
    "duration": 12,
    "start_time": "2023-03-03T11:32:35.124Z"
   },
   {
    "duration": 520,
    "start_time": "2023-03-03T11:33:08.039Z"
   },
   {
    "duration": 60,
    "start_time": "2023-03-03T11:33:13.858Z"
   },
   {
    "duration": 14,
    "start_time": "2023-03-03T11:33:16.425Z"
   },
   {
    "duration": 11,
    "start_time": "2023-03-03T11:33:21.570Z"
   },
   {
    "duration": 15,
    "start_time": "2023-03-03T11:33:26.946Z"
   },
   {
    "duration": 572,
    "start_time": "2023-03-03T11:33:37.176Z"
   },
   {
    "duration": 17,
    "start_time": "2023-03-03T11:33:43.918Z"
   },
   {
    "duration": 23,
    "start_time": "2023-03-03T11:33:45.526Z"
   },
   {
    "duration": 43,
    "start_time": "2023-03-03T11:33:47.742Z"
   },
   {
    "duration": 267,
    "start_time": "2023-03-03T11:33:51.698Z"
   },
   {
    "duration": 126,
    "start_time": "2023-03-03T11:33:55.543Z"
   },
   {
    "duration": 1949,
    "start_time": "2023-03-03T11:34:28.968Z"
   },
   {
    "duration": 834,
    "start_time": "2023-03-03T11:34:30.919Z"
   },
   {
    "duration": 822,
    "start_time": "2023-03-03T11:34:31.755Z"
   },
   {
    "duration": 91,
    "start_time": "2023-03-03T11:34:32.579Z"
   },
   {
    "duration": 163,
    "start_time": "2023-03-03T11:34:32.672Z"
   },
   {
    "duration": 160,
    "start_time": "2023-03-03T11:34:32.840Z"
   },
   {
    "duration": 104,
    "start_time": "2023-03-03T11:34:33.002Z"
   },
   {
    "duration": 165,
    "start_time": "2023-03-03T11:34:33.107Z"
   },
   {
    "duration": 421,
    "start_time": "2023-03-03T11:34:33.274Z"
   },
   {
    "duration": 897,
    "start_time": "2023-03-03T11:34:33.697Z"
   },
   {
    "duration": 46,
    "start_time": "2023-03-03T11:34:34.597Z"
   },
   {
    "duration": 69,
    "start_time": "2023-03-03T11:34:34.645Z"
   },
   {
    "duration": 36,
    "start_time": "2023-03-03T11:34:34.716Z"
   },
   {
    "duration": 35,
    "start_time": "2023-03-03T11:34:34.755Z"
   },
   {
    "duration": 36,
    "start_time": "2023-03-03T11:34:34.791Z"
   },
   {
    "duration": 42,
    "start_time": "2023-03-03T11:34:34.840Z"
   },
   {
    "duration": 37,
    "start_time": "2023-03-03T11:34:34.883Z"
   },
   {
    "duration": 62,
    "start_time": "2023-03-03T11:34:34.921Z"
   },
   {
    "duration": 35,
    "start_time": "2023-03-03T11:34:34.985Z"
   },
   {
    "duration": 82,
    "start_time": "2023-03-03T11:34:35.021Z"
   },
   {
    "duration": 13,
    "start_time": "2023-03-03T11:34:35.104Z"
   },
   {
    "duration": 592,
    "start_time": "2023-03-03T11:34:35.118Z"
   },
   {
    "duration": 10,
    "start_time": "2023-03-03T11:34:35.712Z"
   },
   {
    "duration": 18,
    "start_time": "2023-03-03T11:34:35.724Z"
   },
   {
    "duration": 18,
    "start_time": "2023-03-03T11:34:35.743Z"
   },
   {
    "duration": 43,
    "start_time": "2023-03-03T11:34:35.762Z"
   },
   {
    "duration": 313,
    "start_time": "2023-03-03T11:34:35.806Z"
   },
   {
    "duration": 137,
    "start_time": "2023-03-03T11:34:36.120Z"
   },
   {
    "duration": 3,
    "start_time": "2023-03-03T11:34:36.258Z"
   },
   {
    "duration": 19211,
    "start_time": "2023-03-03T11:34:36.263Z"
   },
   {
    "duration": 41433,
    "start_time": "2023-03-03T11:34:55.476Z"
   },
   {
    "duration": 1332,
    "start_time": "2023-03-03T11:35:36.911Z"
   },
   {
    "duration": 5,
    "start_time": "2023-03-03T11:35:38.245Z"
   },
   {
    "duration": 13120,
    "start_time": "2023-03-03T11:35:38.251Z"
   },
   {
    "duration": 47929,
    "start_time": "2023-03-03T11:35:51.373Z"
   },
   {
    "duration": 85,
    "start_time": "2023-03-03T11:36:39.304Z"
   },
   {
    "duration": 4,
    "start_time": "2023-03-03T11:36:39.391Z"
   },
   {
    "duration": 13,
    "start_time": "2023-03-03T11:36:39.397Z"
   },
   {
    "duration": 51096,
    "start_time": "2023-03-03T11:36:39.411Z"
   },
   {
    "duration": 156,
    "start_time": "2023-03-03T11:37:30.509Z"
   },
   {
    "duration": 44,
    "start_time": "2023-03-03T11:37:30.668Z"
   },
   {
    "duration": 4,
    "start_time": "2023-03-03T11:41:05.575Z"
   },
   {
    "duration": 12882,
    "start_time": "2023-03-03T12:18:10.919Z"
   },
   {
    "duration": 88245,
    "start_time": "2023-03-03T12:18:40.303Z"
   },
   {
    "duration": 14944,
    "start_time": "2023-03-03T12:21:20.801Z"
   },
   {
    "duration": 544,
    "start_time": "2023-03-03T12:22:51.804Z"
   },
   {
    "duration": 4,
    "start_time": "2023-03-03T12:23:25.018Z"
   },
   {
    "duration": 3,
    "start_time": "2023-03-03T12:29:38.038Z"
   },
   {
    "duration": 73,
    "start_time": "2023-03-03T12:31:31.059Z"
   },
   {
    "duration": 107,
    "start_time": "2023-03-03T12:31:50.053Z"
   },
   {
    "duration": 10875,
    "start_time": "2023-03-03T12:31:51.577Z"
   },
   {
    "duration": 21,
    "start_time": "2023-03-03T12:32:12.813Z"
   },
   {
    "duration": 6687,
    "start_time": "2023-03-03T12:32:16.957Z"
   },
   {
    "duration": 59,
    "start_time": "2023-03-03T12:32:28.370Z"
   },
   {
    "duration": 12,
    "start_time": "2023-03-03T12:32:35.320Z"
   },
   {
    "duration": 6551,
    "start_time": "2023-03-03T12:32:36.993Z"
   },
   {
    "duration": 52,
    "start_time": "2023-03-03T12:32:57.560Z"
   },
   {
    "duration": 60,
    "start_time": "2023-03-03T12:33:54.017Z"
   },
   {
    "duration": 8,
    "start_time": "2023-03-03T12:33:57.313Z"
   },
   {
    "duration": 6559,
    "start_time": "2023-03-03T12:33:58.488Z"
   },
   {
    "duration": 68,
    "start_time": "2023-03-03T12:34:11.313Z"
   },
   {
    "duration": 2593,
    "start_time": "2023-03-03T12:34:55.067Z"
   },
   {
    "duration": 57,
    "start_time": "2023-03-03T12:35:43.784Z"
   },
   {
    "duration": 2583,
    "start_time": "2023-03-03T12:35:52.894Z"
   },
   {
    "duration": 2635,
    "start_time": "2023-03-03T12:40:04.437Z"
   },
   {
    "duration": 5,
    "start_time": "2023-03-03T12:40:09.089Z"
   },
   {
    "duration": 1271,
    "start_time": "2023-03-03T12:41:54.770Z"
   },
   {
    "duration": 822,
    "start_time": "2023-03-03T12:41:56.043Z"
   },
   {
    "duration": 791,
    "start_time": "2023-03-03T12:41:56.866Z"
   },
   {
    "duration": 85,
    "start_time": "2023-03-03T12:41:57.659Z"
   },
   {
    "duration": 155,
    "start_time": "2023-03-03T12:41:57.746Z"
   },
   {
    "duration": 168,
    "start_time": "2023-03-03T12:41:57.903Z"
   },
   {
    "duration": 100,
    "start_time": "2023-03-03T12:41:58.072Z"
   },
   {
    "duration": 167,
    "start_time": "2023-03-03T12:41:58.174Z"
   },
   {
    "duration": 400,
    "start_time": "2023-03-03T12:41:58.342Z"
   },
   {
    "duration": 797,
    "start_time": "2023-03-03T12:41:58.745Z"
   },
   {
    "duration": 36,
    "start_time": "2023-03-03T12:41:59.543Z"
   },
   {
    "duration": 107,
    "start_time": "2023-03-03T12:41:59.580Z"
   },
   {
    "duration": 18,
    "start_time": "2023-03-03T12:41:59.688Z"
   },
   {
    "duration": 60,
    "start_time": "2023-03-03T12:41:59.708Z"
   },
   {
    "duration": 30,
    "start_time": "2023-03-03T12:41:59.770Z"
   },
   {
    "duration": 47,
    "start_time": "2023-03-03T12:41:59.802Z"
   },
   {
    "duration": 32,
    "start_time": "2023-03-03T12:41:59.850Z"
   },
   {
    "duration": 42,
    "start_time": "2023-03-03T12:41:59.883Z"
   },
   {
    "duration": 41,
    "start_time": "2023-03-03T12:41:59.926Z"
   },
   {
    "duration": 75,
    "start_time": "2023-03-03T12:41:59.969Z"
   },
   {
    "duration": 11,
    "start_time": "2023-03-03T12:42:00.045Z"
   },
   {
    "duration": 517,
    "start_time": "2023-03-03T12:42:00.057Z"
   },
   {
    "duration": 12,
    "start_time": "2023-03-03T12:42:00.575Z"
   },
   {
    "duration": 31,
    "start_time": "2023-03-03T12:42:00.588Z"
   },
   {
    "duration": 64,
    "start_time": "2023-03-03T12:42:00.620Z"
   },
   {
    "duration": 42,
    "start_time": "2023-03-03T12:42:00.686Z"
   },
   {
    "duration": 302,
    "start_time": "2023-03-03T12:42:00.729Z"
   },
   {
    "duration": 136,
    "start_time": "2023-03-03T12:42:01.034Z"
   },
   {
    "duration": 2,
    "start_time": "2023-03-03T12:42:01.172Z"
   },
   {
    "duration": 2603,
    "start_time": "2023-03-03T12:42:01.176Z"
   },
   {
    "duration": 12487,
    "start_time": "2023-03-03T12:42:03.781Z"
   },
   {
    "duration": 59,
    "start_time": "2023-03-03T12:42:16.270Z"
   },
   {
    "duration": 8,
    "start_time": "2023-03-03T12:42:16.331Z"
   },
   {
    "duration": 0,
    "start_time": "2023-03-03T12:42:16.340Z"
   },
   {
    "duration": 0,
    "start_time": "2023-03-03T12:42:16.341Z"
   },
   {
    "duration": 0,
    "start_time": "2023-03-03T12:42:16.342Z"
   },
   {
    "duration": 0,
    "start_time": "2023-03-03T12:42:16.343Z"
   },
   {
    "duration": 0,
    "start_time": "2023-03-03T12:42:16.344Z"
   },
   {
    "duration": 0,
    "start_time": "2023-03-03T12:42:16.345Z"
   },
   {
    "duration": 0,
    "start_time": "2023-03-03T12:42:16.346Z"
   },
   {
    "duration": 0,
    "start_time": "2023-03-03T12:42:16.347Z"
   },
   {
    "duration": 0,
    "start_time": "2023-03-03T12:42:16.348Z"
   },
   {
    "duration": 0,
    "start_time": "2023-03-03T12:42:16.349Z"
   },
   {
    "duration": 0,
    "start_time": "2023-03-03T12:42:16.349Z"
   },
   {
    "duration": 0,
    "start_time": "2023-03-03T12:42:16.350Z"
   },
   {
    "duration": 0,
    "start_time": "2023-03-03T12:42:16.351Z"
   },
   {
    "duration": 0,
    "start_time": "2023-03-03T12:42:16.352Z"
   },
   {
    "duration": 0,
    "start_time": "2023-03-03T12:42:16.352Z"
   },
   {
    "duration": 0,
    "start_time": "2023-03-03T12:42:16.353Z"
   },
   {
    "duration": 1380,
    "start_time": "2023-03-03T12:43:56.018Z"
   },
   {
    "duration": 800,
    "start_time": "2023-03-03T12:43:57.400Z"
   },
   {
    "duration": 789,
    "start_time": "2023-03-03T12:43:58.202Z"
   },
   {
    "duration": 88,
    "start_time": "2023-03-03T12:43:58.992Z"
   },
   {
    "duration": 180,
    "start_time": "2023-03-03T12:43:59.082Z"
   },
   {
    "duration": 182,
    "start_time": "2023-03-03T12:43:59.264Z"
   },
   {
    "duration": 98,
    "start_time": "2023-03-03T12:43:59.447Z"
   },
   {
    "duration": 215,
    "start_time": "2023-03-03T12:43:59.547Z"
   },
   {
    "duration": 400,
    "start_time": "2023-03-03T12:43:59.763Z"
   },
   {
    "duration": 888,
    "start_time": "2023-03-03T12:44:00.165Z"
   },
   {
    "duration": 42,
    "start_time": "2023-03-03T12:44:01.055Z"
   },
   {
    "duration": 106,
    "start_time": "2023-03-03T12:44:01.099Z"
   },
   {
    "duration": 20,
    "start_time": "2023-03-03T12:44:01.206Z"
   },
   {
    "duration": 68,
    "start_time": "2023-03-03T12:44:01.229Z"
   },
   {
    "duration": 37,
    "start_time": "2023-03-03T12:44:01.298Z"
   },
   {
    "duration": 50,
    "start_time": "2023-03-03T12:44:01.336Z"
   },
   {
    "duration": 33,
    "start_time": "2023-03-03T12:44:01.387Z"
   },
   {
    "duration": 67,
    "start_time": "2023-03-03T12:44:01.422Z"
   },
   {
    "duration": 54,
    "start_time": "2023-03-03T12:44:01.491Z"
   },
   {
    "duration": 98,
    "start_time": "2023-03-03T12:44:01.546Z"
   },
   {
    "duration": 13,
    "start_time": "2023-03-03T12:44:01.646Z"
   },
   {
    "duration": 573,
    "start_time": "2023-03-03T12:44:01.660Z"
   },
   {
    "duration": 14,
    "start_time": "2023-03-03T12:44:02.235Z"
   },
   {
    "duration": 12,
    "start_time": "2023-03-03T12:44:02.251Z"
   },
   {
    "duration": 21,
    "start_time": "2023-03-03T12:44:02.264Z"
   },
   {
    "duration": 63,
    "start_time": "2023-03-03T12:44:02.286Z"
   },
   {
    "duration": 321,
    "start_time": "2023-03-03T12:44:02.351Z"
   },
   {
    "duration": 147,
    "start_time": "2023-03-03T12:44:02.674Z"
   },
   {
    "duration": 3,
    "start_time": "2023-03-03T12:44:02.822Z"
   },
   {
    "duration": 559918,
    "start_time": "2023-03-03T12:44:02.826Z"
   },
   {
    "duration": 44783,
    "start_time": "2023-03-03T12:53:22.745Z"
   },
   {
    "duration": 4214,
    "start_time": "2023-03-03T12:54:07.529Z"
   },
   {
    "duration": 7,
    "start_time": "2023-03-03T12:54:11.745Z"
   },
   {
    "duration": 582673,
    "start_time": "2023-03-03T12:54:11.753Z"
   },
   {
    "duration": 50759,
    "start_time": "2023-03-03T13:03:54.428Z"
   },
   {
    "duration": 235,
    "start_time": "2023-03-03T13:04:45.189Z"
   },
   {
    "duration": 6,
    "start_time": "2023-03-03T13:04:45.426Z"
   },
   {
    "duration": 3,
    "start_time": "2023-03-03T13:04:45.440Z"
   },
   {
    "duration": 54937,
    "start_time": "2023-03-03T13:04:45.444Z"
   },
   {
    "duration": 492,
    "start_time": "2023-03-03T13:05:40.384Z"
   },
   {
    "duration": 5,
    "start_time": "2023-03-03T13:05:40.880Z"
   },
   {
    "duration": 663461,
    "start_time": "2023-03-03T13:05:40.886Z"
   },
   {
    "duration": 4692,
    "start_time": "2023-03-03T13:16:44.348Z"
   },
   {
    "duration": 1834,
    "start_time": "2023-03-03T13:16:49.042Z"
   },
   {
    "duration": 4,
    "start_time": "2023-03-03T13:16:50.878Z"
   },
   {
    "duration": 108,
    "start_time": "2023-03-03T13:16:50.940Z"
   },
   {
    "duration": 8301,
    "start_time": "2023-03-03T13:16:51.050Z"
   },
   {
    "duration": 2621,
    "start_time": "2023-03-03T13:16:59.352Z"
   },
   {
    "duration": 5,
    "start_time": "2023-03-03T13:17:01.975Z"
   },
   {
    "duration": 2,
    "start_time": "2023-03-03T13:30:48.456Z"
   },
   {
    "duration": 121,
    "start_time": "2023-03-03T13:35:36.858Z"
   },
   {
    "duration": 5,
    "start_time": "2023-03-03T13:36:11.505Z"
   },
   {
    "duration": 17,
    "start_time": "2023-03-03T13:36:17.237Z"
   },
   {
    "duration": 14,
    "start_time": "2023-03-03T13:36:37.582Z"
   },
   {
    "duration": 8,
    "start_time": "2023-03-03T13:36:43.502Z"
   },
   {
    "duration": 13,
    "start_time": "2023-03-03T13:36:57.770Z"
   },
   {
    "duration": 64928,
    "start_time": "2023-03-03T13:43:51.074Z"
   },
   {
    "duration": 221185,
    "start_time": "2023-03-03T13:45:00.021Z"
   },
   {
    "duration": 49,
    "start_time": "2023-03-03T14:01:08.882Z"
   },
   {
    "duration": 11,
    "start_time": "2023-03-03T14:01:21.291Z"
   },
   {
    "duration": 10,
    "start_time": "2023-03-03T14:02:12.207Z"
   },
   {
    "duration": 1450,
    "start_time": "2023-03-03T14:03:59.139Z"
   },
   {
    "duration": 885,
    "start_time": "2023-03-03T14:04:00.591Z"
   },
   {
    "duration": 943,
    "start_time": "2023-03-03T14:04:01.478Z"
   },
   {
    "duration": 120,
    "start_time": "2023-03-03T14:04:02.423Z"
   },
   {
    "duration": 223,
    "start_time": "2023-03-03T14:04:02.545Z"
   },
   {
    "duration": 190,
    "start_time": "2023-03-03T14:04:02.770Z"
   },
   {
    "duration": 117,
    "start_time": "2023-03-03T14:04:02.962Z"
   },
   {
    "duration": 187,
    "start_time": "2023-03-03T14:04:03.081Z"
   },
   {
    "duration": 430,
    "start_time": "2023-03-03T14:04:03.269Z"
   },
   {
    "duration": 871,
    "start_time": "2023-03-03T14:04:03.701Z"
   },
   {
    "duration": 35,
    "start_time": "2023-03-03T14:04:04.573Z"
   },
   {
    "duration": 73,
    "start_time": "2023-03-03T14:04:04.611Z"
   },
   {
    "duration": 20,
    "start_time": "2023-03-03T14:04:04.686Z"
   },
   {
    "duration": 46,
    "start_time": "2023-03-03T14:04:04.707Z"
   },
   {
    "duration": 33,
    "start_time": "2023-03-03T14:04:04.754Z"
   },
   {
    "duration": 60,
    "start_time": "2023-03-03T14:04:04.788Z"
   },
   {
    "duration": 34,
    "start_time": "2023-03-03T14:04:04.850Z"
   },
   {
    "duration": 63,
    "start_time": "2023-03-03T14:04:04.885Z"
   },
   {
    "duration": 33,
    "start_time": "2023-03-03T14:04:04.950Z"
   },
   {
    "duration": 77,
    "start_time": "2023-03-03T14:04:04.985Z"
   },
   {
    "duration": 12,
    "start_time": "2023-03-03T14:04:05.064Z"
   },
   {
    "duration": 574,
    "start_time": "2023-03-03T14:04:05.078Z"
   },
   {
    "duration": 12,
    "start_time": "2023-03-03T14:04:05.654Z"
   },
   {
    "duration": 13,
    "start_time": "2023-03-03T14:04:05.668Z"
   },
   {
    "duration": 22,
    "start_time": "2023-03-03T14:04:05.683Z"
   },
   {
    "duration": 65,
    "start_time": "2023-03-03T14:04:05.707Z"
   },
   {
    "duration": 366,
    "start_time": "2023-03-03T14:04:05.774Z"
   },
   {
    "duration": 143,
    "start_time": "2023-03-03T14:04:06.143Z"
   },
   {
    "duration": 3,
    "start_time": "2023-03-03T14:04:06.288Z"
   },
   {
    "duration": 613239,
    "start_time": "2023-03-03T14:04:06.292Z"
   },
   {
    "duration": 47520,
    "start_time": "2023-03-03T14:14:19.532Z"
   },
   {
    "duration": 4434,
    "start_time": "2023-03-03T14:15:07.054Z"
   },
   {
    "duration": 6,
    "start_time": "2023-03-03T14:15:11.490Z"
   },
   {
    "duration": 661117,
    "start_time": "2023-03-03T14:15:11.498Z"
   },
   {
    "duration": 56752,
    "start_time": "2023-03-03T14:26:12.617Z"
   },
   {
    "duration": 250,
    "start_time": "2023-03-03T14:27:09.374Z"
   },
   {
    "duration": 6,
    "start_time": "2023-03-03T14:27:09.626Z"
   },
   {
    "duration": 20,
    "start_time": "2023-03-03T14:27:09.640Z"
   },
   {
    "duration": 66275,
    "start_time": "2023-03-03T14:27:09.662Z"
   },
   {
    "duration": 802,
    "start_time": "2023-03-03T14:28:15.941Z"
   },
   {
    "duration": 6,
    "start_time": "2023-03-03T14:28:16.745Z"
   },
   {
    "duration": 1851828,
    "start_time": "2023-03-03T14:28:16.754Z"
   },
   {
    "duration": 107263,
    "start_time": "2023-03-03T14:59:08.584Z"
   },
   {
    "duration": 63,
    "start_time": "2023-03-03T15:00:55.852Z"
   },
   {
    "duration": 12,
    "start_time": "2023-03-03T15:00:55.917Z"
   },
   {
    "duration": 0,
    "start_time": "2023-03-03T15:00:55.931Z"
   },
   {
    "duration": 0,
    "start_time": "2023-03-03T15:00:55.932Z"
   },
   {
    "duration": 0,
    "start_time": "2023-03-03T15:00:55.933Z"
   },
   {
    "duration": 0,
    "start_time": "2023-03-03T15:00:55.935Z"
   },
   {
    "duration": 0,
    "start_time": "2023-03-03T15:00:55.936Z"
   },
   {
    "duration": 0,
    "start_time": "2023-03-03T15:00:55.937Z"
   },
   {
    "duration": 10971,
    "start_time": "2023-03-03T15:01:16.383Z"
   },
   {
    "duration": 24313,
    "start_time": "2023-03-03T15:01:30.493Z"
   },
   {
    "duration": 79,
    "start_time": "2023-03-03T15:02:00.250Z"
   },
   {
    "duration": 125,
    "start_time": "2023-03-03T15:02:06.886Z"
   },
   {
    "duration": 259378,
    "start_time": "2023-03-03T15:02:08.489Z"
   },
   {
    "duration": 2866,
    "start_time": "2023-03-03T15:06:38.311Z"
   },
   {
    "duration": 5,
    "start_time": "2023-03-03T15:06:43.185Z"
   },
   {
    "duration": 124090,
    "start_time": "2023-03-03T15:07:23.073Z"
   },
   {
    "duration": 1930,
    "start_time": "2023-03-03T15:12:18.433Z"
   },
   {
    "duration": 11,
    "start_time": "2023-03-03T15:12:56.943Z"
   },
   {
    "duration": 11,
    "start_time": "2023-03-03T15:17:10.239Z"
   },
   {
    "duration": 9,
    "start_time": "2023-03-03T15:17:14.084Z"
   },
   {
    "duration": 182,
    "start_time": "2023-03-03T15:27:37.891Z"
   },
   {
    "duration": 179,
    "start_time": "2023-03-03T15:41:35.871Z"
   },
   {
    "duration": 178,
    "start_time": "2023-03-03T15:41:47.549Z"
   },
   {
    "duration": 1413,
    "start_time": "2023-03-03T15:43:57.179Z"
   },
   {
    "duration": 900,
    "start_time": "2023-03-03T15:43:58.594Z"
   },
   {
    "duration": 925,
    "start_time": "2023-03-03T15:43:59.496Z"
   },
   {
    "duration": 106,
    "start_time": "2023-03-03T15:44:00.422Z"
   },
   {
    "duration": 199,
    "start_time": "2023-03-03T15:44:00.530Z"
   },
   {
    "duration": 191,
    "start_time": "2023-03-03T15:44:00.730Z"
   },
   {
    "duration": 134,
    "start_time": "2023-03-03T15:44:00.923Z"
   },
   {
    "duration": 204,
    "start_time": "2023-03-03T15:44:01.058Z"
   },
   {
    "duration": 460,
    "start_time": "2023-03-03T15:44:01.268Z"
   },
   {
    "duration": 969,
    "start_time": "2023-03-03T15:44:01.730Z"
   },
   {
    "duration": 59,
    "start_time": "2023-03-03T15:44:02.701Z"
   },
   {
    "duration": 69,
    "start_time": "2023-03-03T15:44:02.761Z"
   },
   {
    "duration": 32,
    "start_time": "2023-03-03T15:44:02.832Z"
   },
   {
    "duration": 48,
    "start_time": "2023-03-03T15:44:02.872Z"
   },
   {
    "duration": 42,
    "start_time": "2023-03-03T15:44:02.921Z"
   },
   {
    "duration": 40,
    "start_time": "2023-03-03T15:44:02.970Z"
   },
   {
    "duration": 58,
    "start_time": "2023-03-03T15:44:03.012Z"
   },
   {
    "duration": 47,
    "start_time": "2023-03-03T15:44:03.072Z"
   },
   {
    "duration": 59,
    "start_time": "2023-03-03T15:44:03.120Z"
   },
   {
    "duration": 83,
    "start_time": "2023-03-03T15:44:03.181Z"
   },
   {
    "duration": 12,
    "start_time": "2023-03-03T15:44:03.272Z"
   },
   {
    "duration": 624,
    "start_time": "2023-03-03T15:44:03.285Z"
   },
   {
    "duration": 12,
    "start_time": "2023-03-03T15:44:03.911Z"
   },
   {
    "duration": 28,
    "start_time": "2023-03-03T15:44:03.925Z"
   },
   {
    "duration": 48,
    "start_time": "2023-03-03T15:44:03.954Z"
   },
   {
    "duration": 58,
    "start_time": "2023-03-03T15:44:04.004Z"
   },
   {
    "duration": 351,
    "start_time": "2023-03-03T15:44:04.067Z"
   },
   {
    "duration": 162,
    "start_time": "2023-03-03T15:44:04.420Z"
   },
   {
    "duration": 3,
    "start_time": "2023-03-03T15:44:04.583Z"
   },
   {
    "duration": 654560,
    "start_time": "2023-03-03T15:44:04.587Z"
   },
   {
    "duration": 49102,
    "start_time": "2023-03-03T15:54:59.149Z"
   },
   {
    "duration": 4365,
    "start_time": "2023-03-03T15:55:48.253Z"
   },
   {
    "duration": 22,
    "start_time": "2023-03-03T15:55:52.620Z"
   },
   {
    "duration": 678408,
    "start_time": "2023-03-03T15:55:52.644Z"
   },
   {
    "duration": 58224,
    "start_time": "2023-03-03T16:07:11.067Z"
   },
   {
    "duration": 279,
    "start_time": "2023-03-03T16:08:09.293Z"
   },
   {
    "duration": 5,
    "start_time": "2023-03-03T16:08:09.575Z"
   },
   {
    "duration": 3,
    "start_time": "2023-03-03T16:08:09.582Z"
   },
   {
    "duration": 59338,
    "start_time": "2023-03-03T16:08:09.586Z"
   },
   {
    "duration": 538,
    "start_time": "2023-03-03T16:09:08.926Z"
   },
   {
    "duration": 5,
    "start_time": "2023-03-03T16:09:09.472Z"
   },
   {
    "duration": 2690876,
    "start_time": "2023-03-03T16:09:09.479Z"
   },
   {
    "duration": 116523,
    "start_time": "2023-03-03T16:54:00.356Z"
   },
   {
    "duration": 1978,
    "start_time": "2023-03-03T16:55:56.880Z"
   },
   {
    "duration": 7,
    "start_time": "2023-03-03T16:55:58.862Z"
   },
   {
    "duration": 153,
    "start_time": "2023-03-03T16:55:58.871Z"
   },
   {
    "duration": 176515,
    "start_time": "2023-03-03T16:55:59.026Z"
   },
   {
    "duration": 2627,
    "start_time": "2023-03-03T16:58:55.543Z"
   },
   {
    "duration": 5,
    "start_time": "2023-03-03T16:58:58.172Z"
   },
   {
    "duration": 8,
    "start_time": "2023-03-03T16:58:58.241Z"
   },
   {
    "duration": 25,
    "start_time": "2023-03-03T16:58:58.251Z"
   },
   {
    "duration": 182,
    "start_time": "2023-03-03T16:58:58.278Z"
   },
   {
    "duration": 10,
    "start_time": "2023-03-03T17:00:40.291Z"
   },
   {
    "duration": 2220,
    "start_time": "2023-03-04T18:35:55.486Z"
   },
   {
    "duration": 1657,
    "start_time": "2023-03-04T18:35:59.988Z"
   },
   {
    "duration": 1157,
    "start_time": "2023-03-04T18:36:04.191Z"
   },
   {
    "duration": 114,
    "start_time": "2023-03-04T18:36:08.327Z"
   },
   {
    "duration": 218,
    "start_time": "2023-03-04T18:36:10.689Z"
   },
   {
    "duration": 271,
    "start_time": "2023-03-04T18:36:13.452Z"
   },
   {
    "duration": 129,
    "start_time": "2023-03-04T18:36:15.812Z"
   },
   {
    "duration": 220,
    "start_time": "2023-03-04T18:36:18.078Z"
   },
   {
    "duration": 548,
    "start_time": "2023-03-04T18:36:21.477Z"
   },
   {
    "duration": 1049,
    "start_time": "2023-03-04T18:36:23.834Z"
   },
   {
    "duration": 37,
    "start_time": "2023-03-04T18:36:26.183Z"
   },
   {
    "duration": 108,
    "start_time": "2023-03-04T18:36:28.705Z"
   },
   {
    "duration": 34,
    "start_time": "2023-03-04T18:36:31.929Z"
   },
   {
    "duration": 23,
    "start_time": "2023-03-04T18:36:35.179Z"
   },
   {
    "duration": 68,
    "start_time": "2023-03-04T18:36:39.056Z"
   },
   {
    "duration": 59,
    "start_time": "2023-03-04T18:36:40.836Z"
   },
   {
    "duration": 50,
    "start_time": "2023-03-04T18:36:42.423Z"
   },
   {
    "duration": 57,
    "start_time": "2023-03-04T18:36:44.936Z"
   },
   {
    "duration": 68,
    "start_time": "2023-03-04T18:36:46.796Z"
   },
   {
    "duration": 55,
    "start_time": "2023-03-04T18:36:49.218Z"
   },
   {
    "duration": 103,
    "start_time": "2023-03-04T18:36:51.484Z"
   },
   {
    "duration": 28,
    "start_time": "2023-03-04T18:36:59.844Z"
   },
   {
    "duration": 103,
    "start_time": "2023-03-04T18:37:04.382Z"
   },
   {
    "duration": 459,
    "start_time": "2023-03-04T18:38:38.684Z"
   },
   {
    "duration": 481,
    "start_time": "2023-03-04T18:40:34.666Z"
   },
   {
    "duration": 207,
    "start_time": "2023-03-04T18:46:08.723Z"
   },
   {
    "duration": 135,
    "start_time": "2023-03-04T18:48:07.558Z"
   },
   {
    "duration": 141,
    "start_time": "2023-03-04T18:48:42.850Z"
   },
   {
    "duration": 215,
    "start_time": "2023-03-04T18:49:01.422Z"
   },
   {
    "duration": 9,
    "start_time": "2023-03-04T18:49:16.284Z"
   },
   {
    "duration": 5,
    "start_time": "2023-03-04T18:49:32.466Z"
   },
   {
    "duration": 13,
    "start_time": "2023-03-04T18:51:07.972Z"
   },
   {
    "duration": 39,
    "start_time": "2023-03-04T18:52:06.029Z"
   },
   {
    "duration": 9,
    "start_time": "2023-03-04T18:52:20.879Z"
   },
   {
    "duration": 4,
    "start_time": "2023-03-04T18:53:19.687Z"
   },
   {
    "duration": 25,
    "start_time": "2023-03-04T18:53:47.591Z"
   },
   {
    "duration": 4,
    "start_time": "2023-03-04T18:54:02.837Z"
   },
   {
    "duration": 4,
    "start_time": "2023-03-04T18:54:20.015Z"
   },
   {
    "duration": 11,
    "start_time": "2023-03-04T18:54:48.980Z"
   },
   {
    "duration": 3,
    "start_time": "2023-03-04T18:55:28.822Z"
   },
   {
    "duration": 479,
    "start_time": "2023-03-04T18:55:41.836Z"
   },
   {
    "duration": 11,
    "start_time": "2023-03-04T18:55:52.716Z"
   },
   {
    "duration": 37,
    "start_time": "2023-03-04T18:55:57.147Z"
   },
   {
    "duration": 13,
    "start_time": "2023-03-04T18:56:55.907Z"
   },
   {
    "duration": 487,
    "start_time": "2023-03-04T18:57:32.571Z"
   },
   {
    "duration": 603,
    "start_time": "2023-03-04T18:58:01.606Z"
   },
   {
    "duration": 578,
    "start_time": "2023-03-04T18:58:14.616Z"
   },
   {
    "duration": 668,
    "start_time": "2023-03-04T18:58:30.774Z"
   },
   {
    "duration": 489,
    "start_time": "2023-03-04T18:59:48.145Z"
   },
   {
    "duration": 10,
    "start_time": "2023-03-04T19:00:08.572Z"
   },
   {
    "duration": 1090,
    "start_time": "2023-03-04T19:00:12.387Z"
   },
   {
    "duration": 934,
    "start_time": "2023-03-04T19:00:16.040Z"
   },
   {
    "duration": 103,
    "start_time": "2023-03-04T19:00:19.977Z"
   },
   {
    "duration": 311,
    "start_time": "2023-03-04T19:00:22.307Z"
   },
   {
    "duration": 276,
    "start_time": "2023-03-04T19:00:25.026Z"
   },
   {
    "duration": 112,
    "start_time": "2023-03-04T19:00:27.577Z"
   },
   {
    "duration": 233,
    "start_time": "2023-03-04T19:00:29.772Z"
   },
   {
    "duration": 469,
    "start_time": "2023-03-04T19:00:32.312Z"
   },
   {
    "duration": 1027,
    "start_time": "2023-03-04T19:00:33.930Z"
   },
   {
    "duration": 36,
    "start_time": "2023-03-04T19:00:36.590Z"
   },
   {
    "duration": 92,
    "start_time": "2023-03-04T19:00:38.878Z"
   },
   {
    "duration": 24,
    "start_time": "2023-03-04T19:00:40.797Z"
   },
   {
    "duration": 38,
    "start_time": "2023-03-04T19:00:42.491Z"
   },
   {
    "duration": 45,
    "start_time": "2023-03-04T19:00:43.681Z"
   },
   {
    "duration": 54,
    "start_time": "2023-03-04T19:00:45.211Z"
   },
   {
    "duration": 49,
    "start_time": "2023-03-04T19:00:47.966Z"
   },
   {
    "duration": 53,
    "start_time": "2023-03-04T19:00:49.587Z"
   },
   {
    "duration": 53,
    "start_time": "2023-03-04T19:00:52.745Z"
   },
   {
    "duration": 98,
    "start_time": "2023-03-04T19:00:54.326Z"
   },
   {
    "duration": 13,
    "start_time": "2023-03-04T19:00:58.431Z"
   },
   {
    "duration": 99,
    "start_time": "2023-03-04T19:01:00.435Z"
   },
   {
    "duration": 546,
    "start_time": "2023-03-04T19:01:03.481Z"
   },
   {
    "duration": 500,
    "start_time": "2023-03-04T19:01:37.484Z"
   },
   {
    "duration": 454,
    "start_time": "2023-03-04T19:01:46.470Z"
   },
   {
    "duration": 122,
    "start_time": "2023-03-04T19:01:55.311Z"
   },
   {
    "duration": 12,
    "start_time": "2023-03-04T19:02:21.603Z"
   },
   {
    "duration": 527,
    "start_time": "2023-03-04T19:03:04.300Z"
   },
   {
    "duration": 669,
    "start_time": "2023-03-04T19:03:42.191Z"
   },
   {
    "duration": 12,
    "start_time": "2023-03-04T19:04:22.092Z"
   },
   {
    "duration": 100,
    "start_time": "2023-03-04T19:07:08.543Z"
   },
   {
    "duration": 592,
    "start_time": "2023-03-04T19:07:11.110Z"
   },
   {
    "duration": 15,
    "start_time": "2023-03-04T19:07:17.185Z"
   },
   {
    "duration": 304,
    "start_time": "2023-03-04T19:08:08.929Z"
   },
   {
    "duration": 302,
    "start_time": "2023-03-04T19:08:24.385Z"
   },
   {
    "duration": 13,
    "start_time": "2023-03-04T19:08:26.984Z"
   },
   {
    "duration": 1612,
    "start_time": "2023-03-04T19:11:54.015Z"
   },
   {
    "duration": 1180,
    "start_time": "2023-03-04T19:11:55.630Z"
   },
   {
    "duration": 1017,
    "start_time": "2023-03-04T19:11:56.812Z"
   },
   {
    "duration": 105,
    "start_time": "2023-03-04T19:11:57.830Z"
   },
   {
    "duration": 219,
    "start_time": "2023-03-04T19:11:57.950Z"
   },
   {
    "duration": 200,
    "start_time": "2023-03-04T19:11:58.171Z"
   },
   {
    "duration": 119,
    "start_time": "2023-03-04T19:11:58.376Z"
   },
   {
    "duration": 219,
    "start_time": "2023-03-04T19:11:58.498Z"
   },
   {
    "duration": 574,
    "start_time": "2023-03-04T19:11:58.719Z"
   },
   {
    "duration": 1196,
    "start_time": "2023-03-04T19:11:59.295Z"
   },
   {
    "duration": 36,
    "start_time": "2023-03-04T19:12:00.493Z"
   },
   {
    "duration": 109,
    "start_time": "2023-03-04T19:12:00.531Z"
   },
   {
    "duration": 32,
    "start_time": "2023-03-04T19:12:00.642Z"
   },
   {
    "duration": 78,
    "start_time": "2023-03-04T19:12:00.678Z"
   },
   {
    "duration": 83,
    "start_time": "2023-03-04T19:12:00.757Z"
   },
   {
    "duration": 64,
    "start_time": "2023-03-04T19:12:00.841Z"
   },
   {
    "duration": 69,
    "start_time": "2023-03-04T19:12:00.907Z"
   },
   {
    "duration": 55,
    "start_time": "2023-03-04T19:12:00.985Z"
   },
   {
    "duration": 58,
    "start_time": "2023-03-04T19:12:01.041Z"
   },
   {
    "duration": 117,
    "start_time": "2023-03-04T19:12:01.101Z"
   },
   {
    "duration": 13,
    "start_time": "2023-03-04T19:12:01.220Z"
   },
   {
    "duration": 130,
    "start_time": "2023-03-04T19:12:01.234Z"
   },
   {
    "duration": 16,
    "start_time": "2023-03-04T19:12:01.373Z"
   },
   {
    "duration": 648,
    "start_time": "2023-03-04T19:12:01.391Z"
   },
   {
    "duration": 331,
    "start_time": "2023-03-04T19:12:02.040Z"
   },
   {
    "duration": 21,
    "start_time": "2023-03-04T19:12:02.372Z"
   },
   {
    "duration": 57,
    "start_time": "2023-03-04T19:12:02.395Z"
   },
   {
    "duration": 184885,
    "start_time": "2023-03-04T19:12:02.454Z"
   },
   {
    "duration": 1648,
    "start_time": "2023-03-04T19:16:04.914Z"
   },
   {
    "duration": 1197,
    "start_time": "2023-03-04T19:16:06.566Z"
   },
   {
    "duration": 1049,
    "start_time": "2023-03-04T19:16:07.770Z"
   },
   {
    "duration": 108,
    "start_time": "2023-03-04T19:16:08.821Z"
   },
   {
    "duration": 212,
    "start_time": "2023-03-04T19:16:08.931Z"
   },
   {
    "duration": 231,
    "start_time": "2023-03-04T19:16:09.159Z"
   },
   {
    "duration": 132,
    "start_time": "2023-03-04T19:16:09.391Z"
   },
   {
    "duration": 212,
    "start_time": "2023-03-04T19:16:09.525Z"
   },
   {
    "duration": 535,
    "start_time": "2023-03-04T19:16:09.738Z"
   },
   {
    "duration": 1084,
    "start_time": "2023-03-04T19:16:10.276Z"
   },
   {
    "duration": 54,
    "start_time": "2023-03-04T19:16:11.362Z"
   },
   {
    "duration": 114,
    "start_time": "2023-03-04T19:16:11.418Z"
   },
   {
    "duration": 28,
    "start_time": "2023-03-04T19:16:11.534Z"
   },
   {
    "duration": 63,
    "start_time": "2023-03-04T19:16:11.565Z"
   },
   {
    "duration": 63,
    "start_time": "2023-03-04T19:16:11.630Z"
   },
   {
    "duration": 41,
    "start_time": "2023-03-04T19:16:11.696Z"
   },
   {
    "duration": 65,
    "start_time": "2023-03-04T19:16:11.738Z"
   },
   {
    "duration": 74,
    "start_time": "2023-03-04T19:16:11.805Z"
   },
   {
    "duration": 52,
    "start_time": "2023-03-04T19:16:11.880Z"
   },
   {
    "duration": 135,
    "start_time": "2023-03-04T19:16:11.933Z"
   },
   {
    "duration": 23,
    "start_time": "2023-03-04T19:16:12.073Z"
   },
   {
    "duration": 108,
    "start_time": "2023-03-04T19:16:12.098Z"
   },
   {
    "duration": 12,
    "start_time": "2023-03-04T19:16:12.208Z"
   },
   {
    "duration": 661,
    "start_time": "2023-03-04T19:16:12.221Z"
   },
   {
    "duration": 309,
    "start_time": "2023-03-04T19:16:12.887Z"
   },
   {
    "duration": 13,
    "start_time": "2023-03-04T19:16:13.197Z"
   },
   {
    "duration": 5,
    "start_time": "2023-03-04T19:16:13.212Z"
   },
   {
    "duration": 702971,
    "start_time": "2023-03-04T19:16:13.220Z"
   },
   {
    "duration": 53802,
    "start_time": "2023-03-04T19:27:56.193Z"
   },
   {
    "duration": 4199,
    "start_time": "2023-03-04T19:28:49.997Z"
   },
   {
    "duration": 5,
    "start_time": "2023-03-04T19:28:54.198Z"
   },
   {
    "duration": 762214,
    "start_time": "2023-03-04T19:28:54.205Z"
   },
   {
    "duration": 63736,
    "start_time": "2023-03-04T19:41:36.421Z"
   },
   {
    "duration": 277,
    "start_time": "2023-03-04T19:42:40.159Z"
   },
   {
    "duration": 15,
    "start_time": "2023-03-04T19:42:40.438Z"
   },
   {
    "duration": 30,
    "start_time": "2023-03-04T19:42:40.455Z"
   },
   {
    "duration": 67541,
    "start_time": "2023-03-04T19:42:40.491Z"
   },
   {
    "duration": 580,
    "start_time": "2023-03-04T19:43:48.033Z"
   },
   {
    "duration": 6,
    "start_time": "2023-03-04T19:43:48.615Z"
   },
   {
    "duration": 3519172,
    "start_time": "2023-03-04T19:43:48.623Z"
   },
   {
    "duration": 254360,
    "start_time": "2023-03-04T20:42:27.805Z"
   },
   {
    "duration": 2271,
    "start_time": "2023-03-04T20:46:42.167Z"
   },
   {
    "duration": 6,
    "start_time": "2023-03-04T20:46:44.440Z"
   },
   {
    "duration": 238,
    "start_time": "2023-03-04T20:46:44.457Z"
   },
   {
    "duration": 268562,
    "start_time": "2023-03-04T20:46:44.706Z"
   },
   {
    "duration": 3020,
    "start_time": "2023-03-04T20:51:13.270Z"
   },
   {
    "duration": 20,
    "start_time": "2023-03-04T20:51:16.311Z"
   },
   {
    "duration": 24,
    "start_time": "2023-03-04T20:51:16.334Z"
   },
   {
    "duration": 89,
    "start_time": "2023-03-04T20:51:16.369Z"
   },
   {
    "duration": 326,
    "start_time": "2023-03-04T20:51:16.461Z"
   },
   {
    "duration": 21,
    "start_time": "2023-03-04T20:56:23.981Z"
   },
   {
    "duration": 191,
    "start_time": "2023-03-04T20:56:27.727Z"
   },
   {
    "duration": 28,
    "start_time": "2023-03-04T20:57:28.950Z"
   },
   {
    "duration": 68,
    "start_time": "2023-03-04T20:57:51.766Z"
   },
   {
    "duration": 21,
    "start_time": "2023-03-04T20:59:34.440Z"
   },
   {
    "duration": 14,
    "start_time": "2023-03-04T21:01:26.496Z"
   },
   {
    "duration": 104,
    "start_time": "2023-03-04T21:02:25.598Z"
   },
   {
    "duration": 14,
    "start_time": "2023-03-04T21:02:55.616Z"
   },
   {
    "duration": 85,
    "start_time": "2023-03-04T21:04:43.892Z"
   },
   {
    "duration": 132,
    "start_time": "2023-03-04T21:04:58.599Z"
   },
   {
    "duration": 36,
    "start_time": "2023-03-04T21:05:37.066Z"
   },
   {
    "duration": 13,
    "start_time": "2023-03-04T21:06:28.430Z"
   },
   {
    "duration": 188,
    "start_time": "2023-03-04T21:06:56.196Z"
   },
   {
    "duration": 158,
    "start_time": "2023-03-04T21:10:40.781Z"
   },
   {
    "duration": 99,
    "start_time": "2023-03-04T21:10:56.110Z"
   },
   {
    "duration": 651,
    "start_time": "2023-03-04T21:12:47.066Z"
   },
   {
    "duration": 208,
    "start_time": "2023-03-04T21:12:54.668Z"
   },
   {
    "duration": 651,
    "start_time": "2023-03-04T21:14:14.492Z"
   },
   {
    "duration": 178,
    "start_time": "2023-03-04T21:14:20.775Z"
   },
   {
    "duration": 189,
    "start_time": "2023-03-04T21:16:10.873Z"
   },
   {
    "duration": 13,
    "start_time": "2023-03-04T21:16:28.706Z"
   },
   {
    "duration": 213,
    "start_time": "2023-03-04T21:18:37.029Z"
   },
   {
    "duration": 183,
    "start_time": "2023-03-04T21:19:38.593Z"
   },
   {
    "duration": 530,
    "start_time": "2023-03-04T21:21:16.674Z"
   },
   {
    "duration": 220,
    "start_time": "2023-03-04T21:31:22.334Z"
   },
   {
    "duration": 180,
    "start_time": "2023-03-04T21:31:26.275Z"
   },
   {
    "duration": 503,
    "start_time": "2023-03-04T21:31:30.362Z"
   },
   {
    "duration": 512,
    "start_time": "2023-03-04T21:32:06.370Z"
   },
   {
    "duration": 46,
    "start_time": "2023-03-04T21:32:19.629Z"
   },
   {
    "duration": 502,
    "start_time": "2023-03-04T21:32:25.704Z"
   },
   {
    "duration": 321,
    "start_time": "2023-03-04T21:35:04.090Z"
   },
   {
    "duration": 5,
    "start_time": "2023-03-04T21:40:47.104Z"
   },
   {
    "duration": 4,
    "start_time": "2023-03-04T21:41:12.540Z"
   },
   {
    "duration": 1459,
    "start_time": "2023-03-04T21:41:29.008Z"
   },
   {
    "duration": 1101,
    "start_time": "2023-03-04T21:41:34.275Z"
   },
   {
    "duration": 987,
    "start_time": "2023-03-04T21:41:38.776Z"
   },
   {
    "duration": 97,
    "start_time": "2023-03-04T21:41:43.474Z"
   },
   {
    "duration": 191,
    "start_time": "2023-03-04T21:41:47.122Z"
   },
   {
    "duration": 197,
    "start_time": "2023-03-04T21:41:49.836Z"
   },
   {
    "duration": 109,
    "start_time": "2023-03-04T21:41:52.988Z"
   },
   {
    "duration": 190,
    "start_time": "2023-03-04T21:41:55.571Z"
   },
   {
    "duration": 481,
    "start_time": "2023-03-04T21:41:58.542Z"
   },
   {
    "duration": 1131,
    "start_time": "2023-03-04T21:42:01.094Z"
   },
   {
    "duration": 49,
    "start_time": "2023-03-04T21:42:04.843Z"
   },
   {
    "duration": 97,
    "start_time": "2023-03-04T21:42:08.502Z"
   },
   {
    "duration": 23,
    "start_time": "2023-03-04T21:42:11.415Z"
   },
   {
    "duration": 52,
    "start_time": "2023-03-04T21:42:13.647Z"
   },
   {
    "duration": 52,
    "start_time": "2023-03-04T21:42:15.832Z"
   },
   {
    "duration": 54,
    "start_time": "2023-03-04T21:42:17.934Z"
   },
   {
    "duration": 38,
    "start_time": "2023-03-04T21:42:20.279Z"
   },
   {
    "duration": 63,
    "start_time": "2023-03-04T21:42:22.401Z"
   },
   {
    "duration": 60,
    "start_time": "2023-03-04T21:42:24.145Z"
   },
   {
    "duration": 98,
    "start_time": "2023-03-04T21:42:25.989Z"
   },
   {
    "duration": 13,
    "start_time": "2023-03-04T21:42:29.874Z"
   },
   {
    "duration": 122,
    "start_time": "2023-03-04T21:42:31.870Z"
   },
   {
    "duration": 12,
    "start_time": "2023-03-04T21:42:34.573Z"
   },
   {
    "duration": 548,
    "start_time": "2023-03-04T21:42:37.457Z"
   },
   {
    "duration": 288,
    "start_time": "2023-03-04T21:42:42.987Z"
   },
   {
    "duration": 12,
    "start_time": "2023-03-04T21:42:46.604Z"
   },
   {
    "duration": 3,
    "start_time": "2023-03-04T21:42:51.383Z"
   },
   {
    "duration": 55399,
    "start_time": "2023-03-04T21:42:57.775Z"
   },
   {
    "duration": 4162,
    "start_time": "2023-03-04T21:43:59.659Z"
   },
   {
    "duration": 5,
    "start_time": "2023-03-04T21:44:19.597Z"
   },
   {
    "duration": 63504,
    "start_time": "2023-03-04T21:44:25.115Z"
   },
   {
    "duration": 291,
    "start_time": "2023-03-04T21:48:17.992Z"
   },
   {
    "duration": 5,
    "start_time": "2023-03-04T21:48:30.711Z"
   },
   {
    "duration": 3,
    "start_time": "2023-03-04T21:48:36.197Z"
   },
   {
    "duration": 65349,
    "start_time": "2023-03-04T21:48:37.839Z"
   },
   {
    "duration": 564,
    "start_time": "2023-03-04T21:50:36.678Z"
   },
   {
    "duration": 5,
    "start_time": "2023-03-04T21:50:39.776Z"
   },
   {
    "duration": 78401,
    "start_time": "2023-03-04T21:50:59.462Z"
   },
   {
    "duration": 2237,
    "start_time": "2023-03-04T21:52:40.033Z"
   },
   {
    "duration": 5,
    "start_time": "2023-03-04T21:53:16.168Z"
   },
   {
    "duration": 126,
    "start_time": "2023-03-04T21:53:20.983Z"
   },
   {
    "duration": 107917,
    "start_time": "2023-03-04T21:53:23.556Z"
   },
   {
    "duration": 2991,
    "start_time": "2023-03-04T21:56:28.374Z"
   },
   {
    "duration": 5,
    "start_time": "2023-03-04T21:56:44.409Z"
   },
   {
    "duration": 11,
    "start_time": "2023-03-04T21:57:22.647Z"
   },
   {
    "duration": 10,
    "start_time": "2023-03-04T21:58:06.039Z"
   },
   {
    "duration": 217,
    "start_time": "2023-03-04T21:58:26.871Z"
   },
   {
    "duration": 1464,
    "start_time": "2023-03-04T21:58:30.537Z"
   },
   {
    "duration": 200,
    "start_time": "2023-03-04T21:58:37.162Z"
   }
  ],
  "kernelspec": {
   "display_name": "Python 3 (ipykernel)",
   "language": "python",
   "name": "python3"
  },
  "language_info": {
   "codemirror_mode": {
    "name": "ipython",
    "version": 3
   },
   "file_extension": ".py",
   "mimetype": "text/x-python",
   "name": "python",
   "nbconvert_exporter": "python",
   "pygments_lexer": "ipython3",
   "version": "3.9.5"
  },
  "toc": {
   "base_numbering": 1,
   "nav_menu": {},
   "number_sections": true,
   "sideBar": true,
   "skip_h1_title": true,
   "title_cell": "Table of Contents",
   "title_sidebar": "Contents",
   "toc_cell": false,
   "toc_position": {},
   "toc_section_display": true,
   "toc_window_display": false
  }
 },
 "nbformat": 4,
 "nbformat_minor": 2
}
