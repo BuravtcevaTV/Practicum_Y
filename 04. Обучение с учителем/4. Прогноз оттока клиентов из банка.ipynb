{
 "cells": [
  {
   "cell_type": "markdown",
   "metadata": {
    "toc": true
   },
   "source": [
    "<h1>Содержание<span class=\"tocSkip\"></span></h1>\n",
    "<div class=\"toc\"><ul class=\"toc-item\"><li><span><a href=\"#Подготовка-данных\" data-toc-modified-id=\"Подготовка-данных-1\"><span class=\"toc-item-num\">1&nbsp;&nbsp;</span>Подготовка данных</a></span><ul class=\"toc-item\"><li><span><a href=\"#Обработка-данных\" data-toc-modified-id=\"Обработка-данных-1.1\"><span class=\"toc-item-num\">1.1&nbsp;&nbsp;</span>Обработка данных</a></span></li><li><span><a href=\"#Подготовка-данных\" data-toc-modified-id=\"Подготовка-данных-1.2\"><span class=\"toc-item-num\">1.2&nbsp;&nbsp;</span>Подготовка данных</a></span></li></ul></li><li><span><a href=\"#Исследование-задачи\" data-toc-modified-id=\"Исследование-задачи-2\"><span class=\"toc-item-num\">2&nbsp;&nbsp;</span>Исследование задачи</a></span></li><li><span><a href=\"#Борьба-с-дисбалансом\" data-toc-modified-id=\"Борьба-с-дисбалансом-3\"><span class=\"toc-item-num\">3&nbsp;&nbsp;</span>Борьба с дисбалансом</a></span><ul class=\"toc-item\"><li><span><a href=\"#Взвешивание-классов\" data-toc-modified-id=\"Взвешивание-классов-3.1\"><span class=\"toc-item-num\">3.1&nbsp;&nbsp;</span>Взвешивание классов</a></span></li><li><span><a href=\"#Увеличение-выборки\" data-toc-modified-id=\"Увеличение-выборки-3.2\"><span class=\"toc-item-num\">3.2&nbsp;&nbsp;</span>Увеличение выборки</a></span></li><li><span><a href=\"#Уменьшение-выборки\" data-toc-modified-id=\"Уменьшение-выборки-3.3\"><span class=\"toc-item-num\">3.3&nbsp;&nbsp;</span>Уменьшение выборки</a></span></li></ul></li><li><span><a href=\"#Тестирование-модели\" data-toc-modified-id=\"Тестирование-модели-4\"><span class=\"toc-item-num\">4&nbsp;&nbsp;</span>Тестирование модели</a></span><ul class=\"toc-item\"><li><span><a href=\"#Взвешивание-классов\" data-toc-modified-id=\"Взвешивание-классов-4.1\"><span class=\"toc-item-num\">4.1&nbsp;&nbsp;</span>Взвешивание классов</a></span></li><li><span><a href=\"#Увеличение-выборки\" data-toc-modified-id=\"Увеличение-выборки-4.2\"><span class=\"toc-item-num\">4.2&nbsp;&nbsp;</span>Увеличение выборки</a></span></li><li><span><a href=\"#Уменьшение-выборки\" data-toc-modified-id=\"Уменьшение-выборки-4.3\"><span class=\"toc-item-num\">4.3&nbsp;&nbsp;</span>Уменьшение выборки</a></span></li><li><span><a href=\"#Промежуточные-выводы\" data-toc-modified-id=\"Промежуточные-выводы-4.4\"><span class=\"toc-item-num\">4.4&nbsp;&nbsp;</span>Промежуточные выводы</a></span></li><li><span><a href=\"#Проверка-лучшей-модели-на-тестовой-выборке\" data-toc-modified-id=\"Проверка-лучшей-модели-на-тестовой-выборке-4.5\"><span class=\"toc-item-num\">4.5&nbsp;&nbsp;</span>Проверка лучшей модели на тестовой выборке</a></span></li></ul></li><li><span><a href=\"#Вывод\" data-toc-modified-id=\"Вывод-5\"><span class=\"toc-item-num\">5&nbsp;&nbsp;</span>Вывод</a></span></li><li><span><a href=\"#Чек-лист-готовности-проекта\" data-toc-modified-id=\"Чек-лист-готовности-проекта-6\"><span class=\"toc-item-num\">6&nbsp;&nbsp;</span>Чек-лист готовности проекта</a></span></li></ul></div>"
   ]
  },
  {
   "cell_type": "markdown",
   "metadata": {},
   "source": [
    "# Отток клиентов"
   ]
  },
  {
   "cell_type": "markdown",
   "metadata": {},
   "source": [
    "Из банка стали уходить клиенты. Каждый месяц. Немного, но заметно. Банковские маркетологи посчитали: сохранять текущих клиентов дешевле, чем привлекать новых.\n",
    "**Задача:** спрогнозировать, уйдёт клиент из банка в ближайшее время или нет, используя исторические данные о поведении клиентов и расторжении договоров с банком. \n",
    "\n",
    "Построить модель с предельно большим значением *F1*-меры. Проверить *F1*-меру на тестовой выборке.\n",
    "\n",
    "Дополнительно измерить *AUC-ROC*, сравнить её значение с *F1*-мерой."
   ]
  },
  {
   "cell_type": "markdown",
   "metadata": {},
   "source": [
    "## Подготовка данных"
   ]
  },
  {
   "cell_type": "code",
   "execution_count": 1,
   "metadata": {},
   "outputs": [],
   "source": [
    "import pandas as pd\n",
    "import matplotlib.pyplot as plt\n",
    "\n",
    "from sklearn.model_selection import train_test_split\n",
    "from sklearn.metrics import accuracy_score\n",
    "from sklearn.metrics import f1_score\n",
    "\n",
    "from sklearn.ensemble import RandomForestClassifier\n",
    "from sklearn.linear_model import LogisticRegression\n",
    "\n",
    "from sklearn.preprocessing import OrdinalEncoder\n",
    "from sklearn.preprocessing import OneHotEncoder\n",
    "from sklearn.preprocessing import StandardScaler\n",
    "from sklearn.utils import shuffle\n",
    "from sklearn.metrics import roc_auc_score\n",
    "from sklearn.metrics import roc_curve"
   ]
  },
  {
   "cell_type": "code",
   "execution_count": 2,
   "metadata": {},
   "outputs": [
    {
     "name": "stdout",
     "output_type": "stream",
     "text": [
      "<class 'pandas.core.frame.DataFrame'>\n",
      "RangeIndex: 10000 entries, 0 to 9999\n",
      "Data columns (total 14 columns):\n",
      " #   Column           Non-Null Count  Dtype  \n",
      "---  ------           --------------  -----  \n",
      " 0   RowNumber        10000 non-null  int64  \n",
      " 1   CustomerId       10000 non-null  int64  \n",
      " 2   Surname          10000 non-null  object \n",
      " 3   CreditScore      10000 non-null  int64  \n",
      " 4   Geography        10000 non-null  object \n",
      " 5   Gender           10000 non-null  object \n",
      " 6   Age              10000 non-null  int64  \n",
      " 7   Tenure           9091 non-null   float64\n",
      " 8   Balance          10000 non-null  float64\n",
      " 9   NumOfProducts    10000 non-null  int64  \n",
      " 10  HasCrCard        10000 non-null  int64  \n",
      " 11  IsActiveMember   10000 non-null  int64  \n",
      " 12  EstimatedSalary  10000 non-null  float64\n",
      " 13  Exited           10000 non-null  int64  \n",
      "dtypes: float64(3), int64(8), object(3)\n",
      "memory usage: 1.1+ MB\n",
      "   RowNumber  CustomerId   Surname  CreditScore Geography  Gender  Age  \\\n",
      "0          1    15634602  Hargrave          619    France  Female   42   \n",
      "1          2    15647311      Hill          608     Spain  Female   41   \n",
      "2          3    15619304      Onio          502    France  Female   42   \n",
      "3          4    15701354      Boni          699    France  Female   39   \n",
      "4          5    15737888  Mitchell          850     Spain  Female   43   \n",
      "\n",
      "   Tenure    Balance  NumOfProducts  HasCrCard  IsActiveMember  \\\n",
      "0     2.0       0.00              1          1               1   \n",
      "1     1.0   83807.86              1          0               1   \n",
      "2     8.0  159660.80              3          1               0   \n",
      "3     1.0       0.00              2          0               0   \n",
      "4     2.0  125510.82              1          1               1   \n",
      "\n",
      "   EstimatedSalary  Exited  \n",
      "0        101348.88       1  \n",
      "1        112542.58       0  \n",
      "2        113931.57       1  \n",
      "3         93826.63       0  \n",
      "4         79084.10       0  \n"
     ]
    },
    {
     "data": {
      "image/png": "[encoded data removed]",
      "text/plain": [
       "<Figure size 720x1080 with 12 Axes>"
      ]
     },
     "metadata": {
      "needs_background": "light"
     },
     "output_type": "display_data"
    }
   ],
   "source": [
    "df = pd.read_csv('/datasets/Churn.csv')\n",
    "df.info()\n",
    "print(df.head())\n",
    "df.hist(figsize=(10, 15))\n",
    "plt.show()"
   ]
  },
  {
   "cell_type": "markdown",
   "metadata": {},
   "source": [
    "### Обработка данных"
   ]
  },
  {
   "cell_type": "markdown",
   "metadata": {},
   "source": [
    "Изменим названия столбцов."
   ]
  },
  {
   "cell_type": "code",
   "execution_count": 3,
   "metadata": {},
   "outputs": [
    {
     "name": "stdout",
     "output_type": "stream",
     "text": [
      "Index(['row_number', 'customer_id', 'surname', 'credit_score', 'geography',\n",
      "       'gender', 'age', 'tenure', 'balance', 'num_of_products', 'has_cr_card',\n",
      "       'is_active_member', 'estimated_salary', 'exited'],\n",
      "      dtype='object')\n"
     ]
    }
   ],
   "source": [
    "df.columns = df.columns.str.lower()\n",
    "df = df.rename(columns={\n",
    "    'rownumber': 'row_number',\n",
    "    'customerid': 'customer_id',\n",
    "    'creditscore':'credit_score',\n",
    "    'numofproducts':'num_of_products',\n",
    "    'hascrcard':'has_cr_card',\n",
    "    'isactivemember':'is_active_member',\n",
    "    'estimatedsalary':'estimated_salary'}) \n",
    "print(df.columns)"
   ]
  },
  {
   "cell_type": "markdown",
   "metadata": {},
   "source": [
    "Проверим на наличие дубликатов и попусков."
   ]
  },
  {
   "cell_type": "code",
   "execution_count": 4,
   "metadata": {},
   "outputs": [
    {
     "name": "stdout",
     "output_type": "stream",
     "text": [
      "0\n",
      "row_number            0\n",
      "customer_id           0\n",
      "surname               0\n",
      "credit_score          0\n",
      "geography             0\n",
      "gender                0\n",
      "age                   0\n",
      "tenure              909\n",
      "balance               0\n",
      "num_of_products       0\n",
      "has_cr_card           0\n",
      "is_active_member      0\n",
      "estimated_salary      0\n",
      "exited                0\n",
      "dtype: int64\n"
     ]
    }
   ],
   "source": [
    "print(df.duplicated().sum())\n",
    "print(df.isna().sum())"
   ]
  },
  {
   "cell_type": "markdown",
   "metadata": {},
   "source": [
    "В данных нет явных дубликатов, пропуски только в столбце \"Tenure\". Пропусков слишком много, поэтому удалять их нельзя. Заменим проуски на медианное значение."
   ]
  },
  {
   "cell_type": "code",
   "execution_count": 5,
   "metadata": {},
   "outputs": [
    {
     "name": "stdout",
     "output_type": "stream",
     "text": [
      "row_number          0\n",
      "customer_id         0\n",
      "surname             0\n",
      "credit_score        0\n",
      "geography           0\n",
      "gender              0\n",
      "age                 0\n",
      "tenure              0\n",
      "balance             0\n",
      "num_of_products     0\n",
      "has_cr_card         0\n",
      "is_active_member    0\n",
      "estimated_salary    0\n",
      "exited              0\n",
      "dtype: int64\n"
     ]
    }
   ],
   "source": [
    "df['tenure'] = df['tenure'].fillna(df['tenure'].median())\n",
    "print(df.isna().sum())"
   ]
  },
  {
   "cell_type": "markdown",
   "metadata": {},
   "source": [
    "В ходе ообработки данных:\n",
    "- Изменены названия столбцов\n",
    "- Данные проврены на наличие дубликатов и пропусков\n",
    "- В столбце \"tenure\" устранены пропуски "
   ]
  },
  {
   "cell_type": "markdown",
   "metadata": {},
   "source": [
    "### Подготовка данных"
   ]
  },
  {
   "cell_type": "markdown",
   "metadata": {},
   "source": [
    "Целевой ризнак - столбец exited - факт ухода клиента.\n",
    "\n",
    "Воспользуемся техникой Ordinal Encoding и разделим данные на обучающую, валидационную и тестовую выборки."
   ]
  },
  {
   "cell_type": "code",
   "execution_count": 6,
   "metadata": {},
   "outputs": [
    {
     "name": "stdout",
     "output_type": "stream",
     "text": [
      "features_train (6000, 13) \n",
      "features_valid (2000, 13) \n",
      "target_train (6000,) \n",
      "target_valid (2000,) \n",
      "features_test (2000, 13) \n",
      "target_test (2000,)\n"
     ]
    }
   ],
   "source": [
    "df = df.drop(['surname'], axis=1) #Удалим слолбец с фамилиями, тк они не влияют на возможный уход клиента из банка\n",
    "features = df.drop(['exited'], axis=1)\n",
    "target = df['exited']\n",
    "\n",
    "\n",
    "# Разделим датафрейм на обучающую, валидационную и тестовую выборки в соотношении 3:1:1\n",
    "features, features_test, target, target_test = train_test_split(\n",
    "    features, target, test_size=.2, random_state=12345)\n",
    "\n",
    "features_train, features_valid, target_train, target_valid = train_test_split(\n",
    "    features, target, test_size=.25, random_state=12345)\n",
    "\n",
    "features_train = pd.get_dummies(features_train, drop_first = True)\n",
    "features_valid = pd.get_dummies(features_valid, drop_first = True)\n",
    "features_test = pd.get_dummies(features_test, drop_first = True)\n",
    "                         \n",
    "\n",
    "#Стандартизируем данные\n",
    "numeric = ['credit_score', 'age', 'tenure', 'balance', 'estimated_salary']\n",
    "scaler = StandardScaler()\n",
    "scaler.fit(features_train[numeric])\n",
    "features_train[numeric] = scaler.transform(features_train[numeric])\n",
    "features_valid[numeric] = scaler.transform(features_valid[numeric])\n",
    "features_test[numeric] = scaler.transform(features_test[numeric])\n",
    "\n",
    "print('features_train', features_train.shape,\n",
    "     '\\nfeatures_valid', features_valid.shape,\n",
    "     '\\ntarget_train', target_train.shape,\n",
    "     '\\ntarget_valid', target_valid.shape,\n",
    "     '\\nfeatures_test', features_test.shape,\n",
    "     '\\ntarget_test',target_test.shape)\n",
    "\n",
    "pd.options.mode.chained_assignment = None"
   ]
  },
  {
   "cell_type": "markdown",
   "metadata": {},
   "source": [
    "## Исследование задачи"
   ]
  },
  {
   "cell_type": "markdown",
   "metadata": {},
   "source": [
    "Рассмотрим модель без учета дисбаланса."
   ]
  },
  {
   "cell_type": "markdown",
   "metadata": {},
   "source": [
    "Для обучения будем использовать модель случайного леса, тк она оказалась наиболее точной в пердыдущем проекте."
   ]
  },
  {
   "cell_type": "code",
   "execution_count": 7,
   "metadata": {},
   "outputs": [
    {
     "name": "stdout",
     "output_type": "stream",
     "text": [
      "F1 наилучшей модели на валидационной выборке: 0.5474683544303798\n",
      "Параметры наилучшей модели\n",
      "n_estimators - 10\n",
      "max_depth - 13\n"
     ]
    }
   ],
   "source": [
    "forest_best_model = None\n",
    "best_f1 = 0\n",
    "best_est = 0\n",
    "best_depth = 0\n",
    "\n",
    "for depth in range (1, 15): \n",
    "    for est in range (1, 15):\n",
    "        model = RandomForestClassifier(random_state=12345, n_estimators=est, max_depth=depth) \n",
    "        model.fit(features_train, target_train) \n",
    "        predicted_valid = model.predict(features_valid)\n",
    "        f1 = f1_score(target_valid, predicted_valid) \n",
    "        if f1 > best_f1:\n",
    "            forest_best_model = model\n",
    "            best_f1 = f1\n",
    "            best_est = est\n",
    "            best_depth = depth\n",
    "        \n",
    "print(\"F1 наилучшей модели на валидационной выборке:\", best_f1)\n",
    "print('Параметры наилучшей модели')\n",
    "print('n_estimators -', best_est)\n",
    "print('max_depth -', best_depth)\n"
   ]
  },
  {
   "cell_type": "code",
   "execution_count": 8,
   "metadata": {},
   "outputs": [
    {
     "name": "stdout",
     "output_type": "stream",
     "text": [
      "0    0.7963\n",
      "1    0.2037\n",
      "Name: exited, dtype: float64\n"
     ]
    },
    {
     "data": {
      "text/plain": [
       "<AxesSubplot:>"
      ]
     },
     "execution_count": 8,
     "metadata": {},
     "output_type": "execute_result"
    },
    {
     "data": {
      "image/png": "[encoded data removed]",
      "text/plain": [
       "<Figure size 432x288 with 1 Axes>"
      ]
     },
     "metadata": {
      "needs_background": "light"
     },
     "output_type": "display_data"
    }
   ],
   "source": [
    "class_frequency = df['exited'].value_counts(normalize=1)# < напишите код здесь >)\n",
    "print(class_frequency)\n",
    "class_frequency.plot(kind='bar')"
   ]
  },
  {
   "cell_type": "markdown",
   "metadata": {},
   "source": [
    "Проверим модель на адекватность. Сравнивать будем с наиболее подходящей - константной моделью, тк в нашем случае наблюдается сильный дисбаланс классов."
   ]
  },
  {
   "cell_type": "code",
   "execution_count": 9,
   "metadata": {},
   "outputs": [
    {
     "name": "stdout",
     "output_type": "stream",
     "text": [
      "0.79875\n"
     ]
    }
   ],
   "source": [
    "target_pred_constant = pd.Series([0]*len(target))\n",
    "print(accuracy_score(target, target_pred_constant))"
   ]
  },
  {
   "cell_type": "markdown",
   "metadata": {},
   "source": [
    "Метрика точнсти выдала неплохое совпадение с \"наивным\" алгоритмом. Мы не можем говорить об адекватности такой модели - нужно сбалансировать классы. Метрика accuracy не подходит."
   ]
  },
  {
   "cell_type": "markdown",
   "metadata": {},
   "source": [
    "## Борьба с дисбалансом"
   ]
  },
  {
   "cell_type": "markdown",
   "metadata": {},
   "source": [
    "Существует нескольлько способов борьбы с дисбалансом, проверим их и выберем наилучший\n"
   ]
  },
  {
   "cell_type": "markdown",
   "metadata": {},
   "source": [
    "Исследуем модель случайного леса и логистическую регрессию."
   ]
  },
  {
   "cell_type": "markdown",
   "metadata": {},
   "source": [
    "### Взвешивание классов"
   ]
  },
  {
   "cell_type": "code",
   "execution_count": 10,
   "metadata": {},
   "outputs": [
    {
     "name": "stdout",
     "output_type": "stream",
     "text": [
      "F1 наилучшей модели на валидационной выборке: 0.5882352941176471\n",
      "Параметры наилучшей модели\n",
      "n_estimators - 39\n",
      "max_depth - 9\n"
     ]
    }
   ],
   "source": [
    "# Модель случайного леса\n",
    "forest_best_model_weight = None\n",
    "best_f1_weight = 0\n",
    "best_est = 0\n",
    "best_depth = 0\n",
    "\n",
    "for depth in range (5, 10): \n",
    "    for est in range (20, 40):\n",
    "        model = RandomForestClassifier(\n",
    "            random_state=12345, n_estimators=est, max_depth=depth, class_weight='balanced') \n",
    "        model.fit(features_train, target_train) \n",
    "        predicted_valid = model.predict(features_valid)\n",
    "        f1_weight = f1_score(target_valid, predicted_valid) \n",
    "        if f1_weight > best_f1_weight:\n",
    "            forest_best_model_weight = model\n",
    "            best_f1_weight = f1_weight\n",
    "            best_est = est\n",
    "            best_depth = depth\n",
    "        \n",
    "print(\"F1 наилучшей модели на валидационной выборке:\", best_f1_weight)\n",
    "print('Параметры наилучшей модели')\n",
    "print('n_estimators -', best_est)\n",
    "print('max_depth -', best_depth)\n",
    "\n"
   ]
  },
  {
   "cell_type": "code",
   "execution_count": 11,
   "metadata": {},
   "outputs": [
    {
     "name": "stdout",
     "output_type": "stream",
     "text": [
      "F1 Логистической регрессии: 0.28966521106259097\n"
     ]
    }
   ],
   "source": [
    "# Логистическая регрессия\n",
    "log_model_weight = LogisticRegression(random_state=12345, solver='lbfgs', class_weight='balanced', max_iter=1000)\n",
    "log_model_weight.fit(features_train, target_train) \n",
    "predicted_valid = log_model_weight.predict(features_valid)\n",
    "f1_weight = f1_score(target_valid, predicted_valid) \n",
    "\n",
    "print(\"F1 Логистической регрессии:\", f1_weight)\n"
   ]
  },
  {
   "cell_type": "markdown",
   "metadata": {},
   "source": [
    "### Увеличение выборки"
   ]
  },
  {
   "cell_type": "code",
   "execution_count": 12,
   "metadata": {},
   "outputs": [],
   "source": [
    "def upsample(features, target, repeat):\n",
    "    features_zeros = features[target == 0]\n",
    "    features_ones = features[target == 1]\n",
    "    target_zeros = target[target == 0]\n",
    "    target_ones = target[target == 1]\n",
    "\n",
    "    features_upsampled = pd.concat([features_zeros] + [features_ones] * repeat)\n",
    "    target_upsampled = pd.concat([target_zeros] + [target_ones] * repeat)\n",
    "    \n",
    "    features_upsampled, target_upsampled = shuffle(\n",
    "        features_upsampled, target_upsampled, random_state=12345)\n",
    "    return features_upsampled, target_upsampled\n",
    "\n",
    "features_upsampled, target_upsampled = upsample(features_train, target_train, 3)\n"
   ]
  },
  {
   "cell_type": "code",
   "execution_count": 13,
   "metadata": {},
   "outputs": [
    {
     "name": "stdout",
     "output_type": "stream",
     "text": [
      "F1 наилучшей модели на валидационной выборке: 0.6019900497512437\n",
      "Параметры наилучшей модели\n",
      "n_estimators - 31\n",
      "max_depth - 7\n"
     ]
    }
   ],
   "source": [
    "# Модель случайного леса\n",
    "forest_best_model_upsample = None\n",
    "best_f1_upsample = 0\n",
    "best_est = 0\n",
    "best_depth = 0\n",
    "\n",
    "for depth in range (5, 10): \n",
    "    for est in range (20, 40):\n",
    "        model = RandomForestClassifier(random_state=12345, n_estimators=est, max_depth=depth) \n",
    "        model.fit(features_upsampled, target_upsampled) \n",
    "        predicted_valid = model.predict(features_valid)\n",
    "        f1_upsample = f1_score(target_valid, predicted_valid) \n",
    "        if f1_upsample > best_f1_upsample:\n",
    "            forest_best_model_upsample = model\n",
    "            best_f1_upsample = f1_upsample\n",
    "            best_est = est\n",
    "            best_depth = depth\n",
    "        \n",
    "print(\"F1 наилучшей модели на валидационной выборке:\", best_f1_upsample)\n",
    "print('Параметры наилучшей модели')\n",
    "print('n_estimators -', best_est)\n",
    "print('max_depth -', best_depth)"
   ]
  },
  {
   "cell_type": "code",
   "execution_count": 14,
   "metadata": {},
   "outputs": [
    {
     "name": "stdout",
     "output_type": "stream",
     "text": [
      "F1 Логистической регрессии: 0.0\n"
     ]
    }
   ],
   "source": [
    "# Логистическая регрессия\n",
    "loc_model_up = LogisticRegression(random_state=12345, solver='lbfgs', max_iter=1000)\n",
    "loc_model_up.fit(features_upsampled, target_upsampled)\n",
    "predicted_valid = loc_model_up.predict(features_valid)\n",
    "f1_upsample = f1_score(target_valid, predicted_valid) \n",
    "\n",
    "print(\"F1 Логистической регрессии:\", f1_upsample)\n"
   ]
  },
  {
   "cell_type": "markdown",
   "metadata": {},
   "source": [
    "### Уменьшение выборки"
   ]
  },
  {
   "cell_type": "code",
   "execution_count": 15,
   "metadata": {},
   "outputs": [],
   "source": [
    "def downsample(features, target, fraction):\n",
    "    features_zeros = features[target == 0]\n",
    "    features_ones = features[target == 1]\n",
    "    target_zeros = target[target == 0]\n",
    "    target_ones = target[target == 1]\n",
    "\n",
    "    features_downsampled = pd.concat(\n",
    "        [features_zeros.sample(frac=fraction, random_state=12345)] + [features_ones])\n",
    "    target_downsampled = pd.concat(\n",
    "        [target_zeros.sample(frac=fraction, random_state=12345)] + [target_ones])\n",
    "    \n",
    "    features_downsampled, target_downsampled = shuffle(\n",
    "        features_downsampled, target_downsampled, random_state=12345)\n",
    "    return features_downsampled, target_downsampled\n",
    "\n",
    "features_downsampled, target_downsampled = downsample(features_train, target_train, 0.5)"
   ]
  },
  {
   "cell_type": "code",
   "execution_count": 16,
   "metadata": {},
   "outputs": [
    {
     "name": "stdout",
     "output_type": "stream",
     "text": [
      "F1 наилучшей модели на валидационной выборке: 0.5943661971830986\n",
      "Параметры наилучшей модели\n",
      "n_estimators - 21\n",
      "max_depth - 9\n"
     ]
    }
   ],
   "source": [
    "# Модель случайного леса\n",
    "forest_best_model_downsample = None\n",
    "best_f1_downsample = 0\n",
    "best_est = 0\n",
    "best_depth = 0\n",
    "\n",
    "for depth in range (5, 10): \n",
    "    for est in range (20, 40):\n",
    "        model = RandomForestClassifier(random_state=12345, n_estimators=est, max_depth=depth) \n",
    "        model.fit(features_downsampled, target_downsampled) \n",
    "        predicted_valid = model.predict(features_valid)\n",
    "        f1_downsample = f1_score(target_valid, predicted_valid) \n",
    "        if f1_downsample > best_f1_downsample:\n",
    "            forest_best_model_downsample = model\n",
    "            best_f1_downsample = f1_downsample\n",
    "            best_est = est\n",
    "            best_depth = depth\n",
    "        \n",
    "print(\"F1 наилучшей модели на валидационной выборке:\", best_f1_downsample)\n",
    "print('Параметры наилучшей модели')\n",
    "print('n_estimators -', best_est)\n",
    "print('max_depth -', best_depth)"
   ]
  },
  {
   "cell_type": "code",
   "execution_count": 17,
   "metadata": {},
   "outputs": [
    {
     "name": "stdout",
     "output_type": "stream",
     "text": [
      "F1 Логистической регрессии: 0.0\n"
     ]
    }
   ],
   "source": [
    "# Логистическая регрессия\n",
    "loc_model_dw = LogisticRegression(random_state=12345, solver='lbfgs', max_iter=1000)\n",
    "loc_model_dw.fit(features_downsampled, target_downsampled) \n",
    "predicted_valid = loc_model_dw.predict(features_valid)\n",
    "f1_downsample = f1_score(target_valid, predicted_valid) \n",
    "\n",
    "print(\"F1 Логистической регрессии:\", f1_downsample)\n"
   ]
  },
  {
   "cell_type": "markdown",
   "metadata": {},
   "source": [
    "Метрика F1 для модели случайного леса, полученая при сравнении методов борьбы с дисбалансом:\n",
    "- Взвешивание классов - 0.588\n",
    "- Увеличение выборки - 0.602\n",
    "- Уменьшение выборки - 0.594\n",
    "\n",
    "Наилучшим методом оказалось увеличение выборки."
   ]
  },
  {
   "cell_type": "markdown",
   "metadata": {},
   "source": [
    "Метрика F1 для логистической регрессии, полученая при сравнении методов борьбы с дисбалансом:\n",
    "- Взвешивание классов - 0.290\n",
    "- Увеличение выборки - 0\n",
    "- Уменьшение выборки - 0\n",
    "\n",
    "Увеличение и уменьшение выборки для логистической регрессии не дало реультатов. Помогло лишь взвешивание классов, однако по сравнению cо значениями F1, полученными для случайного леса, модель логистической регрессии для решения даной задачи не подходит."
   ]
  },
  {
   "cell_type": "markdown",
   "metadata": {},
   "source": [
    "## Тестирование модели"
   ]
  },
  {
   "cell_type": "markdown",
   "metadata": {},
   "source": [
    "Тестирование было проведено выше при сравнении методов борьбы с дисбалансом. Исследуем метрику AUC-ROC для каждого из рассмотренных методов."
   ]
  },
  {
   "cell_type": "markdown",
   "metadata": {},
   "source": [
    "### Взвешивание классов"
   ]
  },
  {
   "cell_type": "code",
   "execution_count": 18,
   "metadata": {},
   "outputs": [
    {
     "name": "stdout",
     "output_type": "stream",
     "text": [
      "Случайный лес: 0.8429613475352039\n",
      "Логистическая регрессия: 0.5095872164089783\n"
     ]
    },
    {
     "data": {
      "image/png": "[encoded data removed]",
      "text/plain": [
       "<Figure size 432x288 with 1 Axes>"
      ]
     },
     "metadata": {
      "needs_background": "light"
     },
     "output_type": "display_data"
    },
    {
     "data": {
      "image/png": "[encoded data removed]",
      "text/plain": [
       "<Figure size 432x288 with 1 Axes>"
      ]
     },
     "metadata": {
      "needs_background": "light"
     },
     "output_type": "display_data"
    }
   ],
   "source": [
    "# Случайный лес\n",
    "probabilities_valid = forest_best_model_weight.predict_proba(features_valid)\n",
    "probabilities_one_valid = probabilities_valid[:, 1]\n",
    "\n",
    "fpr, tpr, thresholds = roc_curve(target_valid, probabilities_one_valid)\n",
    "auc_roc = roc_auc_score(target_valid, probabilities_one_valid)\n",
    "\n",
    "def plot_roc (fpr, tpr, title):\n",
    "    plt.figure()\n",
    "    plt.plot(fpr, tpr)\n",
    "    plt.xlim([0.0, 1.0])\n",
    "    plt.ylim([0.0, 1.0])\n",
    "    plt.xlabel('False Positive Rate')\n",
    "    plt.ylabel('True Positive Rate')\n",
    "    plt.title(title)\n",
    "    plt.plot([0, 1], [0, 1], linestyle='--')\n",
    "    \n",
    "print('Случайный лес:', auc_roc)\n",
    "plot_roc(fpr, tpr, 'ROC-кривая Случайный лес')\n",
    "\n",
    "#Логистическая регрессия\n",
    "probabilities_valid = log_model_weight.predict_proba(features_valid)\n",
    "probabilities_one_valid = probabilities_valid[:, 1]\n",
    "\n",
    "fpr, tpr, thresholds = roc_curve(target_valid, probabilities_one_valid)\n",
    "auc_roc = roc_auc_score(target_valid, probabilities_one_valid)\n",
    "\n",
    "print('Логистическая регрессия:', auc_roc)\n",
    "plot_roc(fpr, tpr, 'ROC-кривая Логистическая регрессия')\n"
   ]
  },
  {
   "cell_type": "markdown",
   "metadata": {},
   "source": [
    "### Увеличение выборки"
   ]
  },
  {
   "cell_type": "code",
   "execution_count": 19,
   "metadata": {},
   "outputs": [
    {
     "name": "stdout",
     "output_type": "stream",
     "text": [
      "Случайный лес: 0.8476377283153106\n",
      "Логистическая регрессия: 0.5244635752536484\n"
     ]
    },
    {
     "data": {
      "image/png": "[encoded data removed]",
      "text/plain": [
       "<Figure size 432x288 with 1 Axes>"
      ]
     },
     "metadata": {
      "needs_background": "light"
     },
     "output_type": "display_data"
    },
    {
     "data": {
      "image/png": "[encoded data removed]",
      "text/plain": [
       "<Figure size 432x288 with 1 Axes>"
      ]
     },
     "metadata": {
      "needs_background": "light"
     },
     "output_type": "display_data"
    }
   ],
   "source": [
    "# Случайный лес\n",
    "probabilities_valid = forest_best_model_upsample.predict_proba(features_valid)\n",
    "probabilities_one_valid = probabilities_valid[:, 1]\n",
    "\n",
    "fpr, tpr, thresholds = roc_curve(target_valid, probabilities_one_valid)\n",
    "auc_roc = roc_auc_score(target_valid, probabilities_one_valid)\n",
    "\n",
    "print('Случайный лес:', auc_roc)\n",
    "plot_roc(fpr, tpr, 'ROC-кривая Случайный лес')\n",
    "\n",
    "#Логистическая регрессия\n",
    "probabilities_valid = loc_model_up.predict_proba(features_valid)\n",
    "probabilities_one_valid = probabilities_valid[:, 1]\n",
    "\n",
    "fpr, tpr, thresholds = roc_curve(target_valid, probabilities_one_valid)\n",
    "auc_roc = roc_auc_score(target_valid, probabilities_one_valid)\n",
    "\n",
    "print('Логистическая регрессия:', auc_roc)\n",
    "plot_roc(fpr, tpr, 'ROC-кривая Логистическая регрессия')"
   ]
  },
  {
   "cell_type": "markdown",
   "metadata": {},
   "source": [
    "### Уменьшение выборки"
   ]
  },
  {
   "cell_type": "code",
   "execution_count": 20,
   "metadata": {},
   "outputs": [
    {
     "name": "stdout",
     "output_type": "stream",
     "text": [
      "Случайный лес: 0.8330506629111504\n",
      "Логистическая регрессия: 0.5244635752536484\n"
     ]
    },
    {
     "data": {
      "image/png": "[encoded data removed]",
      "text/plain": [
       "<Figure size 432x288 with 1 Axes>"
      ]
     },
     "metadata": {
      "needs_background": "light"
     },
     "output_type": "display_data"
    },
    {
     "data": {
      "image/png": "[encoded data removed]",
      "text/plain": [
       "<Figure size 432x288 with 1 Axes>"
      ]
     },
     "metadata": {
      "needs_background": "light"
     },
     "output_type": "display_data"
    }
   ],
   "source": [
    "# Случайный лес\n",
    "probabilities_valid = forest_best_model_downsample.predict_proba(features_valid)\n",
    "probabilities_one_valid = probabilities_valid[:, 1]\n",
    "\n",
    "fpr, tpr, thresholds = roc_curve(target_valid, probabilities_one_valid)\n",
    "auc_roc = roc_auc_score(target_valid, probabilities_one_valid)\n",
    "\n",
    "print('Случайный лес:', auc_roc)\n",
    "plot_roc(fpr, tpr, 'ROC-кривая Случайный лес')\n",
    "\n",
    "#Логистическая регрессия\n",
    "probabilities_valid = loc_model_dw.predict_proba(features_valid)\n",
    "probabilities_one_valid = probabilities_valid[:, 1]\n",
    "\n",
    "fpr, tpr, thresholds = roc_curve(target_valid, probabilities_one_valid)\n",
    "auc_roc = roc_auc_score(target_valid, probabilities_one_valid)\n",
    "\n",
    "print('Логистическая регрессия:', auc_roc)\n",
    "plot_roc(fpr, tpr, 'ROC-кривая Логистическая регрессия')"
   ]
  },
  {
   "cell_type": "markdown",
   "metadata": {},
   "source": [
    "### Промежуточные выводы"
   ]
  },
  {
   "cell_type": "markdown",
   "metadata": {},
   "source": [
    "Рассчет AUC-ROC для случайного леса показал следующие значения:\n",
    "- Взвешивание классов - 0.843\n",
    "- Увеличение выборки - 0.848\n",
    "- Уменьшение выборки - 0.833\n",
    "\n",
    "Для случая увеличения выборки, метрика AUC-ROC наибольшая, а ROC-кривая наиболее высокая из представленных, что еще раз подтверждает правильность выбора метода. "
   ]
  },
  {
   "cell_type": "markdown",
   "metadata": {},
   "source": [
    "Для логистической регрессии значения AUC-ROC:\n",
    "- Взвешивание классов - 0.510\n",
    "- Увеличение выборки - 0.524\n",
    "- Уменьшение выборки - 0.524\n",
    "\n",
    "ROC-кривая практически совпадает со случайной моделью, значения AUC-ROC для логистической регрессии значительно хуже, чем для модели случайного леса, что еще раз показывает, что модель логистической регрессии не подходит для решения данной задачи.\n"
   ]
  },
  {
   "cell_type": "markdown",
   "metadata": {},
   "source": [
    "Наилучшей моделью оказалась моледь случайного леса с увеличенной выборкой. Проверим ее на тестовой выборке."
   ]
  },
  {
   "cell_type": "markdown",
   "metadata": {},
   "source": [
    "### Проверка лучшей модели на тестовой выборке"
   ]
  },
  {
   "cell_type": "code",
   "execution_count": 21,
   "metadata": {},
   "outputs": [
    {
     "name": "stdout",
     "output_type": "stream",
     "text": [
      "Случайный лес: 0.8632842567268797\n"
     ]
    },
    {
     "data": {
      "image/png": "[encoded data removed]",
      "text/plain": [
       "<Figure size 432x288 with 1 Axes>"
      ]
     },
     "metadata": {
      "needs_background": "light"
     },
     "output_type": "display_data"
    }
   ],
   "source": [
    "# Случайный лес\n",
    "probabilities_test = forest_best_model_upsample.predict_proba(features_test)\n",
    "probabilities_one_test = probabilities_test[:, 1]\n",
    "\n",
    "fpr, tpr, thresholds = roc_curve(target_test, probabilities_one_test)\n",
    "auc_roc = roc_auc_score(target_test, probabilities_one_test)\n",
    "\n",
    "print('Случайный лес:', auc_roc)\n",
    "plot_roc(fpr, tpr, 'ROC-кривая Случайный лес')\n"
   ]
  },
  {
   "cell_type": "markdown",
   "metadata": {},
   "source": [
    "Рассчет AUC-ROC для случайного леса с увеличенной выборкой на тестовой выборке:\n",
    " - 0.863\n"
   ]
  },
  {
   "cell_type": "markdown",
   "metadata": {},
   "source": [
    "## Вывод"
   ]
  },
  {
   "cell_type": "markdown",
   "metadata": {},
   "source": [
    "В ходе работы над проектом была проведена предобработка данных:\n",
    "- Изменены названия столбцов\n",
    "- Данные проврены на наличие дубликатов и пропусков\n",
    "- В столбце \"tenure\" устранены пропуски \n",
    "- Преобразованы категориальные признаки\n",
    "- Данные стандартизированы\n",
    "\n",
    "Была обучена модель \"Случайный лес\" с подбором наиболее подходящих параметров без учета дисбаланса, однако такая модель не прошла проверку на адекватность, при сравнении ее с \"наивной\" моделью, предсказывающей отрицательный класс.\n",
    "\n",
    "Исследованы 3 метода борьбы с дисбалансом для моделей \"Случайный лес\" и \"Логистическая регрессия\", для них получены значения среднего гармонического полноты и точности (метрика F1).\n",
    "\n",
    "Для модели \"Случайный лес\":\n",
    "- Взвешивание классов - 0.588\n",
    "- Увеличение выборки - 0.602\n",
    "- Уменьшение выборки - 0.594\n",
    "\n",
    "\n",
    "Для модели \"Логистическая регрессия\":\n",
    "- Взвешивание классов - 0.290\n",
    "- Увеличение выборки - 0\n",
    "- Уменьшение выборки - 0\n",
    "\n",
    "Увеличение и уменьшение выборки для логистической регрессии не дало реультатов. Помогло лишь взвешивание классов, однако по сравнению cо значениями F1, полученными для случайного леса, модель логистической регрессии для решения даной задачи не подходит.\n",
    "\n",
    "Построена кривая ошибок и получено значение площади под ней (метрика AUC-ROC):\n",
    "Для модели \"Случайный лес\":\n",
    "- Взвешивание классов - 0.843\n",
    "- Увеличение выборки - 0.848\n",
    "- Уменьшение выборки - 0.833\n",
    "\n",
    "Для модели \"Логистическая регрессия\":\n",
    "- Взвешивание классов - 0.510\n",
    "- Увеличение выборки - 0.524\n",
    "- Уменьшение выборки - 0.524\n",
    "\n",
    "ROC-кривая практически совпадает со случайной моделью, значения AUC-ROC для логистической регрессии значительно хуже, чем для модели случайного леса, что еще раз показывает, что модель логистической регрессии не подходит для решения данной задачи.\n",
    "\n",
    "\n",
    "Рассчет AUC-ROC для случайного леса с увеличенной выборкой на тестовой выборке:\n",
    " - 0.863\n",
    "\n",
    "\n",
    "Таким образом, наилучшим методом борьбы с дисбалансом оказался метод увеличения выборки, а наилучшей моделью - модель \"Случайный лес\"."
   ]
  },
  {
   "cell_type": "code",
   "execution_count": null,
   "metadata": {},
   "outputs": [],
   "source": []
  },
  {
   "cell_type": "code",
   "execution_count": null,
   "metadata": {},
   "outputs": [],
   "source": []
  }
 ],
 "metadata": {
  "ExecuteTimeLog": [
   {
    "duration": 1624,
    "start_time": "2022-12-03T10:32:50.383Z"
   },
   {
    "duration": 1644,
    "start_time": "2022-12-03T10:32:53.559Z"
   },
   {
    "duration": 15,
    "start_time": "2022-12-03T10:35:41.921Z"
   },
   {
    "duration": 120,
    "start_time": "2022-12-03T10:44:09.864Z"
   },
   {
    "duration": 9,
    "start_time": "2022-12-03T10:44:26.716Z"
   },
   {
    "duration": 9,
    "start_time": "2022-12-03T10:44:36.958Z"
   },
   {
    "duration": 88,
    "start_time": "2022-12-03T10:45:12.012Z"
   },
   {
    "duration": 11,
    "start_time": "2022-12-03T10:54:14.268Z"
   },
   {
    "duration": 10,
    "start_time": "2022-12-03T12:18:02.746Z"
   },
   {
    "duration": 5,
    "start_time": "2022-12-03T12:20:07.496Z"
   },
   {
    "duration": 6,
    "start_time": "2022-12-03T12:24:22.195Z"
   },
   {
    "duration": 14,
    "start_time": "2022-12-03T12:33:12.097Z"
   },
   {
    "duration": 9,
    "start_time": "2022-12-03T12:34:01.948Z"
   },
   {
    "duration": 8,
    "start_time": "2022-12-03T12:34:11.920Z"
   },
   {
    "duration": 379,
    "start_time": "2022-12-03T18:45:59.387Z"
   },
   {
    "duration": 13,
    "start_time": "2022-12-03T18:49:44.503Z"
   },
   {
    "duration": 3,
    "start_time": "2022-12-03T18:49:50.904Z"
   },
   {
    "duration": 20,
    "start_time": "2022-12-03T18:49:54.433Z"
   },
   {
    "duration": 55,
    "start_time": "2022-12-03T18:50:56.821Z"
   },
   {
    "duration": 52,
    "start_time": "2022-12-03T18:51:15.785Z"
   },
   {
    "duration": 39,
    "start_time": "2022-12-03T18:51:28.136Z"
   },
   {
    "duration": 64,
    "start_time": "2022-12-03T18:54:26.770Z"
   },
   {
    "duration": 47,
    "start_time": "2022-12-03T18:54:47.446Z"
   },
   {
    "duration": 89,
    "start_time": "2022-12-03T18:57:39.598Z"
   },
   {
    "duration": 47,
    "start_time": "2022-12-03T18:58:30.246Z"
   },
   {
    "duration": 75,
    "start_time": "2022-12-03T18:58:52.304Z"
   },
   {
    "duration": 54,
    "start_time": "2022-12-03T18:59:04.299Z"
   },
   {
    "duration": 80,
    "start_time": "2022-12-03T19:00:26.297Z"
   },
   {
    "duration": 40,
    "start_time": "2022-12-03T19:00:35.363Z"
   },
   {
    "duration": 43,
    "start_time": "2022-12-03T19:00:47.079Z"
   },
   {
    "duration": 53,
    "start_time": "2022-12-03T19:02:42.409Z"
   },
   {
    "duration": 61,
    "start_time": "2022-12-03T19:19:04.617Z"
   },
   {
    "duration": 3,
    "start_time": "2022-12-03T19:19:12.550Z"
   },
   {
    "duration": 85,
    "start_time": "2022-12-03T19:19:16.911Z"
   },
   {
    "duration": 71,
    "start_time": "2022-12-03T19:19:42.106Z"
   },
   {
    "duration": 68,
    "start_time": "2022-12-03T19:19:55.099Z"
   },
   {
    "duration": 36169,
    "start_time": "2022-12-03T19:21:10.475Z"
   },
   {
    "duration": 12233,
    "start_time": "2022-12-03T19:22:29.785Z"
   },
   {
    "duration": 123,
    "start_time": "2022-12-03T19:26:01.156Z"
   },
   {
    "duration": 109,
    "start_time": "2022-12-03T19:27:30.140Z"
   },
   {
    "duration": 7,
    "start_time": "2022-12-03T19:31:36.132Z"
   },
   {
    "duration": 6,
    "start_time": "2022-12-03T19:35:12.650Z"
   },
   {
    "duration": 11144,
    "start_time": "2022-12-03T19:38:58.100Z"
   },
   {
    "duration": 9363,
    "start_time": "2022-12-03T19:39:31.479Z"
   },
   {
    "duration": 2,
    "start_time": "2022-12-03T21:36:00.781Z"
   },
   {
    "duration": 8839,
    "start_time": "2022-12-03T21:39:30.268Z"
   },
   {
    "duration": 20,
    "start_time": "2022-12-03T21:43:46.075Z"
   },
   {
    "duration": 3,
    "start_time": "2022-12-03T21:44:09.638Z"
   },
   {
    "duration": 9119,
    "start_time": "2022-12-03T21:44:14.681Z"
   },
   {
    "duration": 9106,
    "start_time": "2022-12-03T21:47:41.784Z"
   },
   {
    "duration": 9190,
    "start_time": "2022-12-03T21:48:41.099Z"
   },
   {
    "duration": 70,
    "start_time": "2022-12-03T21:51:06.176Z"
   },
   {
    "duration": 88,
    "start_time": "2022-12-03T21:51:13.208Z"
   },
   {
    "duration": 9338,
    "start_time": "2022-12-03T21:51:19.805Z"
   },
   {
    "duration": 18,
    "start_time": "2022-12-03T21:54:58.982Z"
   },
   {
    "duration": 3,
    "start_time": "2022-12-03T21:55:49.701Z"
   },
   {
    "duration": 12269,
    "start_time": "2022-12-03T21:55:58.325Z"
   },
   {
    "duration": 12735,
    "start_time": "2022-12-03T21:59:42.167Z"
   },
   {
    "duration": 11137,
    "start_time": "2022-12-03T22:00:08.690Z"
   },
   {
    "duration": 4469,
    "start_time": "2022-12-03T22:06:05.779Z"
   },
   {
    "duration": 5224,
    "start_time": "2022-12-03T22:07:45.088Z"
   },
   {
    "duration": 5449,
    "start_time": "2022-12-03T22:08:03.085Z"
   },
   {
    "duration": 6022,
    "start_time": "2022-12-03T22:08:24.814Z"
   },
   {
    "duration": 6384,
    "start_time": "2022-12-03T22:09:37.076Z"
   },
   {
    "duration": 6898,
    "start_time": "2022-12-03T22:10:02.936Z"
   },
   {
    "duration": 12036,
    "start_time": "2022-12-03T22:10:13.473Z"
   },
   {
    "duration": 11170,
    "start_time": "2022-12-03T22:10:41.833Z"
   },
   {
    "duration": 3,
    "start_time": "2022-12-03T22:18:37.136Z"
   },
   {
    "duration": 27,
    "start_time": "2022-12-03T22:21:06.714Z"
   },
   {
    "duration": 17,
    "start_time": "2022-12-03T22:21:38.571Z"
   },
   {
    "duration": 3,
    "start_time": "2022-12-03T22:21:58.671Z"
   },
   {
    "duration": 115,
    "start_time": "2022-12-03T22:22:06.089Z"
   },
   {
    "duration": 3,
    "start_time": "2022-12-03T22:22:59.305Z"
   },
   {
    "duration": 3,
    "start_time": "2022-12-03T22:23:36.491Z"
   },
   {
    "duration": 185,
    "start_time": "2022-12-03T22:26:22.476Z"
   },
   {
    "duration": 117,
    "start_time": "2022-12-03T22:27:57.662Z"
   },
   {
    "duration": 118,
    "start_time": "2022-12-03T22:29:02.557Z"
   },
   {
    "duration": 110,
    "start_time": "2022-12-03T22:29:37.094Z"
   },
   {
    "duration": 113,
    "start_time": "2022-12-03T22:29:40.469Z"
   },
   {
    "duration": 111,
    "start_time": "2022-12-03T22:30:18.372Z"
   },
   {
    "duration": 1240,
    "start_time": "2022-12-03T23:08:28.153Z"
   },
   {
    "duration": 1650,
    "start_time": "2022-12-03T23:08:29.395Z"
   },
   {
    "duration": 6,
    "start_time": "2022-12-03T23:08:31.046Z"
   },
   {
    "duration": 73,
    "start_time": "2022-12-03T23:08:31.053Z"
   },
   {
    "duration": 8,
    "start_time": "2022-12-03T23:08:31.129Z"
   },
   {
    "duration": 111,
    "start_time": "2022-12-03T23:08:31.138Z"
   },
   {
    "duration": 9156,
    "start_time": "2022-12-03T23:08:31.251Z"
   },
   {
    "duration": 119,
    "start_time": "2022-12-03T23:08:40.409Z"
   },
   {
    "duration": 6,
    "start_time": "2022-12-03T23:08:40.529Z"
   },
   {
    "duration": 9019,
    "start_time": "2022-12-03T23:08:40.537Z"
   },
   {
    "duration": 11205,
    "start_time": "2022-12-03T23:08:49.558Z"
   },
   {
    "duration": 6426,
    "start_time": "2022-12-03T23:09:00.764Z"
   },
   {
    "duration": 121,
    "start_time": "2022-12-03T23:09:07.192Z"
   },
   {
    "duration": 118,
    "start_time": "2022-12-03T23:09:07.315Z"
   },
   {
    "duration": 121,
    "start_time": "2022-12-03T23:09:07.435Z"
   },
   {
    "duration": 48,
    "start_time": "2022-12-06T12:19:35.893Z"
   },
   {
    "duration": 1586,
    "start_time": "2022-12-06T12:19:45.094Z"
   },
   {
    "duration": 1529,
    "start_time": "2022-12-06T12:19:46.682Z"
   },
   {
    "duration": 7,
    "start_time": "2022-12-06T12:19:48.213Z"
   },
   {
    "duration": 28,
    "start_time": "2022-12-06T12:19:48.223Z"
   },
   {
    "duration": 8,
    "start_time": "2022-12-06T12:19:48.253Z"
   },
   {
    "duration": 93,
    "start_time": "2022-12-06T12:19:48.262Z"
   },
   {
    "duration": 12020,
    "start_time": "2022-12-06T12:19:48.357Z"
   },
   {
    "duration": 123,
    "start_time": "2022-12-06T12:20:00.378Z"
   },
   {
    "duration": 7,
    "start_time": "2022-12-06T12:20:00.503Z"
   },
   {
    "duration": 10444,
    "start_time": "2022-12-06T12:20:00.513Z"
   },
   {
    "duration": 126,
    "start_time": "2022-12-06T12:20:10.960Z"
   },
   {
    "duration": 0,
    "start_time": "2022-12-06T12:20:11.088Z"
   },
   {
    "duration": 0,
    "start_time": "2022-12-06T12:20:11.089Z"
   },
   {
    "duration": 0,
    "start_time": "2022-12-06T12:20:11.090Z"
   },
   {
    "duration": 0,
    "start_time": "2022-12-06T12:20:11.090Z"
   },
   {
    "duration": 81,
    "start_time": "2022-12-06T12:29:06.983Z"
   },
   {
    "duration": 110,
    "start_time": "2022-12-06T12:44:32.363Z"
   },
   {
    "duration": 26,
    "start_time": "2022-12-06T12:44:44.468Z"
   },
   {
    "duration": 23,
    "start_time": "2022-12-06T12:45:09.535Z"
   },
   {
    "duration": 115,
    "start_time": "2022-12-06T12:46:54.075Z"
   },
   {
    "duration": 159,
    "start_time": "2022-12-06T12:47:12.420Z"
   },
   {
    "duration": 1409,
    "start_time": "2022-12-06T12:48:45.580Z"
   },
   {
    "duration": 1522,
    "start_time": "2022-12-06T12:48:46.991Z"
   },
   {
    "duration": 6,
    "start_time": "2022-12-06T12:48:48.515Z"
   },
   {
    "duration": 24,
    "start_time": "2022-12-06T12:48:48.538Z"
   },
   {
    "duration": 8,
    "start_time": "2022-12-06T12:48:48.565Z"
   },
   {
    "duration": 177,
    "start_time": "2022-12-06T12:48:48.575Z"
   },
   {
    "duration": 274,
    "start_time": "2022-12-06T12:48:48.754Z"
   },
   {
    "duration": 0,
    "start_time": "2022-12-06T12:48:49.039Z"
   },
   {
    "duration": 0,
    "start_time": "2022-12-06T12:48:49.040Z"
   },
   {
    "duration": 0,
    "start_time": "2022-12-06T12:48:49.042Z"
   },
   {
    "duration": 0,
    "start_time": "2022-12-06T12:48:49.043Z"
   },
   {
    "duration": 0,
    "start_time": "2022-12-06T12:48:49.045Z"
   },
   {
    "duration": 0,
    "start_time": "2022-12-06T12:48:49.047Z"
   },
   {
    "duration": 0,
    "start_time": "2022-12-06T12:48:49.048Z"
   },
   {
    "duration": 0,
    "start_time": "2022-12-06T12:48:49.050Z"
   },
   {
    "duration": 49,
    "start_time": "2022-12-06T12:55:42.187Z"
   },
   {
    "duration": 1358,
    "start_time": "2022-12-06T12:56:55.399Z"
   },
   {
    "duration": 1464,
    "start_time": "2022-12-06T12:56:56.759Z"
   },
   {
    "duration": 13,
    "start_time": "2022-12-06T12:56:58.225Z"
   },
   {
    "duration": 22,
    "start_time": "2022-12-06T12:56:58.240Z"
   },
   {
    "duration": 12,
    "start_time": "2022-12-06T12:56:58.264Z"
   },
   {
    "duration": 53,
    "start_time": "2022-12-06T12:56:58.277Z"
   },
   {
    "duration": 12087,
    "start_time": "2022-12-06T12:56:58.332Z"
   },
   {
    "duration": 126,
    "start_time": "2022-12-06T12:57:10.421Z"
   },
   {
    "duration": 7,
    "start_time": "2022-12-06T12:57:10.549Z"
   },
   {
    "duration": 9679,
    "start_time": "2022-12-06T12:57:10.559Z"
   },
   {
    "duration": 11748,
    "start_time": "2022-12-06T12:57:20.240Z"
   },
   {
    "duration": 6919,
    "start_time": "2022-12-06T12:57:31.990Z"
   },
   {
    "duration": 188,
    "start_time": "2022-12-06T12:57:38.939Z"
   },
   {
    "duration": 143,
    "start_time": "2022-12-06T12:57:39.138Z"
   },
   {
    "duration": 132,
    "start_time": "2022-12-06T12:57:39.283Z"
   },
   {
    "duration": 117,
    "start_time": "2022-12-06T12:58:56.204Z"
   },
   {
    "duration": 8547,
    "start_time": "2022-12-06T12:59:05.657Z"
   },
   {
    "duration": 8685,
    "start_time": "2022-12-06T12:59:30.537Z"
   },
   {
    "duration": 8,
    "start_time": "2022-12-06T13:02:35.515Z"
   },
   {
    "duration": 8564,
    "start_time": "2022-12-06T13:03:55.473Z"
   },
   {
    "duration": 13,
    "start_time": "2022-12-06T13:12:13.040Z"
   },
   {
    "duration": 4,
    "start_time": "2022-12-06T13:12:37.302Z"
   },
   {
    "duration": 351,
    "start_time": "2022-12-06T13:13:07.298Z"
   },
   {
    "duration": 30,
    "start_time": "2022-12-06T13:13:28.515Z"
   },
   {
    "duration": 84,
    "start_time": "2022-12-06T13:13:35.366Z"
   },
   {
    "duration": 72,
    "start_time": "2022-12-06T13:14:23.168Z"
   },
   {
    "duration": 286,
    "start_time": "2022-12-06T13:17:06.954Z"
   },
   {
    "duration": 15,
    "start_time": "2022-12-06T13:18:58.662Z"
   },
   {
    "duration": 1512,
    "start_time": "2022-12-06T13:19:03.461Z"
   },
   {
    "duration": 1861,
    "start_time": "2022-12-06T13:19:04.976Z"
   },
   {
    "duration": 7,
    "start_time": "2022-12-06T13:19:06.840Z"
   },
   {
    "duration": 28,
    "start_time": "2022-12-06T13:19:06.850Z"
   },
   {
    "duration": 8,
    "start_time": "2022-12-06T13:19:06.881Z"
   },
   {
    "duration": 129,
    "start_time": "2022-12-06T13:19:06.937Z"
   },
   {
    "duration": 286,
    "start_time": "2022-12-06T13:19:07.068Z"
   },
   {
    "duration": 0,
    "start_time": "2022-12-06T13:19:07.356Z"
   },
   {
    "duration": 0,
    "start_time": "2022-12-06T13:19:07.357Z"
   },
   {
    "duration": 0,
    "start_time": "2022-12-06T13:19:07.359Z"
   },
   {
    "duration": 0,
    "start_time": "2022-12-06T13:19:07.360Z"
   },
   {
    "duration": 0,
    "start_time": "2022-12-06T13:19:07.362Z"
   },
   {
    "duration": 0,
    "start_time": "2022-12-06T13:19:07.363Z"
   },
   {
    "duration": 0,
    "start_time": "2022-12-06T13:19:07.365Z"
   },
   {
    "duration": 0,
    "start_time": "2022-12-06T13:19:07.366Z"
   },
   {
    "duration": 0,
    "start_time": "2022-12-06T13:19:07.368Z"
   },
   {
    "duration": 0,
    "start_time": "2022-12-06T13:19:07.369Z"
   },
   {
    "duration": 0,
    "start_time": "2022-12-06T13:19:07.371Z"
   },
   {
    "duration": 0,
    "start_time": "2022-12-06T13:19:07.373Z"
   },
   {
    "duration": 0,
    "start_time": "2022-12-06T13:19:07.374Z"
   },
   {
    "duration": 9710,
    "start_time": "2022-12-06T13:20:08.415Z"
   },
   {
    "duration": 1537,
    "start_time": "2022-12-06T13:20:34.810Z"
   },
   {
    "duration": 1576,
    "start_time": "2022-12-06T13:20:36.350Z"
   },
   {
    "duration": 12,
    "start_time": "2022-12-06T13:20:37.928Z"
   },
   {
    "duration": 23,
    "start_time": "2022-12-06T13:20:37.943Z"
   },
   {
    "duration": 9,
    "start_time": "2022-12-06T13:20:37.968Z"
   },
   {
    "duration": 100,
    "start_time": "2022-12-06T13:20:37.979Z"
   },
   {
    "duration": 10601,
    "start_time": "2022-12-06T13:20:38.082Z"
   },
   {
    "duration": 130,
    "start_time": "2022-12-06T13:20:48.685Z"
   },
   {
    "duration": 20,
    "start_time": "2022-12-06T13:20:48.817Z"
   },
   {
    "duration": 10008,
    "start_time": "2022-12-06T13:20:48.840Z"
   },
   {
    "duration": 109,
    "start_time": "2022-12-06T13:20:58.851Z"
   },
   {
    "duration": 107,
    "start_time": "2022-12-06T13:20:59.039Z"
   },
   {
    "duration": 12107,
    "start_time": "2022-12-06T13:20:59.149Z"
   },
   {
    "duration": 191,
    "start_time": "2022-12-06T13:21:11.257Z"
   },
   {
    "duration": 188,
    "start_time": "2022-12-06T13:21:11.450Z"
   },
   {
    "duration": 6865,
    "start_time": "2022-12-06T13:21:11.641Z"
   },
   {
    "duration": 530,
    "start_time": "2022-12-06T13:21:18.508Z"
   },
   {
    "duration": 283,
    "start_time": "2022-12-06T13:21:19.041Z"
   },
   {
    "duration": 144,
    "start_time": "2022-12-06T13:21:19.337Z"
   },
   {
    "duration": 138,
    "start_time": "2022-12-06T13:21:19.482Z"
   },
   {
    "duration": 1442,
    "start_time": "2022-12-06T13:22:12.369Z"
   },
   {
    "duration": 1539,
    "start_time": "2022-12-06T13:22:13.813Z"
   },
   {
    "duration": 8,
    "start_time": "2022-12-06T13:22:15.354Z"
   },
   {
    "duration": 18,
    "start_time": "2022-12-06T13:22:15.364Z"
   },
   {
    "duration": 11,
    "start_time": "2022-12-06T13:22:15.386Z"
   },
   {
    "duration": 77,
    "start_time": "2022-12-06T13:22:15.400Z"
   },
   {
    "duration": 9903,
    "start_time": "2022-12-06T13:22:15.479Z"
   },
   {
    "duration": 132,
    "start_time": "2022-12-06T13:22:25.384Z"
   },
   {
    "duration": 7,
    "start_time": "2022-12-06T13:22:25.518Z"
   },
   {
    "duration": 11051,
    "start_time": "2022-12-06T13:22:25.538Z"
   },
   {
    "duration": 249,
    "start_time": "2022-12-06T13:22:36.591Z"
   },
   {
    "duration": 98,
    "start_time": "2022-12-06T13:22:36.842Z"
   },
   {
    "duration": 12088,
    "start_time": "2022-12-06T13:22:36.942Z"
   },
   {
    "duration": 106,
    "start_time": "2022-12-06T13:22:49.042Z"
   },
   {
    "duration": 197,
    "start_time": "2022-12-06T13:22:49.150Z"
   },
   {
    "duration": 7068,
    "start_time": "2022-12-06T13:22:49.350Z"
   },
   {
    "duration": 130,
    "start_time": "2022-12-06T13:22:56.420Z"
   },
   {
    "duration": 252,
    "start_time": "2022-12-06T13:22:56.639Z"
   },
   {
    "duration": 146,
    "start_time": "2022-12-06T13:22:56.893Z"
   },
   {
    "duration": 149,
    "start_time": "2022-12-06T13:22:57.041Z"
   },
   {
    "duration": 7437,
    "start_time": "2022-12-06T13:24:18.099Z"
   },
   {
    "duration": 96176,
    "start_time": "2022-12-06T13:24:49.741Z"
   },
   {
    "duration": 19256,
    "start_time": "2022-12-06T13:26:51.982Z"
   },
   {
    "duration": 34778,
    "start_time": "2022-12-06T13:27:35.349Z"
   },
   {
    "duration": 1575,
    "start_time": "2022-12-06T13:28:17.903Z"
   },
   {
    "duration": 1473,
    "start_time": "2022-12-06T13:28:19.480Z"
   },
   {
    "duration": 7,
    "start_time": "2022-12-06T13:28:20.954Z"
   },
   {
    "duration": 26,
    "start_time": "2022-12-06T13:28:20.964Z"
   },
   {
    "duration": 11,
    "start_time": "2022-12-06T13:28:20.992Z"
   },
   {
    "duration": 90,
    "start_time": "2022-12-06T13:28:21.005Z"
   },
   {
    "duration": 9769,
    "start_time": "2022-12-06T13:28:21.096Z"
   },
   {
    "duration": 135,
    "start_time": "2022-12-06T13:28:30.867Z"
   },
   {
    "duration": 6,
    "start_time": "2022-12-06T13:28:31.004Z"
   },
   {
    "duration": 33442,
    "start_time": "2022-12-06T13:28:31.012Z"
   },
   {
    "duration": 191,
    "start_time": "2022-12-06T13:29:04.456Z"
   },
   {
    "duration": 199,
    "start_time": "2022-12-06T13:29:04.649Z"
   },
   {
    "duration": 42575,
    "start_time": "2022-12-06T13:29:04.850Z"
   },
   {
    "duration": 118,
    "start_time": "2022-12-06T13:29:47.426Z"
   },
   {
    "duration": 103,
    "start_time": "2022-12-06T13:29:47.549Z"
   },
   {
    "duration": 24789,
    "start_time": "2022-12-06T13:29:47.655Z"
   },
   {
    "duration": 102,
    "start_time": "2022-12-06T13:30:12.446Z"
   },
   {
    "duration": 232,
    "start_time": "2022-12-06T13:30:12.638Z"
   },
   {
    "duration": 144,
    "start_time": "2022-12-06T13:30:12.872Z"
   },
   {
    "duration": 142,
    "start_time": "2022-12-06T13:30:13.017Z"
   },
   {
    "duration": 1423,
    "start_time": "2022-12-06T13:30:50.077Z"
   },
   {
    "duration": 1370,
    "start_time": "2022-12-06T13:30:51.502Z"
   },
   {
    "duration": 8,
    "start_time": "2022-12-06T13:30:52.874Z"
   },
   {
    "duration": 31,
    "start_time": "2022-12-06T13:30:52.883Z"
   },
   {
    "duration": 20,
    "start_time": "2022-12-06T13:30:52.917Z"
   },
   {
    "duration": 46,
    "start_time": "2022-12-06T13:30:52.939Z"
   },
   {
    "duration": 11001,
    "start_time": "2022-12-06T13:30:52.987Z"
   },
   {
    "duration": 140,
    "start_time": "2022-12-06T13:31:03.989Z"
   },
   {
    "duration": 9,
    "start_time": "2022-12-06T13:31:04.137Z"
   },
   {
    "duration": 16910,
    "start_time": "2022-12-06T13:31:04.149Z"
   },
   {
    "duration": 189,
    "start_time": "2022-12-06T13:31:21.061Z"
   },
   {
    "duration": 98,
    "start_time": "2022-12-06T13:31:21.340Z"
   },
   {
    "duration": 21887,
    "start_time": "2022-12-06T13:31:21.439Z"
   },
   {
    "duration": 212,
    "start_time": "2022-12-06T13:31:43.330Z"
   },
   {
    "duration": 194,
    "start_time": "2022-12-06T13:31:43.544Z"
   },
   {
    "duration": 12214,
    "start_time": "2022-12-06T13:31:43.740Z"
   },
   {
    "duration": 192,
    "start_time": "2022-12-06T13:31:55.956Z"
   },
   {
    "duration": 328,
    "start_time": "2022-12-06T13:31:56.151Z"
   },
   {
    "duration": 143,
    "start_time": "2022-12-06T13:31:56.481Z"
   },
   {
    "duration": 151,
    "start_time": "2022-12-06T13:31:56.626Z"
   },
   {
    "duration": 85,
    "start_time": "2022-12-06T13:36:22.058Z"
   },
   {
    "duration": 101,
    "start_time": "2022-12-06T13:36:37.445Z"
   },
   {
    "duration": 204,
    "start_time": "2022-12-06T13:36:52.835Z"
   },
   {
    "duration": 118,
    "start_time": "2022-12-06T14:06:10.934Z"
   },
   {
    "duration": 462,
    "start_time": "2022-12-06T14:07:25.078Z"
   },
   {
    "duration": 435,
    "start_time": "2022-12-06T14:09:11.161Z"
   },
   {
    "duration": 31,
    "start_time": "2022-12-06T14:10:13.217Z"
   },
   {
    "duration": 472,
    "start_time": "2022-12-06T14:10:28.423Z"
   },
   {
    "duration": 450,
    "start_time": "2022-12-06T14:11:23.941Z"
   },
   {
    "duration": 423,
    "start_time": "2022-12-06T14:11:30.675Z"
   },
   {
    "duration": 36,
    "start_time": "2022-12-06T14:11:56.011Z"
   },
   {
    "duration": 466,
    "start_time": "2022-12-06T14:12:06.303Z"
   },
   {
    "duration": 1460,
    "start_time": "2022-12-06T14:20:20.925Z"
   },
   {
    "duration": 1436,
    "start_time": "2022-12-06T14:20:22.388Z"
   },
   {
    "duration": 11,
    "start_time": "2022-12-06T14:20:23.827Z"
   },
   {
    "duration": 18,
    "start_time": "2022-12-06T14:20:23.841Z"
   },
   {
    "duration": 21,
    "start_time": "2022-12-06T14:20:23.861Z"
   },
   {
    "duration": 74,
    "start_time": "2022-12-06T14:20:23.884Z"
   },
   {
    "duration": 9725,
    "start_time": "2022-12-06T14:20:23.959Z"
   },
   {
    "duration": 119,
    "start_time": "2022-12-06T14:20:33.686Z"
   },
   {
    "duration": 7,
    "start_time": "2022-12-06T14:20:33.807Z"
   },
   {
    "duration": 16548,
    "start_time": "2022-12-06T14:20:33.817Z"
   },
   {
    "duration": 180,
    "start_time": "2022-12-06T14:20:50.367Z"
   },
   {
    "duration": 101,
    "start_time": "2022-12-06T14:20:50.644Z"
   },
   {
    "duration": 21196,
    "start_time": "2022-12-06T14:20:50.746Z"
   },
   {
    "duration": 301,
    "start_time": "2022-12-06T14:21:11.944Z"
   },
   {
    "duration": 107,
    "start_time": "2022-12-06T14:21:12.247Z"
   },
   {
    "duration": 12238,
    "start_time": "2022-12-06T14:21:12.356Z"
   },
   {
    "duration": 150,
    "start_time": "2022-12-06T14:21:24.596Z"
   },
   {
    "duration": 625,
    "start_time": "2022-12-06T14:21:24.747Z"
   },
   {
    "duration": 421,
    "start_time": "2022-12-06T14:21:25.374Z"
   },
   {
    "duration": 473,
    "start_time": "2022-12-06T14:21:25.797Z"
   },
   {
    "duration": 111,
    "start_time": "2022-12-07T17:27:29.533Z"
   },
   {
    "duration": 48,
    "start_time": "2022-12-07T17:33:21.262Z"
   },
   {
    "duration": 1729,
    "start_time": "2022-12-07T17:33:28.550Z"
   },
   {
    "duration": 1585,
    "start_time": "2022-12-07T17:33:30.282Z"
   },
   {
    "duration": 7,
    "start_time": "2022-12-07T17:33:31.871Z"
   },
   {
    "duration": 21,
    "start_time": "2022-12-07T17:33:31.879Z"
   },
   {
    "duration": 9,
    "start_time": "2022-12-07T17:33:31.902Z"
   },
   {
    "duration": 51,
    "start_time": "2022-12-07T17:33:31.937Z"
   },
   {
    "duration": 10131,
    "start_time": "2022-12-07T17:33:31.990Z"
   },
   {
    "duration": 165,
    "start_time": "2022-12-07T17:33:42.123Z"
   },
   {
    "duration": 8,
    "start_time": "2022-12-07T17:33:42.292Z"
   },
   {
    "duration": 17424,
    "start_time": "2022-12-07T17:33:42.303Z"
   },
   {
    "duration": 309,
    "start_time": "2022-12-07T17:33:59.729Z"
   },
   {
    "duration": 98,
    "start_time": "2022-12-07T17:34:00.041Z"
   },
   {
    "duration": 21590,
    "start_time": "2022-12-07T17:34:00.142Z"
   },
   {
    "duration": 122,
    "start_time": "2022-12-07T17:34:21.738Z"
   },
   {
    "duration": 106,
    "start_time": "2022-12-07T17:34:21.938Z"
   },
   {
    "duration": 12819,
    "start_time": "2022-12-07T17:34:22.046Z"
   },
   {
    "duration": 79,
    "start_time": "2022-12-07T17:34:34.867Z"
   },
   {
    "duration": 513,
    "start_time": "2022-12-07T17:34:35.038Z"
   },
   {
    "duration": 427,
    "start_time": "2022-12-07T17:34:35.553Z"
   },
   {
    "duration": 436,
    "start_time": "2022-12-07T17:34:35.982Z"
   },
   {
    "duration": 105,
    "start_time": "2022-12-07T17:34:36.420Z"
   },
   {
    "duration": 455,
    "start_time": "2022-12-07T17:39:19.514Z"
   },
   {
    "duration": 419,
    "start_time": "2022-12-07T17:43:57.558Z"
   },
   {
    "duration": 428,
    "start_time": "2022-12-07T17:46:56.238Z"
   },
   {
    "duration": 1469,
    "start_time": "2022-12-07T17:49:19.746Z"
   },
   {
    "duration": 2600,
    "start_time": "2022-12-07T17:49:21.217Z"
   },
   {
    "duration": 8,
    "start_time": "2022-12-07T17:49:23.818Z"
   },
   {
    "duration": 29,
    "start_time": "2022-12-07T17:49:23.838Z"
   },
   {
    "duration": 9,
    "start_time": "2022-12-07T17:49:23.870Z"
   },
   {
    "duration": 75,
    "start_time": "2022-12-07T17:49:23.881Z"
   },
   {
    "duration": 9766,
    "start_time": "2022-12-07T17:49:23.957Z"
   },
   {
    "duration": 137,
    "start_time": "2022-12-07T17:49:33.725Z"
   },
   {
    "duration": 9,
    "start_time": "2022-12-07T17:49:33.864Z"
   },
   {
    "duration": 18240,
    "start_time": "2022-12-07T17:49:33.875Z"
   },
   {
    "duration": 327,
    "start_time": "2022-12-07T17:49:52.117Z"
   },
   {
    "duration": 99,
    "start_time": "2022-12-07T17:49:52.447Z"
   },
   {
    "duration": 22029,
    "start_time": "2022-12-07T17:49:52.548Z"
   },
   {
    "duration": 72,
    "start_time": "2022-12-07T17:50:14.580Z"
   },
   {
    "duration": 102,
    "start_time": "2022-12-07T17:50:14.739Z"
   },
   {
    "duration": 12589,
    "start_time": "2022-12-07T17:50:14.843Z"
   },
   {
    "duration": 201,
    "start_time": "2022-12-07T17:50:27.437Z"
   },
   {
    "duration": 529,
    "start_time": "2022-12-07T17:50:27.642Z"
   },
   {
    "duration": 466,
    "start_time": "2022-12-07T17:50:28.173Z"
   },
   {
    "duration": 463,
    "start_time": "2022-12-07T17:50:28.641Z"
   },
   {
    "duration": 450,
    "start_time": "2022-12-07T17:50:29.106Z"
   },
   {
    "duration": 425,
    "start_time": "2022-12-07T17:50:29.558Z"
   },
   {
    "duration": 460,
    "start_time": "2022-12-07T17:50:29.985Z"
   },
   {
    "duration": 1607,
    "start_time": "2023-10-29T19:01:01.209Z"
   },
   {
    "duration": 1435,
    "start_time": "2023-10-29T19:01:02.818Z"
   },
   {
    "duration": 6,
    "start_time": "2023-10-29T19:01:04.254Z"
   },
   {
    "duration": 17,
    "start_time": "2023-10-29T19:01:04.262Z"
   },
   {
    "duration": 7,
    "start_time": "2023-10-29T19:01:04.281Z"
   },
   {
    "duration": 65,
    "start_time": "2023-10-29T19:01:04.289Z"
   },
   {
    "duration": 8968,
    "start_time": "2023-10-29T19:01:04.357Z"
   },
   {
    "duration": 119,
    "start_time": "2023-10-29T19:01:13.326Z"
   },
   {
    "duration": 6,
    "start_time": "2023-10-29T19:01:13.447Z"
   },
   {
    "duration": 16277,
    "start_time": "2023-10-29T19:01:13.454Z"
   },
   {
    "duration": 315,
    "start_time": "2023-10-29T19:01:29.733Z"
   },
   {
    "duration": 100,
    "start_time": "2023-10-29T19:01:30.050Z"
   },
   {
    "duration": 20202,
    "start_time": "2023-10-29T19:01:30.152Z"
   },
   {
    "duration": 194,
    "start_time": "2023-10-29T19:01:50.357Z"
   },
   {
    "duration": 99,
    "start_time": "2023-10-29T19:01:50.554Z"
   },
   {
    "duration": 11641,
    "start_time": "2023-10-29T19:01:50.655Z"
   },
   {
    "duration": 155,
    "start_time": "2023-10-29T19:02:02.298Z"
   },
   {
    "duration": 501,
    "start_time": "2023-10-29T19:02:02.545Z"
   },
   {
    "duration": 417,
    "start_time": "2023-10-29T19:02:03.048Z"
   },
   {
    "duration": 420,
    "start_time": "2023-10-29T19:02:03.467Z"
   },
   {
    "duration": 136,
    "start_time": "2023-10-29T19:02:03.889Z"
   }
  ],
  "kernelspec": {
   "display_name": "Python 3 (ipykernel)",
   "language": "python",
   "name": "python3"
  },
  "language_info": {
   "codemirror_mode": {
    "name": "ipython",
    "version": 3
   },
   "file_extension": ".py",
   "mimetype": "text/x-python",
   "name": "python",
   "nbconvert_exporter": "python",
   "pygments_lexer": "ipython3",
   "version": "3.9.5"
  },
  "toc": {
   "base_numbering": 1,
   "nav_menu": {},
   "number_sections": true,
   "sideBar": true,
   "skip_h1_title": true,
   "title_cell": "Содержание",
   "title_sidebar": "Contents",
   "toc_cell": true,
   "toc_position": {
    "height": "calc(100% - 180px)",
    "left": "10px",
    "top": "150px",
    "width": "165px"
   },
   "toc_section_display": true,
   "toc_window_display": false
  }
 },
 "nbformat": 4,
 "nbformat_minor": 2
}
