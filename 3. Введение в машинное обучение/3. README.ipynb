{
 "cells": [
  {
   "cell_type": "markdown",
   "source": [
    "## Рекомендация тарифов\n",
    "\n",
    "Оператор мобильной связи выяснил: многие клиенты пользуются архивными тарифами. Они хотят построить систему, способную проанализировать поведение клиентов и предложить пользователям новый тариф: «Смарт» или «Ультра».\n",
    "В нашем распоряжении данные о поведении клиентов, которые уже перешли на эти тарифы. \n",
    "**Задача:** построить модель для задачи классификации, которая выберет подходящий тариф. \n",
    "\n",
    "## Библиотеки\n",
    "\n",
    "`pandas`\n",
    "`matplotlib`\n",
    "`sklearn`\n",
    "\n",
    "\n",
    "##  Модели\n",
    "\n",
    "- Случайный лес\n",
    "- Логистическая регрессия\n",
    "\n",
    "\n",
    "## Итоги:\n",
    "\n",
    "- Проведен исследовательский анализ данных\n",
    "- Обучены модели \"Случайный лес\" и \"Логистическая регрессия\"\n",
    "- Рассчитаны значения метрики accuracy для обоих моделей\n",
    "- Проведена проверка моделей на адекватность \n",
    "\n",
    "\n"
   ],
   "metadata": {
    "collapsed": false
   },
   "id": "cd20a23b6f272fb4"
  },
  {
   "cell_type": "code",
   "execution_count": null,
   "outputs": [],
   "source": [],
   "metadata": {
    "collapsed": false
   },
   "id": "db99b68c88f3df66"
  }
 ],
 "metadata": {
  "kernelspec": {
   "display_name": "Python 3",
   "language": "python",
   "name": "python3"
  },
  "language_info": {
   "codemirror_mode": {
    "name": "ipython",
    "version": 2
   },
   "file_extension": ".py",
   "mimetype": "text/x-python",
   "name": "python",
   "nbconvert_exporter": "python",
   "pygments_lexer": "ipython2",
   "version": "2.7.6"
  }
 },
 "nbformat": 4,
 "nbformat_minor": 5
}
