{
 "cells": [
  {
   "cell_type": "markdown",
   "metadata": {},
   "source": [
    "# Рекомендация тарифов"
   ]
  },
  {
   "cell_type": "markdown",
   "metadata": {},
   "source": [
    "Оператор мобильной связи выяснил: многие клиенты пользуются архивными тарифами. Они хотят построить систему, способную проанализировать поведение клиентов и предложить пользователям новый тариф: «Смарт» или «Ультра».\n",
    "В нашем распоряжении данные о поведении клиентов, которые уже перешли на эти тарифы. \n",
    "**Задача:** построить модель для задачи классификации, которая выберет подходящий тариф. "
   ]
  },
  {
   "cell_type": "markdown",
   "source": [
    "## Изучение данных"
   ],
   "metadata": {
    "collapsed": false
   }
  },
  {
   "cell_type": "code",
   "execution_count": 1,
   "metadata": {},
   "outputs": [],
   "source": [
    "import pandas as pd\n",
    "import matplotlib.pyplot as plt\n",
    "\n",
    "from sklearn.model_selection import train_test_split\n",
    "from sklearn.metrics import accuracy_score\n",
    "\n",
    "from sklearn.tree import DecisionTreeClassifier\n",
    "from sklearn.ensemble import RandomForestClassifier\n",
    "from sklearn.linear_model import LogisticRegression"
   ]
  },
  {
   "cell_type": "code",
   "execution_count": 2,
   "metadata": {},
   "outputs": [
    {
     "name": "stdout",
     "output_type": "stream",
     "text": [
      "<class 'pandas.core.frame.DataFrame'>\n",
      "RangeIndex: 3214 entries, 0 to 3213\n",
      "Data columns (total 5 columns):\n",
      " #   Column    Non-Null Count  Dtype  \n",
      "---  ------    --------------  -----  \n",
      " 0   calls     3214 non-null   float64\n",
      " 1   minutes   3214 non-null   float64\n",
      " 2   messages  3214 non-null   float64\n",
      " 3   mb_used   3214 non-null   float64\n",
      " 4   is_ultra  3214 non-null   int64  \n",
      "dtypes: float64(4), int64(1)\n",
      "memory usage: 125.7 KB\n",
      "   calls  minutes  messages   mb_used  is_ultra\n",
      "0   40.0   311.90      83.0  19915.42         0\n",
      "1   85.0   516.75      56.0  22696.96         0\n",
      "2   77.0   467.66      86.0  21060.45         0\n",
      "3  106.0   745.53      81.0   8437.39         1\n",
      "4   66.0   418.74       1.0  14502.75         0\n"
     ]
    },
    {
     "data": {
      "image/png": "[encoded data removed]",
      "text/plain": [
       "<Figure size 720x1080 with 6 Axes>"
      ]
     },
     "metadata": {
      "needs_background": "light"
     },
     "output_type": "display_data"
    }
   ],
   "source": [
    "df = pd.read_csv('/datasets/users_behavior.csv')\n",
    "df.info()\n",
    "print(df.head())\n",
    "df.hist(figsize=(10, 15))\n",
    "plt.show()"
   ]
  },
  {
   "cell_type": "markdown",
   "metadata": {},
   "source": [
    "Согласно описанию проекта, предобработка данных не требуется, однако на мой взгляд стоит сделать следующее:\n",
    "- Изменить тип данных столбцов, соответствующих числу звонков и сообщений на int \n",
    "- Изменить тип данных столбца, соответствующего тарифу на bool\n",
    "- Проверить датафрейм на наличие пропусков и дубликатов (на всякий случай)"
   ]
  },
  {
   "cell_type": "code",
   "execution_count": 3,
   "metadata": {},
   "outputs": [
    {
     "name": "stdout",
     "output_type": "stream",
     "text": [
      "0\n",
      "calls       0\n",
      "minutes     0\n",
      "messages    0\n",
      "mb_used     0\n",
      "is_ultra    0\n",
      "dtype: int64\n",
      "<class 'pandas.core.frame.DataFrame'>\n",
      "RangeIndex: 3214 entries, 0 to 3213\n",
      "Data columns (total 5 columns):\n",
      " #   Column    Non-Null Count  Dtype  \n",
      "---  ------    --------------  -----  \n",
      " 0   calls     3214 non-null   int64  \n",
      " 1   minutes   3214 non-null   float64\n",
      " 2   messages  3214 non-null   int64  \n",
      " 3   mb_used   3214 non-null   float64\n",
      " 4   is_ultra  3214 non-null   bool   \n",
      "dtypes: bool(1), float64(2), int64(2)\n",
      "memory usage: 103.7 KB\n"
     ]
    }
   ],
   "source": [
    "df['calls']=df['calls'].astype('int')\n",
    "df['messages']=df['messages'].astype('int')\n",
    "df['is_ultra']=df['is_ultra'].astype('bool')\n",
    "\n",
    "print(df.duplicated().sum())\n",
    "print(df.isna().sum())\n",
    "\n",
    "df.info()"
   ]
  },
  {
   "cell_type": "markdown",
   "metadata": {},
   "source": [
    "*Пропусков и дубликатов не оказалось.*"
   ]
  },
  {
   "cell_type": "markdown",
   "metadata": {},
   "source": [
    "## Разбиение данных на выборки"
   ]
  },
  {
   "cell_type": "markdown",
   "metadata": {},
   "source": [
    "Целевой признак - информация о том, каким тарифом пользовался клиент."
   ]
  },
  {
   "cell_type": "code",
   "execution_count": 4,
   "metadata": {},
   "outputs": [],
   "source": [
    "df_ohe = pd.get_dummies(df, drop_first=True)\n",
    "\n",
    "features = df_ohe.drop(['is_ultra'], axis = 1)\n",
    "target = df_ohe['is_ultra']"
   ]
  },
  {
   "cell_type": "markdown",
   "metadata": {},
   "source": [
    "Разделим датафрейм на обучающую, валидационную и тестовую выборки в соотношении 3:1:1"
   ]
  },
  {
   "cell_type": "code",
   "execution_count": 5,
   "metadata": {},
   "outputs": [],
   "source": [
    "features, features_test, target, target_test = train_test_split(\n",
    "    features, target, test_size=.2, random_state=12345)\n",
    "\n",
    "features_train, features_valid, target_train, target_valid = train_test_split(\n",
    "    features, target, test_size=.25, random_state=12345)"
   ]
  },
  {
   "cell_type": "markdown",
   "metadata": {},
   "source": [
    "## Исследовение моделей"
   ]
  },
  {
   "cell_type": "markdown",
   "metadata": {},
   "source": [
    " ### Случайный лес"
   ]
  },
  {
   "cell_type": "code",
   "execution_count": 6,
   "metadata": {},
   "outputs": [
    {
     "name": "stdout",
     "output_type": "stream",
     "text": [
      "Accuracy наилучшей модели на валидационной выборке: 0.8055987558320373\n",
      "Параметры наилучшей модели\n",
      "n_estimators - 8\n",
      "max_depth - 13\n",
      "max_features - 1\n"
     ]
    }
   ],
   "source": [
    "forest_best_model = None\n",
    "best_accuracy = 0\n",
    "best_est = 0\n",
    "best_depth = 0\n",
    "best_feature = 0\n",
    "\n",
    "for feature in range (1, 5):\n",
    "    for depth in range (1, 15): \n",
    "        for est in range (1, 15):\n",
    "            model = RandomForestClassifier(random_state=12345, n_estimators=est, max_depth=depth, max_features=feature) \n",
    "            model.fit(features_train, target_train) \n",
    "            accuracy = model.score(features_valid, target_valid) \n",
    "            if accuracy > best_accuracy:\n",
    "                forest_best_model = model\n",
    "                best_accuracy = accuracy\n",
    "                best_est = est\n",
    "                best_depth = depth\n",
    "                best_feature = feature \n",
    "        \n",
    "print(\"Accuracy наилучшей модели на валидационной выборке:\", best_accuracy)\n",
    "print('Параметры наилучшей модели')\n",
    "print('n_estimators -', best_est)\n",
    "print('max_depth -', best_depth)\n",
    "print('max_features -', best_feature)"
   ]
  },
  {
   "cell_type": "markdown",
   "metadata": {},
   "source": [
    "В модели \"Случаный лес\" рассмотрены влияния гиперпараметров n_estimators, max_depth и max_features. Значения для первых двух гиперпараметров выбиралось из диапозона (1, 15), значения для max_features выбираолсь из диапозона (1, 5).\n",
    "\n",
    "Наилучший результат для модели \"Случайный лес\":\n",
    "- n_estimators - 8\n",
    "- max_depth - 13\n",
    "- max_features - 1\n",
    "\n",
    "**Accuracy = 0.806**"
   ]
  },
  {
   "cell_type": "markdown",
   "metadata": {},
   "source": [
    "### Логистическая регрессия"
   ]
  },
  {
   "cell_type": "code",
   "execution_count": 7,
   "metadata": {
    "scrolled": true
   },
   "outputs": [
    {
     "name": "stdout",
     "output_type": "stream",
     "text": [
      "Accuracy наилучшей модели на валидационной выборке: 0.7262830482115086\n",
      "Параметры наилучшей модели\n",
      "max_iter - 100\n"
     ]
    }
   ],
   "source": [
    "logistic_best_model = LogisticRegression(random_state=12345, solver='lbfgs')\n",
    "best_accuracy = 0\n",
    "best_iter = 0\n",
    "\n",
    "for iters in range(100, 2000, 100):\n",
    "    model = LogisticRegression(random_state=12345, solver='lbfgs', max_iter=iters)\n",
    "    model.fit(features_train, target_train) \n",
    "    accuracy = model.score(features_valid, target_valid)\n",
    "    if accuracy > best_accuracy:\n",
    "        logistic_best_model = model\n",
    "        best_accuracy = accuracy\n",
    "        best_iter = iters\n",
    "        \n",
    "print(\"Accuracy наилучшей модели на валидационной выборке:\", best_accuracy)\n",
    "print('Параметры наилучшей модели')\n",
    "print('max_iter -', best_iter)  \n"
   ]
  },
  {
   "cell_type": "markdown",
   "metadata": {},
   "source": [
    "В модели \"Логистическая регрессия\" рассмотрено влияние гиперпараметра max_iter. Значения выбиралось из диапозона (100, 2000) с шагом 100.\n",
    "\n",
    "Наилучший результат для модели \"Логистическая регрессия\":\n",
    "- max_iter - 100\n",
    "\n",
    "**Accuracy = 0.726**"
   ]
  },
  {
   "cell_type": "markdown",
   "metadata": {},
   "source": [
    "Наилучший результат у модели \"Случайный лес\" с параметрами:\n",
    "- n_estimators - 8\n",
    "- max_depth - 13\n",
    "- max_features - 1\n",
    "\n",
    "Со значением accuracy = 0.806"
   ]
  },
  {
   "cell_type": "markdown",
   "metadata": {},
   "source": [
    "## Проверка модели на тестовой выборке"
   ]
  },
  {
   "cell_type": "markdown",
   "metadata": {},
   "source": [
    "### Проверка модели Случайный лес"
   ]
  },
  {
   "cell_type": "code",
   "execution_count": 8,
   "metadata": {},
   "outputs": [
    {
     "name": "stdout",
     "output_type": "stream",
     "text": [
      "Тестовое значение accuracy для модели \"Случайный лес\" с наилучшими параметрами: 0.7791601866251944\n"
     ]
    }
   ],
   "source": [
    "forest_predict = forest_best_model.predict(features_test)\n",
    "print('Тестовое значение accuracy для модели \"Случайный лес\" с наилучшими параметрами:', accuracy_score(target_test, forest_predict))\n",
    "\n"
   ]
  },
  {
   "cell_type": "markdown",
   "metadata": {},
   "source": [
    "### Проверка модели логистическая регрессия"
   ]
  },
  {
   "cell_type": "code",
   "execution_count": 9,
   "metadata": {},
   "outputs": [
    {
     "name": "stdout",
     "output_type": "stream",
     "text": [
      "Тестовое значение accuracy для модели \"Логистическая регрессия\" с наилучшими параметрами: 0.7589424572317263\n"
     ]
    }
   ],
   "source": [
    "logistic_predict = logistic_best_model.predict(features_test)\n",
    "print('Тестовое значение accuracy для модели \"Логистическая регрессия\" с наилучшими параметрами:', accuracy_score(target_test, logistic_predict))"
   ]
  },
  {
   "cell_type": "markdown",
   "metadata": {},
   "source": [
    "## Проверка модели на адекватность"
   ]
  },
  {
   "cell_type": "markdown",
   "metadata": {},
   "source": [
    "Проверка модели на адекватность подразумевает сравнение ее со случайной моделью. Точность(значение accuracy) для такой модели = 0.5.\n",
    "Обе модели показали значение accuracy больше 0.5 (и даже больше 0.7) как на валидационной, так и на тестовой выборках, что свидетельствует об адекватности модели."
   ]
  },
  {
   "cell_type": "markdown",
   "metadata": {},
   "source": [
    "## Вывод\n",
    "Для модели \"Случайный лес\" с параметрами:\n",
    "- n_estimators - 8\n",
    "- max_depth - 13\n",
    "- max_features - 1\n",
    "\n",
    "Были получены следующие значения accuracy:\n",
    "- На валидационной выборке: 0.806\n",
    "- На тестовой выборке: 0.779\n",
    "\n",
    "Для модели \"Логистическая регрессия\" с параметром:\n",
    "- max_iter - 100\n",
    "\n",
    "Были получены следующие значения accuracy:\n",
    "- На валидационной выборке: 0.726\n",
    "- На тестовой выборке: 0.759\n",
    "\n",
    "Значения точности всех моделей >0.5, что говорит об их адекватности.\n",
    "\n",
    "По итогам обоих значений accuracy, модель \"Случайный лес\", с приведенными выше параметрами, оказалась точней модели \"Логистическая регрессия\"."
   ]
  },
  {
   "cell_type": "code",
   "execution_count": null,
   "metadata": {},
   "outputs": [],
   "source": []
  }
 ],
 "metadata": {
  "ExecuteTimeLog": [
   {
    "duration": 48,
    "start_time": "2022-11-27T17:53:17.280Z"
   },
   {
    "duration": 820,
    "start_time": "2022-11-27T17:53:24.368Z"
   },
   {
    "duration": 843,
    "start_time": "2022-11-27T17:53:25.766Z"
   },
   {
    "duration": 5,
    "start_time": "2022-11-27T18:09:40.048Z"
   },
   {
    "duration": 808,
    "start_time": "2022-11-27T18:11:10.969Z"
   },
   {
    "duration": 760,
    "start_time": "2022-11-27T18:11:29.370Z"
   },
   {
    "duration": 19,
    "start_time": "2022-11-27T18:11:34.708Z"
   },
   {
    "duration": 16,
    "start_time": "2022-11-27T18:11:38.511Z"
   },
   {
    "duration": 26,
    "start_time": "2022-11-27T18:11:51.338Z"
   },
   {
    "duration": 21,
    "start_time": "2022-11-27T18:12:07.699Z"
   },
   {
    "duration": 17,
    "start_time": "2022-11-27T18:12:16.813Z"
   },
   {
    "duration": 238,
    "start_time": "2022-11-27T18:14:03.019Z"
   },
   {
    "duration": 219,
    "start_time": "2022-11-27T18:14:21.783Z"
   },
   {
    "duration": 216,
    "start_time": "2022-11-27T18:14:30.545Z"
   },
   {
    "duration": 32,
    "start_time": "2022-11-27T18:16:04.860Z"
   },
   {
    "duration": 20,
    "start_time": "2022-11-27T18:16:23.505Z"
   },
   {
    "duration": 10,
    "start_time": "2022-11-27T18:16:53.310Z"
   },
   {
    "duration": 25,
    "start_time": "2022-11-27T18:19:04.551Z"
   },
   {
    "duration": 16,
    "start_time": "2022-11-27T18:20:29.016Z"
   },
   {
    "duration": 13,
    "start_time": "2022-11-27T18:25:27.139Z"
   },
   {
    "duration": 2,
    "start_time": "2022-11-27T18:26:44.832Z"
   },
   {
    "duration": 22,
    "start_time": "2022-11-27T18:26:48.990Z"
   },
   {
    "duration": 15,
    "start_time": "2022-11-27T18:27:40.778Z"
   },
   {
    "duration": 759,
    "start_time": "2022-11-27T18:44:58.611Z"
   },
   {
    "duration": 589,
    "start_time": "2022-11-27T18:52:47.514Z"
   },
   {
    "duration": 13,
    "start_time": "2022-11-27T18:53:20.388Z"
   },
   {
    "duration": 16,
    "start_time": "2022-11-27T18:55:04.869Z"
   },
   {
    "duration": 16,
    "start_time": "2022-11-27T18:55:18.288Z"
   },
   {
    "duration": 22,
    "start_time": "2022-11-27T18:57:42.646Z"
   },
   {
    "duration": 5,
    "start_time": "2022-11-27T19:10:51.510Z"
   },
   {
    "duration": 10,
    "start_time": "2022-11-27T19:10:53.707Z"
   },
   {
    "duration": 746,
    "start_time": "2022-11-27T19:11:00.130Z"
   },
   {
    "duration": 7,
    "start_time": "2022-11-27T19:11:04.134Z"
   },
   {
    "duration": 2,
    "start_time": "2022-11-27T19:17:12.696Z"
   },
   {
    "duration": 3,
    "start_time": "2022-11-27T19:17:16.153Z"
   },
   {
    "duration": 43,
    "start_time": "2022-11-27T19:20:26.799Z"
   },
   {
    "duration": 5402,
    "start_time": "2022-11-27T19:26:42.474Z"
   },
   {
    "duration": 54,
    "start_time": "2022-11-27T19:31:11.137Z"
   },
   {
    "duration": 5288,
    "start_time": "2022-11-27T19:31:35.812Z"
   },
   {
    "duration": 5441,
    "start_time": "2022-11-27T19:32:12.136Z"
   },
   {
    "duration": 315,
    "start_time": "2022-11-27T19:33:34.378Z"
   },
   {
    "duration": 293,
    "start_time": "2022-11-27T19:34:17.616Z"
   },
   {
    "duration": 5365,
    "start_time": "2022-11-27T19:34:26.359Z"
   },
   {
    "duration": 5298,
    "start_time": "2022-11-27T19:36:59.283Z"
   },
   {
    "duration": 12208,
    "start_time": "2022-11-27T19:42:23.860Z"
   },
   {
    "duration": 12188,
    "start_time": "2022-11-27T19:43:58.143Z"
   },
   {
    "duration": 12951,
    "start_time": "2022-11-27T19:44:25.659Z"
   },
   {
    "duration": 12931,
    "start_time": "2022-11-27T19:44:46.875Z"
   },
   {
    "duration": 2,
    "start_time": "2022-11-27T19:55:34.150Z"
   },
   {
    "duration": 4,
    "start_time": "2022-11-27T19:56:46.736Z"
   },
   {
    "duration": 3,
    "start_time": "2022-11-27T19:57:12.222Z"
   },
   {
    "duration": 15444,
    "start_time": "2022-11-27T19:58:41.393Z"
   },
   {
    "duration": 51,
    "start_time": "2022-11-27T20:00:40.750Z"
   },
   {
    "duration": 12,
    "start_time": "2022-11-27T20:01:11.816Z"
   },
   {
    "duration": 38374,
    "start_time": "2022-11-27T20:01:20.395Z"
   },
   {
    "duration": 57023,
    "start_time": "2022-11-27T20:05:08.351Z"
   },
   {
    "duration": 57366,
    "start_time": "2022-11-27T20:06:59.037Z"
   },
   {
    "duration": 57110,
    "start_time": "2022-11-27T20:08:18.709Z"
   },
   {
    "duration": 57275,
    "start_time": "2022-11-27T20:09:27.350Z"
   },
   {
    "duration": 21982,
    "start_time": "2022-11-27T20:12:59.770Z"
   },
   {
    "duration": 11,
    "start_time": "2022-11-27T20:36:20.770Z"
   },
   {
    "duration": 12,
    "start_time": "2022-11-27T20:36:31.493Z"
   },
   {
    "duration": 3,
    "start_time": "2022-11-27T20:36:55.529Z"
   },
   {
    "duration": 625,
    "start_time": "2022-11-27T20:36:59.675Z"
   },
   {
    "duration": 609,
    "start_time": "2022-11-27T20:39:34.979Z"
   },
   {
    "duration": 624,
    "start_time": "2022-11-27T20:39:52.231Z"
   },
   {
    "duration": 549,
    "start_time": "2022-11-27T20:40:07.860Z"
   },
   {
    "duration": 618,
    "start_time": "2022-11-27T20:40:26.965Z"
   },
   {
    "duration": 6153,
    "start_time": "2022-11-27T20:40:32.815Z"
   },
   {
    "duration": 6307,
    "start_time": "2022-11-27T20:40:47.923Z"
   },
   {
    "duration": 1571,
    "start_time": "2022-11-27T20:41:29.401Z"
   },
   {
    "duration": 1579,
    "start_time": "2022-11-28T19:34:58.250Z"
   },
   {
    "duration": 685,
    "start_time": "2022-11-28T19:34:59.831Z"
   },
   {
    "duration": 25,
    "start_time": "2022-11-28T19:35:00.517Z"
   },
   {
    "duration": 5,
    "start_time": "2022-11-28T19:35:00.544Z"
   },
   {
    "duration": 28,
    "start_time": "2022-11-28T19:35:00.550Z"
   },
   {
    "duration": 21124,
    "start_time": "2022-11-28T19:35:00.580Z"
   },
   {
    "duration": 691,
    "start_time": "2022-11-28T19:35:21.705Z"
   },
   {
    "duration": 190,
    "start_time": "2022-11-28T19:35:22.399Z"
   },
   {
    "duration": 0,
    "start_time": "2022-11-28T19:35:22.591Z"
   },
   {
    "duration": 19,
    "start_time": "2022-11-28T19:36:50.898Z"
   },
   {
    "duration": 13,
    "start_time": "2022-11-28T19:37:04.453Z"
   },
   {
    "duration": 6,
    "start_time": "2022-11-28T19:37:13.585Z"
   },
   {
    "duration": 7,
    "start_time": "2022-11-28T19:37:53.491Z"
   },
   {
    "duration": 8,
    "start_time": "2022-11-28T19:38:44.368Z"
   },
   {
    "duration": 9,
    "start_time": "2022-11-28T19:38:57.603Z"
   },
   {
    "duration": 652,
    "start_time": "2022-11-28T19:40:41.210Z"
   },
   {
    "duration": 21341,
    "start_time": "2022-11-28T19:41:01.931Z"
   },
   {
    "duration": 720,
    "start_time": "2022-11-28T19:41:28.307Z"
   },
   {
    "duration": 627,
    "start_time": "2022-11-28T19:41:43.576Z"
   },
   {
    "duration": 10,
    "start_time": "2022-11-28T19:41:47.754Z"
   },
   {
    "duration": 21769,
    "start_time": "2022-11-28T19:43:09.708Z"
   },
   {
    "duration": 731,
    "start_time": "2022-11-28T19:44:07.477Z"
   },
   {
    "duration": 617,
    "start_time": "2022-11-28T19:44:24.024Z"
   },
   {
    "duration": 1783,
    "start_time": "2022-11-28T19:44:35.727Z"
   },
   {
    "duration": 1704,
    "start_time": "2022-11-28T19:45:05.992Z"
   },
   {
    "duration": 1714,
    "start_time": "2022-11-28T19:45:37.856Z"
   },
   {
    "duration": 16,
    "start_time": "2022-11-28T19:45:44.532Z"
   },
   {
    "duration": 5,
    "start_time": "2022-11-28T19:45:47.764Z"
   },
   {
    "duration": 6,
    "start_time": "2022-11-28T19:46:11.987Z"
   },
   {
    "duration": 20662,
    "start_time": "2022-11-28T19:55:41.573Z"
   },
   {
    "duration": 683,
    "start_time": "2022-11-28T20:02:35.997Z"
   },
   {
    "duration": 10,
    "start_time": "2022-11-28T20:05:03.281Z"
   },
   {
    "duration": 7,
    "start_time": "2022-11-28T20:05:09.490Z"
   },
   {
    "duration": 1345,
    "start_time": "2022-11-28T20:11:56.306Z"
   },
   {
    "duration": 595,
    "start_time": "2022-11-28T20:11:57.654Z"
   },
   {
    "duration": 17,
    "start_time": "2022-11-28T20:11:58.251Z"
   },
   {
    "duration": 4,
    "start_time": "2022-11-28T20:11:58.270Z"
   },
   {
    "duration": 8,
    "start_time": "2022-11-28T20:11:58.276Z"
   },
   {
    "duration": 20703,
    "start_time": "2022-11-28T20:11:58.286Z"
   },
   {
    "duration": 680,
    "start_time": "2022-11-28T20:12:18.992Z"
   },
   {
    "duration": 10,
    "start_time": "2022-11-28T20:12:19.674Z"
   },
   {
    "duration": 8,
    "start_time": "2022-11-28T20:12:19.686Z"
   },
   {
    "duration": 2019,
    "start_time": "2022-11-28T20:22:02.546Z"
   },
   {
    "duration": 817,
    "start_time": "2022-11-28T20:22:04.567Z"
   },
   {
    "duration": 17,
    "start_time": "2022-11-28T20:22:05.386Z"
   },
   {
    "duration": 6,
    "start_time": "2022-11-28T20:22:05.416Z"
   },
   {
    "duration": 9,
    "start_time": "2022-11-28T20:22:05.424Z"
   },
   {
    "duration": 21570,
    "start_time": "2022-11-28T20:22:05.435Z"
   },
   {
    "duration": 681,
    "start_time": "2022-11-28T20:22:27.007Z"
   },
   {
    "duration": 9,
    "start_time": "2022-11-28T20:22:27.689Z"
   },
   {
    "duration": 14,
    "start_time": "2022-11-28T20:22:27.700Z"
   }
  ],
  "kernelspec": {
   "display_name": "Python 3 (ipykernel)",
   "language": "python",
   "name": "python3"
  },
  "language_info": {
   "codemirror_mode": {
    "name": "ipython",
    "version": 3
   },
   "file_extension": ".py",
   "mimetype": "text/x-python",
   "name": "python",
   "nbconvert_exporter": "python",
   "pygments_lexer": "ipython3",
   "version": "3.9.5"
  },
  "toc": {
   "base_numbering": 1,
   "nav_menu": {},
   "number_sections": true,
   "sideBar": true,
   "skip_h1_title": true,
   "title_cell": "Table of Contents",
   "title_sidebar": "Contents",
   "toc_cell": false,
   "toc_position": {},
   "toc_section_display": true,
   "toc_window_display": false
  }
 },
 "nbformat": 4,
 "nbformat_minor": 2
}
