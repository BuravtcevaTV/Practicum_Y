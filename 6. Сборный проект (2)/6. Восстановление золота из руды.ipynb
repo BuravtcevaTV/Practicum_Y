{
 "cells": [
  {
   "cell_type": "markdown",
   "metadata": {
    "toc": true
   },
   "source": [
    "<h1>Содержание<span class=\"tocSkip\"></span></h1>\n",
    "<div class=\"toc\"><ul class=\"toc-item\"><li><span><a href=\"#Подготовка-данных\" data-toc-modified-id=\"Подготовка-данных-1\"><span class=\"toc-item-num\">1&nbsp;&nbsp;</span>Подготовка данных</a></span><ul class=\"toc-item\"><li><span><a href=\"#Проверка-эффективность-обогащения\" data-toc-modified-id=\"Проверка-эффективность-обогащения-1.1\"><span class=\"toc-item-num\">1.1&nbsp;&nbsp;</span>Проверка эффективность обогащения</a></span></li><li><span><a href=\"#Признаки,-недоступные-в-тестовой-выборке\" data-toc-modified-id=\"Признаки,-недоступные-в-тестовой-выборке-1.2\"><span class=\"toc-item-num\">1.2&nbsp;&nbsp;</span>Признаки, недоступные в тестовой выборке</a></span></li><li><span><a href=\"#Предобработка-данных\" data-toc-modified-id=\"Предобработка-данных-1.3\"><span class=\"toc-item-num\">1.3&nbsp;&nbsp;</span>Предобработка данных</a></span></li></ul></li><li><span><a href=\"#Анализ-данных\" data-toc-modified-id=\"Анализ-данных-2\"><span class=\"toc-item-num\">2&nbsp;&nbsp;</span>Анализ данных</a></span><ul class=\"toc-item\"><li><span><a href=\"#Изменение-концентрации-металлов-(Au,-Ag,-Pb)-на-различных-этапах-очистки\" data-toc-modified-id=\"Изменение-концентрации-металлов-(Au,-Ag,-Pb)-на-различных-этапах-очистки-2.1\"><span class=\"toc-item-num\">2.1&nbsp;&nbsp;</span>Изменение концентрации металлов (Au, Ag, Pb) на различных этапах очистки</a></span><ul class=\"toc-item\"><li><span><a href=\"#Золото-Au\" data-toc-modified-id=\"Золото-Au-2.1.1\"><span class=\"toc-item-num\">2.1.1&nbsp;&nbsp;</span>Золото Au</a></span></li><li><span><a href=\"#Серебро-Ag\" data-toc-modified-id=\"Серебро-Ag-2.1.2\"><span class=\"toc-item-num\">2.1.2&nbsp;&nbsp;</span>Серебро Ag</a></span></li><li><span><a href=\"#Свинец-(Pb)\" data-toc-modified-id=\"Свинец-(Pb)-2.1.3\"><span class=\"toc-item-num\">2.1.3&nbsp;&nbsp;</span>Свинец (Pb)</a></span></li></ul></li><li><span><a href=\"#Распределения-размеров-гранул-сырья-на-обучающей-и-тестовой-выборках\" data-toc-modified-id=\"Распределения-размеров-гранул-сырья-на-обучающей-и-тестовой-выборках-2.2\"><span class=\"toc-item-num\">2.2&nbsp;&nbsp;</span>Распределения размеров гранул сырья на обучающей и тестовой выборках</a></span></li><li><span><a href=\"#Суммарная-концентрация-всех-веществ-на-разных-стадиях\" data-toc-modified-id=\"Суммарная-концентрация-всех-веществ-на-разных-стадиях-2.3\"><span class=\"toc-item-num\">2.3&nbsp;&nbsp;</span>Суммарная концентрация всех веществ на разных стадиях</a></span></li></ul></li><li><span><a href=\"#Модель\" data-toc-modified-id=\"Модель-3\"><span class=\"toc-item-num\">3&nbsp;&nbsp;</span>Модель</a></span><ul class=\"toc-item\"><li><span><a href=\"#Функция-для-вычисления-итоговой-sMAPE.\" data-toc-modified-id=\"Функция-для-вычисления-итоговой-sMAPE.-3.1\"><span class=\"toc-item-num\">3.1&nbsp;&nbsp;</span>Функция для вычисления итоговой sMAPE.</a></span></li><li><span><a href=\"#Обучение-моделей\" data-toc-modified-id=\"Обучение-моделей-3.2\"><span class=\"toc-item-num\">3.2&nbsp;&nbsp;</span>Обучение моделей</a></span></li><li><span><a href=\"#Проверка-лучшей-модели-на-тестовой-выборке\" data-toc-modified-id=\"Проверка-лучшей-модели-на-тестовой-выборке-3.3\"><span class=\"toc-item-num\">3.3&nbsp;&nbsp;</span>Проверка лучшей модели на тестовой выборке</a></span></li><li><span><a href=\"#Проверка-модели-на-адекватность\" data-toc-modified-id=\"Проверка-модели-на-адекватность-3.4\"><span class=\"toc-item-num\">3.4&nbsp;&nbsp;</span>Проверка модели на адекватность</a></span></li></ul></li><li><span><a href=\"#Вывод\" data-toc-modified-id=\"Вывод-4\"><span class=\"toc-item-num\">4&nbsp;&nbsp;</span>Вывод</a></span></li></ul></div>"
   ]
  },
  {
   "cell_type": "markdown",
   "metadata": {},
   "source": [
    "# Восстановление золота из руды"
   ]
  },
  {
   "cell_type": "markdown",
   "metadata": {},
   "source": [
    "Подготовьте прототип модели машинного обучения для «Цифры». Компания разрабатывает решения для эффективной работы промышленных предприятий.\n",
    "\n",
    "Модель должна предсказать коэффициент восстановления золота из золотосодержащей руды. Используйте данные с параметрами добычи и очистки. \n",
    "\n",
    "Модель поможет оптимизировать производство, чтобы не запускать предприятие с убыточными характеристиками.\n",
    "\n",
    "Вам нужно:\n",
    "\n",
    "1. Подготовить данные;\n",
    "2. Провести исследовательский анализ данных;\n",
    "3. Построить и обучить модель.\n",
    "\n",
    "Чтобы выполнить проект, обращайтесь к библиотекам *pandas*, *matplotlib* и *sklearn.* Вам поможет их документация."
   ]
  },
  {
   "cell_type": "markdown",
   "metadata": {},
   "source": [
    "## Подготовка данных"
   ]
  },
  {
   "cell_type": "code",
   "execution_count": 1,
   "metadata": {},
   "outputs": [],
   "source": [
    "import pandas as pd\n",
    " \n",
    "import numpy as np\n",
    "import seaborn as sns\n",
    "\n",
    "from sklearn.metrics import mean_absolute_error, make_scorer\n",
    "from sklearn.pipeline import  make_pipeline\n",
    "from sklearn.ensemble import RandomForestRegressor\n",
    "from sklearn.preprocessing import StandardScaler\n",
    "from sklearn.model_selection import cross_val_score, KFold\n",
    "from sklearn.model_selection import GridSearchCV\n",
    "from sklearn.linear_model import LinearRegression\n",
    "from sklearn.tree import DecisionTreeRegressor\n",
    "from sklearn.dummy import DummyRegressor\n",
    "\n",
    "import warnings\n",
    "warnings.filterwarnings(\"ignore\")"
   ]
  },
  {
   "cell_type": "code",
   "execution_count": 2,
   "metadata": {},
   "outputs": [
    {
     "name": "stdout",
     "output_type": "stream",
     "text": [
      "<class 'pandas.core.frame.DataFrame'>\n",
      "RangeIndex: 14149 entries, 0 to 14148\n",
      "Data columns (total 87 columns):\n",
      " #   Column                                              Non-Null Count  Dtype         \n",
      "---  ------                                              --------------  -----         \n",
      " 0   date                                                14149 non-null  datetime64[ns]\n",
      " 1   final.output.concentrate_ag                         14148 non-null  float64       \n",
      " 2   final.output.concentrate_pb                         14148 non-null  float64       \n",
      " 3   final.output.concentrate_sol                        13938 non-null  float64       \n",
      " 4   final.output.concentrate_au                         14149 non-null  float64       \n",
      " 5   final.output.recovery                               14149 non-null  float64       \n",
      " 6   final.output.tail_ag                                14149 non-null  float64       \n",
      " 7   final.output.tail_pb                                14049 non-null  float64       \n",
      " 8   final.output.tail_sol                               14144 non-null  float64       \n",
      " 9   final.output.tail_au                                14149 non-null  float64       \n",
      " 10  primary_cleaner.input.sulfate                       14129 non-null  float64       \n",
      " 11  primary_cleaner.input.depressant                    14117 non-null  float64       \n",
      " 12  primary_cleaner.input.feed_size                     14149 non-null  float64       \n",
      " 13  primary_cleaner.input.xanthate                      14049 non-null  float64       \n",
      " 14  primary_cleaner.output.concentrate_ag               14149 non-null  float64       \n",
      " 15  primary_cleaner.output.concentrate_pb               14063 non-null  float64       \n",
      " 16  primary_cleaner.output.concentrate_sol              13863 non-null  float64       \n",
      " 17  primary_cleaner.output.concentrate_au               14149 non-null  float64       \n",
      " 18  primary_cleaner.output.tail_ag                      14148 non-null  float64       \n",
      " 19  primary_cleaner.output.tail_pb                      14134 non-null  float64       \n",
      " 20  primary_cleaner.output.tail_sol                     14103 non-null  float64       \n",
      " 21  primary_cleaner.output.tail_au                      14149 non-null  float64       \n",
      " 22  primary_cleaner.state.floatbank8_a_air              14145 non-null  float64       \n",
      " 23  primary_cleaner.state.floatbank8_a_level            14148 non-null  float64       \n",
      " 24  primary_cleaner.state.floatbank8_b_air              14145 non-null  float64       \n",
      " 25  primary_cleaner.state.floatbank8_b_level            14148 non-null  float64       \n",
      " 26  primary_cleaner.state.floatbank8_c_air              14147 non-null  float64       \n",
      " 27  primary_cleaner.state.floatbank8_c_level            14148 non-null  float64       \n",
      " 28  primary_cleaner.state.floatbank8_d_air              14146 non-null  float64       \n",
      " 29  primary_cleaner.state.floatbank8_d_level            14148 non-null  float64       \n",
      " 30  rougher.calculation.sulfate_to_au_concentrate       14148 non-null  float64       \n",
      " 31  rougher.calculation.floatbank10_sulfate_to_au_feed  14148 non-null  float64       \n",
      " 32  rougher.calculation.floatbank11_sulfate_to_au_feed  14148 non-null  float64       \n",
      " 33  rougher.calculation.au_pb_ratio                     14149 non-null  float64       \n",
      " 34  rougher.input.feed_ag                               14149 non-null  float64       \n",
      " 35  rougher.input.feed_pb                               14049 non-null  float64       \n",
      " 36  rougher.input.feed_rate                             14141 non-null  float64       \n",
      " 37  rougher.input.feed_size                             14005 non-null  float64       \n",
      " 38  rougher.input.feed_sol                              14071 non-null  float64       \n",
      " 39  rougher.input.feed_au                               14149 non-null  float64       \n",
      " 40  rougher.input.floatbank10_sulfate                   14120 non-null  float64       \n",
      " 41  rougher.input.floatbank10_xanthate                  14141 non-null  float64       \n",
      " 42  rougher.input.floatbank11_sulfate                   14113 non-null  float64       \n",
      " 43  rougher.input.floatbank11_xanthate                  13721 non-null  float64       \n",
      " 44  rougher.output.concentrate_ag                       14149 non-null  float64       \n",
      " 45  rougher.output.concentrate_pb                       14149 non-null  float64       \n",
      " 46  rougher.output.concentrate_sol                      14127 non-null  float64       \n",
      " 47  rougher.output.concentrate_au                       14149 non-null  float64       \n",
      " 48  rougher.output.recovery                             14149 non-null  float64       \n",
      " 49  rougher.output.tail_ag                              14148 non-null  float64       \n",
      " 50  rougher.output.tail_pb                              14149 non-null  float64       \n",
      " 51  rougher.output.tail_sol                             14149 non-null  float64       \n",
      " 52  rougher.output.tail_au                              14149 non-null  float64       \n",
      " 53  rougher.state.floatbank10_a_air                     14148 non-null  float64       \n",
      " 54  rougher.state.floatbank10_a_level                   14148 non-null  float64       \n",
      " 55  rougher.state.floatbank10_b_air                     14148 non-null  float64       \n",
      " 56  rougher.state.floatbank10_b_level                   14148 non-null  float64       \n",
      " 57  rougher.state.floatbank10_c_air                     14148 non-null  float64       \n",
      " 58  rougher.state.floatbank10_c_level                   14148 non-null  float64       \n",
      " 59  rougher.state.floatbank10_d_air                     14149 non-null  float64       \n",
      " 60  rougher.state.floatbank10_d_level                   14149 non-null  float64       \n",
      " 61  rougher.state.floatbank10_e_air                     13713 non-null  float64       \n",
      " 62  rougher.state.floatbank10_e_level                   14149 non-null  float64       \n",
      " 63  rougher.state.floatbank10_f_air                     14149 non-null  float64       \n",
      " 64  rougher.state.floatbank10_f_level                   14149 non-null  float64       \n",
      " 65  secondary_cleaner.output.tail_ag                    14147 non-null  float64       \n",
      " 66  secondary_cleaner.output.tail_pb                    14139 non-null  float64       \n",
      " 67  secondary_cleaner.output.tail_sol                   12544 non-null  float64       \n",
      " 68  secondary_cleaner.output.tail_au                    14149 non-null  float64       \n",
      " 69  secondary_cleaner.state.floatbank2_a_air            13932 non-null  float64       \n",
      " 70  secondary_cleaner.state.floatbank2_a_level          14148 non-null  float64       \n",
      " 71  secondary_cleaner.state.floatbank2_b_air            14128 non-null  float64       \n",
      " 72  secondary_cleaner.state.floatbank2_b_level          14148 non-null  float64       \n",
      " 73  secondary_cleaner.state.floatbank3_a_air            14145 non-null  float64       \n",
      " 74  secondary_cleaner.state.floatbank3_a_level          14148 non-null  float64       \n",
      " 75  secondary_cleaner.state.floatbank3_b_air            14148 non-null  float64       \n",
      " 76  secondary_cleaner.state.floatbank3_b_level          14148 non-null  float64       \n",
      " 77  secondary_cleaner.state.floatbank4_a_air            14143 non-null  float64       \n",
      " 78  secondary_cleaner.state.floatbank4_a_level          14148 non-null  float64       \n",
      " 79  secondary_cleaner.state.floatbank4_b_air            14148 non-null  float64       \n",
      " 80  secondary_cleaner.state.floatbank4_b_level          14148 non-null  float64       \n",
      " 81  secondary_cleaner.state.floatbank5_a_air            14148 non-null  float64       \n",
      " 82  secondary_cleaner.state.floatbank5_a_level          14148 non-null  float64       \n",
      " 83  secondary_cleaner.state.floatbank5_b_air            14148 non-null  float64       \n",
      " 84  secondary_cleaner.state.floatbank5_b_level          14148 non-null  float64       \n",
      " 85  secondary_cleaner.state.floatbank6_a_air            14147 non-null  float64       \n",
      " 86  secondary_cleaner.state.floatbank6_a_level          14148 non-null  float64       \n",
      "dtypes: datetime64[ns](1), float64(86)\n",
      "memory usage: 9.4 MB\n"
     ]
    }
   ],
   "source": [
    "# обучающая выборка\n",
    "df_train = pd.read_csv('/datasets/gold_recovery_train_new.csv', parse_dates=['date'])\n",
    "df_train.info()"
   ]
  },
  {
   "cell_type": "code",
   "execution_count": 3,
   "metadata": {},
   "outputs": [
    {
     "name": "stdout",
     "output_type": "stream",
     "text": [
      "<class 'pandas.core.frame.DataFrame'>\n",
      "RangeIndex: 5290 entries, 0 to 5289\n",
      "Data columns (total 53 columns):\n",
      " #   Column                                      Non-Null Count  Dtype         \n",
      "---  ------                                      --------------  -----         \n",
      " 0   date                                        5290 non-null   datetime64[ns]\n",
      " 1   primary_cleaner.input.sulfate               5286 non-null   float64       \n",
      " 2   primary_cleaner.input.depressant            5285 non-null   float64       \n",
      " 3   primary_cleaner.input.feed_size             5290 non-null   float64       \n",
      " 4   primary_cleaner.input.xanthate              5286 non-null   float64       \n",
      " 5   primary_cleaner.state.floatbank8_a_air      5290 non-null   float64       \n",
      " 6   primary_cleaner.state.floatbank8_a_level    5290 non-null   float64       \n",
      " 7   primary_cleaner.state.floatbank8_b_air      5290 non-null   float64       \n",
      " 8   primary_cleaner.state.floatbank8_b_level    5290 non-null   float64       \n",
      " 9   primary_cleaner.state.floatbank8_c_air      5290 non-null   float64       \n",
      " 10  primary_cleaner.state.floatbank8_c_level    5290 non-null   float64       \n",
      " 11  primary_cleaner.state.floatbank8_d_air      5290 non-null   float64       \n",
      " 12  primary_cleaner.state.floatbank8_d_level    5290 non-null   float64       \n",
      " 13  rougher.input.feed_ag                       5290 non-null   float64       \n",
      " 14  rougher.input.feed_pb                       5290 non-null   float64       \n",
      " 15  rougher.input.feed_rate                     5287 non-null   float64       \n",
      " 16  rougher.input.feed_size                     5289 non-null   float64       \n",
      " 17  rougher.input.feed_sol                      5269 non-null   float64       \n",
      " 18  rougher.input.feed_au                       5290 non-null   float64       \n",
      " 19  rougher.input.floatbank10_sulfate           5285 non-null   float64       \n",
      " 20  rougher.input.floatbank10_xanthate          5290 non-null   float64       \n",
      " 21  rougher.input.floatbank11_sulfate           5282 non-null   float64       \n",
      " 22  rougher.input.floatbank11_xanthate          5265 non-null   float64       \n",
      " 23  rougher.state.floatbank10_a_air             5290 non-null   float64       \n",
      " 24  rougher.state.floatbank10_a_level           5290 non-null   float64       \n",
      " 25  rougher.state.floatbank10_b_air             5290 non-null   float64       \n",
      " 26  rougher.state.floatbank10_b_level           5290 non-null   float64       \n",
      " 27  rougher.state.floatbank10_c_air             5290 non-null   float64       \n",
      " 28  rougher.state.floatbank10_c_level           5290 non-null   float64       \n",
      " 29  rougher.state.floatbank10_d_air             5290 non-null   float64       \n",
      " 30  rougher.state.floatbank10_d_level           5290 non-null   float64       \n",
      " 31  rougher.state.floatbank10_e_air             5290 non-null   float64       \n",
      " 32  rougher.state.floatbank10_e_level           5290 non-null   float64       \n",
      " 33  rougher.state.floatbank10_f_air             5290 non-null   float64       \n",
      " 34  rougher.state.floatbank10_f_level           5290 non-null   float64       \n",
      " 35  secondary_cleaner.state.floatbank2_a_air    5287 non-null   float64       \n",
      " 36  secondary_cleaner.state.floatbank2_a_level  5290 non-null   float64       \n",
      " 37  secondary_cleaner.state.floatbank2_b_air    5288 non-null   float64       \n",
      " 38  secondary_cleaner.state.floatbank2_b_level  5290 non-null   float64       \n",
      " 39  secondary_cleaner.state.floatbank3_a_air    5281 non-null   float64       \n",
      " 40  secondary_cleaner.state.floatbank3_a_level  5290 non-null   float64       \n",
      " 41  secondary_cleaner.state.floatbank3_b_air    5290 non-null   float64       \n",
      " 42  secondary_cleaner.state.floatbank3_b_level  5290 non-null   float64       \n",
      " 43  secondary_cleaner.state.floatbank4_a_air    5290 non-null   float64       \n",
      " 44  secondary_cleaner.state.floatbank4_a_level  5290 non-null   float64       \n",
      " 45  secondary_cleaner.state.floatbank4_b_air    5290 non-null   float64       \n",
      " 46  secondary_cleaner.state.floatbank4_b_level  5290 non-null   float64       \n",
      " 47  secondary_cleaner.state.floatbank5_a_air    5290 non-null   float64       \n",
      " 48  secondary_cleaner.state.floatbank5_a_level  5290 non-null   float64       \n",
      " 49  secondary_cleaner.state.floatbank5_b_air    5290 non-null   float64       \n",
      " 50  secondary_cleaner.state.floatbank5_b_level  5290 non-null   float64       \n",
      " 51  secondary_cleaner.state.floatbank6_a_air    5290 non-null   float64       \n",
      " 52  secondary_cleaner.state.floatbank6_a_level  5290 non-null   float64       \n",
      "dtypes: datetime64[ns](1), float64(52)\n",
      "memory usage: 2.1 MB\n"
     ]
    }
   ],
   "source": [
    "# Тестовая выборка\n",
    "df_test = pd.read_csv('/datasets/gold_recovery_test_new.csv', parse_dates=['date'])\n",
    "df_test.info()"
   ]
  },
  {
   "cell_type": "code",
   "execution_count": 4,
   "metadata": {
    "scrolled": true
   },
   "outputs": [
    {
     "name": "stdout",
     "output_type": "stream",
     "text": [
      "<class 'pandas.core.frame.DataFrame'>\n",
      "RangeIndex: 19439 entries, 0 to 19438\n",
      "Data columns (total 87 columns):\n",
      " #   Column                                              Non-Null Count  Dtype         \n",
      "---  ------                                              --------------  -----         \n",
      " 0   date                                                19439 non-null  datetime64[ns]\n",
      " 1   final.output.concentrate_ag                         19438 non-null  float64       \n",
      " 2   final.output.concentrate_pb                         19438 non-null  float64       \n",
      " 3   final.output.concentrate_sol                        19228 non-null  float64       \n",
      " 4   final.output.concentrate_au                         19439 non-null  float64       \n",
      " 5   final.output.recovery                               19439 non-null  float64       \n",
      " 6   final.output.tail_ag                                19438 non-null  float64       \n",
      " 7   final.output.tail_pb                                19338 non-null  float64       \n",
      " 8   final.output.tail_sol                               19433 non-null  float64       \n",
      " 9   final.output.tail_au                                19439 non-null  float64       \n",
      " 10  primary_cleaner.input.sulfate                       19415 non-null  float64       \n",
      " 11  primary_cleaner.input.depressant                    19402 non-null  float64       \n",
      " 12  primary_cleaner.input.feed_size                     19439 non-null  float64       \n",
      " 13  primary_cleaner.input.xanthate                      19335 non-null  float64       \n",
      " 14  primary_cleaner.output.concentrate_ag               19439 non-null  float64       \n",
      " 15  primary_cleaner.output.concentrate_pb               19323 non-null  float64       \n",
      " 16  primary_cleaner.output.concentrate_sol              19069 non-null  float64       \n",
      " 17  primary_cleaner.output.concentrate_au               19439 non-null  float64       \n",
      " 18  primary_cleaner.output.tail_ag                      19435 non-null  float64       \n",
      " 19  primary_cleaner.output.tail_pb                      19418 non-null  float64       \n",
      " 20  primary_cleaner.output.tail_sol                     19377 non-null  float64       \n",
      " 21  primary_cleaner.output.tail_au                      19439 non-null  float64       \n",
      " 22  primary_cleaner.state.floatbank8_a_air              19435 non-null  float64       \n",
      " 23  primary_cleaner.state.floatbank8_a_level            19438 non-null  float64       \n",
      " 24  primary_cleaner.state.floatbank8_b_air              19435 non-null  float64       \n",
      " 25  primary_cleaner.state.floatbank8_b_level            19438 non-null  float64       \n",
      " 26  primary_cleaner.state.floatbank8_c_air              19437 non-null  float64       \n",
      " 27  primary_cleaner.state.floatbank8_c_level            19438 non-null  float64       \n",
      " 28  primary_cleaner.state.floatbank8_d_air              19436 non-null  float64       \n",
      " 29  primary_cleaner.state.floatbank8_d_level            19438 non-null  float64       \n",
      " 30  rougher.calculation.sulfate_to_au_concentrate       19437 non-null  float64       \n",
      " 31  rougher.calculation.floatbank10_sulfate_to_au_feed  19437 non-null  float64       \n",
      " 32  rougher.calculation.floatbank11_sulfate_to_au_feed  19437 non-null  float64       \n",
      " 33  rougher.calculation.au_pb_ratio                     19439 non-null  float64       \n",
      " 34  rougher.input.feed_ag                               19439 non-null  float64       \n",
      " 35  rougher.input.feed_pb                               19339 non-null  float64       \n",
      " 36  rougher.input.feed_rate                             19428 non-null  float64       \n",
      " 37  rougher.input.feed_size                             19294 non-null  float64       \n",
      " 38  rougher.input.feed_sol                              19340 non-null  float64       \n",
      " 39  rougher.input.feed_au                               19439 non-null  float64       \n",
      " 40  rougher.input.floatbank10_sulfate                   19405 non-null  float64       \n",
      " 41  rougher.input.floatbank10_xanthate                  19431 non-null  float64       \n",
      " 42  rougher.input.floatbank11_sulfate                   19395 non-null  float64       \n",
      " 43  rougher.input.floatbank11_xanthate                  18986 non-null  float64       \n",
      " 44  rougher.output.concentrate_ag                       19439 non-null  float64       \n",
      " 45  rougher.output.concentrate_pb                       19439 non-null  float64       \n",
      " 46  rougher.output.concentrate_sol                      19416 non-null  float64       \n",
      " 47  rougher.output.concentrate_au                       19439 non-null  float64       \n",
      " 48  rougher.output.recovery                             19439 non-null  float64       \n",
      " 49  rougher.output.tail_ag                              19438 non-null  float64       \n",
      " 50  rougher.output.tail_pb                              19439 non-null  float64       \n",
      " 51  rougher.output.tail_sol                             19439 non-null  float64       \n",
      " 52  rougher.output.tail_au                              19439 non-null  float64       \n",
      " 53  rougher.state.floatbank10_a_air                     19438 non-null  float64       \n",
      " 54  rougher.state.floatbank10_a_level                   19438 non-null  float64       \n",
      " 55  rougher.state.floatbank10_b_air                     19438 non-null  float64       \n",
      " 56  rougher.state.floatbank10_b_level                   19438 non-null  float64       \n",
      " 57  rougher.state.floatbank10_c_air                     19438 non-null  float64       \n",
      " 58  rougher.state.floatbank10_c_level                   19438 non-null  float64       \n",
      " 59  rougher.state.floatbank10_d_air                     19439 non-null  float64       \n",
      " 60  rougher.state.floatbank10_d_level                   19439 non-null  float64       \n",
      " 61  rougher.state.floatbank10_e_air                     19003 non-null  float64       \n",
      " 62  rougher.state.floatbank10_e_level                   19439 non-null  float64       \n",
      " 63  rougher.state.floatbank10_f_air                     19439 non-null  float64       \n",
      " 64  rougher.state.floatbank10_f_level                   19439 non-null  float64       \n",
      " 65  secondary_cleaner.output.tail_ag                    19437 non-null  float64       \n",
      " 66  secondary_cleaner.output.tail_pb                    19427 non-null  float64       \n",
      " 67  secondary_cleaner.output.tail_sol                   17691 non-null  float64       \n",
      " 68  secondary_cleaner.output.tail_au                    19439 non-null  float64       \n",
      " 69  secondary_cleaner.state.floatbank2_a_air            19219 non-null  float64       \n",
      " 70  secondary_cleaner.state.floatbank2_a_level          19438 non-null  float64       \n",
      " 71  secondary_cleaner.state.floatbank2_b_air            19416 non-null  float64       \n",
      " 72  secondary_cleaner.state.floatbank2_b_level          19438 non-null  float64       \n",
      " 73  secondary_cleaner.state.floatbank3_a_air            19426 non-null  float64       \n",
      " 74  secondary_cleaner.state.floatbank3_a_level          19438 non-null  float64       \n",
      " 75  secondary_cleaner.state.floatbank3_b_air            19438 non-null  float64       \n",
      " 76  secondary_cleaner.state.floatbank3_b_level          19438 non-null  float64       \n",
      " 77  secondary_cleaner.state.floatbank4_a_air            19433 non-null  float64       \n",
      " 78  secondary_cleaner.state.floatbank4_a_level          19438 non-null  float64       \n",
      " 79  secondary_cleaner.state.floatbank4_b_air            19438 non-null  float64       \n",
      " 80  secondary_cleaner.state.floatbank4_b_level          19438 non-null  float64       \n",
      " 81  secondary_cleaner.state.floatbank5_a_air            19438 non-null  float64       \n",
      " 82  secondary_cleaner.state.floatbank5_a_level          19438 non-null  float64       \n",
      " 83  secondary_cleaner.state.floatbank5_b_air            19438 non-null  float64       \n",
      " 84  secondary_cleaner.state.floatbank5_b_level          19438 non-null  float64       \n",
      " 85  secondary_cleaner.state.floatbank6_a_air            19437 non-null  float64       \n",
      " 86  secondary_cleaner.state.floatbank6_a_level          19438 non-null  float64       \n",
      "dtypes: datetime64[ns](1), float64(86)\n",
      "memory usage: 12.9 MB\n"
     ]
    }
   ],
   "source": [
    "# Исходные данные\n",
    "df_full = pd.read_csv('/datasets/gold_recovery_full_new.csv', parse_dates=['date'])\n",
    "df_full.info()"
   ]
  },
  {
   "cell_type": "markdown",
   "metadata": {},
   "source": [
    "### Проверка эффективность обогащения"
   ]
  },
  {
   "cell_type": "markdown",
   "metadata": {},
   "source": [
    "Эффективность обогащения рассчитывается по формуле $$ Recovery = \\cfrac{C*(F-T)}{F*(C_T)}*100$$\n",
    "где:\n",
    "- C — доля золота в концентрате после флотации/очистки;\n",
    "- F — доля золота в сырье/концентрате до флотации/очистки;\n",
    "- T — доля золота в отвальных хвостах после флотации/очистки."
   ]
  },
  {
   "cell_type": "markdown",
   "metadata": {},
   "source": [
    "Вычислим эффективность обогащения на обучающей выборке для признака rougher.output.recovery"
   ]
  },
  {
   "cell_type": "code",
   "execution_count": 5,
   "metadata": {},
   "outputs": [
    {
     "name": "stdout",
     "output_type": "stream",
     "text": [
      "Рассчетная эффективность обогащения\n",
      " 0        87.107763\n",
      "1        86.843261\n",
      "2        86.842308\n",
      "3        87.226430\n",
      "4        86.688794\n",
      "           ...    \n",
      "14144    89.574376\n",
      "14145    87.724007\n",
      "14146    88.890579\n",
      "14147    89.858126\n",
      "14148    89.514960\n",
      "Length: 14149, dtype: float64 \n",
      "\n",
      "Табличная эффективность обогащения\n",
      " 0        87.107763\n",
      "1        86.843261\n",
      "2        86.842308\n",
      "3        87.226430\n",
      "4        86.688794\n",
      "           ...    \n",
      "14144    89.574376\n",
      "14145    87.724007\n",
      "14146    88.890579\n",
      "14147    89.858126\n",
      "14148    89.514960\n",
      "Name: rougher.output.recovery, Length: 14149, dtype: float64\n"
     ]
    }
   ],
   "source": [
    "C = df_train['rougher.output.concentrate_au']\n",
    "F = df_train['rougher.input.feed_au']\n",
    "T = df_train['rougher.output.tail_au']\n",
    "\n",
    "recovery = (C*(F-T))/(F*(C-T))*100\n",
    "print ('Рассчетная эффективность обогащения\\n', recovery, '\\n')\n",
    "print('Табличная эффективность обогащения\\n',df_train['rougher.output.recovery'])"
   ]
  },
  {
   "cell_type": "markdown",
   "metadata": {},
   "source": [
    "Значения рассчитаной и табличной эффективности идентичны. Проверим так ли это на протяжении всей таблицы при помощи метрики МАЕ."
   ]
  },
  {
   "cell_type": "code",
   "execution_count": 6,
   "metadata": {},
   "outputs": [
    {
     "name": "stdout",
     "output_type": "stream",
     "text": [
      "9.73512347450521e-15\n"
     ]
    }
   ],
   "source": [
    "print(mean_absolute_error(recovery, df_train['rougher.output.recovery']))"
   ]
  },
  {
   "cell_type": "markdown",
   "metadata": {},
   "source": [
    "MAE очень мало, следовательно эффективность обогащения рассчитана правильно"
   ]
  },
  {
   "cell_type": "markdown",
   "metadata": {},
   "source": [
    "### Признаки, недоступные в тестовой выборке"
   ]
  },
  {
   "cell_type": "markdown",
   "metadata": {},
   "source": [
    "Некоторые параметры, имеющиеся в обучающей выборке, отсутствуют в тестовой выборке, потому что замеряются и/или рассчитываются значительно позже. \n",
    "\n",
    "Посмотрим какие это параметры."
   ]
  },
  {
   "cell_type": "code",
   "execution_count": 7,
   "metadata": {},
   "outputs": [
    {
     "name": "stdout",
     "output_type": "stream",
     "text": [
      "rougher.calculation.floatbank11_sulfate_to_au_feed\n",
      "primary_cleaner.output.concentrate_sol\n",
      "rougher.output.recovery\n",
      "primary_cleaner.output.tail_ag\n",
      "final.output.tail_pb\n",
      "final.output.concentrate_ag\n",
      "final.output.recovery\n",
      "final.output.concentrate_au\n",
      "rougher.output.tail_pb\n",
      "secondary_cleaner.output.tail_pb\n",
      "primary_cleaner.output.tail_pb\n",
      "rougher.output.concentrate_ag\n",
      "secondary_cleaner.output.tail_ag\n",
      "secondary_cleaner.output.tail_au\n",
      "primary_cleaner.output.concentrate_au\n",
      "final.output.tail_ag\n",
      "rougher.calculation.sulfate_to_au_concentrate\n",
      "final.output.tail_au\n",
      "primary_cleaner.output.concentrate_ag\n",
      "rougher.output.tail_ag\n",
      "final.output.concentrate_sol\n",
      "primary_cleaner.output.concentrate_pb\n",
      "final.output.concentrate_pb\n",
      "rougher.output.tail_au\n",
      "rougher.calculation.au_pb_ratio\n",
      "primary_cleaner.output.tail_sol\n",
      "primary_cleaner.output.tail_au\n",
      "rougher.output.concentrate_pb\n",
      "rougher.calculation.floatbank10_sulfate_to_au_feed\n",
      "rougher.output.tail_sol\n",
      "secondary_cleaner.output.tail_sol\n",
      "rougher.output.concentrate_au\n",
      "final.output.tail_sol\n",
      "rougher.output.concentrate_sol\n"
     ]
    }
   ],
   "source": [
    "for i in range (len(df_train.columns)-len(df_test.columns)):\n",
    "    print(list(set(df_train.columns) - set(df_test.columns))[i])\n",
    "    \n",
    "missing_columns = list(set(df_train.columns) - set(df_test.columns))"
   ]
  },
  {
   "cell_type": "markdown",
   "metadata": {},
   "source": [
    "В тестовой выборке все отсутствующие параметры - параметры продукта (output) и рассчетные параметры (calculation)"
   ]
  },
  {
   "cell_type": "markdown",
   "metadata": {},
   "source": [
    "Признаки, недоступные в тестовом датафрейме мы получаем после флотации и обработки руды. Однако предсказания мы хотим получить до обработки, поэтому  при обучении модели следует удалить недоступные признаки из train."
   ]
  },
  {
   "cell_type": "markdown",
   "metadata": {},
   "source": [
    "### Предобработка данных"
   ]
  },
  {
   "cell_type": "markdown",
   "metadata": {},
   "source": [
    "Проверим на наличие дубликатов и попусков."
   ]
  },
  {
   "cell_type": "code",
   "execution_count": 8,
   "metadata": {},
   "outputs": [
    {
     "name": "stdout",
     "output_type": "stream",
     "text": [
      "0\n",
      "0\n",
      "0\n"
     ]
    }
   ],
   "source": [
    "print(df_train.duplicated().sum())\n",
    "print(df_test.duplicated().sum())\n",
    "print(df_full.duplicated().sum())"
   ]
  },
  {
   "cell_type": "code",
   "execution_count": 9,
   "metadata": {},
   "outputs": [
    {
     "name": "stdout",
     "output_type": "stream",
     "text": [
      "date                                           0\n",
      "primary_cleaner.input.sulfate                  4\n",
      "primary_cleaner.input.depressant               5\n",
      "primary_cleaner.input.feed_size                0\n",
      "primary_cleaner.input.xanthate                 4\n",
      "primary_cleaner.state.floatbank8_a_air         0\n",
      "primary_cleaner.state.floatbank8_a_level       0\n",
      "primary_cleaner.state.floatbank8_b_air         0\n",
      "primary_cleaner.state.floatbank8_b_level       0\n",
      "primary_cleaner.state.floatbank8_c_air         0\n",
      "primary_cleaner.state.floatbank8_c_level       0\n",
      "primary_cleaner.state.floatbank8_d_air         0\n",
      "primary_cleaner.state.floatbank8_d_level       0\n",
      "rougher.input.feed_ag                          0\n",
      "rougher.input.feed_pb                          0\n",
      "rougher.input.feed_rate                        3\n",
      "rougher.input.feed_size                        1\n",
      "rougher.input.feed_sol                        21\n",
      "rougher.input.feed_au                          0\n",
      "rougher.input.floatbank10_sulfate              5\n",
      "rougher.input.floatbank10_xanthate             0\n",
      "rougher.input.floatbank11_sulfate              8\n",
      "rougher.input.floatbank11_xanthate            25\n",
      "rougher.state.floatbank10_a_air                0\n",
      "rougher.state.floatbank10_a_level              0\n",
      "rougher.state.floatbank10_b_air                0\n",
      "rougher.state.floatbank10_b_level              0\n",
      "rougher.state.floatbank10_c_air                0\n",
      "rougher.state.floatbank10_c_level              0\n",
      "rougher.state.floatbank10_d_air                0\n",
      "rougher.state.floatbank10_d_level              0\n",
      "rougher.state.floatbank10_e_air                0\n",
      "rougher.state.floatbank10_e_level              0\n",
      "rougher.state.floatbank10_f_air                0\n",
      "rougher.state.floatbank10_f_level              0\n",
      "secondary_cleaner.state.floatbank2_a_air       3\n",
      "secondary_cleaner.state.floatbank2_a_level     0\n",
      "secondary_cleaner.state.floatbank2_b_air       2\n",
      "secondary_cleaner.state.floatbank2_b_level     0\n",
      "secondary_cleaner.state.floatbank3_a_air       9\n",
      "secondary_cleaner.state.floatbank3_a_level     0\n",
      "secondary_cleaner.state.floatbank3_b_air       0\n",
      "secondary_cleaner.state.floatbank3_b_level     0\n",
      "secondary_cleaner.state.floatbank4_a_air       0\n",
      "secondary_cleaner.state.floatbank4_a_level     0\n",
      "secondary_cleaner.state.floatbank4_b_air       0\n",
      "secondary_cleaner.state.floatbank4_b_level     0\n",
      "secondary_cleaner.state.floatbank5_a_air       0\n",
      "secondary_cleaner.state.floatbank5_a_level     0\n",
      "secondary_cleaner.state.floatbank5_b_air       0\n",
      "secondary_cleaner.state.floatbank5_b_level     0\n",
      "secondary_cleaner.state.floatbank6_a_air       0\n",
      "secondary_cleaner.state.floatbank6_a_level     0\n",
      "dtype: int64\n",
      "25\n"
     ]
    }
   ],
   "source": [
    "print(df_test.isna().sum())\n",
    "print(df_test.isna().sum().max())"
   ]
  },
  {
   "cell_type": "markdown",
   "metadata": {},
   "source": [
    "Пропусков немного, их можно удалить."
   ]
  },
  {
   "cell_type": "code",
   "execution_count": 10,
   "metadata": {},
   "outputs": [
    {
     "data": {
      "text/plain": [
       "date                                          0\n",
       "primary_cleaner.input.sulfate                 0\n",
       "primary_cleaner.input.depressant              0\n",
       "primary_cleaner.input.feed_size               0\n",
       "primary_cleaner.input.xanthate                0\n",
       "primary_cleaner.state.floatbank8_a_air        0\n",
       "primary_cleaner.state.floatbank8_a_level      0\n",
       "primary_cleaner.state.floatbank8_b_air        0\n",
       "primary_cleaner.state.floatbank8_b_level      0\n",
       "primary_cleaner.state.floatbank8_c_air        0\n",
       "primary_cleaner.state.floatbank8_c_level      0\n",
       "primary_cleaner.state.floatbank8_d_air        0\n",
       "primary_cleaner.state.floatbank8_d_level      0\n",
       "rougher.input.feed_ag                         0\n",
       "rougher.input.feed_pb                         0\n",
       "rougher.input.feed_rate                       0\n",
       "rougher.input.feed_size                       0\n",
       "rougher.input.feed_sol                        0\n",
       "rougher.input.feed_au                         0\n",
       "rougher.input.floatbank10_sulfate             0\n",
       "rougher.input.floatbank10_xanthate            0\n",
       "rougher.input.floatbank11_sulfate             0\n",
       "rougher.input.floatbank11_xanthate            0\n",
       "rougher.state.floatbank10_a_air               0\n",
       "rougher.state.floatbank10_a_level             0\n",
       "rougher.state.floatbank10_b_air               0\n",
       "rougher.state.floatbank10_b_level             0\n",
       "rougher.state.floatbank10_c_air               0\n",
       "rougher.state.floatbank10_c_level             0\n",
       "rougher.state.floatbank10_d_air               0\n",
       "rougher.state.floatbank10_d_level             0\n",
       "rougher.state.floatbank10_e_air               0\n",
       "rougher.state.floatbank10_e_level             0\n",
       "rougher.state.floatbank10_f_air               0\n",
       "rougher.state.floatbank10_f_level             0\n",
       "secondary_cleaner.state.floatbank2_a_air      0\n",
       "secondary_cleaner.state.floatbank2_a_level    0\n",
       "secondary_cleaner.state.floatbank2_b_air      0\n",
       "secondary_cleaner.state.floatbank2_b_level    0\n",
       "secondary_cleaner.state.floatbank3_a_air      0\n",
       "secondary_cleaner.state.floatbank3_a_level    0\n",
       "secondary_cleaner.state.floatbank3_b_air      0\n",
       "secondary_cleaner.state.floatbank3_b_level    0\n",
       "secondary_cleaner.state.floatbank4_a_air      0\n",
       "secondary_cleaner.state.floatbank4_a_level    0\n",
       "secondary_cleaner.state.floatbank4_b_air      0\n",
       "secondary_cleaner.state.floatbank4_b_level    0\n",
       "secondary_cleaner.state.floatbank5_a_air      0\n",
       "secondary_cleaner.state.floatbank5_a_level    0\n",
       "secondary_cleaner.state.floatbank5_b_air      0\n",
       "secondary_cleaner.state.floatbank5_b_level    0\n",
       "secondary_cleaner.state.floatbank6_a_air      0\n",
       "secondary_cleaner.state.floatbank6_a_level    0\n",
       "dtype: int64"
      ]
     },
     "execution_count": 10,
     "metadata": {},
     "output_type": "execute_result"
    }
   ],
   "source": [
    "df_test = df_test.dropna()\n",
    "df_test.isna().sum()"
   ]
  },
  {
   "cell_type": "code",
   "execution_count": 11,
   "metadata": {},
   "outputs": [
    {
     "name": "stdout",
     "output_type": "stream",
     "text": [
      "date                                                     0\n",
      "final.output.concentrate_ag                              1\n",
      "final.output.concentrate_pb                              1\n",
      "final.output.concentrate_sol                           211\n",
      "final.output.concentrate_au                              0\n",
      "final.output.recovery                                    0\n",
      "final.output.tail_ag                                     0\n",
      "final.output.tail_pb                                   100\n",
      "final.output.tail_sol                                    5\n",
      "final.output.tail_au                                     0\n",
      "primary_cleaner.input.sulfate                           20\n",
      "primary_cleaner.input.depressant                        32\n",
      "primary_cleaner.input.feed_size                          0\n",
      "primary_cleaner.input.xanthate                         100\n",
      "primary_cleaner.output.concentrate_ag                    0\n",
      "primary_cleaner.output.concentrate_pb                   86\n",
      "primary_cleaner.output.concentrate_sol                 286\n",
      "primary_cleaner.output.concentrate_au                    0\n",
      "primary_cleaner.output.tail_ag                           1\n",
      "primary_cleaner.output.tail_pb                          15\n",
      "primary_cleaner.output.tail_sol                         46\n",
      "primary_cleaner.output.tail_au                           0\n",
      "primary_cleaner.state.floatbank8_a_air                   4\n",
      "primary_cleaner.state.floatbank8_a_level                 1\n",
      "primary_cleaner.state.floatbank8_b_air                   4\n",
      "primary_cleaner.state.floatbank8_b_level                 1\n",
      "primary_cleaner.state.floatbank8_c_air                   2\n",
      "primary_cleaner.state.floatbank8_c_level                 1\n",
      "primary_cleaner.state.floatbank8_d_air                   3\n",
      "primary_cleaner.state.floatbank8_d_level                 1\n",
      "rougher.calculation.sulfate_to_au_concentrate            1\n",
      "rougher.calculation.floatbank10_sulfate_to_au_feed       1\n",
      "rougher.calculation.floatbank11_sulfate_to_au_feed       1\n",
      "rougher.calculation.au_pb_ratio                          0\n",
      "rougher.input.feed_ag                                    0\n",
      "rougher.input.feed_pb                                  100\n",
      "rougher.input.feed_rate                                  8\n",
      "rougher.input.feed_size                                144\n",
      "rougher.input.feed_sol                                  78\n",
      "rougher.input.feed_au                                    0\n",
      "rougher.input.floatbank10_sulfate                       29\n",
      "rougher.input.floatbank10_xanthate                       8\n",
      "rougher.input.floatbank11_sulfate                       36\n",
      "rougher.input.floatbank11_xanthate                     428\n",
      "rougher.output.concentrate_ag                            0\n",
      "rougher.output.concentrate_pb                            0\n",
      "rougher.output.concentrate_sol                          22\n",
      "rougher.output.concentrate_au                            0\n",
      "rougher.output.recovery                                  0\n",
      "rougher.output.tail_ag                                   1\n",
      "rougher.output.tail_pb                                   0\n",
      "rougher.output.tail_sol                                  0\n",
      "rougher.output.tail_au                                   0\n",
      "rougher.state.floatbank10_a_air                          1\n",
      "rougher.state.floatbank10_a_level                        1\n",
      "rougher.state.floatbank10_b_air                          1\n",
      "rougher.state.floatbank10_b_level                        1\n",
      "rougher.state.floatbank10_c_air                          1\n",
      "rougher.state.floatbank10_c_level                        1\n",
      "rougher.state.floatbank10_d_air                          0\n",
      "rougher.state.floatbank10_d_level                        0\n",
      "rougher.state.floatbank10_e_air                        436\n",
      "rougher.state.floatbank10_e_level                        0\n",
      "rougher.state.floatbank10_f_air                          0\n",
      "rougher.state.floatbank10_f_level                        0\n",
      "secondary_cleaner.output.tail_ag                         2\n",
      "secondary_cleaner.output.tail_pb                        10\n",
      "secondary_cleaner.output.tail_sol                     1605\n",
      "secondary_cleaner.output.tail_au                         0\n",
      "secondary_cleaner.state.floatbank2_a_air               217\n",
      "secondary_cleaner.state.floatbank2_a_level               1\n",
      "secondary_cleaner.state.floatbank2_b_air                21\n",
      "secondary_cleaner.state.floatbank2_b_level               1\n",
      "secondary_cleaner.state.floatbank3_a_air                 4\n",
      "secondary_cleaner.state.floatbank3_a_level               1\n",
      "secondary_cleaner.state.floatbank3_b_air                 1\n",
      "secondary_cleaner.state.floatbank3_b_level               1\n",
      "secondary_cleaner.state.floatbank4_a_air                 6\n",
      "secondary_cleaner.state.floatbank4_a_level               1\n",
      "secondary_cleaner.state.floatbank4_b_air                 1\n",
      "secondary_cleaner.state.floatbank4_b_level               1\n",
      "secondary_cleaner.state.floatbank5_a_air                 1\n",
      "secondary_cleaner.state.floatbank5_a_level               1\n",
      "secondary_cleaner.state.floatbank5_b_air                 1\n",
      "secondary_cleaner.state.floatbank5_b_level               1\n",
      "secondary_cleaner.state.floatbank6_a_air                 2\n",
      "secondary_cleaner.state.floatbank6_a_level               1\n",
      "dtype: int64\n"
     ]
    }
   ],
   "source": [
    "pd.set_option('display.max_rows', None)\n",
    "print(df_train.isna().sum())\n",
    "pd.set_option('display.max_rows', 10)"
   ]
  },
  {
   "cell_type": "markdown",
   "metadata": {},
   "source": [
    "В столбце \"secondary_cleaner.output.tail_sol\" слишком много пропусков - их лучше заменить медианным значением.\n",
    "В остальных колонках пропусков немного - их можно удалить."
   ]
  },
  {
   "cell_type": "code",
   "execution_count": 12,
   "metadata": {},
   "outputs": [
    {
     "data": {
      "text/plain": [
       "date                                          0\n",
       "final.output.concentrate_ag                   0\n",
       "final.output.concentrate_pb                   0\n",
       "final.output.concentrate_sol                  0\n",
       "final.output.concentrate_au                   0\n",
       "                                             ..\n",
       "secondary_cleaner.state.floatbank5_a_level    0\n",
       "secondary_cleaner.state.floatbank5_b_air      0\n",
       "secondary_cleaner.state.floatbank5_b_level    0\n",
       "secondary_cleaner.state.floatbank6_a_air      0\n",
       "secondary_cleaner.state.floatbank6_a_level    0\n",
       "Length: 87, dtype: int64"
      ]
     },
     "execution_count": 12,
     "metadata": {},
     "output_type": "execute_result"
    }
   ],
   "source": [
    "df_train['secondary_cleaner.output.tail_sol'] = df_train['secondary_cleaner.output.tail_sol'].fillna(\n",
    "        df_train['secondary_cleaner.output.tail_sol'].median())\n",
    "\n",
    "\n",
    "df_train = df_train.dropna()\n",
    "df_train.isna().sum()"
   ]
  },
  {
   "cell_type": "markdown",
   "metadata": {},
   "source": [
    "По итогу предобработки: в столбцах нет дубликатов, пропуски удалены, в колонке \"secondary_cleaner.output.tail_sol\" пропуски заменены медианным значением."
   ]
  },
  {
   "cell_type": "markdown",
   "metadata": {},
   "source": [
    "## Анализ данных"
   ]
  },
  {
   "cell_type": "markdown",
   "metadata": {},
   "source": [
    "### Изменение концентрации металлов (Au, Ag, Pb) на различных этапах очистки"
   ]
  },
  {
   "cell_type": "markdown",
   "metadata": {},
   "source": [
    "Этапы очистки\n",
    "- rougher — флотация (обогащение)\n",
    "- primary_cleaner — первичная очистка\n",
    "- secondary_cleaner — вторичная очистка\n",
    "- final — финальные характеристики"
   ]
  },
  {
   "cell_type": "markdown",
   "metadata": {},
   "source": [
    "#### Золото Au"
   ]
  },
  {
   "cell_type": "code",
   "execution_count": 13,
   "metadata": {},
   "outputs": [
    {
     "data": {
      "image/png": "[encoded data removed]",
      "text/plain": [
       "<Figure size 1080x576 with 1 Axes>"
      ]
     },
     "metadata": {
      "needs_background": "light"
     },
     "output_type": "display_data"
    }
   ],
   "source": [
    "plt.figure(figsize=(15,8))\n",
    "\n",
    "ax = sns.distplot(df_train['rougher.input.feed_au'], label='Сырье', hist = False, kde = True,\n",
    "                 kde_kws = {'shade': True, 'linewidth': 3})\n",
    "\n",
    "sns.distplot(df_train['rougher.output.concentrate_au'], label='Флотация', hist = False, kde = True,\n",
    "                 kde_kws = {'shade': True, 'linewidth': 3})\n",
    "\n",
    "sns.distplot(df_train['primary_cleaner.output.concentrate_au'], label='Первичная очистка', hist = False, kde = True,\n",
    "                 kde_kws = {'shade': True, 'linewidth': 3})\n",
    "\n",
    "sns.distplot(df_train['final.output.concentrate_au'], label='Финальная очистка', hist = False, kde = True,\n",
    "                 kde_kws = {'shade': True, 'linewidth': 3})\n",
    "\n",
    "\n",
    "\n",
    "plt.title('Изменение концентрации золота на различных этапах очистки', fontsize=17)\n",
    "plt.grid(True)\n",
    "ax.set_xlabel('Концентрация, усл.ед', fontsize=15)\n",
    "ax.set_ylabel('Руда, усл.ед', fontsize=15)\n",
    "plt.legend(fontsize=15)\n",
    "plt.show()\n"
   ]
  },
  {
   "cell_type": "markdown",
   "metadata": {},
   "source": [
    "#### Серебро Ag"
   ]
  },
  {
   "cell_type": "code",
   "execution_count": 14,
   "metadata": {},
   "outputs": [
    {
     "data": {
      "image/png": "[encoded data removed]",
      "text/plain": [
       "<Figure size 1080x576 with 1 Axes>"
      ]
     },
     "metadata": {
      "needs_background": "light"
     },
     "output_type": "display_data"
    }
   ],
   "source": [
    "plt.figure(figsize=(15,8))\n",
    "\n",
    "ax = sns.distplot(df_train['rougher.input.feed_ag'], label='Сырье', hist = False, kde = True,\n",
    "                 kde_kws = {'shade': True, 'linewidth': 3})\n",
    "\n",
    "sns.distplot(df_train['rougher.output.concentrate_ag'], label='Флотация', hist = False, kde = True,\n",
    "                 kde_kws = {'shade': True, 'linewidth': 3})\n",
    "\n",
    "sns.distplot(df_train['primary_cleaner.output.concentrate_ag'], label='Первичная очистка', hist = False, kde = True,\n",
    "                 kde_kws = {'shade': True, 'linewidth': 3})\n",
    "\n",
    "sns.distplot(df_train['final.output.concentrate_ag'], label='Финальная очистка', hist = False, kde = True,\n",
    "                 kde_kws = {'shade': True, 'linewidth': 3})\n",
    "\n",
    "\n",
    "\n",
    "plt.title('Изменение концентрации серебра на различных этапах очистки', fontsize=17)\n",
    "plt.grid(True)\n",
    "ax.set_xlabel('Концентрация, усл.ед', fontsize=15)\n",
    "ax.set_ylabel('Руда, усл.ед', fontsize=15)\n",
    "plt.legend(fontsize=15)\n",
    "plt.show()"
   ]
  },
  {
   "cell_type": "markdown",
   "metadata": {},
   "source": [
    "#### Свинец (Pb)"
   ]
  },
  {
   "cell_type": "code",
   "execution_count": 15,
   "metadata": {},
   "outputs": [
    {
     "data": {
      "image/png": "[encoded data removed]",
      "text/plain": [
       "<Figure size 1080x576 with 1 Axes>"
      ]
     },
     "metadata": {
      "needs_background": "light"
     },
     "output_type": "display_data"
    }
   ],
   "source": [
    "plt.figure(figsize=(15,8))\n",
    "\n",
    "ax = sns.distplot(df_train['rougher.input.feed_pb'], label='Сырье', hist = False, kde = True,\n",
    "                 kde_kws = {'shade': True, 'linewidth': 3})\n",
    "\n",
    "sns.distplot(df_train['rougher.output.concentrate_pb'], label='Флотация', hist = False, kde = True,\n",
    "                 kde_kws = {'shade': True, 'linewidth': 3})\n",
    "\n",
    "sns.distplot(df_train['primary_cleaner.output.concentrate_pb'], label='Первичная очистка', hist = False, kde = True,\n",
    "                 kde_kws = {'shade': True, 'linewidth': 3})\n",
    "\n",
    "sns.distplot(df_train['final.output.concentrate_pb'], label='Финальная очистка', hist = False, kde = True,\n",
    "                 kde_kws = {'shade': True, 'linewidth': 3})\n",
    "\n",
    "\n",
    "\n",
    "plt.title('Изменение концентрации свинца на различных этапах очистки', fontsize=17)\n",
    "plt.grid(True)\n",
    "ax.set_xlabel('Концентрация, усл.ед', fontsize=15)\n",
    "ax.set_ylabel('Руда, усл.ед', fontsize=15)\n",
    "plt.legend(fontsize=15)\n",
    "plt.show()"
   ]
  },
  {
   "cell_type": "markdown",
   "metadata": {},
   "source": [
    "В процссе обработки металлов, графики концентрации становятся выше и уже. Это означает, что руда становится более однородной. \n",
    "\n",
    "На начльных этапах обработки заметен пик около нуля, который уменьшается с каждым этапом обработки. Вероятно, это сторонние материалы - грязь/вкрапления другой руды, от которых мы стремимся избавиться.\n",
    "\n",
    "Также, можно заметить смещение пика концентрации вдоль оси (в сторону увеличения концентрации для золота и в стоону уменьшения концентрации для серебра) Это можно объяснить удалением фрагментов с низкой концентрацией ценных металлов в ходе обработки руды."
   ]
  },
  {
   "cell_type": "markdown",
   "metadata": {},
   "source": [
    "### Распределения размеров гранул сырья на обучающей и тестовой выборках"
   ]
  },
  {
   "cell_type": "code",
   "execution_count": 16,
   "metadata": {},
   "outputs": [
    {
     "data": {
      "image/png": "[encoded data removed]",
      "text/plain": [
       "<Figure size 864x504 with 1 Axes>"
      ]
     },
     "metadata": {
      "needs_background": "light"
     },
     "output_type": "display_data"
    }
   ],
   "source": [
    "plt.figure(figsize=(12,7))\n",
    "\n",
    "ax = sns.distplot(df_train['rougher.input.feed_size'], label='Test', hist = False, kde = True,\n",
    "                 kde_kws = {'shade': True, 'linewidth': 3})\n",
    "\n",
    "sns.distplot(df_test['rougher.input.feed_size'], label='Train', hist = False, kde = True,\n",
    "                 kde_kws = {'shade': True, 'linewidth': 3})\n",
    "\n",
    "plt.title('Распределения размеров гранул сырья на обучающей и тестовой выборках', fontsize=17)\n",
    "plt.grid(True)\n",
    "ax.set_xlabel('Размер гранул, усл.ед', fontsize=15)\n",
    "ax.set_ylabel('Руда, усл.ед', fontsize=15)\n",
    "plt.legend(fontsize=15)\n",
    "plt.show()"
   ]
  },
  {
   "cell_type": "code",
   "execution_count": 17,
   "metadata": {},
   "outputs": [
    {
     "data": {
      "image/png": "[encoded data removed]",
      "text/plain": [
       "<Figure size 864x504 with 1 Axes>"
      ]
     },
     "metadata": {
      "needs_background": "light"
     },
     "output_type": "display_data"
    }
   ],
   "source": [
    "plt.figure(figsize=(12,7))\n",
    "\n",
    "ax = sns.distplot(df_train['primary_cleaner.input.feed_size'], label='Train', hist = False, kde = True,\n",
    "                 kde_kws = {'shade': True, 'linewidth': 3})\n",
    "\n",
    "sns.distplot(df_test['primary_cleaner.input.feed_size'], label='Train', hist = False, kde = True,\n",
    "                 kde_kws = {'shade': True, 'linewidth': 3})\n",
    "\n",
    "plt.title('Распределения размеров гранул сырья после первичной обработки на обучающей и тестовой выборках', fontsize=17)\n",
    "plt.legend()\n",
    "plt.grid(True)\n",
    "ax.set_xlabel('Размер гранул, усл.ед', fontsize=15)\n",
    "ax.set_ylabel('Руда, усл.ед', fontsize=15)\n",
    "plt.legend(fontsize=15)\n",
    "plt.show()"
   ]
  },
  {
   "cell_type": "markdown",
   "metadata": {},
   "source": [
    "Размеры гранул сырья на обучающей и тестовой выборках почти совпадают как до, так и после превичной обработки."
   ]
  },
  {
   "cell_type": "markdown",
   "metadata": {},
   "source": [
    "### Суммарная концентрация всех веществ на разных стадиях"
   ]
  },
  {
   "cell_type": "code",
   "execution_count": 18,
   "metadata": {},
   "outputs": [
    {
     "data": {
      "image/png": "[encoded data removed]",
      "text/plain": [
       "<Figure size 1080x576 with 1 Axes>"
      ]
     },
     "metadata": {
      "needs_background": "light"
     },
     "output_type": "display_data"
    }
   ],
   "source": [
    "col = ['rougher.input.feed_au', 'rougher.input.feed_ag',\n",
    "       'rougher.input.feed_pb','rougher.input.feed_sol',\n",
    "       'rougher.output.concentrate_au', 'rougher.output.concentrate_ag',\n",
    "       'rougher.input.feed_pb','rougher.output.concentrate_sol',\n",
    "       'final.output.concentrate_au', 'final.output.concentrate_ag',\n",
    "       'final.output.concentrate_pb', 'final.output.concentrate_sol']\n",
    "\n",
    "for i in col:\n",
    "    df_train = df_train.drop(df_train[df_train[i] == 0].index)\n",
    "\n",
    "# Сырье\n",
    "rougher_input_sum = (df_train['rougher.input.feed_au'] + \n",
    "                     df_train['rougher.input.feed_ag'] + \n",
    "                     df_train['rougher.input.feed_pb'] +\n",
    "                    df_train['rougher.input.feed_sol'])\n",
    "# Флотация\n",
    "rougher_output_sum = (df_train['rougher.output.concentrate_au'] + \n",
    "                      df_train['rougher.output.concentrate_ag'] + \n",
    "                      df_train['rougher.output.concentrate_pb'] +\n",
    "                      df_train['rougher.output.concentrate_sol'])\n",
    "\n",
    "# Финальная очистка\n",
    "final_sum = (df_train['final.output.concentrate_au'] + \n",
    "             df_train['final.output.concentrate_ag'] + \n",
    "             df_train['final.output.concentrate_pb'] +\n",
    "             df_train['final.output.concentrate_sol'])\n",
    "\n",
    "\n",
    "plt.figure(figsize=(15,8))\n",
    "ax = sns.distplot(rougher_input_sum, label='Сырье',hist = False, kde = True,\n",
    "                 kde_kws = {'shade': True, 'linewidth': 3})\n",
    "sns.distplot(rougher_output_sum, label='Флотация',hist = False, kde = True,\n",
    "                 kde_kws = {'shade': True, 'linewidth': 3})\n",
    "sns.distplot(final_sum, label='Финальная очиска',hist = False, kde = True,\n",
    "                 kde_kws = {'shade': True, 'linewidth': 3})\n",
    "\n",
    "plt.title('Суммарная концентрация всех веществ на разных стадиях', fontsize=17)\n",
    "plt.legend()\n",
    "plt.grid(True)\n",
    "ax.set_xlabel('Концентрация, усл.ед', fontsize=15)\n",
    "ax.set_ylabel('Руда, усл.ед', fontsize=15)\n",
    "plt.legend(fontsize=13)\n",
    "plt.show()"
   ]
  },
  {
   "cell_type": "markdown",
   "metadata": {},
   "source": [
    "Как уже описывалось выше, суммарная концентрация всех веществ повышается, по мере прохождения этапов очистки. "
   ]
  },
  {
   "cell_type": "markdown",
   "metadata": {},
   "source": [
    "В процссе обработки металлов, графики концентрации становятся выше и уже. Это означает, что руда становится более однородной. Размеры гранул сырья на обучающей и тестовой выборках почти совпадают как до, так и после превичной обработки. Суммарная концентрация всех веществ повышается, по мере прохождения этапов очистки. "
   ]
  },
  {
   "cell_type": "markdown",
   "metadata": {},
   "source": [
    "## Модель"
   ]
  },
  {
   "cell_type": "markdown",
   "metadata": {},
   "source": [
    "### Функция для вычисления итоговой sMAPE."
   ]
  },
  {
   "cell_type": "markdown",
   "metadata": {},
   "source": [
    "Для проверки моделей будем испльзовать новую мтрику sMAPE. В отлмчме от MAE, она одинаково учитывает масштаб и целевого признака, и предсказания."
   ]
  },
  {
   "cell_type": "markdown",
   "metadata": {},
   "source": [
    "Для вычисления функции sMAPE используется функция\n",
    "\n",
    "$$ sMAPE = \\cfrac{1}{N} \\sum_ {i = 1} ^ {N} \\cfrac{|y_i-y_j|}{(|y_i|+|y_j|)/2}*100 $$"
   ]
  },
  {
   "cell_type": "markdown",
   "metadata": {},
   "source": [
    "- y_i - Значение целевого признака\n",
    "- y_j - Значение предсказания\n",
    "- N - Количество объектов в выборке"
   ]
  },
  {
   "cell_type": "markdown",
   "metadata": {},
   "source": [
    "$$Итог.sMAPE = 0.25*sMAPE(rougher)+0.75*sMAPE(final)$$"
   ]
  },
  {
   "cell_type": "code",
   "execution_count": 19,
   "metadata": {},
   "outputs": [],
   "source": [
    "def smape(target, prediction):\n",
    "    \n",
    "    num = (abs(target - prediction)) / ((abs(target) + abs(prediction)) / 2)\n",
    "    num = ((1 / len(num)) * num.sum()) * 100\n",
    "    return (num)\n",
    "\n",
    "def final_smape (rougher, final):\n",
    "    return(.25*rougher + .75*final)"
   ]
  },
  {
   "cell_type": "markdown",
   "metadata": {},
   "source": [
    "### Обучение моделей"
   ]
  },
  {
   "cell_type": "markdown",
   "metadata": {},
   "source": [
    "Для сравнения используем 2 модели - модель дерева решений и модель случайного леса."
   ]
  },
  {
   "cell_type": "markdown",
   "metadata": {},
   "source": [
    "Целевые признаки:\n",
    "- rougher.output.recovery \n",
    "- final.output.recovery\n",
    "\n",
    "Добавим их из df_full в тренировочную и тестовую выборки.\n",
    "Также, избавимся от столбцов, которые есть в тренировочнй, но отсутствуют в тестовой выборке"
   ]
  },
  {
   "cell_type": "code",
   "execution_count": 20,
   "metadata": {},
   "outputs": [
    {
     "name": "stdout",
     "output_type": "stream",
     "text": [
      "(12009, 52)\n",
      "(12009, 2)\n",
      "(5229, 52)\n",
      "(5229, 2)\n"
     ]
    }
   ],
   "source": [
    "df_train.drop(missing_columns, axis=1, inplace=True)\n",
    "\n",
    "train = df_train.merge(df_full[['date', 'rougher.output.recovery', 'final.output.recovery']], \n",
    "                        how = 'left', on = 'date')\n",
    "test = df_test.merge(df_full[['date', 'rougher.output.recovery', 'final.output.recovery']], \n",
    "                        how = 'left', on = 'date')\n",
    "\n",
    "# разделим на выборки\n",
    "features_train = train.drop(['rougher.output.recovery', 'final.output.recovery', 'date'], axis=1)\n",
    "target_train = train[['rougher.output.recovery', 'final.output.recovery']]\n",
    "\n",
    "\n",
    "\n",
    "features_test = test.drop(['rougher.output.recovery', 'final.output.recovery', 'date'], axis=1)\n",
    "target_test = test[['rougher.output.recovery','final.output.recovery']]\n",
    "\n",
    "\n",
    "\n",
    "\n",
    "print(features_train.shape)\n",
    "print(target_train.shape)\n",
    "print(features_test.shape)\n",
    "print(target_test.shape)"
   ]
  },
  {
   "cell_type": "code",
   "execution_count": 37,
   "metadata": {},
   "outputs": [
    {
     "name": "stdout",
     "output_type": "stream",
     "text": [
      "Параметры лучших моделей\n",
      "\n",
      "{'randomforestregressor__max_depth': 7, 'randomforestregressor__n_estimators': 100}\n",
      "{'randomforestregressor__max_depth': 5, 'randomforestregressor__n_estimators': 95}\n",
      "{'decisiontreeregressor__max_depth': 3}\n",
      "{'decisiontreeregressor__max_depth': 1}\n"
     ]
    }
   ],
   "source": [
    "custom_score = make_scorer(smape, greater_is_better=False)\n",
    "\n",
    "model_tree = make_pipeline(StandardScaler(),DecisionTreeRegressor(random_state=12))\n",
    "model_forest = make_pipeline(StandardScaler(),RandomForestRegressor(random_state=12))\n",
    "\n",
    "# GridSearchCV\n",
    "params_tree = {'decisiontreeregressor__max_depth':range(1,15,2)}\n",
    "params_forest = {'randomforestregressor__n_estimators':range(95,106,5),\n",
    "             'randomforestregressor__max_depth':range(1,15,2)}\n",
    "\n",
    "grid_rougher_tree = GridSearchCV(model_tree, param_grid = params_tree, scoring=custom_score)\n",
    "grid_final_tree = GridSearchCV(model_tree, param_grid = params_tree, scoring=custom_score)\n",
    "\n",
    "grid_rougher_forest = GridSearchCV(model_forest, param_grid = params_forest, scoring=custom_score)\n",
    "grid_final_forest = GridSearchCV(model_forest, param_grid = params_forest, scoring=custom_score)\n",
    "\n",
    "#обучение\n",
    "grid_rougher_forest.fit(features_train, target_train['rougher.output.recovery'])\n",
    "grid_final_forest.fit(features_train, target_train['final.output.recovery'])\n",
    "grid_rougher_tree.fit(features_train, target_train['rougher.output.recovery'])\n",
    "grid_final_tree.fit(features_train, target_train['final.output.recovery'])\n",
    "\n",
    "print('Параметры лучших моделей\\n')\n",
    "print(grid_rougher_forest.best_params_)\n",
    "print(grid_final_forest.best_params_)\n",
    "print(grid_rougher_tree.best_params_)\n",
    "print(grid_final_tree.best_params_)\n"
   ]
  },
  {
   "cell_type": "code",
   "execution_count": 38,
   "metadata": {},
   "outputs": [
    {
     "name": "stdout",
     "output_type": "stream",
     "text": [
      "Целевой признак - rougher.output.recovery\n",
      "Решающее дерево 6.473694582912264 Случайный лес 6.086664923312943\n",
      "\n",
      "Целевой признак - final.output.recovery\n",
      "Решающее дерево 8.368920813952272 Случайный лес 8.25724687300091\n"
     ]
    }
   ],
   "source": [
    "best_score_rougher_forest = grid_rougher_forest.best_score_\n",
    "best_score_final_forest = grid_final_forest.best_score_\n",
    "best_score_rougher_tree = grid_rougher_tree.best_score_\n",
    "best_score_final_tree = grid_final_tree.best_score_\n",
    "\n",
    "print('Целевой признак - rougher.output.recovery')\n",
    "print('Решающее дерево',-best_score_rougher_tree,'Случайный лес',-best_score_rougher_forest)\n",
    "print()\n",
    "print('Целевой признак - final.output.recovery')\n",
    "print('Решающее дерево',-best_score_final_tree,'Случайный лес',-best_score_final_forest)"
   ]
  },
  {
   "cell_type": "markdown",
   "metadata": {},
   "source": [
    "Чем меньше best_score, тем лучше модель. Для каждого целевого признака, лучшая модель - Случайный лес."
   ]
  },
  {
   "cell_type": "code",
   "execution_count": 40,
   "metadata": {},
   "outputs": [
    {
     "name": "stdout",
     "output_type": "stream",
     "text": [
      "sMAPE Решающего дерева: 7.8951142561922705\n",
      "sMAPE Случайного леса: 7.714601385578918\n"
     ]
    }
   ],
   "source": [
    "print('sMAPE Решающего дерева:', -final_smape(best_score_rougher_tree, best_score_final_tree))\n",
    "print('sMAPE Случайного леса:', -final_smape(best_score_rougher_forest, best_score_final_forest))"
   ]
  },
  {
   "cell_type": "markdown",
   "metadata": {},
   "source": [
    "sMAPE Случайного леса меньше, чем Решающего дерева, что еще раз подтверждает правильность выбора Случайного леса в качестве лучшей модели."
   ]
  },
  {
   "cell_type": "markdown",
   "metadata": {},
   "source": [
    "### Проверка лучшей модели на тестовой выборке"
   ]
  },
  {
   "cell_type": "markdown",
   "metadata": {},
   "source": [
    "Лучшая модель - случайный лес. Проверим ее на тестовой выборке."
   ]
  },
  {
   "cell_type": "code",
   "execution_count": 44,
   "metadata": {},
   "outputs": [
    {
     "name": "stdout",
     "output_type": "stream",
     "text": [
      "sMAPE Случайного леса на тестовой выборке: 9.082756714909088\n"
     ]
    }
   ],
   "source": [
    "rougher_test = grid_rougher_forest.predict(features_test)\n",
    "final_test = grid_final_forest.predict(features_test)\n",
    "\n",
    "smape_rogher = smape(target_test['rougher.output.recovery'],rougher_test)\n",
    "smape_final =  smape(target_test['final.output.recovery'],final_test)\n",
    "print('sMAPE Случайного леса на тестовой выборке:', final_smape(smape_rogher,smape_final))"
   ]
  },
  {
   "cell_type": "markdown",
   "metadata": {},
   "source": [
    "### Проверка модели на адекватность"
   ]
  },
  {
   "cell_type": "markdown",
   "metadata": {},
   "source": [
    "Проверим модели на адекватность - сравним их с наивной моделью (в данном случае, с моделью, которая будет выдавать средние значения)."
   ]
  },
  {
   "cell_type": "code",
   "execution_count": 45,
   "metadata": {},
   "outputs": [
    {
     "name": "stdout",
     "output_type": "stream",
     "text": [
      "sMAPE наивной модели 9.20894972054075\n"
     ]
    }
   ],
   "source": [
    "dr_mean = DummyRegressor(strategy=\"mean\")\n",
    "\n",
    "dr_mean.fit(features_train, target_train['rougher.output.recovery'])\n",
    "rougher_predictions = dr_mean.predict(features_test)\n",
    "\n",
    "dr_mean.fit(features_train, target_train['final.output.recovery'])\n",
    "final_predictions = dr_mean.predict(features_test)\n",
    "\n",
    "smape_rougher = smape(rougher_predictions, target_test['rougher.output.recovery'])\n",
    "smape_final =  smape(final_predictions, target_test['final.output.recovery'])\n",
    "\n",
    "print('sMAPE наивной модели', final_smape(smape_rougher,smape_final))"
   ]
  },
  {
   "cell_type": "markdown",
   "metadata": {},
   "source": [
    "sMAPE Случайного леса меньше, чем sMAPE наивной модели, что говорит об адекватности выбранной нами модели."
   ]
  },
  {
   "cell_type": "markdown",
   "metadata": {},
   "source": [
    "## Вывод"
   ]
  },
  {
   "cell_type": "markdown",
   "metadata": {},
   "source": [
    "В ходе работы над проектом была проведена предобработка данных:\n",
    "- Данные проврены на наличие дубликатов и пропусков\n",
    "- В столбце secondary_cleaner.output.tail_sol пропуски заменены медианой\n",
    "- В остальных столбцах пропуски удалены\n",
    "\n",
    "Проведена проверка рассчета эффективности обогащения при помощи метрики MAE.  \n",
    "Значение  MAE: 9.812685122965434e-15 - очень мало, что свидетельствует о правильности рассчета эффективности обогащения\n",
    "\n",
    "Исследовани признаки, недоступные в тестоввой выборке. Все отсутствующие параметры - параметры продукта (output) и рассчетные параметры (calculation), которые будут замеряются и/или рассчитываются значительно позже.\n",
    "\n",
    "Исследованы изменения концентрации металлов (Au, Ag, Pb) на различных этапах очистки (флотация, первичная очистка, финальная очистка).\n",
    "В процссе обработки металлов, графики концентрации становятся выше и уже. Это означает, что руда становится более однородной.\n",
    "На начльных этапах обработки заметен пик около нуля, который уменьшается с каждым этапом обработки. Вероятно, это сторонние материалы - грязь/вкрапления другой руды, от которых мы стремимся избавиться.\n",
    "Также, можно заметить смещение пика концентрации вдоль оси (в сторону увеличения концентрации для золота и в стоону уменьшения концентрации для серебра) Это можно объяснить удалением фрагментов с низкой концентрацией ценных металлов в ходе обработки руды.\n",
    "\n",
    "Исследование распределения размеров гранул сырья на обучающей и тестовой выборках показал, что размеры гранул сырья на обоих выборках почти совпадают.\n",
    "\n",
    "Исследована суммарная концентрация всех веществ на разных стадиях. Суммарная концентрация всех веществ повышается, по мере прохождения этапов очистки.\n",
    "\n",
    "Было проведено сравнение 2-х моделей:\n",
    "- модель дерева решений \n",
    "- модель случайного леса\n",
    "\n",
    "Целевые признаки:\n",
    "- rougher.output.recovery \n",
    "- final.output.recovery\n",
    "\n",
    "Качество моделей оценивалось при помощи кросс-валидации. Для лучших моделей:\n",
    "\n",
    "Целевой признак - rougher.output.recovery\n",
    "- Решающее дерево 6.473694582912264 \n",
    "- Случайный лес 6.086664923312943\n",
    "\n",
    "Целевой признак - final.output.recovery\n",
    "- Решающее дерево 8.368920813952272  \n",
    "- Случайный лес 8.25724687300091\n",
    "\n",
    "Значения sMAPE:\n",
    "\n",
    "- Решающее дерево: 7.8951142561922705\n",
    "- Случайный лес: 7.714601385578918\n",
    "\n",
    "sMAPE Случайного леса меньше, чем Решающего дерева, что еще раз подтверждает правильность выбора Случайного леса в качестве лучшей модели.\n",
    "\n",
    "**Для каждого целевого признака, лучшая модель - Случайный лес.**\n",
    "\n",
    "sMAPE Случайного леса на тестовой выборке: 9.082756714909088\n",
    "\n",
    "Проведена проверка моделей на адекватность. Выполнено сравнение параметра sMAPE Случайного леса и наивной модели, предсказывающей среднее значение.\n",
    "- sMAPE наивной модели 9.20894972054075\n",
    "\n",
    "sMAPE Случайного леса меньше, чем sMAPE наивной модели, что говорит об адекватности выбранной нами модели.\n",
    "\n",
    "\n"
   ]
  },
  {
   "cell_type": "code",
   "execution_count": null,
   "outputs": [],
   "source": [],
   "metadata": {
    "collapsed": false
   }
  }
 ],
 "metadata": {
  "ExecuteTimeLog": [
   {
    "duration": 1442,
    "start_time": "2022-12-21T17:33:45.171Z"
   },
   {
    "duration": 1470,
    "start_time": "2022-12-21T17:33:47.119Z"
   },
   {
    "duration": 330,
    "start_time": "2022-12-21T17:33:48.600Z"
   },
   {
    "duration": 234,
    "start_time": "2022-12-21T17:34:06.156Z"
   },
   {
    "duration": 2011,
    "start_time": "2022-12-21T17:36:07.546Z"
   },
   {
    "duration": 214,
    "start_time": "2022-12-21T17:36:16.419Z"
   },
   {
    "duration": 234,
    "start_time": "2022-12-21T17:36:30.870Z"
   },
   {
    "duration": 193,
    "start_time": "2022-12-21T17:36:57.777Z"
   },
   {
    "duration": 264,
    "start_time": "2022-12-21T17:37:22.332Z"
   },
   {
    "duration": 204,
    "start_time": "2022-12-21T17:39:03.276Z"
   },
   {
    "duration": 1326,
    "start_time": "2022-12-21T17:42:23.461Z"
   },
   {
    "duration": 332,
    "start_time": "2022-12-21T17:42:24.789Z"
   },
   {
    "duration": 408,
    "start_time": "2022-12-21T17:42:25.123Z"
   },
   {
    "duration": 0,
    "start_time": "2022-12-21T17:42:25.533Z"
   },
   {
    "duration": 0,
    "start_time": "2022-12-21T17:42:25.535Z"
   },
   {
    "duration": 0,
    "start_time": "2022-12-21T17:42:25.536Z"
   },
   {
    "duration": 5,
    "start_time": "2022-12-21T17:44:57.332Z"
   },
   {
    "duration": 311,
    "start_time": "2022-12-21T17:44:59.150Z"
   },
   {
    "duration": 234,
    "start_time": "2022-12-21T17:45:03.481Z"
   },
   {
    "duration": 196,
    "start_time": "2022-12-21T17:45:37.742Z"
   },
   {
    "duration": 229,
    "start_time": "2022-12-21T17:46:28.533Z"
   },
   {
    "duration": 204,
    "start_time": "2022-12-21T17:46:51.969Z"
   },
   {
    "duration": 245,
    "start_time": "2022-12-21T17:47:00.943Z"
   },
   {
    "duration": 1365,
    "start_time": "2022-12-21T17:48:55.878Z"
   },
   {
    "duration": 134,
    "start_time": "2022-12-21T17:48:57.246Z"
   },
   {
    "duration": 0,
    "start_time": "2022-12-21T17:48:57.381Z"
   },
   {
    "duration": 0,
    "start_time": "2022-12-21T17:48:57.383Z"
   },
   {
    "duration": 0,
    "start_time": "2022-12-21T17:48:57.384Z"
   },
   {
    "duration": 0,
    "start_time": "2022-12-21T17:48:57.385Z"
   },
   {
    "duration": 1371,
    "start_time": "2022-12-21T17:49:49.794Z"
   },
   {
    "duration": 142,
    "start_time": "2022-12-21T17:49:51.167Z"
   },
   {
    "duration": 0,
    "start_time": "2022-12-21T17:49:51.311Z"
   },
   {
    "duration": 0,
    "start_time": "2022-12-21T17:49:51.312Z"
   },
   {
    "duration": 0,
    "start_time": "2022-12-21T17:49:51.313Z"
   },
   {
    "duration": 0,
    "start_time": "2022-12-21T17:49:51.315Z"
   },
   {
    "duration": 3122,
    "start_time": "2022-12-21T17:51:45.678Z"
   },
   {
    "duration": 698,
    "start_time": "2022-12-21T17:52:03.032Z"
   },
   {
    "duration": 696,
    "start_time": "2022-12-21T17:52:38.032Z"
   },
   {
    "duration": 655,
    "start_time": "2022-12-21T17:53:04.796Z"
   },
   {
    "duration": 258,
    "start_time": "2022-12-21T17:54:26.355Z"
   },
   {
    "duration": 88,
    "start_time": "2022-12-21T17:54:28.108Z"
   },
   {
    "duration": 344,
    "start_time": "2022-12-21T17:54:33.247Z"
   },
   {
    "duration": 271,
    "start_time": "2022-12-21T17:55:09.702Z"
   },
   {
    "duration": 90,
    "start_time": "2022-12-21T17:55:16.833Z"
   },
   {
    "duration": 12,
    "start_time": "2022-12-21T17:57:56.875Z"
   },
   {
    "duration": 7,
    "start_time": "2022-12-21T17:58:10.379Z"
   },
   {
    "duration": 9,
    "start_time": "2022-12-21T17:58:32.353Z"
   },
   {
    "duration": 13,
    "start_time": "2022-12-21T17:59:02.539Z"
   },
   {
    "duration": 9,
    "start_time": "2022-12-21T17:59:21.385Z"
   },
   {
    "duration": 19,
    "start_time": "2022-12-21T18:00:14.529Z"
   },
   {
    "duration": 27,
    "start_time": "2022-12-21T18:00:32.326Z"
   },
   {
    "duration": 149,
    "start_time": "2022-12-21T18:05:14.275Z"
   },
   {
    "duration": 55,
    "start_time": "2022-12-21T18:37:43.215Z"
   },
   {
    "duration": 8,
    "start_time": "2022-12-21T18:37:50.582Z"
   },
   {
    "duration": 8,
    "start_time": "2022-12-21T18:39:46.459Z"
   },
   {
    "duration": 11,
    "start_time": "2022-12-21T18:42:27.740Z"
   },
   {
    "duration": 12,
    "start_time": "2022-12-21T18:42:52.510Z"
   },
   {
    "duration": 4,
    "start_time": "2022-12-21T18:46:50.514Z"
   },
   {
    "duration": 85,
    "start_time": "2022-12-21T18:48:54.149Z"
   },
   {
    "duration": 2876,
    "start_time": "2022-12-21T18:49:19.542Z"
   },
   {
    "duration": 940,
    "start_time": "2022-12-21T18:49:22.421Z"
   },
   {
    "duration": 386,
    "start_time": "2022-12-21T18:49:23.363Z"
   },
   {
    "duration": 1782,
    "start_time": "2022-12-21T18:49:23.751Z"
   },
   {
    "duration": 257,
    "start_time": "2022-12-21T18:49:25.535Z"
   },
   {
    "duration": 9,
    "start_time": "2022-12-21T18:49:25.793Z"
   },
   {
    "duration": 25,
    "start_time": "2022-12-21T18:49:25.804Z"
   },
   {
    "duration": 36,
    "start_time": "2022-12-21T18:49:25.835Z"
   },
   {
    "duration": 25,
    "start_time": "2022-12-21T18:49:25.873Z"
   },
   {
    "duration": 5,
    "start_time": "2022-12-21T18:49:25.902Z"
   },
   {
    "duration": 10,
    "start_time": "2022-12-21T18:50:05.696Z"
   },
   {
    "duration": 13,
    "start_time": "2022-12-21T18:51:39.496Z"
   },
   {
    "duration": 9,
    "start_time": "2022-12-21T18:51:48.942Z"
   },
   {
    "duration": 2,
    "start_time": "2022-12-21T18:53:33.823Z"
   },
   {
    "duration": 113,
    "start_time": "2022-12-21T19:32:02.708Z"
   },
   {
    "duration": 3,
    "start_time": "2022-12-21T19:32:21.093Z"
   },
   {
    "duration": 9,
    "start_time": "2022-12-21T19:33:18.889Z"
   },
   {
    "duration": 55,
    "start_time": "2022-12-21T19:33:44.081Z"
   },
   {
    "duration": 4,
    "start_time": "2022-12-21T19:33:54.977Z"
   },
   {
    "duration": 44,
    "start_time": "2022-12-21T19:35:33.914Z"
   },
   {
    "duration": 14,
    "start_time": "2022-12-21T19:35:40.784Z"
   },
   {
    "duration": 14,
    "start_time": "2022-12-21T19:36:12.825Z"
   },
   {
    "duration": 7,
    "start_time": "2022-12-21T19:37:35.275Z"
   },
   {
    "duration": 17,
    "start_time": "2022-12-21T19:37:58.687Z"
   },
   {
    "duration": 7,
    "start_time": "2022-12-21T19:38:25.317Z"
   },
   {
    "duration": 55,
    "start_time": "2022-12-21T19:43:38.323Z"
   },
   {
    "duration": 1419,
    "start_time": "2022-12-21T19:51:33.851Z"
   },
   {
    "duration": 313,
    "start_time": "2022-12-21T19:51:35.271Z"
   },
   {
    "duration": 87,
    "start_time": "2022-12-21T19:51:35.586Z"
   },
   {
    "duration": 397,
    "start_time": "2022-12-21T19:51:35.676Z"
   },
   {
    "duration": 250,
    "start_time": "2022-12-21T19:51:36.075Z"
   },
   {
    "duration": 15,
    "start_time": "2022-12-21T19:51:36.327Z"
   },
   {
    "duration": 29,
    "start_time": "2022-12-21T19:51:36.343Z"
   },
   {
    "duration": 33,
    "start_time": "2022-12-21T19:51:36.374Z"
   },
   {
    "duration": 13,
    "start_time": "2022-12-21T19:51:36.409Z"
   },
   {
    "duration": 28,
    "start_time": "2022-12-21T19:51:36.425Z"
   },
   {
    "duration": 39,
    "start_time": "2022-12-21T19:51:36.456Z"
   },
   {
    "duration": 8,
    "start_time": "2022-12-21T19:54:06.626Z"
   },
   {
    "duration": 4,
    "start_time": "2022-12-21T19:54:22.762Z"
   },
   {
    "duration": 306,
    "start_time": "2022-12-21T19:54:24.853Z"
   },
   {
    "duration": 97,
    "start_time": "2022-12-21T19:54:27.868Z"
   },
   {
    "duration": 392,
    "start_time": "2022-12-21T19:54:36.103Z"
   },
   {
    "duration": 212,
    "start_time": "2022-12-21T19:54:58.180Z"
   },
   {
    "duration": 11,
    "start_time": "2022-12-21T19:55:02.498Z"
   },
   {
    "duration": 13,
    "start_time": "2022-12-21T19:55:46.964Z"
   },
   {
    "duration": 123,
    "start_time": "2022-12-21T19:59:43.997Z"
   },
   {
    "duration": 15,
    "start_time": "2022-12-21T20:00:44.677Z"
   },
   {
    "duration": 9,
    "start_time": "2022-12-21T20:01:19.098Z"
   },
   {
    "duration": 14,
    "start_time": "2022-12-21T20:01:29.015Z"
   },
   {
    "duration": 13,
    "start_time": "2022-12-21T20:02:43.780Z"
   },
   {
    "duration": 10,
    "start_time": "2022-12-21T20:03:48.727Z"
   },
   {
    "duration": 10,
    "start_time": "2022-12-21T20:03:55.843Z"
   },
   {
    "duration": 13,
    "start_time": "2022-12-21T20:06:52.131Z"
   },
   {
    "duration": 11,
    "start_time": "2022-12-21T20:07:33.513Z"
   },
   {
    "duration": 7,
    "start_time": "2022-12-21T20:07:45.187Z"
   },
   {
    "duration": 8,
    "start_time": "2022-12-21T20:08:46.012Z"
   },
   {
    "duration": 8,
    "start_time": "2022-12-21T20:08:58.440Z"
   },
   {
    "duration": 8,
    "start_time": "2022-12-21T20:09:14.957Z"
   },
   {
    "duration": 8,
    "start_time": "2022-12-21T20:09:28.273Z"
   },
   {
    "duration": 46,
    "start_time": "2022-12-21T20:39:18.099Z"
   },
   {
    "duration": 44,
    "start_time": "2022-12-21T20:39:33.480Z"
   },
   {
    "duration": 56,
    "start_time": "2022-12-21T20:39:43.875Z"
   },
   {
    "duration": 18,
    "start_time": "2022-12-21T20:40:28.180Z"
   },
   {
    "duration": 1473,
    "start_time": "2022-12-21T20:41:41.827Z"
   },
   {
    "duration": 310,
    "start_time": "2022-12-21T20:41:43.302Z"
   },
   {
    "duration": 90,
    "start_time": "2022-12-21T20:41:43.613Z"
   },
   {
    "duration": 383,
    "start_time": "2022-12-21T20:41:43.705Z"
   },
   {
    "duration": 260,
    "start_time": "2022-12-21T20:41:44.089Z"
   },
   {
    "duration": 7,
    "start_time": "2022-12-21T20:41:44.351Z"
   },
   {
    "duration": 32,
    "start_time": "2022-12-21T20:41:44.360Z"
   },
   {
    "duration": 20,
    "start_time": "2022-12-21T20:41:44.394Z"
   },
   {
    "duration": 33,
    "start_time": "2022-12-21T20:41:44.415Z"
   },
   {
    "duration": 244,
    "start_time": "2022-12-21T20:41:44.451Z"
   },
   {
    "duration": 4,
    "start_time": "2022-12-21T20:41:44.697Z"
   },
   {
    "duration": 32,
    "start_time": "2022-12-21T20:41:44.703Z"
   },
   {
    "duration": 7,
    "start_time": "2022-12-21T20:42:18.665Z"
   },
   {
    "duration": 1444,
    "start_time": "2022-12-21T20:42:35.847Z"
   },
   {
    "duration": 295,
    "start_time": "2022-12-21T20:42:37.293Z"
   },
   {
    "duration": 85,
    "start_time": "2022-12-21T20:42:37.590Z"
   },
   {
    "duration": 380,
    "start_time": "2022-12-21T20:42:37.677Z"
   },
   {
    "duration": 229,
    "start_time": "2022-12-21T20:42:38.060Z"
   },
   {
    "duration": 8,
    "start_time": "2022-12-21T20:42:38.291Z"
   },
   {
    "duration": 34,
    "start_time": "2022-12-21T20:42:38.301Z"
   },
   {
    "duration": 9,
    "start_time": "2022-12-21T20:42:38.337Z"
   },
   {
    "duration": 34,
    "start_time": "2022-12-21T20:42:38.347Z"
   },
   {
    "duration": 10,
    "start_time": "2022-12-21T20:42:38.382Z"
   },
   {
    "duration": 15,
    "start_time": "2022-12-21T20:42:38.394Z"
   },
   {
    "duration": 24,
    "start_time": "2022-12-21T20:42:38.411Z"
   },
   {
    "duration": 1270,
    "start_time": "2022-12-21T20:42:58.995Z"
   },
   {
    "duration": 303,
    "start_time": "2022-12-21T20:43:00.267Z"
   },
   {
    "duration": 102,
    "start_time": "2022-12-21T20:43:00.573Z"
   },
   {
    "duration": 375,
    "start_time": "2022-12-21T20:43:00.677Z"
   },
   {
    "duration": 226,
    "start_time": "2022-12-21T20:43:01.055Z"
   },
   {
    "duration": 7,
    "start_time": "2022-12-21T20:43:01.283Z"
   },
   {
    "duration": 44,
    "start_time": "2022-12-21T20:43:01.292Z"
   },
   {
    "duration": 35,
    "start_time": "2022-12-21T20:43:01.337Z"
   },
   {
    "duration": 47,
    "start_time": "2022-12-21T20:43:01.374Z"
   },
   {
    "duration": 32,
    "start_time": "2022-12-21T20:43:01.423Z"
   },
   {
    "duration": 16,
    "start_time": "2022-12-21T20:43:01.457Z"
   },
   {
    "duration": 22,
    "start_time": "2022-12-21T20:43:01.475Z"
   },
   {
    "duration": 116,
    "start_time": "2022-12-21T20:49:33.047Z"
   },
   {
    "duration": 282,
    "start_time": "2022-12-21T20:50:10.574Z"
   },
   {
    "duration": 74,
    "start_time": "2022-12-21T20:50:32.351Z"
   },
   {
    "duration": 300,
    "start_time": "2022-12-21T20:50:41.056Z"
   },
   {
    "duration": 2,
    "start_time": "2022-12-21T20:57:15.965Z"
   },
   {
    "duration": 509,
    "start_time": "2022-12-21T20:59:39.892Z"
   },
   {
    "duration": 715,
    "start_time": "2022-12-21T21:00:59.025Z"
   },
   {
    "duration": 3,
    "start_time": "2022-12-21T21:05:18.084Z"
   },
   {
    "duration": 810,
    "start_time": "2022-12-21T21:06:37.641Z"
   },
   {
    "duration": 2,
    "start_time": "2022-12-21T21:06:51.956Z"
   },
   {
    "duration": 657,
    "start_time": "2022-12-21T21:11:08.078Z"
   },
   {
    "duration": 3,
    "start_time": "2022-12-21T21:28:10.812Z"
   },
   {
    "duration": 383,
    "start_time": "2022-12-21T21:34:57.119Z"
   },
   {
    "duration": 504,
    "start_time": "2022-12-21T21:35:44.196Z"
   },
   {
    "duration": 478,
    "start_time": "2022-12-21T21:36:08.534Z"
   },
   {
    "duration": 474,
    "start_time": "2022-12-21T21:37:15.376Z"
   },
   {
    "duration": 601,
    "start_time": "2022-12-21T21:38:33.954Z"
   },
   {
    "duration": 463,
    "start_time": "2022-12-21T21:38:46.808Z"
   },
   {
    "duration": 560,
    "start_time": "2022-12-21T21:38:56.507Z"
   },
   {
    "duration": 511,
    "start_time": "2022-12-21T21:39:04.815Z"
   },
   {
    "duration": 998,
    "start_time": "2022-12-21T21:39:54.134Z"
   },
   {
    "duration": 600,
    "start_time": "2022-12-21T21:42:43.711Z"
   },
   {
    "duration": 864,
    "start_time": "2022-12-21T21:46:36.011Z"
   },
   {
    "duration": 704,
    "start_time": "2022-12-21T21:52:29.927Z"
   },
   {
    "duration": 890,
    "start_time": "2022-12-21T21:55:20.608Z"
   },
   {
    "duration": 1287,
    "start_time": "2022-12-21T21:55:57.154Z"
   },
   {
    "duration": 1303,
    "start_time": "2022-12-21T21:56:59.900Z"
   },
   {
    "duration": 12,
    "start_time": "2022-12-21T22:05:59.053Z"
   },
   {
    "duration": 741,
    "start_time": "2022-12-21T22:08:39.243Z"
   },
   {
    "duration": 3,
    "start_time": "2022-12-21T22:17:54.054Z"
   },
   {
    "duration": 445,
    "start_time": "2022-12-21T22:18:36.773Z"
   },
   {
    "duration": 435,
    "start_time": "2022-12-21T22:18:44.051Z"
   },
   {
    "duration": 753,
    "start_time": "2022-12-21T22:18:51.154Z"
   },
   {
    "duration": 467,
    "start_time": "2022-12-21T22:18:58.661Z"
   },
   {
    "duration": 482,
    "start_time": "2022-12-21T22:19:06.280Z"
   },
   {
    "duration": 17,
    "start_time": "2022-12-21T22:26:29.830Z"
   },
   {
    "duration": 1085,
    "start_time": "2022-12-21T22:26:53.204Z"
   },
   {
    "duration": 16,
    "start_time": "2022-12-21T22:27:55.874Z"
   },
   {
    "duration": 1101,
    "start_time": "2022-12-21T22:28:19.579Z"
   },
   {
    "duration": 896,
    "start_time": "2022-12-21T22:30:05.999Z"
   },
   {
    "duration": 1050,
    "start_time": "2022-12-21T22:32:37.008Z"
   },
   {
    "duration": 1030,
    "start_time": "2022-12-21T22:33:15.629Z"
   },
   {
    "duration": 17,
    "start_time": "2022-12-21T22:36:04.853Z"
   },
   {
    "duration": 1045,
    "start_time": "2022-12-21T22:36:11.811Z"
   },
   {
    "duration": 855,
    "start_time": "2022-12-21T22:38:08.691Z"
   },
   {
    "duration": 850,
    "start_time": "2022-12-21T22:38:39.781Z"
   },
   {
    "duration": 892,
    "start_time": "2022-12-21T22:38:51.959Z"
   },
   {
    "duration": 432,
    "start_time": "2022-12-21T22:39:31.506Z"
   },
   {
    "duration": 798,
    "start_time": "2022-12-21T22:41:09.545Z"
   },
   {
    "duration": 1065,
    "start_time": "2022-12-21T22:44:15.618Z"
   },
   {
    "duration": 834,
    "start_time": "2022-12-21T22:50:31.916Z"
   },
   {
    "duration": 847,
    "start_time": "2022-12-21T22:51:34.392Z"
   },
   {
    "duration": 394,
    "start_time": "2022-12-21T23:00:32.410Z"
   },
   {
    "duration": 881,
    "start_time": "2022-12-21T23:01:22.636Z"
   },
   {
    "duration": 825,
    "start_time": "2022-12-21T23:01:44.406Z"
   },
   {
    "duration": 807,
    "start_time": "2022-12-21T23:02:14.916Z"
   },
   {
    "duration": 3,
    "start_time": "2022-12-21T23:05:32.631Z"
   },
   {
    "duration": 54,
    "start_time": "2022-12-21T23:15:26.438Z"
   },
   {
    "duration": 4,
    "start_time": "2022-12-21T23:23:38.686Z"
   },
   {
    "duration": 18,
    "start_time": "2022-12-21T23:25:16.451Z"
   },
   {
    "duration": 1265,
    "start_time": "2022-12-21T23:25:23.778Z"
   },
   {
    "duration": 318,
    "start_time": "2022-12-21T23:25:25.045Z"
   },
   {
    "duration": 89,
    "start_time": "2022-12-21T23:25:25.367Z"
   },
   {
    "duration": 376,
    "start_time": "2022-12-21T23:25:25.459Z"
   },
   {
    "duration": 233,
    "start_time": "2022-12-21T23:25:25.836Z"
   },
   {
    "duration": 8,
    "start_time": "2022-12-21T23:25:26.072Z"
   },
   {
    "duration": 29,
    "start_time": "2022-12-21T23:25:26.082Z"
   },
   {
    "duration": 9,
    "start_time": "2022-12-21T23:25:26.112Z"
   },
   {
    "duration": 22,
    "start_time": "2022-12-21T23:25:26.135Z"
   },
   {
    "duration": 8,
    "start_time": "2022-12-21T23:25:26.159Z"
   },
   {
    "duration": 9,
    "start_time": "2022-12-21T23:25:26.169Z"
   },
   {
    "duration": 17,
    "start_time": "2022-12-21T23:25:26.180Z"
   },
   {
    "duration": 819,
    "start_time": "2022-12-21T23:25:26.199Z"
   },
   {
    "duration": 697,
    "start_time": "2022-12-21T23:25:27.019Z"
   },
   {
    "duration": 765,
    "start_time": "2022-12-21T23:25:27.718Z"
   },
   {
    "duration": 391,
    "start_time": "2022-12-21T23:25:28.484Z"
   },
   {
    "duration": 844,
    "start_time": "2022-12-21T23:25:28.877Z"
   },
   {
    "duration": 3,
    "start_time": "2022-12-21T23:25:29.722Z"
   },
   {
    "duration": 1437,
    "start_time": "2022-12-22T07:44:36.601Z"
   },
   {
    "duration": 983,
    "start_time": "2022-12-22T07:44:38.040Z"
   },
   {
    "duration": 373,
    "start_time": "2022-12-22T07:44:39.024Z"
   },
   {
    "duration": 1672,
    "start_time": "2022-12-22T07:44:39.399Z"
   },
   {
    "duration": 227,
    "start_time": "2022-12-22T07:44:41.073Z"
   },
   {
    "duration": 7,
    "start_time": "2022-12-22T07:44:41.302Z"
   },
   {
    "duration": 20,
    "start_time": "2022-12-22T07:44:41.311Z"
   },
   {
    "duration": 8,
    "start_time": "2022-12-22T07:44:41.332Z"
   },
   {
    "duration": 22,
    "start_time": "2022-12-22T07:44:41.341Z"
   },
   {
    "duration": 10,
    "start_time": "2022-12-22T07:44:41.366Z"
   },
   {
    "duration": 5,
    "start_time": "2022-12-22T07:44:41.378Z"
   },
   {
    "duration": 41,
    "start_time": "2022-12-22T07:44:41.385Z"
   },
   {
    "duration": 786,
    "start_time": "2022-12-22T07:44:41.428Z"
   },
   {
    "duration": 719,
    "start_time": "2022-12-22T07:44:42.215Z"
   },
   {
    "duration": 788,
    "start_time": "2022-12-22T07:44:42.935Z"
   },
   {
    "duration": 431,
    "start_time": "2022-12-22T07:44:43.724Z"
   },
   {
    "duration": 867,
    "start_time": "2022-12-22T07:44:44.157Z"
   },
   {
    "duration": 4,
    "start_time": "2022-12-22T07:44:45.025Z"
   },
   {
    "duration": 116,
    "start_time": "2022-12-22T08:06:13.607Z"
   },
   {
    "duration": 10,
    "start_time": "2022-12-22T08:20:47.421Z"
   },
   {
    "duration": 10,
    "start_time": "2022-12-22T08:21:18.175Z"
   },
   {
    "duration": 10,
    "start_time": "2022-12-22T08:21:25.074Z"
   },
   {
    "duration": 10,
    "start_time": "2022-12-22T08:21:26.233Z"
   },
   {
    "duration": 3,
    "start_time": "2022-12-22T08:21:55.957Z"
   },
   {
    "duration": 7,
    "start_time": "2022-12-22T08:22:42.919Z"
   },
   {
    "duration": 55,
    "start_time": "2022-12-22T08:29:47.153Z"
   },
   {
    "duration": 19,
    "start_time": "2022-12-22T08:30:06.070Z"
   },
   {
    "duration": 3,
    "start_time": "2022-12-22T08:30:35.214Z"
   },
   {
    "duration": 29,
    "start_time": "2022-12-22T08:31:02.311Z"
   },
   {
    "duration": 12,
    "start_time": "2022-12-22T08:45:10.397Z"
   },
   {
    "duration": 1270,
    "start_time": "2022-12-22T08:49:43.372Z"
   },
   {
    "duration": 275,
    "start_time": "2022-12-22T08:49:44.644Z"
   },
   {
    "duration": 78,
    "start_time": "2022-12-22T08:49:44.921Z"
   },
   {
    "duration": 349,
    "start_time": "2022-12-22T08:49:45.001Z"
   },
   {
    "duration": 217,
    "start_time": "2022-12-22T08:49:45.353Z"
   },
   {
    "duration": 9,
    "start_time": "2022-12-22T08:49:45.572Z"
   },
   {
    "duration": 25,
    "start_time": "2022-12-22T08:49:45.583Z"
   },
   {
    "duration": 38,
    "start_time": "2022-12-22T08:49:45.611Z"
   },
   {
    "duration": 32,
    "start_time": "2022-12-22T08:49:45.651Z"
   },
   {
    "duration": 14,
    "start_time": "2022-12-22T08:49:45.685Z"
   },
   {
    "duration": 19,
    "start_time": "2022-12-22T08:49:45.702Z"
   },
   {
    "duration": 24,
    "start_time": "2022-12-22T08:49:45.723Z"
   },
   {
    "duration": 763,
    "start_time": "2022-12-22T08:49:45.749Z"
   },
   {
    "duration": 676,
    "start_time": "2022-12-22T08:49:46.521Z"
   },
   {
    "duration": 774,
    "start_time": "2022-12-22T08:49:47.198Z"
   },
   {
    "duration": 412,
    "start_time": "2022-12-22T08:49:47.974Z"
   },
   {
    "duration": 855,
    "start_time": "2022-12-22T08:49:48.387Z"
   },
   {
    "duration": 4,
    "start_time": "2022-12-22T08:49:49.244Z"
   },
   {
    "duration": 39,
    "start_time": "2022-12-22T08:49:49.249Z"
   },
   {
    "duration": 0,
    "start_time": "2022-12-22T08:50:48.862Z"
   },
   {
    "duration": 0,
    "start_time": "2022-12-22T08:50:48.865Z"
   },
   {
    "duration": 15087,
    "start_time": "2022-12-22T08:50:50.443Z"
   },
   {
    "duration": 15006,
    "start_time": "2022-12-22T08:53:22.615Z"
   },
   {
    "duration": 14270,
    "start_time": "2022-12-22T08:53:49.742Z"
   },
   {
    "duration": 223075,
    "start_time": "2022-12-22T08:55:26.326Z"
   },
   {
    "duration": 292260,
    "start_time": "2022-12-22T09:00:12.004Z"
   },
   {
    "duration": 18017,
    "start_time": "2022-12-22T09:05:42.173Z"
   },
   {
    "duration": 227307,
    "start_time": "2022-12-22T09:06:02.338Z"
   },
   {
    "duration": 65604,
    "start_time": "2022-12-22T09:10:12.657Z"
   },
   {
    "duration": 64097,
    "start_time": "2022-12-22T09:11:31.574Z"
   },
   {
    "duration": 15,
    "start_time": "2022-12-22T09:13:49.869Z"
   },
   {
    "duration": 16451,
    "start_time": "2022-12-22T09:16:29.631Z"
   },
   {
    "duration": 226000,
    "start_time": "2022-12-22T09:16:52.578Z"
   },
   {
    "duration": 12138,
    "start_time": "2022-12-22T09:21:42.128Z"
   },
   {
    "duration": 64744,
    "start_time": "2022-12-22T09:21:56.462Z"
   },
   {
    "duration": 222099,
    "start_time": "2022-12-22T09:24:10.185Z"
   },
   {
    "duration": 150151,
    "start_time": "2022-12-22T09:28:37.019Z"
   },
   {
    "duration": 5,
    "start_time": "2022-12-22T09:31:39.300Z"
   },
   {
    "duration": 5,
    "start_time": "2022-12-22T09:34:53.194Z"
   },
   {
    "duration": 5,
    "start_time": "2022-12-22T09:35:55.271Z"
   },
   {
    "duration": 4,
    "start_time": "2022-12-22T09:36:50.488Z"
   },
   {
    "duration": 3,
    "start_time": "2022-12-22T09:37:00.263Z"
   },
   {
    "duration": 61,
    "start_time": "2022-12-22T09:47:03.053Z"
   },
   {
    "duration": 27,
    "start_time": "2022-12-22T09:47:09.994Z"
   },
   {
    "duration": 24,
    "start_time": "2022-12-22T09:52:31.152Z"
   },
   {
    "duration": 8,
    "start_time": "2022-12-22T09:52:36.943Z"
   },
   {
    "duration": 8,
    "start_time": "2022-12-22T09:53:39.409Z"
   },
   {
    "duration": 20,
    "start_time": "2022-12-22T10:05:33.204Z"
   },
   {
    "duration": 1384,
    "start_time": "2022-12-22T10:06:00.402Z"
   },
   {
    "duration": 295,
    "start_time": "2022-12-22T10:06:01.787Z"
   },
   {
    "duration": 85,
    "start_time": "2022-12-22T10:06:02.084Z"
   },
   {
    "duration": 361,
    "start_time": "2022-12-22T10:06:02.171Z"
   },
   {
    "duration": 217,
    "start_time": "2022-12-22T10:06:02.534Z"
   },
   {
    "duration": 7,
    "start_time": "2022-12-22T10:06:02.753Z"
   },
   {
    "duration": 13,
    "start_time": "2022-12-22T10:06:02.761Z"
   },
   {
    "duration": 14,
    "start_time": "2022-12-22T10:06:02.776Z"
   },
   {
    "duration": 43,
    "start_time": "2022-12-22T10:06:02.792Z"
   },
   {
    "duration": 12,
    "start_time": "2022-12-22T10:06:02.837Z"
   },
   {
    "duration": 9,
    "start_time": "2022-12-22T10:06:02.850Z"
   },
   {
    "duration": 30,
    "start_time": "2022-12-22T10:06:02.861Z"
   },
   {
    "duration": 766,
    "start_time": "2022-12-22T10:06:02.893Z"
   },
   {
    "duration": 669,
    "start_time": "2022-12-22T10:06:03.661Z"
   },
   {
    "duration": 797,
    "start_time": "2022-12-22T10:06:04.332Z"
   },
   {
    "duration": 490,
    "start_time": "2022-12-22T10:06:05.131Z"
   },
   {
    "duration": 811,
    "start_time": "2022-12-22T10:06:05.623Z"
   },
   {
    "duration": 4,
    "start_time": "2022-12-22T10:06:06.435Z"
   },
   {
    "duration": 64,
    "start_time": "2022-12-22T10:06:06.441Z"
   },
   {
    "duration": 156804,
    "start_time": "2022-12-22T10:06:06.507Z"
   },
   {
    "duration": 9,
    "start_time": "2022-12-22T10:08:43.313Z"
   },
   {
    "duration": 20,
    "start_time": "2022-12-22T10:08:43.323Z"
   },
   {
    "duration": 152,
    "start_time": "2022-12-22T10:08:43.344Z"
   },
   {
    "duration": 0,
    "start_time": "2022-12-22T10:08:43.497Z"
   },
   {
    "duration": 0,
    "start_time": "2022-12-22T10:08:43.499Z"
   },
   {
    "duration": 32,
    "start_time": "2022-12-22T10:21:09.939Z"
   },
   {
    "duration": 19,
    "start_time": "2022-12-22T10:21:59.321Z"
   },
   {
    "duration": 1359,
    "start_time": "2022-12-22T10:22:07.819Z"
   },
   {
    "duration": 308,
    "start_time": "2022-12-22T10:22:09.180Z"
   },
   {
    "duration": 85,
    "start_time": "2022-12-22T10:22:09.489Z"
   },
   {
    "duration": 362,
    "start_time": "2022-12-22T10:22:09.576Z"
   },
   {
    "duration": 225,
    "start_time": "2022-12-22T10:22:09.941Z"
   },
   {
    "duration": 7,
    "start_time": "2022-12-22T10:22:10.167Z"
   },
   {
    "duration": 16,
    "start_time": "2022-12-22T10:22:10.175Z"
   },
   {
    "duration": 6,
    "start_time": "2022-12-22T10:22:10.193Z"
   },
   {
    "duration": 37,
    "start_time": "2022-12-22T10:22:10.201Z"
   },
   {
    "duration": 10,
    "start_time": "2022-12-22T10:22:10.240Z"
   },
   {
    "duration": 6,
    "start_time": "2022-12-22T10:22:10.251Z"
   },
   {
    "duration": 25,
    "start_time": "2022-12-22T10:22:10.259Z"
   },
   {
    "duration": 825,
    "start_time": "2022-12-22T10:22:10.286Z"
   },
   {
    "duration": 703,
    "start_time": "2022-12-22T10:22:11.120Z"
   },
   {
    "duration": 847,
    "start_time": "2022-12-22T10:22:11.825Z"
   },
   {
    "duration": 451,
    "start_time": "2022-12-22T10:22:12.674Z"
   },
   {
    "duration": 900,
    "start_time": "2022-12-22T10:22:13.126Z"
   },
   {
    "duration": 4,
    "start_time": "2022-12-22T10:22:14.027Z"
   },
   {
    "duration": 47,
    "start_time": "2022-12-22T10:22:14.033Z"
   },
   {
    "duration": 153679,
    "start_time": "2022-12-22T10:22:14.082Z"
   },
   {
    "duration": 5,
    "start_time": "2022-12-22T10:24:47.763Z"
   },
   {
    "duration": 4,
    "start_time": "2022-12-22T10:24:47.822Z"
   },
   {
    "duration": 58,
    "start_time": "2022-12-22T10:24:47.828Z"
   },
   {
    "duration": 8,
    "start_time": "2022-12-22T10:24:47.922Z"
   },
   {
    "duration": 9,
    "start_time": "2022-12-22T10:28:10.277Z"
   },
   {
    "duration": 1285,
    "start_time": "2022-12-22T10:30:34.273Z"
   },
   {
    "duration": 291,
    "start_time": "2022-12-22T10:30:35.561Z"
   },
   {
    "duration": 83,
    "start_time": "2022-12-22T10:30:35.853Z"
   },
   {
    "duration": 365,
    "start_time": "2022-12-22T10:30:35.938Z"
   },
   {
    "duration": 216,
    "start_time": "2022-12-22T10:30:36.305Z"
   },
   {
    "duration": 7,
    "start_time": "2022-12-22T10:30:36.523Z"
   },
   {
    "duration": 14,
    "start_time": "2022-12-22T10:30:36.531Z"
   },
   {
    "duration": 6,
    "start_time": "2022-12-22T10:30:36.547Z"
   },
   {
    "duration": 18,
    "start_time": "2022-12-22T10:30:36.555Z"
   },
   {
    "duration": 46,
    "start_time": "2022-12-22T10:30:36.575Z"
   },
   {
    "duration": 5,
    "start_time": "2022-12-22T10:30:36.623Z"
   },
   {
    "duration": 18,
    "start_time": "2022-12-22T10:30:36.629Z"
   },
   {
    "duration": 761,
    "start_time": "2022-12-22T10:30:36.648Z"
   },
   {
    "duration": 687,
    "start_time": "2022-12-22T10:30:37.410Z"
   },
   {
    "duration": 784,
    "start_time": "2022-12-22T10:30:38.098Z"
   },
   {
    "duration": 442,
    "start_time": "2022-12-22T10:30:38.884Z"
   },
   {
    "duration": 804,
    "start_time": "2022-12-22T10:30:39.327Z"
   },
   {
    "duration": 3,
    "start_time": "2022-12-22T10:30:40.132Z"
   },
   {
    "duration": 89,
    "start_time": "2022-12-22T10:30:40.137Z"
   },
   {
    "duration": 152448,
    "start_time": "2022-12-22T10:30:40.228Z"
   },
   {
    "duration": 5,
    "start_time": "2022-12-22T10:33:12.678Z"
   },
   {
    "duration": 13,
    "start_time": "2022-12-22T10:33:12.684Z"
   },
   {
    "duration": 54,
    "start_time": "2022-12-22T10:33:12.698Z"
   },
   {
    "duration": 10,
    "start_time": "2022-12-22T10:33:12.754Z"
   },
   {
    "duration": 1309,
    "start_time": "2022-12-22T10:38:16.310Z"
   },
   {
    "duration": 286,
    "start_time": "2022-12-22T10:38:17.621Z"
   },
   {
    "duration": 81,
    "start_time": "2022-12-22T10:38:17.908Z"
   },
   {
    "duration": 353,
    "start_time": "2022-12-22T10:38:17.991Z"
   },
   {
    "duration": 8,
    "start_time": "2022-12-22T10:38:18.346Z"
   },
   {
    "duration": 21,
    "start_time": "2022-12-22T10:38:18.356Z"
   },
   {
    "duration": 17,
    "start_time": "2022-12-22T10:38:18.378Z"
   },
   {
    "duration": 215,
    "start_time": "2022-12-22T10:38:18.396Z"
   },
   {
    "duration": 14,
    "start_time": "2022-12-22T10:38:18.612Z"
   },
   {
    "duration": 21,
    "start_time": "2022-12-22T10:38:18.628Z"
   },
   {
    "duration": 7,
    "start_time": "2022-12-22T10:38:18.651Z"
   },
   {
    "duration": 19,
    "start_time": "2022-12-22T10:38:18.660Z"
   },
   {
    "duration": 767,
    "start_time": "2022-12-22T10:38:18.681Z"
   },
   {
    "duration": 1273,
    "start_time": "2022-12-22T10:38:19.450Z"
   },
   {
    "duration": 1404,
    "start_time": "2022-12-22T10:38:20.725Z"
   },
   {
    "duration": 912,
    "start_time": "2022-12-22T10:38:22.131Z"
   },
   {
    "duration": 1279,
    "start_time": "2022-12-22T10:38:23.045Z"
   },
   {
    "duration": 3,
    "start_time": "2022-12-22T10:38:24.326Z"
   },
   {
    "duration": 96,
    "start_time": "2022-12-22T10:38:24.331Z"
   },
   {
    "duration": 153185,
    "start_time": "2022-12-22T10:38:24.428Z"
   },
   {
    "duration": 8,
    "start_time": "2022-12-22T10:40:57.615Z"
   },
   {
    "duration": 10,
    "start_time": "2022-12-22T10:40:57.625Z"
   },
   {
    "duration": 45,
    "start_time": "2022-12-22T10:40:57.636Z"
   },
   {
    "duration": 9,
    "start_time": "2022-12-22T10:40:57.683Z"
   },
   {
    "duration": 96,
    "start_time": "2022-12-23T12:09:05.848Z"
   },
   {
    "duration": 47,
    "start_time": "2022-12-23T21:40:14.285Z"
   },
   {
    "duration": 1538,
    "start_time": "2022-12-23T21:42:16.448Z"
   },
   {
    "duration": 821,
    "start_time": "2022-12-23T21:42:17.988Z"
   },
   {
    "duration": 427,
    "start_time": "2022-12-23T21:42:18.811Z"
   },
   {
    "duration": 1841,
    "start_time": "2022-12-23T21:42:19.240Z"
   },
   {
    "duration": 10,
    "start_time": "2022-12-23T21:42:21.083Z"
   },
   {
    "duration": 17,
    "start_time": "2022-12-23T21:42:21.094Z"
   },
   {
    "duration": 22,
    "start_time": "2022-12-23T21:42:21.112Z"
   },
   {
    "duration": 250,
    "start_time": "2022-12-23T21:42:21.135Z"
   },
   {
    "duration": 7,
    "start_time": "2022-12-23T21:42:21.387Z"
   },
   {
    "duration": 11,
    "start_time": "2022-12-23T21:42:21.412Z"
   },
   {
    "duration": 12,
    "start_time": "2022-12-23T21:42:21.425Z"
   },
   {
    "duration": 27,
    "start_time": "2022-12-23T21:42:21.439Z"
   },
   {
    "duration": 844,
    "start_time": "2022-12-23T21:42:21.468Z"
   },
   {
    "duration": 727,
    "start_time": "2022-12-23T21:42:22.314Z"
   },
   {
    "duration": 833,
    "start_time": "2022-12-23T21:42:23.043Z"
   },
   {
    "duration": 467,
    "start_time": "2022-12-23T21:42:23.877Z"
   },
   {
    "duration": 885,
    "start_time": "2022-12-23T21:42:24.346Z"
   },
   {
    "duration": 4,
    "start_time": "2022-12-23T21:42:25.233Z"
   },
   {
    "duration": 37,
    "start_time": "2022-12-23T21:42:25.239Z"
   },
   {
    "duration": 156744,
    "start_time": "2022-12-23T21:42:25.278Z"
   },
   {
    "duration": 6,
    "start_time": "2022-12-23T21:45:02.024Z"
   },
   {
    "duration": 39,
    "start_time": "2022-12-23T21:45:02.032Z"
   },
   {
    "duration": 62,
    "start_time": "2022-12-23T21:45:02.073Z"
   },
   {
    "duration": 9,
    "start_time": "2022-12-23T21:45:02.137Z"
   },
   {
    "duration": 121,
    "start_time": "2022-12-23T21:55:55.803Z"
   },
   {
    "duration": 852,
    "start_time": "2022-12-23T21:56:16.202Z"
   },
   {
    "duration": 17,
    "start_time": "2022-12-23T21:56:52.606Z"
   },
   {
    "duration": 4,
    "start_time": "2022-12-23T21:57:17.734Z"
   },
   {
    "duration": 292,
    "start_time": "2022-12-23T21:57:19.775Z"
   },
   {
    "duration": 142,
    "start_time": "2022-12-23T21:57:25.578Z"
   },
   {
    "duration": 383,
    "start_time": "2022-12-23T21:57:35.244Z"
   },
   {
    "duration": 8,
    "start_time": "2022-12-23T21:57:39.254Z"
   },
   {
    "duration": 4,
    "start_time": "2022-12-23T21:57:41.749Z"
   },
   {
    "duration": 7,
    "start_time": "2022-12-23T21:57:44.418Z"
   },
   {
    "duration": 216,
    "start_time": "2022-12-23T21:57:48.733Z"
   },
   {
    "duration": 8,
    "start_time": "2022-12-23T21:57:51.649Z"
   },
   {
    "duration": 11,
    "start_time": "2022-12-23T21:57:54.853Z"
   },
   {
    "duration": 8,
    "start_time": "2022-12-23T21:57:57.567Z"
   },
   {
    "duration": 21,
    "start_time": "2022-12-23T21:58:02.179Z"
   },
   {
    "duration": 1813,
    "start_time": "2022-12-23T21:58:05.932Z"
   },
   {
    "duration": 2182,
    "start_time": "2022-12-23T21:59:46.236Z"
   },
   {
    "duration": 2170,
    "start_time": "2022-12-23T22:04:46.878Z"
   },
   {
    "duration": 2271,
    "start_time": "2022-12-23T22:06:40.100Z"
   },
   {
    "duration": 1896,
    "start_time": "2022-12-23T22:06:54.716Z"
   },
   {
    "duration": 1973,
    "start_time": "2022-12-23T22:08:22.435Z"
   },
   {
    "duration": 6,
    "start_time": "2022-12-23T22:09:46.427Z"
   },
   {
    "duration": 997,
    "start_time": "2022-12-23T22:10:02.885Z"
   },
   {
    "duration": 1050,
    "start_time": "2022-12-23T22:10:26.763Z"
   },
   {
    "duration": 965,
    "start_time": "2022-12-23T22:11:56.851Z"
   },
   {
    "duration": 1055,
    "start_time": "2022-12-23T22:18:12.664Z"
   },
   {
    "duration": 1086,
    "start_time": "2022-12-23T22:18:34.341Z"
   },
   {
    "duration": 1143,
    "start_time": "2022-12-23T22:22:04.441Z"
   },
   {
    "duration": 624,
    "start_time": "2022-12-23T22:28:08.571Z"
   },
   {
    "duration": 1067,
    "start_time": "2022-12-23T22:30:28.664Z"
   },
   {
    "duration": 1132,
    "start_time": "2022-12-23T22:31:03.539Z"
   },
   {
    "duration": 1254,
    "start_time": "2022-12-23T22:31:16.372Z"
   },
   {
    "duration": 16,
    "start_time": "2022-12-23T22:32:09.651Z"
   },
   {
    "duration": 1039,
    "start_time": "2022-12-23T22:32:18.215Z"
   },
   {
    "duration": 1139,
    "start_time": "2022-12-23T22:34:47.316Z"
   },
   {
    "duration": 1062,
    "start_time": "2022-12-23T22:39:03.185Z"
   },
   {
    "duration": 1017,
    "start_time": "2022-12-23T22:40:04.423Z"
   },
   {
    "duration": 1202,
    "start_time": "2022-12-23T22:41:25.951Z"
   },
   {
    "duration": 1854,
    "start_time": "2022-12-23T22:42:53.822Z"
   },
   {
    "duration": 1173,
    "start_time": "2022-12-23T22:43:49.883Z"
   },
   {
    "duration": 45,
    "start_time": "2022-12-23T22:50:20.258Z"
   },
   {
    "duration": 872,
    "start_time": "2022-12-23T22:50:52.515Z"
   },
   {
    "duration": 817,
    "start_time": "2022-12-23T22:51:21.479Z"
   },
   {
    "duration": 900,
    "start_time": "2022-12-23T22:51:46.764Z"
   },
   {
    "duration": 393,
    "start_time": "2022-12-23T22:52:16.529Z"
   },
   {
    "duration": 742,
    "start_time": "2022-12-23T22:55:57.405Z"
   },
   {
    "duration": 432,
    "start_time": "2022-12-23T22:58:04.700Z"
   },
   {
    "duration": 49,
    "start_time": "2022-12-23T22:58:09.279Z"
   },
   {
    "duration": 493,
    "start_time": "2022-12-23T22:58:57.581Z"
   },
   {
    "duration": 51,
    "start_time": "2022-12-23T23:03:27.121Z"
   },
   {
    "duration": 724,
    "start_time": "2022-12-23T23:12:03.636Z"
   },
   {
    "duration": 786,
    "start_time": "2022-12-23T23:15:07.641Z"
   },
   {
    "duration": 815,
    "start_time": "2022-12-23T23:16:43.897Z"
   },
   {
    "duration": 854,
    "start_time": "2022-12-23T23:17:29.085Z"
   },
   {
    "duration": 871,
    "start_time": "2022-12-23T23:18:45.473Z"
   },
   {
    "duration": 792,
    "start_time": "2022-12-23T23:19:59.224Z"
   },
   {
    "duration": 51,
    "start_time": "2022-12-23T23:20:30.632Z"
   },
   {
    "duration": 1003,
    "start_time": "2022-12-23T23:20:42.424Z"
   },
   {
    "duration": 47,
    "start_time": "2022-12-23T23:24:15.604Z"
   },
   {
    "duration": 0,
    "start_time": "2022-12-23T23:32:13.249Z"
   },
   {
    "duration": 262416,
    "start_time": "2022-12-23T23:32:18.157Z"
   },
   {
    "duration": 255697,
    "start_time": "2022-12-23T23:40:39.374Z"
   },
   {
    "duration": 12,
    "start_time": "2022-12-23T23:47:28.478Z"
   },
   {
    "duration": 16,
    "start_time": "2022-12-23T23:48:03.051Z"
   },
   {
    "duration": 54,
    "start_time": "2022-12-23T23:49:09.250Z"
   },
   {
    "duration": 6009,
    "start_time": "2022-12-23T23:49:54.745Z"
   },
   {
    "duration": 1590,
    "start_time": "2022-12-23T23:51:19.105Z"
   },
   {
    "duration": 0,
    "start_time": "2022-12-24T00:48:28.470Z"
   },
   {
    "duration": 47,
    "start_time": "2022-12-24T08:33:02.625Z"
   },
   {
    "duration": 42,
    "start_time": "2022-12-24T08:33:09.643Z"
   },
   {
    "duration": 1474,
    "start_time": "2022-12-24T08:33:24.905Z"
   },
   {
    "duration": 1073,
    "start_time": "2022-12-24T08:33:28.531Z"
   },
   {
    "duration": 779,
    "start_time": "2022-12-24T08:33:36.438Z"
   },
   {
    "duration": 1278,
    "start_time": "2022-12-24T08:33:41.106Z"
   },
   {
    "duration": 264,
    "start_time": "2022-12-24T08:33:42.386Z"
   },
   {
    "duration": 83,
    "start_time": "2022-12-24T08:33:42.652Z"
   },
   {
    "duration": 1755,
    "start_time": "2022-12-24T08:33:42.737Z"
   },
   {
    "duration": 9,
    "start_time": "2022-12-24T08:33:44.494Z"
   },
   {
    "duration": 5,
    "start_time": "2022-12-24T08:33:44.504Z"
   },
   {
    "duration": 27,
    "start_time": "2022-12-24T08:33:44.510Z"
   },
   {
    "duration": 258,
    "start_time": "2022-12-24T08:33:44.539Z"
   },
   {
    "duration": 8,
    "start_time": "2022-12-24T08:33:44.799Z"
   },
   {
    "duration": 23,
    "start_time": "2022-12-24T08:33:44.810Z"
   },
   {
    "duration": 9,
    "start_time": "2022-12-24T08:33:44.835Z"
   },
   {
    "duration": 22,
    "start_time": "2022-12-24T08:33:44.846Z"
   },
   {
    "duration": 1057,
    "start_time": "2022-12-24T08:33:44.869Z"
   },
   {
    "duration": 967,
    "start_time": "2022-12-24T08:33:45.928Z"
   },
   {
    "duration": 1324,
    "start_time": "2022-12-24T08:33:46.896Z"
   },
   {
    "duration": 475,
    "start_time": "2022-12-24T08:33:48.222Z"
   },
   {
    "duration": 457,
    "start_time": "2022-12-24T08:33:48.699Z"
   },
   {
    "duration": 847,
    "start_time": "2022-12-24T08:33:49.157Z"
   },
   {
    "duration": 3,
    "start_time": "2022-12-24T08:33:50.006Z"
   },
   {
    "duration": 65,
    "start_time": "2022-12-24T08:33:50.011Z"
   },
   {
    "duration": 27310,
    "start_time": "2022-12-24T08:33:50.079Z"
   },
   {
    "duration": 104,
    "start_time": "2022-12-24T08:34:17.398Z"
   },
   {
    "duration": 0,
    "start_time": "2022-12-24T08:34:17.503Z"
   },
   {
    "duration": 0,
    "start_time": "2022-12-24T08:34:17.504Z"
   },
   {
    "duration": 0,
    "start_time": "2022-12-24T08:34:17.505Z"
   },
   {
    "duration": 480535,
    "start_time": "2022-12-24T08:34:54.338Z"
   },
   {
    "duration": 0,
    "start_time": "2022-12-24T08:42:54.876Z"
   },
   {
    "duration": 13,
    "start_time": "2022-12-24T08:43:13.777Z"
   },
   {
    "duration": 670,
    "start_time": "2022-12-24T08:43:51.438Z"
   },
   {
    "duration": 695,
    "start_time": "2022-12-24T08:44:35.385Z"
   },
   {
    "duration": 1193,
    "start_time": "2022-12-24T08:47:13.907Z"
   },
   {
    "duration": 1112,
    "start_time": "2022-12-24T08:47:29.958Z"
   },
   {
    "duration": 1109,
    "start_time": "2022-12-24T08:47:42.748Z"
   },
   {
    "duration": 15,
    "start_time": "2022-12-24T09:06:12.579Z"
   },
   {
    "duration": 21,
    "start_time": "2022-12-24T09:08:25.689Z"
   },
   {
    "duration": 4,
    "start_time": "2022-12-24T09:17:08.162Z"
   },
   {
    "duration": 285,
    "start_time": "2022-12-24T09:17:10.626Z"
   },
   {
    "duration": 93,
    "start_time": "2022-12-24T09:17:15.068Z"
   },
   {
    "duration": 835,
    "start_time": "2022-12-24T09:19:09.580Z"
   },
   {
    "duration": 875,
    "start_time": "2022-12-24T09:20:08.349Z"
   },
   {
    "duration": 832,
    "start_time": "2022-12-24T09:20:45.160Z"
   },
   {
    "duration": 842,
    "start_time": "2022-12-24T09:21:00.362Z"
   },
   {
    "duration": 794,
    "start_time": "2022-12-24T09:21:19.522Z"
   },
   {
    "duration": 14,
    "start_time": "2022-12-24T09:21:49.464Z"
   },
   {
    "duration": 867,
    "start_time": "2022-12-24T09:22:03.157Z"
   },
   {
    "duration": 987,
    "start_time": "2022-12-24T09:32:23.410Z"
   },
   {
    "duration": 1266,
    "start_time": "2022-12-24T09:32:46.226Z"
   },
   {
    "duration": 284,
    "start_time": "2022-12-24T09:32:47.494Z"
   },
   {
    "duration": 79,
    "start_time": "2022-12-24T09:32:47.780Z"
   },
   {
    "duration": 376,
    "start_time": "2022-12-24T09:32:47.861Z"
   },
   {
    "duration": 9,
    "start_time": "2022-12-24T09:32:48.239Z"
   },
   {
    "duration": 6,
    "start_time": "2022-12-24T09:32:48.250Z"
   },
   {
    "duration": 8,
    "start_time": "2022-12-24T09:32:48.258Z"
   },
   {
    "duration": 245,
    "start_time": "2022-12-24T09:32:48.267Z"
   },
   {
    "duration": 7,
    "start_time": "2022-12-24T09:32:48.513Z"
   },
   {
    "duration": 12,
    "start_time": "2022-12-24T09:32:48.523Z"
   },
   {
    "duration": 8,
    "start_time": "2022-12-24T09:32:48.537Z"
   },
   {
    "duration": 21,
    "start_time": "2022-12-24T09:32:48.546Z"
   },
   {
    "duration": 1601,
    "start_time": "2022-12-24T09:32:48.597Z"
   },
   {
    "duration": 1309,
    "start_time": "2022-12-24T09:32:50.200Z"
   },
   {
    "duration": 1679,
    "start_time": "2022-12-24T09:32:51.511Z"
   },
   {
    "duration": 513,
    "start_time": "2022-12-24T09:32:53.192Z"
   },
   {
    "duration": 549,
    "start_time": "2022-12-24T09:32:53.706Z"
   },
   {
    "duration": 1034,
    "start_time": "2022-12-24T09:32:54.257Z"
   },
   {
    "duration": 5,
    "start_time": "2022-12-24T09:32:55.293Z"
   },
   {
    "duration": 44,
    "start_time": "2022-12-24T09:32:55.300Z"
   },
   {
    "duration": 127553,
    "start_time": "2022-12-24T09:32:55.346Z"
   },
   {
    "duration": 0,
    "start_time": "2022-12-24T09:35:02.901Z"
   },
   {
    "duration": 0,
    "start_time": "2022-12-24T09:35:02.902Z"
   },
   {
    "duration": 0,
    "start_time": "2022-12-24T09:35:02.903Z"
   },
   {
    "duration": 0,
    "start_time": "2022-12-24T09:35:02.903Z"
   },
   {
    "duration": 0,
    "start_time": "2022-12-24T09:35:02.905Z"
   },
   {
    "duration": 762,
    "start_time": "2022-12-24T09:35:05.690Z"
   },
   {
    "duration": 1317,
    "start_time": "2022-12-24T09:35:19.034Z"
   },
   {
    "duration": 276,
    "start_time": "2022-12-24T09:35:20.354Z"
   },
   {
    "duration": 81,
    "start_time": "2022-12-24T09:35:20.631Z"
   },
   {
    "duration": 345,
    "start_time": "2022-12-24T09:35:20.714Z"
   },
   {
    "duration": 9,
    "start_time": "2022-12-24T09:35:21.062Z"
   },
   {
    "duration": 8,
    "start_time": "2022-12-24T09:35:21.072Z"
   },
   {
    "duration": 20,
    "start_time": "2022-12-24T09:35:21.082Z"
   },
   {
    "duration": 224,
    "start_time": "2022-12-24T09:35:21.104Z"
   },
   {
    "duration": 7,
    "start_time": "2022-12-24T09:35:21.330Z"
   },
   {
    "duration": 17,
    "start_time": "2022-12-24T09:35:21.338Z"
   },
   {
    "duration": 7,
    "start_time": "2022-12-24T09:35:21.356Z"
   },
   {
    "duration": 40,
    "start_time": "2022-12-24T09:35:21.364Z"
   },
   {
    "duration": 1532,
    "start_time": "2022-12-24T09:35:21.406Z"
   },
   {
    "duration": 1578,
    "start_time": "2022-12-24T09:35:22.941Z"
   },
   {
    "duration": 1223,
    "start_time": "2022-12-24T09:35:24.520Z"
   },
   {
    "duration": 571,
    "start_time": "2022-12-24T09:35:25.745Z"
   },
   {
    "duration": 514,
    "start_time": "2022-12-24T09:35:26.318Z"
   },
   {
    "duration": 846,
    "start_time": "2022-12-24T09:35:26.834Z"
   },
   {
    "duration": 3,
    "start_time": "2022-12-24T09:35:27.682Z"
   },
   {
    "duration": 39,
    "start_time": "2022-12-24T09:35:27.686Z"
   },
   {
    "duration": 0,
    "start_time": "2022-12-24T09:39:14.073Z"
   },
   {
    "duration": 0,
    "start_time": "2022-12-24T09:39:14.074Z"
   },
   {
    "duration": 0,
    "start_time": "2022-12-24T09:39:14.076Z"
   },
   {
    "duration": 0,
    "start_time": "2022-12-24T09:39:14.076Z"
   },
   {
    "duration": 0,
    "start_time": "2022-12-24T09:39:14.078Z"
   },
   {
    "duration": 1574,
    "start_time": "2022-12-24T09:40:01.617Z"
   },
   {
    "duration": 305,
    "start_time": "2022-12-24T09:40:03.193Z"
   },
   {
    "duration": 83,
    "start_time": "2022-12-24T09:40:03.501Z"
   },
   {
    "duration": 417,
    "start_time": "2022-12-24T09:40:03.586Z"
   },
   {
    "duration": 13,
    "start_time": "2022-12-24T09:40:04.005Z"
   },
   {
    "duration": 8,
    "start_time": "2022-12-24T09:40:04.020Z"
   },
   {
    "duration": 13,
    "start_time": "2022-12-24T09:40:04.029Z"
   },
   {
    "duration": 270,
    "start_time": "2022-12-24T09:40:04.044Z"
   },
   {
    "duration": 8,
    "start_time": "2022-12-24T09:40:04.315Z"
   },
   {
    "duration": 17,
    "start_time": "2022-12-24T09:40:04.324Z"
   },
   {
    "duration": 8,
    "start_time": "2022-12-24T09:40:04.342Z"
   },
   {
    "duration": 19,
    "start_time": "2022-12-24T09:40:04.353Z"
   },
   {
    "duration": 1060,
    "start_time": "2022-12-24T09:40:04.398Z"
   },
   {
    "duration": 1861,
    "start_time": "2022-12-24T09:40:05.462Z"
   },
   {
    "duration": 1500,
    "start_time": "2022-12-24T09:40:07.326Z"
   },
   {
    "duration": 582,
    "start_time": "2022-12-24T09:40:08.828Z"
   },
   {
    "duration": 489,
    "start_time": "2022-12-24T09:40:09.412Z"
   },
   {
    "duration": 886,
    "start_time": "2022-12-24T09:40:09.903Z"
   },
   {
    "duration": 8,
    "start_time": "2022-12-24T09:40:10.790Z"
   },
   {
    "duration": 31,
    "start_time": "2022-12-24T09:40:10.799Z"
   },
   {
    "duration": 4943,
    "start_time": "2022-12-24T09:40:10.832Z"
   },
   {
    "duration": 5,
    "start_time": "2022-12-24T09:40:15.776Z"
   },
   {
    "duration": 15,
    "start_time": "2022-12-24T09:40:15.783Z"
   },
   {
    "duration": 18,
    "start_time": "2022-12-24T09:40:15.800Z"
   },
   {
    "duration": 7,
    "start_time": "2022-12-24T09:40:15.820Z"
   },
   {
    "duration": 181105,
    "start_time": "2022-12-24T09:42:07.240Z"
   },
   {
    "duration": 1135027,
    "start_time": "2022-12-24T09:53:30.476Z"
   },
   {
    "duration": 2490497,
    "start_time": "2022-12-24T10:12:33.216Z"
   },
   {
    "duration": 285396,
    "start_time": "2022-12-24T10:54:53.676Z"
   },
   {
    "duration": 550704,
    "start_time": "2022-12-24T10:59:43.707Z"
   },
   {
    "duration": 566489,
    "start_time": "2022-12-24T11:10:43.822Z"
   },
   {
    "duration": 18434,
    "start_time": "2022-12-24T11:20:19.445Z"
   },
   {
    "duration": 301531,
    "start_time": "2022-12-24T11:21:04.013Z"
   },
   {
    "duration": 147062,
    "start_time": "2022-12-24T11:28:06.696Z"
   },
   {
    "duration": 2792582,
    "start_time": "2022-12-24T11:38:26.769Z"
   },
   {
    "duration": 1678183,
    "start_time": "2022-12-24T12:25:01.830Z"
   },
   {
    "duration": 3521429,
    "start_time": "2022-12-24T13:16:00.651Z"
   },
   {
    "duration": 5,
    "start_time": "2022-12-24T14:18:24.893Z"
   },
   {
    "duration": 3,
    "start_time": "2022-12-24T14:18:36.463Z"
   },
   {
    "duration": 4,
    "start_time": "2022-12-24T14:18:43.706Z"
   },
   {
    "duration": 55,
    "start_time": "2022-12-24T14:19:00.238Z"
   },
   {
    "duration": 8,
    "start_time": "2022-12-24T14:19:05.110Z"
   },
   {
    "duration": 9,
    "start_time": "2022-12-24T14:22:00.564Z"
   },
   {
    "duration": 52,
    "start_time": "2022-12-24T14:22:03.883Z"
   },
   {
    "duration": 10,
    "start_time": "2022-12-24T14:22:53.468Z"
   },
   {
    "duration": 42,
    "start_time": "2022-12-24T14:23:43.113Z"
   }
  ],
  "kernelspec": {
   "display_name": "Python 3 (ipykernel)",
   "language": "python",
   "name": "python3"
  },
  "language_info": {
   "codemirror_mode": {
    "name": "ipython",
    "version": 3
   },
   "file_extension": ".py",
   "mimetype": "text/x-python",
   "name": "python",
   "nbconvert_exporter": "python",
   "pygments_lexer": "ipython3",
   "version": "3.9.5"
  },
  "toc": {
   "base_numbering": 1,
   "nav_menu": {},
   "number_sections": true,
   "sideBar": true,
   "skip_h1_title": true,
   "title_cell": "Содержание",
   "title_sidebar": "Contents",
   "toc_cell": true,
   "toc_position": {
    "height": "calc(100% - 180px)",
    "left": "10px",
    "top": "150px",
    "width": "165px"
   },
   "toc_section_display": true,
   "toc_window_display": false
  }
 },
 "nbformat": 4,
 "nbformat_minor": 2
}
