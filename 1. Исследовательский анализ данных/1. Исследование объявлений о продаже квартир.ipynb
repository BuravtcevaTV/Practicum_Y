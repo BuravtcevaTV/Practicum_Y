{
 "cells": [
  {
   "cell_type": "markdown",
   "metadata": {},
   "source": [
    "\n",
    "# Исследование объявлений о продаже квартир\n",
    "\n",
    "В нашем распоряжении архив объявлений о продаже квартир в Санкт-Петербурге и соседних населённых пунктах за несколько лет. \n",
    "По каждой квартире на продажу доступны два вида данных. Первые вписаны пользователем, вторые — получены автоматически на основе картографических данных. Например, расстояние до центра, аэропорта, ближайшего парка и водоёма.\n",
    " \n",
    "**Задача:** провести исследовательский анализ данных и определить параметры, которые наиболее сильно влияют на цену квартиры.\n",
    " \n",
    "\n"
   ]
  },
  {
   "cell_type": "markdown",
   "metadata": {},
   "source": [
    "### Изучение данных."
   ]
  },
  {
   "cell_type": "code",
   "execution_count": 1,
   "metadata": {
    "scrolled": false
   },
   "outputs": [
    {
     "name": "stdout",
     "output_type": "stream",
     "text": [
      "<class 'pandas.core.frame.DataFrame'>\n",
      "RangeIndex: 23699 entries, 0 to 23698\n",
      "Data columns (total 22 columns):\n",
      " #   Column                Non-Null Count  Dtype  \n",
      "---  ------                --------------  -----  \n",
      " 0   total_images          23699 non-null  int64  \n",
      " 1   last_price            23699 non-null  float64\n",
      " 2   total_area            23699 non-null  float64\n",
      " 3   first_day_exposition  23699 non-null  object \n",
      " 4   rooms                 23699 non-null  int64  \n",
      " 5   ceiling_height        14504 non-null  float64\n",
      " 6   floors_total          23613 non-null  float64\n",
      " 7   living_area           21796 non-null  float64\n",
      " 8   floor                 23699 non-null  int64  \n",
      " 9   is_apartment          2775 non-null   object \n",
      " 10  studio                23699 non-null  bool   \n",
      " 11  open_plan             23699 non-null  bool   \n",
      " 12  kitchen_area          21421 non-null  float64\n",
      " 13  balcony               12180 non-null  float64\n",
      " 14  locality_name         23650 non-null  object \n",
      " 15  airports_nearest      18157 non-null  float64\n",
      " 16  cityCenters_nearest   18180 non-null  float64\n",
      " 17  parks_around3000      18181 non-null  float64\n",
      " 18  parks_nearest         8079 non-null   float64\n",
      " 19  ponds_around3000      18181 non-null  float64\n",
      " 20  ponds_nearest         9110 non-null   float64\n",
      " 21  days_exposition       20518 non-null  float64\n",
      "dtypes: bool(2), float64(14), int64(3), object(3)\n",
      "memory usage: 3.7+ MB\n",
      "   total_images  last_price  total_area first_day_exposition  rooms  \\\n",
      "0            20  13000000.0      108.00  2019-03-07T00:00:00      3   \n",
      "1             7   3350000.0       40.40  2018-12-04T00:00:00      1   \n",
      "2            10   5196000.0       56.00  2015-08-20T00:00:00      2   \n",
      "3             0  64900000.0      159.00  2015-07-24T00:00:00      3   \n",
      "4             2  10000000.0      100.00  2018-06-19T00:00:00      2   \n",
      "5            10   2890000.0       30.40  2018-09-10T00:00:00      1   \n",
      "6             6   3700000.0       37.30  2017-11-02T00:00:00      1   \n",
      "7             5   7915000.0       71.60  2019-04-18T00:00:00      2   \n",
      "8            20   2900000.0       33.16  2018-05-23T00:00:00      1   \n",
      "9            18   5400000.0       61.00  2017-02-26T00:00:00      3   \n",
      "\n",
      "   ceiling_height  floors_total  living_area  floor is_apartment  ...  \\\n",
      "0            2.70          16.0        51.00      8          NaN  ...   \n",
      "1             NaN          11.0        18.60      1          NaN  ...   \n",
      "2             NaN           5.0        34.30      4          NaN  ...   \n",
      "3             NaN          14.0          NaN      9          NaN  ...   \n",
      "4            3.03          14.0        32.00     13          NaN  ...   \n",
      "5             NaN          12.0        14.40      5          NaN  ...   \n",
      "6             NaN          26.0        10.60      6          NaN  ...   \n",
      "7             NaN          24.0          NaN     22          NaN  ...   \n",
      "8             NaN          27.0        15.43     26          NaN  ...   \n",
      "9            2.50           9.0        43.60      7          NaN  ...   \n",
      "\n",
      "   kitchen_area  balcony              locality_name  airports_nearest  \\\n",
      "0         25.00      NaN            Санкт-Петербург           18863.0   \n",
      "1         11.00      2.0             посёлок Шушары           12817.0   \n",
      "2          8.30      0.0            Санкт-Петербург           21741.0   \n",
      "3           NaN      0.0            Санкт-Петербург           28098.0   \n",
      "4         41.00      NaN            Санкт-Петербург           31856.0   \n",
      "5          9.10      NaN  городской посёлок Янино-1               NaN   \n",
      "6         14.40      1.0          посёлок Парголово           52996.0   \n",
      "7         18.90      2.0            Санкт-Петербург           23982.0   \n",
      "8          8.81      NaN             посёлок Мурино               NaN   \n",
      "9          6.50      2.0            Санкт-Петербург           50898.0   \n",
      "\n",
      "  cityCenters_nearest  parks_around3000  parks_nearest  ponds_around3000  \\\n",
      "0             16028.0               1.0          482.0               2.0   \n",
      "1             18603.0               0.0            NaN               0.0   \n",
      "2             13933.0               1.0           90.0               2.0   \n",
      "3              6800.0               2.0           84.0               3.0   \n",
      "4              8098.0               2.0          112.0               1.0   \n",
      "5                 NaN               NaN            NaN               NaN   \n",
      "6             19143.0               0.0            NaN               0.0   \n",
      "7             11634.0               0.0            NaN               0.0   \n",
      "8                 NaN               NaN            NaN               NaN   \n",
      "9             15008.0               0.0            NaN               0.0   \n",
      "\n",
      "   ponds_nearest  days_exposition  \n",
      "0          755.0              NaN  \n",
      "1            NaN             81.0  \n",
      "2          574.0            558.0  \n",
      "3          234.0            424.0  \n",
      "4           48.0            121.0  \n",
      "5            NaN             55.0  \n",
      "6            NaN            155.0  \n",
      "7            NaN              NaN  \n",
      "8            NaN            189.0  \n",
      "9            NaN            289.0  \n",
      "\n",
      "[10 rows x 22 columns]\n"
     ]
    },
    {
     "data": {
      "text/plain": [
       "array([[<AxesSubplot:title={'center':'total_images'}>,\n",
       "        <AxesSubplot:title={'center':'last_price'}>,\n",
       "        <AxesSubplot:title={'center':'total_area'}>,\n",
       "        <AxesSubplot:title={'center':'rooms'}>],\n",
       "       [<AxesSubplot:title={'center':'ceiling_height'}>,\n",
       "        <AxesSubplot:title={'center':'floors_total'}>,\n",
       "        <AxesSubplot:title={'center':'living_area'}>,\n",
       "        <AxesSubplot:title={'center':'floor'}>],\n",
       "       [<AxesSubplot:title={'center':'kitchen_area'}>,\n",
       "        <AxesSubplot:title={'center':'balcony'}>,\n",
       "        <AxesSubplot:title={'center':'airports_nearest'}>,\n",
       "        <AxesSubplot:title={'center':'cityCenters_nearest'}>],\n",
       "       [<AxesSubplot:title={'center':'parks_around3000'}>,\n",
       "        <AxesSubplot:title={'center':'parks_nearest'}>,\n",
       "        <AxesSubplot:title={'center':'ponds_around3000'}>,\n",
       "        <AxesSubplot:title={'center':'ponds_nearest'}>],\n",
       "       [<AxesSubplot:title={'center':'days_exposition'}>, <AxesSubplot:>,\n",
       "        <AxesSubplot:>, <AxesSubplot:>]], dtype=object)"
      ]
     },
     "execution_count": 1,
     "metadata": {},
     "output_type": "execute_result"
    },
    {
     "data": {
      "image/png": "[encoded data removed]",
      "text/plain": [
       "<Figure size 1080x1440 with 20 Axes>"
      ]
     },
     "metadata": {
      "needs_background": "light"
     },
     "output_type": "display_data"
    }
   ],
   "source": [
    "import pandas as pd\n",
    "\n",
    "data = pd.read_csv('/datasets/real_estate_data.csv', sep='\\t')\n",
    "data.info()\n",
    "print(data.head(10))\n",
    "data.hist(figsize=(15, 20))\n"
   ]
  },
  {
   "cell_type": "markdown",
   "metadata": {},
   "source": [
    "### Предобработка данных"
   ]
  },
  {
   "cell_type": "code",
   "execution_count": 2,
   "metadata": {
    "scrolled": false
   },
   "outputs": [
    {
     "name": "stdout",
     "output_type": "stream",
     "text": [
      "total_images                0\n",
      "last_price                  0\n",
      "total_area                  0\n",
      "first_day_exposition        0\n",
      "rooms                       0\n",
      "ceiling_height           9195\n",
      "floors_total               86\n",
      "living_area              1903\n",
      "floor                       0\n",
      "is_apartment            20924\n",
      "studio                      0\n",
      "open_plan                   0\n",
      "kitchen_area             2278\n",
      "balcony                 11519\n",
      "locality_name              49\n",
      "airports_nearest         5542\n",
      "cityCenters_nearest      5519\n",
      "parks_around3000         5518\n",
      "parks_nearest           15620\n",
      "ponds_around3000         5518\n",
      "ponds_nearest           14589\n",
      "days_exposition          3181\n",
      "dtype: int64\n"
     ]
    }
   ],
   "source": [
    "print(data.isna().sum())"
   ]
  },
  {
   "cell_type": "markdown",
   "metadata": {},
   "source": [
    " #### Столбцы, в которых встречаются пропуски:\n",
    "\n",
    "- **Высота потолков** - пропуск может означать стандартную высоту потолков (можно заполнить медианным значением)\n",
    "\n",
    "\n",
    "- **Кол-во этажей в доме** -  пропуск мог оказаться случайным, либо квартира находится на последнем этаже и арендодатель не потрудился указывать одно и то же значение дважды. Можно заменить на медианное значение, при условии, что этаж квартиры не выше кол-ва этажей. В противном случае, заменить на этаж квартиры. \n",
    "\n",
    "\n",
    "- **Жилая площадь**  -  пропуск мог появиться из-за того, что общая площадь совпадает с жилой площадью, и арендодатель не потрудился указывать одно и то же значение дважды. Если это апартаменты или квартира студия, заменить можно на общую площадь, если квартира с кухней, можно заменить на разницу общей площади квартиры и площадью кухни.\n",
    "\n",
    "\n",
    "- **Апартаменты** - пропуск скорее всего означает, что квартира не является апартаментами, пропуск можно заменить на 0.\n",
    "\n",
    "\n",
    "- **Площадь кухни** - пропуск может означать, что квартира яляется студией, либо это апартаменты без кухни. В случае квартиры с кухней, заменить можно медианным значением, в остальных случаях можно заменить на 0.\n",
    "\n",
    "\n",
    "- **Число балконов** - пропкск может означать отсутствие балкона, можно заменить на 0.\n",
    "\n",
    "\n",
    "- **Название населённого пункта** - пропуск, скорее всего, случайный, ничем заменить не получится.\n",
    "\n",
    "\n",
    "- **Расстояние до ближайшего аэропорта** - скорее всего, пропуск означает, что рядом нет аэропорта, заменить не получится.\n",
    "\n",
    "\n",
    "- **Расстояние до центра города** - пропуск может быть случайным, заменить не получится.\n",
    "\n",
    "\n",
    "- **Число парков в радиусе 3 км** - скорее всего, пропуск означает отсутствие парков рядом (можно заменить на 0).\n",
    "\n",
    "\n",
    "- **Расстояние до ближайшего парка** - пропуск может означать, что рядом нет парков. Если число парков в радиусе 3 км. не 0, можно заменить пропуск на 3000 м., остальные прпуски заменить не получится.\n",
    "\n",
    "\n",
    "- **Число водоёмов в радиусе 3 км** - скорее всего, пропуск означает отсутствие прудов рядом, пропуск (можно заменить на 0).\n",
    "\n",
    "\n",
    "- **Расстояние до ближайшего водоёма** - пропуск может означать, что рядом нет прудов. Если число водоемов в радиусе 3 км. не 0, можно заменить пропуск на 3000 м., остальные прпуски заменить не получится.\n",
    "\n",
    "\n",
    "- **Сколько дней было размещено объявление** - в столбце с ценой в момент снятия публикации нет пропусков, следовательно все объявления сняты, пропуски могди появиться случайно. Данных о том, когда было снято объявление нет, заменить прпуски не получится. \n",
    "\n",
    "\n",
    "\n"
   ]
  },
  {
   "cell_type": "code",
   "execution_count": 3,
   "metadata": {},
   "outputs": [
    {
     "name": "stdout",
     "output_type": "stream",
     "text": [
      "total_images                0\n",
      "last_price                  0\n",
      "total_area                  0\n",
      "first_day_exposition        0\n",
      "rooms                       0\n",
      "ceiling_height              0\n",
      "floors_total                0\n",
      "living_area                 0\n",
      "floor                       0\n",
      "is_apartment                0\n",
      "studio                      0\n",
      "open_plan                   0\n",
      "kitchen_area                0\n",
      "balcony                     0\n",
      "locality_name              49\n",
      "airports_nearest         5542\n",
      "cityCenters_nearest      5519\n",
      "parks_around3000            0\n",
      "parks_nearest           15620\n",
      "ponds_around3000            0\n",
      "ponds_nearest           14589\n",
      "days_exposition          3181\n",
      "dtype: int64\n"
     ]
    }
   ],
   "source": [
    "#заполнение пропусков\n",
    "\n",
    "data['ceiling_height'] = data['ceiling_height'].fillna(data['ceiling_height'].median())  \n",
    "data['is_apartment'] = data['is_apartment'].fillna(0) \n",
    "data['balcony'] = data['balcony'].fillna(0)\n",
    "\n",
    "#этажи в доме\n",
    "data.loc[data['floor']<=data['floors_total'].median(), 'floors_total'] = data.loc[data['floor']<=data['floors_total'].median(), 'floors_total'].fillna(data['floors_total'].median())\n",
    "data['floors_total'] = data['floors_total'].fillna(data['floor'])\n",
    "\n",
    "#площадь кухни\n",
    "data.loc[data['is_apartment']==0, 'kitchen_area'] = data.loc[data['is_apartment']==0, 'kitchen_area'].fillna(data['kitchen_area'].median())\n",
    "data.loc[data['studio']==0, 'kitchen_area'] = data.loc[data['studio']==0, 'kitchen_area'].fillna(data['kitchen_area'].median())\n",
    "data.loc[data['open_plan']==0, 'kitchen_area'] = data.loc[data['open_plan']==0, 'kitchen_area'].fillna(data['kitchen_area'].median())\n",
    "\n",
    "data['kitchen_area'] = data['kitchen_area'].fillna(0)\n",
    "\n",
    "#жилая площадь\n",
    "data['living_area'] = data['living_area'].fillna(data['total_area']-data['kitchen_area'])\n",
    "\n",
    "#пруды и парки\n",
    "data['parks_around3000'] = data['parks_around3000'].fillna(0)\n",
    "data.loc[data['parks_around3000']==1,'parks_nearest'] = data.loc[data['parks_around3000']==1,'parks_nearest'].fillna(3000)\n",
    "data['ponds_around3000'] = data['ponds_around3000'].fillna(0)\n",
    "data.loc[data['ponds_around3000']==1,'ponds_nearest'] = data.loc[data['ponds_around3000']==1,'ponds_nearest'].fillna(3000)\n",
    "\n",
    "print(data.isna().sum())\n",
    "\n",
    " \n"
   ]
  },
  {
   "cell_type": "markdown",
   "metadata": {},
   "source": [
    "#### Изменение типов данных\n",
    "\n",
    "- В столбце 'is_apartment' может быть только булево значение, по условию.\n",
    "- В столбцах 'floors_total', 'balcony', 'parks_around3000', 'ponds_around3000', 'days_exposition' может быть только целое число (т.к. там подсчет чего-либо)"
   ]
  },
  {
   "cell_type": "code",
   "execution_count": 4,
   "metadata": {},
   "outputs": [
    {
     "name": "stdout",
     "output_type": "stream",
     "text": [
      "<class 'pandas.core.frame.DataFrame'>\n",
      "RangeIndex: 23699 entries, 0 to 23698\n",
      "Data columns (total 22 columns):\n",
      " #   Column                Non-Null Count  Dtype         \n",
      "---  ------                --------------  -----         \n",
      " 0   total_images          23699 non-null  int64         \n",
      " 1   last_price            23699 non-null  int64         \n",
      " 2   total_area            23699 non-null  float64       \n",
      " 3   first_day_exposition  23699 non-null  datetime64[ns]\n",
      " 4   rooms                 23699 non-null  int64         \n",
      " 5   ceiling_height        23699 non-null  float64       \n",
      " 6   floors_total          23699 non-null  int64         \n",
      " 7   living_area           23699 non-null  float64       \n",
      " 8   floor                 23699 non-null  int64         \n",
      " 9   is_apartment          23699 non-null  bool          \n",
      " 10  studio                23699 non-null  bool          \n",
      " 11  open_plan             23699 non-null  bool          \n",
      " 12  kitchen_area          23699 non-null  float64       \n",
      " 13  balcony               23699 non-null  int64         \n",
      " 14  locality_name         23650 non-null  object        \n",
      " 15  airports_nearest      18157 non-null  float64       \n",
      " 16  cityCenters_nearest   18180 non-null  float64       \n",
      " 17  parks_around3000      23699 non-null  int64         \n",
      " 18  parks_nearest         8079 non-null   float64       \n",
      " 19  ponds_around3000      23699 non-null  int64         \n",
      " 20  ponds_nearest         9110 non-null   float64       \n",
      " 21  days_exposition       20518 non-null  float64       \n",
      "dtypes: bool(3), datetime64[ns](1), float64(9), int64(8), object(1)\n",
      "memory usage: 3.5+ MB\n"
     ]
    }
   ],
   "source": [
    "data['last_price'] = data['last_price'].astype('int')\n",
    "data['is_apartment'] = data['is_apartment'].astype('bool')\n",
    "data['first_day_exposition'] = pd.to_datetime(data['first_day_exposition'], format='%Y-%m-%dT%H:%M:%S')\n",
    "data['floors_total'] = data['floors_total'].astype('int')\n",
    "data['balcony'] = data['balcony'].astype('int')\n",
    "data['parks_around3000'] = data['parks_around3000'].astype('int')\n",
    "data['ponds_around3000'] = data['ponds_around3000'].astype('int')\n",
    "data.info()"
   ]
  },
  {
   "cell_type": "markdown",
   "metadata": {},
   "source": [
    "#### Устранение неявных дубликатов\n"
   ]
  },
  {
   "cell_type": "code",
   "execution_count": 5,
   "metadata": {},
   "outputs": [
    {
     "name": "stdout",
     "output_type": "stream",
     "text": [
      "['Санкт-Петербург' 'посёлок Шушары' 'городской посёлок Янино-1'\n",
      " 'посёлок Парголово' 'посёлок Мурино' 'Ломоносов' 'Сертолово' 'Петергоф'\n",
      " 'Пушкин' 'деревня Кудрово' 'Коммунар' 'Колпино'\n",
      " 'поселок городского типа Красный Бор' 'Гатчина' 'поселок Мурино'\n",
      " 'деревня Фёдоровское' 'Выборг' 'Кронштадт' 'Кировск'\n",
      " 'деревня Новое Девяткино' 'посёлок Металлострой'\n",
      " 'посёлок городского типа Лебяжье' 'посёлок городского типа Сиверский'\n",
      " 'поселок Молодцово' 'поселок городского типа Кузьмоловский'\n",
      " 'садовое товарищество Новая Ропша' 'Павловск' 'деревня Пикколово'\n",
      " 'Всеволожск' 'Волхов' 'Кингисепп' 'Приозерск' 'Сестрорецк'\n",
      " 'деревня Куттузи' 'посёлок Аннино' 'поселок городского типа Ефимовский'\n",
      " 'посёлок Плодовое' 'деревня Заклинье' 'поселок Торковичи'\n",
      " 'поселок Первомайское' 'Красное Село' 'посёлок Понтонный' 'Сясьстрой'\n",
      " 'деревня Старая' 'деревня Лесколово' 'посёлок Новый Свет' 'Сланцы'\n",
      " 'село Путилово' 'Ивангород' 'Мурино' 'Шлиссельбург' 'Никольское'\n",
      " 'Зеленогорск' 'Сосновый Бор' 'поселок Новый Свет' 'деревня Оржицы'\n",
      " 'деревня Кальтино' 'Кудрово' 'поселок Романовка' 'посёлок Бугры'\n",
      " 'поселок Бугры' 'поселок городского типа Рощино' 'Кириши' 'Луга'\n",
      " 'Волосово' 'Отрадное' 'село Павлово' 'поселок Оредеж' 'село Копорье'\n",
      " 'посёлок городского типа Красный Бор' 'посёлок Молодёжное' 'Тихвин'\n",
      " 'посёлок Победа' 'деревня Нурма' 'поселок городского типа Синявино'\n",
      " 'Тосно' 'посёлок городского типа Кузьмоловский' 'посёлок Стрельна'\n",
      " 'Бокситогорск' 'посёлок Александровская' 'деревня Лопухинка' 'Пикалёво'\n",
      " 'поселок Терволово' 'поселок городского типа Советский' 'Подпорожье'\n",
      " 'посёлок Петровское' 'посёлок городского типа Токсово' 'поселок Сельцо'\n",
      " 'посёлок городского типа Вырица' 'деревня Кипень' 'деревня Келози'\n",
      " 'деревня Вартемяги' 'посёлок Тельмана' 'поселок Севастьяново'\n",
      " 'городской поселок Большая Ижора' nan 'городской посёлок Павлово'\n",
      " 'деревня Агалатово' 'посёлок Новогорелово'\n",
      " 'городской посёлок Лесогорский' 'деревня Лаголово' 'поселок Цвелодубово'\n",
      " 'поселок городского типа Рахья' 'поселок городского типа Вырица'\n",
      " 'деревня Белогорка' 'поселок Заводской' 'городской посёлок Новоселье'\n",
      " 'деревня Большие Колпаны' 'деревня Горбунки' 'деревня Батово'\n",
      " 'деревня Заневка' 'деревня Иссад' 'Приморск'\n",
      " 'городской посёлок Фёдоровское' 'деревня Мистолово' 'Новая Ладога'\n",
      " 'поселок Зимитицы' 'поселок Барышево' 'деревня Разметелево'\n",
      " 'поселок городского типа имени Свердлова' 'деревня Пеники'\n",
      " 'поселок Рябово' 'деревня Пудомяги' 'поселок станции Корнево'\n",
      " 'деревня Низино' 'деревня Бегуницы' 'посёлок Поляны'\n",
      " 'городской посёлок Мга' 'поселок Елизаветино'\n",
      " 'посёлок городского типа Кузнечное' 'деревня Колтуши'\n",
      " 'поселок Запорожское' 'посёлок городского типа Рощино'\n",
      " 'деревня Гостилицы' 'деревня Малое Карлино' 'посёлок Мичуринское'\n",
      " 'посёлок городского типа имени Морозова' 'посёлок Песочный'\n",
      " 'посёлок Сосново' 'деревня Аро' 'поселок Ильичёво'\n",
      " 'посёлок городского типа Тайцы' 'деревня Малое Верево' 'деревня Извара'\n",
      " 'поселок станции Вещево' 'село Паша' 'деревня Калитино'\n",
      " 'посёлок городского типа Ульяновка' 'деревня Чудской Бор'\n",
      " 'поселок городского типа Дубровка' 'деревня Мины' 'поселок Войсковицы'\n",
      " 'посёлок городского типа имени Свердлова' 'деревня Коркино'\n",
      " 'посёлок Ропша' 'поселок городского типа Приладожский' 'посёлок Щеглово'\n",
      " 'посёлок Гаврилово' 'Лодейное Поле' 'деревня Рабитицы'\n",
      " 'поселок городского типа Никольский' 'деревня Кузьмолово'\n",
      " 'деревня Малые Колпаны' 'поселок Тельмана' 'посёлок Петро-Славянка'\n",
      " 'городской посёлок Назия' 'посёлок Репино' 'посёлок Ильичёво'\n",
      " 'поселок Углово' 'поселок Старая Малукса' 'садовое товарищество Рахья'\n",
      " 'поселок Аннино' 'поселок Победа' 'деревня Меньково'\n",
      " 'деревня Старые Бегуницы' 'посёлок Сапёрный' 'поселок Семрино'\n",
      " 'поселок Гаврилово' 'поселок Глажево' 'поселок Кобринское'\n",
      " 'деревня Гарболово' 'деревня Юкки' 'поселок станции Приветнинское'\n",
      " 'деревня Мануйлово' 'деревня Пчева' 'поселок Поляны' 'поселок Цвылёво'\n",
      " 'поселок Мельниково' 'посёлок Пудость' 'посёлок Усть-Луга' 'Светогорск'\n",
      " 'Любань' 'поселок Селезнёво' 'поселок городского типа Рябово'\n",
      " 'Каменногорск' 'деревня Кривко' 'поселок Глебычево' 'деревня Парицы'\n",
      " 'поселок Жилпосёлок' 'посёлок городского типа Мга'\n",
      " 'городской поселок Янино-1' 'посёлок Войскорово' 'село Никольское'\n",
      " 'посёлок Терволово' 'поселок Стеклянный' 'посёлок городского типа Важины'\n",
      " 'посёлок Мыза-Ивановка' 'село Русско-Высоцкое'\n",
      " 'поселок городского типа Лебяжье' 'поселок городского типа Форносово'\n",
      " 'село Старая Ладога' 'поселок Житково' 'городской посёлок Виллози'\n",
      " 'деревня Лампово' 'деревня Шпаньково' 'деревня Лаврики' 'посёлок Сумино'\n",
      " 'посёлок Возрождение' 'деревня Старосиверская' 'посёлок Кикерино'\n",
      " 'поселок Возрождение' 'деревня Старое Хинколово' 'посёлок Пригородный'\n",
      " 'посёлок Торфяное' 'городской посёлок Будогощь' 'поселок Суходолье'\n",
      " 'поселок Красная Долина' 'деревня Хапо-Ое'\n",
      " 'поселок городского типа Дружная Горка' 'поселок Лисий Нос'\n",
      " 'деревня Яльгелево' 'посёлок Стеклянный' 'село Рождествено'\n",
      " 'деревня Старополье' 'посёлок Левашово' 'деревня Сяськелево'\n",
      " 'деревня Камышовка'\n",
      " 'садоводческое некоммерческое товарищество Лесная Поляна'\n",
      " 'деревня Хязельки' 'поселок Жилгородок' 'посёлок городского типа Павлово'\n",
      " 'деревня Ялгино' 'поселок Новый Учхоз' 'городской посёлок Рощино'\n",
      " 'поселок Гончарово' 'поселок Почап' 'посёлок Сапёрное'\n",
      " 'посёлок Платформа 69-й километр' 'поселок Каложицы' 'деревня Фалилеево'\n",
      " 'деревня Пельгора' 'поселок городского типа Лесогорский'\n",
      " 'деревня Торошковичи' 'посёлок Белоостров' 'посёлок Алексеевка'\n",
      " 'поселок Серебрянский' 'поселок Лукаши' 'поселок Петровское'\n",
      " 'деревня Щеглово' 'поселок Мичуринское' 'деревня Тарасово'\n",
      " 'поселок Кингисеппский' 'посёлок при железнодорожной станции Вещево'\n",
      " 'поселок Ушаки' 'деревня Котлы' 'деревня Сижно' 'деревня Торосово'\n",
      " 'посёлок Форт Красная Горка' 'поселок городского типа Токсово'\n",
      " 'деревня Новолисино' 'посёлок станции Громово' 'деревня Глинка'\n",
      " 'посёлок Мельниково' 'поселок городского типа Назия'\n",
      " 'деревня Старая Пустошь' 'поселок Коммунары' 'поселок Починок'\n",
      " 'посёлок городского типа Вознесенье' 'деревня Разбегаево'\n",
      " 'посёлок городского типа Рябово' 'поселок Гладкое'\n",
      " 'посёлок при железнодорожной станции Приветнинское' 'поселок Тёсово-4'\n",
      " 'посёлок Жилгородок' 'деревня Бор' 'посёлок Коробицыно'\n",
      " 'деревня Большая Вруда' 'деревня Курковицы' 'посёлок Лисий Нос'\n",
      " 'городской посёлок Советский' 'посёлок Кобралово' 'деревня Суоранда'\n",
      " 'поселок Кобралово' 'поселок городского типа Кондратьево'\n",
      " 'коттеджный поселок Счастье' 'поселок Любань' 'деревня Реброво'\n",
      " 'деревня Зимитицы' 'деревня Тойворово' 'поселок Семиозерье'\n",
      " 'поселок Лесное' 'поселок Совхозный' 'поселок Усть-Луга'\n",
      " 'посёлок Ленинское' 'посёлок Суйда' 'посёлок городского типа Форносово'\n",
      " 'деревня Нижние Осельки' 'посёлок станции Свирь' 'поселок Перово'\n",
      " 'Высоцк' 'поселок Гарболово' 'село Шум' 'поселок Котельский'\n",
      " 'поселок станции Лужайка' 'деревня Большая Пустомержа'\n",
      " 'поселок Красносельское' 'деревня Вахнова Кара' 'деревня Пижма'\n",
      " 'коттеджный поселок Кивеннапа Север' 'поселок Коробицыно'\n",
      " 'поселок Ромашки' 'посёлок Перово' 'деревня Каськово' 'деревня Куровицы'\n",
      " 'посёлок Плоское' 'поселок Сумино'\n",
      " 'поселок городского типа Большая Ижора' 'поселок Кирпичное'\n",
      " 'деревня Ям-Тесово' 'деревня Раздолье' 'деревня Терпилицы'\n",
      " 'посёлок Шугозеро' 'деревня Ваганово' 'поселок Пушное'\n",
      " 'садовое товарищество Садко' 'посёлок Усть-Ижора' 'деревня Выскатка'\n",
      " 'городской посёлок Свирьстрой' 'поселок Громово' 'деревня Кисельня'\n",
      " 'посёлок Старая Малукса' 'деревня Трубников Бор' 'поселок Калитино'\n",
      " 'посёлок Высокоключевой' 'садовое товарищество Приладожский'\n",
      " 'посёлок Пансионат Зелёный Бор' 'деревня Ненимяки'\n",
      " 'поселок Пансионат Зелёный Бор' 'деревня Снегирёвка' 'деревня Рапполово'\n",
      " 'деревня Пустынка' 'поселок Рабитицы' 'деревня Большой Сабск'\n",
      " 'деревня Русско' 'деревня Лупполово' 'деревня Большое Рейзино'\n",
      " 'деревня Малая Романовка' 'поселок Дружноселье' 'поселок Пчевжа'\n",
      " 'поселок Володарское' 'деревня Нижняя' 'коттеджный посёлок Лесное'\n",
      " 'деревня Тихковицы' 'деревня Борисова Грива' 'посёлок Дзержинского']\n"
     ]
    }
   ],
   "source": [
    "print(data['locality_name'].unique())"
   ]
  },
  {
   "cell_type": "code",
   "execution_count": 6,
   "metadata": {},
   "outputs": [],
   "source": [
    "def replace_wrong_values(duplicates, new): # на вход функции подаются список неправильных значений и строка с правильным значением\n",
    "    for duplicate in duplicates: # перебираем неправильные имена\n",
    "        data['locality_name'] = data['locality_name'].replace(duplicate, new)\n",
    "        \n",
    "replace_wrong_values('городской поселок Янино-1', 'городской посёлок Янино-1' )  \n",
    "replace_wrong_values(['поселок Мурино', 'Мурино'], 'посёлок Мурино') \n",
    "replace_wrong_values('Кудрово', 'деревня Кудрово') \n",
    "replace_wrong_values('поселок городского типа Красный Бор','посёлок городского типа Красный Бор') \n",
    "replace_wrong_values('поселок городского типа Лебяжье', 'посёлок городского типа Лебяжье') \n",
    "replace_wrong_values('поселок городского типа Кузьмоловский', 'посёлок городского типа Кузьмоловский') \n",
    "replace_wrong_values('поселок Аннино', 'посёлок Аннино') \n",
    "replace_wrong_values('поселок Старая Малукса', 'посёлок Старая Малукса') \n",
    "replace_wrong_values('поселок Новый Свет','посёлок Новый Свет') \n",
    "replace_wrong_values('Никольское','село Никольское') \n",
    "replace_wrong_values('поселок Бугры','посёлок Бугры') \n",
    "replace_wrong_values(['поселок городского типа Рощино', 'городской посёлок Рощино'],'посёлок городского типа Рощино') \n",
    "replace_wrong_values('поселок Усть-Луга','посёлок Усть-Луга') \n",
    "replace_wrong_values('городской посёлок Павлово','посёлок городского типа Павлово') \n",
    "replace_wrong_values('поселок Победа','посёлок Победа') \n",
    "replace_wrong_values('поселок Терволово','посёлок Терволово') \n",
    "replace_wrong_values(['поселок городского типа Советский', 'городской посёлок Советский'],'посёлок городского типа Советский') \n",
    "replace_wrong_values('поселок Петровское','посёлок Петровское') \n",
    "replace_wrong_values('поселок городского типа Токсово','посёлок городского типа Токсово') \n",
    "replace_wrong_values('поселок городского типа Вырица','посёлок городского типа Вырица') \n",
    "replace_wrong_values('поселок Тельмана','посёлок Тельмана') \n",
    "replace_wrong_values(['поселок городского типа Большая Ижора', 'городской поселок Большая Ижора'], 'посёлок городского типа Большая Ижора') \n",
    "replace_wrong_values(['поселок городского типа Лесогорский','городской посёлок Лесогорский'],'посёлок городского типа Лесогорский') \n",
    "replace_wrong_values('поселок городского типа имени Свердлова','посёлок городского типа имени Свердлова' ) \n",
    "replace_wrong_values(['поселок Рябово', 'поселок городского типа Рябово'],'посёлок городского типа Рябово') \n",
    "replace_wrong_values('поселок Поляны','посёлок Поляны') \n",
    "replace_wrong_values('городской посёлок Мга','посёлок городского типа Мга') \n",
    "replace_wrong_values('поселок Мичуринское','посёлок Мичуринское') \n",
    "replace_wrong_values('поселок Ильичёво','посёлок Ильичёво') \n",
    "replace_wrong_values('поселок станции Вещево','посёлок при железнодорожной станции Вещево') \n",
    "replace_wrong_values('поселок Гаврилово','посёлок Гаврилово') \n",
    "replace_wrong_values(['поселок городского типа Назия', 'городской посёлок Назия'],'посёлок городского типа Назия') \n",
    "replace_wrong_values('поселок станции Приветнинское','посёлок при железнодорожной станции Приветнинское')\n",
    "replace_wrong_values('поселок Мельниково','посёлок Мельниково')\n",
    "replace_wrong_values(['поселок Любань','Любань'],'посёлок Любань' )\n",
    "replace_wrong_values('поселок Стеклянный','посёлок Стеклянный')\n",
    "replace_wrong_values('поселок городского типа Форносово','посёлок городского типа Форносово' )\n",
    "replace_wrong_values('поселок Сумино','посёлок Сумино')\n",
    "replace_wrong_values('поселок Возрождение','посёлок Возрождение')\n",
    "replace_wrong_values('поселок Лисий Нос','посёлок Лисий Нос')\n",
    "replace_wrong_values('поселок Жилгородок','посёлок Жилгородок')\n",
    "replace_wrong_values(['поселок Громово','посёлок станции Громово'],'посёлок Громово' )\n",
    "replace_wrong_values('поселок Коробицыно','посёлок Коробицыно')\n",
    "replace_wrong_values('посёлок Кобралово','посёлок Кобралово')\n",
    "replace_wrong_values(['поселок Лесное','коттеджный посёлок Лесное'],'посёлок Лесное' )\n",
    "replace_wrong_values('поселок Перово','посёлок Перово')\n",
    "replace_wrong_values('поселок Пансионат Зелёный Бор','посёлок Пансионат Зелёный Бор')"
   ]
  },
  {
   "cell_type": "markdown",
   "metadata": {},
   "source": [
    "#### Устранение редких выбивающихся значений"
   ]
  },
  {
   "cell_type": "markdown",
   "metadata": {},
   "source": [
    "Аномальные значения есть в тех столбцах, гистограммы которых выглядят сильно смещенными влево или вправо. \n",
    "Изучив гистограммы можно сделать вывод, что в следующих столбцах присутствуют аномальные значения:\n",
    "    \n",
    "    - last_price\n",
    "    - total_area \n",
    "    - rooms\n",
    "    - ceiling_height \n",
    "    - floors_total\n",
    "    - living_area\n",
    "    - kitchen_area\n",
    "        \n",
    "    \n",
    "Можно предположить,что в архив объявлений затисались несколько сверхкрупных квартир / пентхаусов. Однако, таких объявлений очень мало, поэтому аномальные значения в этих столбцах можно удалить.\n",
    "\n",
    "Также, в столбце 'ceiling_height' могли случайно пропустить разделитель, в результате чего значения получились в 10 раз больше реальных. В этом столбце разделим сильно большие значения на 10, а остальные - аномально большие или маленькие - удалим. \n"
   ]
  },
  {
   "cell_type": "code",
   "execution_count": 7,
   "metadata": {},
   "outputs": [
    {
     "data": {
      "text/plain": [
       "<AxesSubplot:>"
      ]
     },
     "execution_count": 7,
     "metadata": {},
     "output_type": "execute_result"
    },
    {
     "data": {
      "image/png": "[encoded data removed]",
      "text/plain": [
       "<Figure size 432x288 with 1 Axes>"
      ]
     },
     "metadata": {
      "needs_background": "light"
     },
     "output_type": "display_data"
    }
   ],
   "source": [
    "# столбец ceiling_height\n",
    "data.loc[data['ceiling_height']>10,'ceiling_height'] = data.loc[data['ceiling_height']>10,'ceiling_height']/10\n",
    "data.loc[data['ceiling_height']<2, 'ceiling_height'] = data['ceiling_height'].median()\n",
    "data.loc[data['ceiling_height']>4.5, 'ceiling_height'] = data['ceiling_height'].median()\n",
    "data['ceiling_height'].hist(bins=50)"
   ]
  },
  {
   "cell_type": "code",
   "execution_count": 8,
   "metadata": {},
   "outputs": [
    {
     "data": {
      "text/plain": [
       "<AxesSubplot:>"
      ]
     },
     "execution_count": 8,
     "metadata": {},
     "output_type": "execute_result"
    },
    {
     "data": {
      "image/png": "[encoded data removed]",
      "text/plain": [
       "<Figure size 432x288 with 1 Axes>"
      ]
     },
     "metadata": {
      "needs_background": "light"
     },
     "output_type": "display_data"
    }
   ],
   "source": [
    "# столбец last_price\n",
    "data = data.loc[data['last_price']<20000000]\n",
    "data['last_price'].hist(bins=100)"
   ]
  },
  {
   "cell_type": "code",
   "execution_count": 9,
   "metadata": {},
   "outputs": [
    {
     "data": {
      "text/plain": [
       "<AxesSubplot:>"
      ]
     },
     "execution_count": 9,
     "metadata": {},
     "output_type": "execute_result"
    },
    {
     "data": {
      "image/png": "[encoded data removed]",
      "text/plain": [
       "<Figure size 432x288 with 1 Axes>"
      ]
     },
     "metadata": {
      "needs_background": "light"
     },
     "output_type": "display_data"
    }
   ],
   "source": [
    "# столбец total_area\n",
    "data = data.loc[data['total_area']<400]\n",
    "data['total_area'].hist(bins=100)"
   ]
  },
  {
   "cell_type": "code",
   "execution_count": 10,
   "metadata": {},
   "outputs": [
    {
     "data": {
      "text/plain": [
       "<AxesSubplot:>"
      ]
     },
     "execution_count": 10,
     "metadata": {},
     "output_type": "execute_result"
    },
    {
     "data": {
      "image/png": "[encoded data removed]",
      "text/plain": [
       "<Figure size 432x288 with 1 Axes>"
      ]
     },
     "metadata": {
      "needs_background": "light"
     },
     "output_type": "display_data"
    }
   ],
   "source": [
    "# столбец rooms\n",
    "data = data.loc[data['rooms']<10]\n",
    "data['rooms'].hist(bins=10)"
   ]
  },
  {
   "cell_type": "code",
   "execution_count": 11,
   "metadata": {},
   "outputs": [
    {
     "data": {
      "text/plain": [
       "<AxesSubplot:>"
      ]
     },
     "execution_count": 11,
     "metadata": {},
     "output_type": "execute_result"
    },
    {
     "data": {
      "image/png": "[encoded data removed]",
      "text/plain": [
       "<Figure size 432x288 with 1 Axes>"
      ]
     },
     "metadata": {
      "needs_background": "light"
     },
     "output_type": "display_data"
    }
   ],
   "source": [
    "# столбец floors_total\n",
    "data = data.loc[data['floors_total']<45]\n",
    "data['floors_total'].hist(bins=20)"
   ]
  },
  {
   "cell_type": "code",
   "execution_count": 12,
   "metadata": {},
   "outputs": [
    {
     "data": {
      "text/plain": [
       "<AxesSubplot:>"
      ]
     },
     "execution_count": 12,
     "metadata": {},
     "output_type": "execute_result"
    },
    {
     "data": {
      "image/png": "[encoded data removed]",
      "text/plain": [
       "<Figure size 432x288 with 1 Axes>"
      ]
     },
     "metadata": {
      "needs_background": "light"
     },
     "output_type": "display_data"
    }
   ],
   "source": [
    "# столбец living_area\n",
    "data = data.loc[data['living_area']<150]\n",
    "data['living_area'].hist(bins=100)"
   ]
  },
  {
   "cell_type": "code",
   "execution_count": 13,
   "metadata": {},
   "outputs": [
    {
     "data": {
      "text/plain": [
       "<AxesSubplot:>"
      ]
     },
     "execution_count": 13,
     "metadata": {},
     "output_type": "execute_result"
    },
    {
     "data": {
      "image/png": "[encoded data removed]",
      "text/plain": [
       "<Figure size 432x288 with 1 Axes>"
      ]
     },
     "metadata": {
      "needs_background": "light"
     },
     "output_type": "display_data"
    }
   ],
   "source": [
    "# столбец kitchen_area\n",
    "data = data.loc[data['kitchen_area']<50]\n",
    "data['kitchen_area'].hist(bins=100)"
   ]
  },
  {
   "cell_type": "code",
   "execution_count": 14,
   "metadata": {},
   "outputs": [
    {
     "data": {
      "text/plain": [
       "0"
      ]
     },
     "execution_count": 14,
     "metadata": {},
     "output_type": "execute_result"
    }
   ],
   "source": [
    "#Проверка на явные дубликаты \n",
    "data.duplicated().sum()"
   ]
  },
  {
   "cell_type": "markdown",
   "metadata": {},
   "source": [
    "\n",
    "#### Общий итог раздела:\n",
    " - Пропуски в данных изучены и устранены там, где это возможно\n",
    " - Изменены типы данных в соответствии с содержаием столбцов\n",
    " - Устранены неявные дубликаты \n",
    " - В следующих стлбцах устранены аномальные значения:\n",
    "    - last_price\n",
    "    - total_area \n",
    "    - rooms\n",
    "    - ceiling_height \n",
    "    - floors_total\n",
    "    - living_area\n",
    "    - kitchen_area\n",
    "        \n",
    "\n"
   ]
  },
  {
   "cell_type": "markdown",
   "metadata": {},
   "source": [
    "### Добавление новых столбцов в таблицу"
   ]
  },
  {
   "cell_type": "code",
   "execution_count": 15,
   "metadata": {},
   "outputs": [
    {
     "name": "stdout",
     "output_type": "stream",
     "text": [
      "   total_images  last_price  total_area first_day_exposition  rooms  \\\n",
      "0            20    13000000       108.0           2019-03-07      3   \n",
      "1             7     3350000        40.4           2018-12-04      1   \n",
      "2            10     5196000        56.0           2015-08-20      2   \n",
      "4             2    10000000       100.0           2018-06-19      2   \n",
      "5            10     2890000        30.4           2018-09-10      1   \n",
      "\n",
      "   ceiling_height  floors_total  living_area  floor  is_apartment  ...  \\\n",
      "0            2.70            16         51.0      8         False  ...   \n",
      "1            2.65            11         18.6      1         False  ...   \n",
      "2            2.65             5         34.3      4         False  ...   \n",
      "4            3.03            14         32.0     13         False  ...   \n",
      "5            2.65            12         14.4      5         False  ...   \n",
      "\n",
      "   parks_nearest  ponds_around3000  ponds_nearest  days_exposition  \\\n",
      "0          482.0                 2          755.0              NaN   \n",
      "1            NaN                 0            NaN             81.0   \n",
      "2           90.0                 2          574.0            558.0   \n",
      "4          112.0                 1           48.0            121.0   \n",
      "5            NaN                 0            NaN             55.0   \n",
      "\n",
      "     price_meter  weekday_exposition  month_exposition  year_exposition  \\\n",
      "0  120370.370370                   3                 3             2019   \n",
      "1   82920.792079                   1                12             2018   \n",
      "2   92785.714286                   3                 8             2015   \n",
      "4  100000.000000                   1                 6             2018   \n",
      "5   95065.789474                   0                 9             2018   \n",
      "\n",
      "   floor_type  cityCenters_nearest_km  \n",
      "0      другой                    16.0  \n",
      "1      первый                    18.0  \n",
      "2      другой                    13.0  \n",
      "4      другой                     8.0  \n",
      "5      другой                     NaN  \n",
      "\n",
      "[5 rows x 28 columns]\n"
     ]
    }
   ],
   "source": [
    "def ftype (df):    \n",
    "    if df['floor']==1:\n",
    "        return ('первый')\n",
    "    elif df['floor']==df['floors_total']:\n",
    "        return ('последний')\n",
    "    else:\n",
    "        return ('другой')\n",
    "\n",
    "data['price_meter'] = data['last_price']/data['total_area'] #цена одного квадратного метра\n",
    "data['weekday_exposition'] = data['first_day_exposition'].dt.weekday #день недели публикации объявления (0 — понедельник, 1 — вторник..)\n",
    "data['month_exposition'] = data['first_day_exposition'].dt.month #месяц публикации объявления\n",
    "data['year_exposition'] = data['first_day_exposition'].dt.year #год публикации объявления\n",
    "data['floor_type'] = data.apply(ftype, axis=1) #тип этажа квартиры (значения — «первый», «последний», «другой»)\n",
    "data['cityCenters_nearest_km'] = data['cityCenters_nearest']//1000 #расстояние до центра города в километрах\n",
    "\n",
    "print(data.head())"
   ]
  },
  {
   "cell_type": "markdown",
   "metadata": {},
   "source": [
    "### Исследовательский анализ данных"
   ]
  },
  {
   "cell_type": "markdown",
   "metadata": {},
   "source": [
    "#### Изучение параметров"
   ]
  },
  {
   "cell_type": "code",
   "execution_count": 16,
   "metadata": {},
   "outputs": [
    {
     "data": {
      "text/plain": [
       "array([[<AxesSubplot:title={'center':'total_area'}>,\n",
       "        <AxesSubplot:title={'center':'living_area'}>],\n",
       "       [<AxesSubplot:title={'center':'kitchen_area'}>,\n",
       "        <AxesSubplot:title={'center':'price'}>]], dtype=object)"
      ]
     },
     "execution_count": 16,
     "metadata": {},
     "output_type": "execute_result"
    },
    {
     "data": {
      "image/png": "[encoded data removed]",
      "text/plain": [
       "<Figure size 720x720 with 4 Axes>"
      ]
     },
     "metadata": {
      "needs_background": "light"
     },
     "output_type": "display_data"
    }
   ],
   "source": [
    "data['price'] = data['last_price']/1000000 #Цена объекта в млн.\n",
    "data.loc[:,['total_area', 'living_area', 'kitchen_area', 'price']].hist(bins=50, figsize=(10, 10))\n"
   ]
  },
  {
   "cell_type": "code",
   "execution_count": 17,
   "metadata": {},
   "outputs": [
    {
     "data": {
      "text/plain": [
       "<AxesSubplot:>"
      ]
     },
     "execution_count": 17,
     "metadata": {},
     "output_type": "execute_result"
    },
    {
     "data": {
      "image/png": "[encoded data removed]",
      "text/plain": [
       "<Figure size 432x288 with 1 Axes>"
      ]
     },
     "metadata": {
      "needs_background": "light"
     },
     "output_type": "display_data"
    }
   ],
   "source": [
    "data['ceiling_height'].hist(bins=40)"
   ]
  },
  {
   "cell_type": "code",
   "execution_count": 18,
   "metadata": {},
   "outputs": [
    {
     "data": {
      "text/plain": [
       "array([[<AxesSubplot:title={'center':'floor'}>,\n",
       "        <AxesSubplot:title={'center':'floors_total'}>]], dtype=object)"
      ]
     },
     "execution_count": 18,
     "metadata": {},
     "output_type": "execute_result"
    },
    {
     "data": {
      "image/png": "[encoded data removed]",
      "text/plain": [
       "<Figure size 720x360 with 2 Axes>"
      ]
     },
     "metadata": {
      "needs_background": "light"
     },
     "output_type": "display_data"
    }
   ],
   "source": [
    "data.loc[:,['floor','floors_total' ]].hist(bins=30, figsize=(10,5))"
   ]
  },
  {
   "cell_type": "code",
   "execution_count": 19,
   "metadata": {},
   "outputs": [
    {
     "name": "stdout",
     "output_type": "stream",
     "text": [
      "0 комнат\n",
      "Свободная планировака: 58\n",
      "Студий: 138\n",
      "Всего квартир с 0 комнат: 196\n"
     ]
    },
    {
     "data": {
      "image/png": "[encoded data removed]",
      "text/plain": [
       "<Figure size 432x288 with 1 Axes>"
      ]
     },
     "metadata": {
      "needs_background": "light"
     },
     "output_type": "display_data"
    }
   ],
   "source": [
    "data['rooms'].hist(bins=8)\n",
    "print('0 комнат')\n",
    "print('Свободная планировака:', data.loc[data['rooms']==0,'open_plan'].sum())\n",
    "print('Студий:', data.loc[data['rooms']==0,'studio'].sum())\n",
    "print('Всего квартир с 0 комнат:', data.loc[data['rooms']==0,'studio'].count())"
   ]
  },
  {
   "cell_type": "code",
   "execution_count": 20,
   "metadata": {},
   "outputs": [
    {
     "data": {
      "text/plain": [
       "<AxesSubplot:>"
      ]
     },
     "execution_count": 20,
     "metadata": {},
     "output_type": "execute_result"
    },
    {
     "data": {
      "image/png": "[encoded data removed]",
      "text/plain": [
       "<Figure size 432x288 with 1 Axes>"
      ]
     },
     "metadata": {
      "needs_background": "light"
     },
     "output_type": "display_data"
    }
   ],
   "source": [
    "import seaborn\n",
    "count = []\n",
    "count.append(data.loc[data['floor_type']=='другой','floor_type'].count())\n",
    "count.append(data.loc[data['floor_type']=='первый','floor_type'].count())\n",
    "count.append(data.loc[data['floor_type']=='последний','floor_type'].count())\n",
    "seaborn.barplot(x=['другой', 'первый', 'последий'], y=count)"
   ]
  },
  {
   "cell_type": "code",
   "execution_count": 21,
   "metadata": {},
   "outputs": [
    {
     "data": {
      "text/plain": [
       "array([[<AxesSubplot:title={'center':'cityCenters_nearest'}>,\n",
       "        <AxesSubplot:title={'center':'airports_nearest'}>],\n",
       "       [<AxesSubplot:title={'center':'parks_nearest'}>, <AxesSubplot:>]],\n",
       "      dtype=object)"
      ]
     },
     "execution_count": 21,
     "metadata": {},
     "output_type": "execute_result"
    },
    {
     "data": {
      "image/png": "[encoded data removed]",
      "text/plain": [
       "<Figure size 720x720 with 4 Axes>"
      ]
     },
     "metadata": {
      "needs_background": "light"
     },
     "output_type": "display_data"
    }
   ],
   "source": [
    "data.loc[:,['cityCenters_nearest', 'airports_nearest', 'parks_nearest' ]].hist(bins=100, figsize=(10,10))"
   ]
  },
  {
   "cell_type": "code",
   "execution_count": 22,
   "metadata": {},
   "outputs": [
    {
     "data": {
      "text/plain": [
       "array([[<AxesSubplot:title={'center':'weekday_exposition'}>,\n",
       "        <AxesSubplot:title={'center':'month_exposition'}>]], dtype=object)"
      ]
     },
     "execution_count": 22,
     "metadata": {},
     "output_type": "execute_result"
    },
    {
     "data": {
      "image/png": "[encoded data removed]",
      "text/plain": [
       "<Figure size 720x360 with 2 Axes>"
      ]
     },
     "metadata": {
      "needs_background": "light"
     },
     "output_type": "display_data"
    }
   ],
   "source": [
    "data.loc[:,['weekday_exposition', 'month_exposition']].hist(bins=12, figsize=(10,5))"
   ]
  },
  {
   "cell_type": "markdown",
   "metadata": {},
   "source": [
    "**Описание параметорв:**\n",
    "\n",
    "- **общая площадь** - Большинство квартир - примерно 45 м². Согласно распределению по количеству комнат, преобладают 1 и 2-х комнатные квартиры, поэтому большиство квартир имеют соответствующую площадь ~ 30-60 м².\n",
    "\n",
    "\n",
    "- **жилая площадь** - 2 пика на уровнях примерно 20 м² и 30 м².Их можно объяснить тем, что большинство квартир 1-2-х комнатные и большинство квартир в стандартных 5 и 9 - этажных домах с похожей планировкой и, соответственно, площадью\n",
    "\n",
    "\n",
    "- **площадь кухни** - Пик значерий на уровне 10 м² (вероятно, это стандартный размер кухни)\n",
    "\n",
    "\n",
    "- **цена объекта** - У большинства квартир цена находится в диапозоне 2.5-6.5 млн. Медианная цена - примерно 4 млн.\n",
    "\n",
    "\n",
    "- **количество комнат** - Среди квартир большинство - 1-2-х комнатные. Все квартиры с 0 комнат это либо квартиры-студии, либо квартиры со свободной планировкой. \n",
    "\n",
    "\n",
    "- **высота потолков** - Стандартная высота потолков, согласно гистограмме, 2.5 и 2.7 м. Однако встречается достаточно много квартир с нестандартной высотой потолков.\n",
    "\n",
    "\n",
    "- **этаж квартиры** - Больше всего квартир находится на первом этаже (по сравнению с любым другим этажом).\n",
    "\n",
    "\n",
    "- **тип этажа квартиры** - Большинство квартир не на первом и не на последнем этажах, как и ожидалось. Однако стоит заметить, что согласно гистограме с типом этажа квартир на последнем этаже больше, чем на первом.Этого нельзя было заметить по графику с этажом квартиры, тк последний этаж у домов может быть разным.\n",
    "\n",
    "\n",
    "- **общее количество этажей в доме** - Большинство квартир в 5 и 9-этажных домах (Не удивительно, это стандартные размеры домов, построенных в советское время). Также, достаточно много домов, в которых >10 этажей. \n",
    "\n",
    "\n",
    "- **расстояние до центра города в метрах** - Большинство квартир находятся на расстоянии 10-15 км. от центра города. Нельзя сказать много это или мало, тк значения представлены как для больших, так и для маленьких городов.\n",
    "\n",
    "\n",
    "- **расстояние до ближайшего аэропорта** - Сравнивая масштаб графика с масштабом графика площади квартир, можно сказать, что квартир, рядом с которыми находится аэропорт не много.\n",
    "\n",
    "\n",
    "- **расстояние до ближайшего парка**- Представлены только те квартиры, парк рядом с которыми находится ближе, чем в 3км. Если сравнить масштаб графика с с масштабом графика площади квартир, можно сделать вывод, что квартир, рядом с которыми парк находится в шаговой доступности не много.\n",
    "\n",
    "\n",
    "- **день и месяц публикации объявления** - В будние дни происходило примерно в 2 раза больше публикаций, чем в выхоные. Минимум публикаций происходило в январе, мае и декабре (в эти месяцы больше всего праздников и, соответственно, выходных). Также, не особо много публикаций в летние месяца (сезон отпусков)."
   ]
  },
  {
   "cell_type": "markdown",
   "metadata": {},
   "source": [
    "#### Как быстро продавались квартиры"
   ]
  },
  {
   "cell_type": "code",
   "execution_count": 23,
   "metadata": {},
   "outputs": [
    {
     "data": {
      "text/plain": [
       "<AxesSubplot:>"
      ]
     },
     "execution_count": 23,
     "metadata": {},
     "output_type": "execute_result"
    },
    {
     "data": {
      "image/png": "[encoded data removed]",
      "text/plain": [
       "<Figure size 432x288 with 1 Axes>"
      ]
     },
     "metadata": {
      "needs_background": "light"
     },
     "output_type": "display_data"
    }
   ],
   "source": [
    "data['days_exposition'].hist(bins=100)"
   ]
  },
  {
   "cell_type": "code",
   "execution_count": 24,
   "metadata": {},
   "outputs": [
    {
     "data": {
      "text/plain": [
       "<AxesSubplot:>"
      ]
     },
     "execution_count": 24,
     "metadata": {},
     "output_type": "execute_result"
    },
    {
     "data": {
      "image/png": "[encoded data removed]",
      "text/plain": [
       "<Figure size 432x288 with 1 Axes>"
      ]
     },
     "metadata": {
      "needs_background": "light"
     },
     "output_type": "display_data"
    }
   ],
   "source": [
    "data['days_exposition'].hist(bins=100, range=(0,100))"
   ]
  },
  {
   "cell_type": "markdown",
   "metadata": {},
   "source": [
    "Примерно на 45 и 60 днях наблюдаются пики. Размещение где-либо объявления о продаже объекта, как правило, платная услуга. Возможно, продавцы размещали объявление на минимальный срок (45 дней) или на средний срок продажи квартиры, согласно интернет запросу (2 месяца), в надежде быстро продать квартиру, и по окончании оплаченного срока объявление автоматически снималось.\n",
    "Если квартира к тому моменту не была продана, объявление размещалось по новой с новой датой и его срок размещения рассчитывался по новой. \n",
    "    \n",
    "Проверим таблицу на наличие дубликатов по срезу без дат. При создании нового объявления по тому же объекту, продавец мог изменить цену, количество фотографий и забыть внести какие-либо характеристики, поэтому будем поверять по тем столбцам, которые наиболее точно характеризуют объект. "
   ]
  },
  {
   "cell_type": "code",
   "execution_count": 25,
   "metadata": {},
   "outputs": [
    {
     "data": {
      "text/plain": [
       "Index(['total_images', 'last_price', 'total_area', 'first_day_exposition',\n",
       "       'rooms', 'ceiling_height', 'floors_total', 'living_area', 'floor',\n",
       "       'is_apartment', 'studio', 'open_plan', 'kitchen_area', 'balcony',\n",
       "       'locality_name', 'airports_nearest', 'cityCenters_nearest',\n",
       "       'parks_around3000', 'parks_nearest', 'ponds_around3000',\n",
       "       'ponds_nearest', 'days_exposition', 'price_meter', 'weekday_exposition',\n",
       "       'month_exposition', 'year_exposition', 'floor_type',\n",
       "       'cityCenters_nearest_km', 'price'],\n",
       "      dtype='object')"
      ]
     },
     "execution_count": 25,
     "metadata": {},
     "output_type": "execute_result"
    }
   ],
   "source": [
    "data.columns"
   ]
  },
  {
   "cell_type": "code",
   "execution_count": 26,
   "metadata": {},
   "outputs": [
    {
     "data": {
      "text/plain": [
       "3425"
      ]
     },
     "execution_count": 26,
     "metadata": {},
     "output_type": "execute_result"
    }
   ],
   "source": [
    "data.loc[:,['total_area','rooms','floor', 'locality_name','studio','open_plan','floors_total']].duplicated().sum()"
   ]
  },
  {
   "cell_type": "markdown",
   "metadata": {},
   "source": [
    "Нельзя с полной уверенностью сказать, что реализуется именно эта гипотеза, ведь как выяснялось ранее, у многих квартир схожие характеристики.  Однако наличие дубликатов показывает, что она не лишина смысла.\n"
   ]
  },
  {
   "cell_type": "code",
   "execution_count": 27,
   "metadata": {},
   "outputs": [
    {
     "name": "stdout",
     "output_type": "stream",
     "text": [
      "count    19960.000000\n",
      "mean       177.818587\n",
      "std        216.471342\n",
      "min          1.000000\n",
      "25%         44.000000\n",
      "50%         94.000000\n",
      "75%        227.000000\n",
      "max       1580.000000\n",
      "Name: days_exposition, dtype: float64\n"
     ]
    }
   ],
   "source": [
    "print(data['days_exposition'].describe())"
   ]
  },
  {
   "cell_type": "markdown",
   "metadata": {},
   "source": [
    "График смещен влево, среднее значение практически в 2 раза больше медианы.\n",
    "\n",
    "\n",
    "Ориентируясь на значение медианы, продажи со значением \"days_exposition\" < 44 можно назвать быстрыми (Значения меньше первого квартиля).\n",
    "\n",
    "\n",
    "Аналогично, необычно долгими можно назвать продажи со значением \"days_exposition\" > 320 (Значения больше правого 'уса' диаграммы размаха (больше, чем Q3 + 1.5*IQR))."
   ]
  },
  {
   "cell_type": "markdown",
   "metadata": {},
   "source": [
    "#### Факторы, влияющие на общую стоимость объекта"
   ]
  },
  {
   "cell_type": "code",
   "execution_count": 28,
   "metadata": {},
   "outputs": [
    {
     "data": {
      "text/plain": [
       "0.772757946221148"
      ]
     },
     "execution_count": 28,
     "metadata": {},
     "output_type": "execute_result"
    },
    {
     "data": {
      "image/png": "[encoded data removed]",
      "text/plain": [
       "<Figure size 432x288 with 1 Axes>"
      ]
     },
     "metadata": {
      "needs_background": "light"
     },
     "output_type": "display_data"
    }
   ],
   "source": [
    "# Графики общей площади, жилой площади и площади кухни\n",
    "data.plot.scatter(x=\"total_area\",\n",
    "                         y=\"last_price\",\n",
    "                         alpha=0.1);\n",
    "data['total_area'].corr(data['last_price'])"
   ]
  },
  {
   "cell_type": "code",
   "execution_count": 29,
   "metadata": {},
   "outputs": [
    {
     "data": {
      "text/plain": [
       "0.648703163286019"
      ]
     },
     "execution_count": 29,
     "metadata": {},
     "output_type": "execute_result"
    },
    {
     "data": {
      "image/png": "[encoded data removed]",
      "text/plain": [
       "<Figure size 432x288 with 1 Axes>"
      ]
     },
     "metadata": {
      "needs_background": "light"
     },
     "output_type": "display_data"
    }
   ],
   "source": [
    "data.plot.scatter(x=\"living_area\",\n",
    "                         y=\"last_price\",\n",
    "                         alpha=0.1);\n",
    "data['living_area'].corr(data['last_price'])"
   ]
  },
  {
   "cell_type": "code",
   "execution_count": 30,
   "metadata": {},
   "outputs": [
    {
     "data": {
      "text/plain": [
       "0.551025103286495"
      ]
     },
     "execution_count": 30,
     "metadata": {},
     "output_type": "execute_result"
    },
    {
     "data": {
      "image/png": "[encoded data removed]",
      "text/plain": [
       "<Figure size 432x288 with 1 Axes>"
      ]
     },
     "metadata": {
      "needs_background": "light"
     },
     "output_type": "display_data"
    }
   ],
   "source": [
    "data.plot.scatter(x=\"kitchen_area\",\n",
    "                         y=\"last_price\",\n",
    "                         alpha=0.1);\n",
    "data['kitchen_area'].corr(data['last_price'])"
   ]
  },
  {
   "cell_type": "markdown",
   "metadata": {},
   "source": [
    "Получены следующие коэффициенты Пирсона:\n",
    " - для общей площади -> 0.77\n",
    " - для жилой площади -> 0.65\n",
    " - для площади кухни -> 0.55\n",
    " \n",
    " \n",
    "Таким образом, у всех графиков прослеживается связь между площадью и ценой объекта(чем больше площадь, тем больше цена). Наиболее близкая к линейной - связь между общей площадью и ценой объекта."
   ]
  },
  {
   "cell_type": "code",
   "execution_count": 31,
   "metadata": {},
   "outputs": [
    {
     "data": {
      "text/plain": [
       "<AxesSubplot:xlabel='rooms'>"
      ]
     },
     "execution_count": 31,
     "metadata": {},
     "output_type": "execute_result"
    },
    {
     "data": {
      "image/png": "[encoded data removed]",
      "text/plain": [
       "<Figure size 432x288 with 1 Axes>"
      ]
     },
     "metadata": {
      "needs_background": "light"
     },
     "output_type": "display_data"
    }
   ],
   "source": [
    "#График зависимости цены от количества комнат\n",
    "(data.pivot_table(index='rooms', values='price')\n",
    "    .plot(kind='bar', grid=True))"
   ]
  },
  {
   "cell_type": "markdown",
   "metadata": {},
   "source": [
    "Чем больше комнат, тем дороже объект. Самые дешевые - квартиры со свободной планировкой и студии."
   ]
  },
  {
   "cell_type": "code",
   "execution_count": 32,
   "metadata": {},
   "outputs": [
    {
     "data": {
      "text/plain": [
       "<AxesSubplot:xlabel='floor_type'>"
      ]
     },
     "execution_count": 32,
     "metadata": {},
     "output_type": "execute_result"
    },
    {
     "data": {
      "image/png": "[encoded data removed]",
      "text/plain": [
       "<Figure size 432x288 with 1 Axes>"
      ]
     },
     "metadata": {
      "needs_background": "light"
     },
     "output_type": "display_data"
    }
   ],
   "source": [
    "#График зависимости цены от этажа, на котором расположена квартира\n",
    "(data.pivot_table(index='floor_type', values='price')\n",
    "    .plot(kind='bar', grid=True))"
   ]
  },
  {
   "cell_type": "markdown",
   "metadata": {},
   "source": [
    "Цены на квартиры на первом и последнем этажах ниже, чем на любых других этажах. Квартиры на первом этаже дешевле, чем квартиры на последнем."
   ]
  },
  {
   "cell_type": "code",
   "execution_count": 33,
   "metadata": {},
   "outputs": [
    {
     "data": {
      "text/plain": [
       "<AxesSubplot:xlabel='year_exposition'>"
      ]
     },
     "execution_count": 33,
     "metadata": {},
     "output_type": "execute_result"
    },
    {
     "data": {
      "image/png": "[encoded data removed]",
      "text/plain": [
       "<Figure size 432x288 with 1 Axes>"
      ]
     },
     "metadata": {
      "needs_background": "light"
     },
     "output_type": "display_data"
    },
    {
     "data": {
      "image/png": "[encoded data removed]",
      "text/plain": [
       "<Figure size 432x288 with 1 Axes>"
      ]
     },
     "metadata": {
      "needs_background": "light"
     },
     "output_type": "display_data"
    },
    {
     "data": {
      "image/png": "[encoded data removed]",
      "text/plain": [
       "<Figure size 432x288 with 1 Axes>"
      ]
     },
     "metadata": {
      "needs_background": "light"
     },
     "output_type": "display_data"
    }
   ],
   "source": [
    "# График по дате размещения (день недели, месяц, год)\n",
    "\n",
    "(data.pivot_table(index='weekday_exposition', values='price')\n",
    "    .plot(kind='bar', grid=True)\n",
    ")\n",
    "(data.pivot_table(index='month_exposition', values='price')\n",
    "    .plot(kind='bar', grid=True)\n",
    ")\n",
    "(data.pivot_table(index='year_exposition', values='price')\n",
    "    .plot(kind='bar', grid=True)\n",
    ")\n"
   ]
  },
  {
   "cell_type": "markdown",
   "metadata": {},
   "source": [
    "**Итого: Факторы, влияющие на цену**\n",
    "\n",
    "\n",
    "- **Площадь.** В среднем, с увеличением площади квартиры увеличивается ее цена. На графиках зависимостей цены от жилой площади и площади кухни эта зависимость не такая явная, но тенденция роста цены в зависимости от увеличения площади сохранятеся.\n",
    "\n",
    "\n",
    "- **Кол-во комнат.** Чем больше комнат, тем выше цена объекта\n",
    "\n",
    "\n",
    "- **Этаж.** Цены на квартиры на первом и последнем этажах ниже, чем на любых других этажах. Квартиры на первом этаже дешевле, чем квартиры на последнем.\n",
    "\n",
    "\n",
    "- **Дата размещения объявления.** День и месяц публикации не влияют на цену квартиры. С 2014 года, цены на квартиры падали вплоть до 2019 года. В 2019 цена на квартиры немного выросла, относительно 2018 года.\n"
   ]
  },
  {
   "cell_type": "markdown",
   "metadata": {},
   "source": [
    "#### Средняя цена одного квадратного метра в 10 населённых пунктах с наибольшим числом объявлений."
   ]
  },
  {
   "cell_type": "code",
   "execution_count": 34,
   "metadata": {},
   "outputs": [
    {
     "name": "stdout",
     "output_type": "stream",
     "text": [
      "                        count           mean\n",
      "                  price_meter    price_meter\n",
      "locality_name                               \n",
      "Санкт-Петербург         14982  108657.971168\n",
      "посёлок Мурино            589   86087.266936\n",
      "посёлок Шушары            440   78677.364217\n",
      "Всеволожск                397   67214.252635\n",
      "Пушкин                    358  101864.461701\n",
      "Колпино                   337   75333.295801\n",
      "посёлок Парголово         326   90332.263023\n",
      "Гатчина                   307   68746.146763\n",
      "деревня Кудрово           299   92473.547576\n",
      "Выборг                    237   58141.909153\n",
      "\n",
      "Минимальная стоимость м^2:                     count          mean\n",
      "              price_meter   price_meter\n",
      "locality_name                          \n",
      "Выборг                237  58141.909153\n",
      "Максимальная стоимость м^2:                       count           mean\n",
      "                price_meter    price_meter\n",
      "locality_name                             \n",
      "Санкт-Петербург       14982  108657.971168\n"
     ]
    }
   ],
   "source": [
    "top_10 = (data.pivot_table(index='locality_name',values='price_meter',aggfunc=['count','mean'])\n",
    "          .sort_values(by=('count', 'price_meter'), ascending= False)\n",
    "          .head(10))\n",
    "print(top_10)\n",
    "print()\n",
    "print('Минимальная стоимость м^2:', top_10.loc[top_10['mean']['price_meter']==top_10['mean']['price_meter'].min()])\n",
    "print('Максимальная стоимость м^2:', top_10.loc[top_10['mean']['price_meter']==top_10['mean']['price_meter'].max()])"
   ]
  },
  {
   "cell_type": "markdown",
   "metadata": {},
   "source": [
    "Среди  10 населённых пунктов с наибольшим числом объявлений, наименьшая стоимость м² в городе Выборг, наибольшая - в городе Санкт-Петербург. "
   ]
  },
  {
   "cell_type": "markdown",
   "metadata": {},
   "source": [
    "#### Зависимость стоимости объектов от расстояния до центра города в г.Санкт-Петербург"
   ]
  },
  {
   "cell_type": "code",
   "execution_count": 35,
   "metadata": {},
   "outputs": [
    {
     "data": {
      "image/png": "[encoded data removed]",
      "text/plain": [
       "<Figure size 432x288 with 1 Axes>"
      ]
     },
     "metadata": {
      "needs_background": "light"
     },
     "output_type": "display_data"
    }
   ],
   "source": [
    "(data.pivot_table(index='cityCenters_nearest_km',values='price_meter',aggfunc='mean')\n",
    "          .sort_values(by=('cityCenters_nearest_km'))\n",
    "          .plot(grid = True, title = 'Заголовок'));\n"
   ]
  },
  {
   "cell_type": "markdown",
   "metadata": {},
   "source": [
    "В промежутке 0-40 км. от центра города наблюдается следующая тенденция: чем ближе объект к центру города, тем дороже он стоит.\n",
    "На уровне примерно 40 км от центра наблюдается резкий скачок цен. Объяснить его можно тем, что примерно на этом расстоянии от центра города находится Петергоф. Начиная с 40 км и далее обнаружить зависимость цены от расстояния не получается. "
   ]
  },
  {
   "cell_type": "markdown",
   "metadata": {},
   "source": [
    "### Общий вывод"
   ]
  },
  {
   "cell_type": "markdown",
   "metadata": {},
   "source": [
    "**В ходе исследования объявлений о продаже квартир, были получены следующие результаты:**\n",
    "\n",
    " - Пропуски в данных изучены и устранены там, где это возможно\n",
    " - Изменены типы данных в соответствии с содержанием столбцов\n",
    " - Устранены неявные дубликаты \n",
    " - В следующих столбцах устранены аномальные значения:\n",
    "    - last_price\n",
    "    - total_area \n",
    "    - rooms\n",
    "    - ceiling_height \n",
    "    - floors_total\n",
    "    - living_area\n",
    "    - kitchen_area\n",
    "\n",
    "\n",
    "Наиболее часто встречающимися в объявлениях оказались:\n",
    "- 1-2-х комнатные квартиры\n",
    "- Квартиры площадью 30-60 м² со стандартными жилой площадью (~ 20/30 м²) и площадью кухни (~10 м²)\n",
    "- Цена у большинства квартир находится в диапазоне 2.5-6.5 млн. Медианная цена - примерно 4 млн.\n",
    "- Наиболее часто встречается стандартная высота потолков (~ 2.5-2.7 м)\n",
    "- Большинство квартир в 5 и 9-этажных домах\n",
    "- Квартир на последних этажах больше, чем на первых\n",
    "- Квартир рядом с аэропортом/парком немного\n",
    "- В будние дни объявления публиковались примерно в 2 раза чаще, чем в выходные\n",
    "- В месяцы с большим количеством выходных (январь, май, декабрь) и в период отпусков (июнь, июль, август) объявления публиковались реже, чем в другие месяцы\n",
    "\n",
    "\n",
    "Срок действия объявлений (от публикации до снятия) для большинства объектов - от 44 до 227 дней (1-я и 3-я квартили).\n",
    "Необычно долгий срок - 320 дней и больше.\n",
    "\n",
    "\n",
    "На графике срока действия объявлений примерно на 45 и 60 днях наблюдаются пики. Размещение где-либо объявления о продаже объекта, как правило, платная услуга. Возможно, продавцы размещали объявление на минимальный срок (45 дней) или на средний срок продажи квартиры, согласно интернет запросу (2 месяца), в надежде быстро продать квартиру, и по окончании оплаченного срока объявление автоматически снималось.\n",
    "Если квартира к тому моменту не была продана, объявление размещалось заново с новой датой и его срок размещения рассчитывался по новой.\n",
    "\n",
    "\n",
    "Факторы, влияющие на цену объекта:\n",
    " -  С увеличением общей площади квартиры увеличивается ее цена (Увеличение жилой площади или площади кухни также приводит к увеличению цены, но на графиках это не просматривается так явно, как с общей площадью)\n",
    " \n",
    "     Коэффициенты Пирсона:\n",
    "     - для общей площади -> 0.77\n",
    "     - для жилой площади -> 0.65\n",
    "     - для площади кухни -> 0.55\n",
    " \n",
    " \n",
    " \n",
    " - Чем больше комнат, тем выше цена объекта\n",
    " - Цены на квартиры на первом и последнем этажах ниже, чем на любых других этажах. Квартиры на первом этаже дешевле, чем квартиры на последнем.\n",
    " - День и месяц публикации не влияют на цену квартиры \n",
    " - С 2014 года, цены на квартиры падали вплоть до 2019 года. В 2019 цена на квартиры немного выросла, относительно 2018 года.\n",
    "\n",
    "Среди 10 населённых пунктов с наибольшим числом объявлений, наименьшая стоимость м² в городе Выборг, наибольшая - в городе Санкт-Петербург.\n",
    "\n",
    "**Для г.Санкт-Петербург:** В промежутке 0-40 км. от центра города наблюдается следующая тенденция: чем ближе объект к центру города, тем дороже он стоит. На уровне примерно 40 км от центра наблюдается резкий скачок цен. Объяснить его можно тем, что примерно на этом расстоянии от центра города находится Петергоф. Начиная с 40 км и далее обнаружить зависимость цены от расстояния не получается.\n"
   ]
  },
  {
   "cell_type": "code",
   "execution_count": null,
   "outputs": [],
   "source": [],
   "metadata": {
    "collapsed": false,
    "ExecuteTime": {
     "end_time": "2023-10-15T12:51:37.909280700Z",
     "start_time": "2023-10-15T12:51:37.897327500Z"
    }
   }
  },
  {
   "cell_type": "code",
   "execution_count": null,
   "outputs": [],
   "source": [],
   "metadata": {
    "collapsed": false
   }
  }
 ],
 "metadata": {
  "ExecuteTimeLog": [
   {
    "duration": 110,
    "start_time": "2022-10-02T07:49:14.912Z"
   },
   {
    "duration": 1062,
    "start_time": "2022-10-02T07:49:21.012Z"
   },
   {
    "duration": 97,
    "start_time": "2022-10-02T07:50:26.339Z"
   },
   {
    "duration": 2265,
    "start_time": "2022-10-02T07:52:37.090Z"
   },
   {
    "duration": 2130,
    "start_time": "2022-10-02T07:53:05.916Z"
   },
   {
    "duration": 13,
    "start_time": "2022-10-02T08:02:05.693Z"
   },
   {
    "duration": 2464,
    "start_time": "2022-10-02T08:25:59.999Z"
   },
   {
    "duration": 2083,
    "start_time": "2022-10-02T08:50:48.355Z"
   },
   {
    "duration": 2473,
    "start_time": "2022-10-02T08:51:00.929Z"
   },
   {
    "duration": 2323,
    "start_time": "2022-10-02T08:51:16.537Z"
   },
   {
    "duration": 51,
    "start_time": "2022-10-08T17:46:25.641Z"
   },
   {
    "duration": 772,
    "start_time": "2022-10-08T17:54:59.646Z"
   },
   {
    "duration": 86,
    "start_time": "2022-10-08T17:55:36.115Z"
   },
   {
    "duration": 18,
    "start_time": "2022-10-08T17:55:37.109Z"
   },
   {
    "duration": 33,
    "start_time": "2022-10-08T17:55:39.092Z"
   },
   {
    "duration": 2528,
    "start_time": "2022-10-08T17:55:41.463Z"
   },
   {
    "duration": 2229,
    "start_time": "2022-10-08T17:57:00.270Z"
   },
   {
    "duration": 2228,
    "start_time": "2022-10-08T17:57:23.633Z"
   },
   {
    "duration": 2234,
    "start_time": "2022-10-08T17:57:33.867Z"
   },
   {
    "duration": 77,
    "start_time": "2022-10-08T18:18:47.381Z"
   },
   {
    "duration": 83,
    "start_time": "2022-10-08T18:45:35.113Z"
   },
   {
    "duration": 78,
    "start_time": "2022-10-08T18:46:13.520Z"
   },
   {
    "duration": 9,
    "start_time": "2022-10-08T18:47:01.616Z"
   },
   {
    "duration": 8,
    "start_time": "2022-10-08T18:47:42.491Z"
   },
   {
    "duration": 9,
    "start_time": "2022-10-08T18:48:48.718Z"
   },
   {
    "duration": 4,
    "start_time": "2022-10-08T18:49:57.574Z"
   },
   {
    "duration": 9,
    "start_time": "2022-10-08T18:50:15.133Z"
   },
   {
    "duration": 4,
    "start_time": "2022-10-08T18:50:28.772Z"
   },
   {
    "duration": 4,
    "start_time": "2022-10-08T18:50:37.572Z"
   },
   {
    "duration": 9,
    "start_time": "2022-10-08T18:59:08.550Z"
   },
   {
    "duration": 43,
    "start_time": "2022-10-08T19:02:41.677Z"
   },
   {
    "duration": 13,
    "start_time": "2022-10-08T19:02:49.681Z"
   },
   {
    "duration": 809,
    "start_time": "2022-10-08T19:03:04.564Z"
   },
   {
    "duration": 11,
    "start_time": "2022-10-08T19:04:10.051Z"
   },
   {
    "duration": 10,
    "start_time": "2022-10-08T19:04:55.308Z"
   },
   {
    "duration": 4,
    "start_time": "2022-10-08T19:06:13.378Z"
   },
   {
    "duration": 4,
    "start_time": "2022-10-08T19:07:11.311Z"
   },
   {
    "duration": 4,
    "start_time": "2022-10-08T19:07:49.660Z"
   },
   {
    "duration": 8,
    "start_time": "2022-10-08T19:07:53.880Z"
   },
   {
    "duration": 4,
    "start_time": "2022-10-08T19:08:13.572Z"
   },
   {
    "duration": 5,
    "start_time": "2022-10-08T19:12:16.776Z"
   },
   {
    "duration": 53,
    "start_time": "2022-10-08T19:12:28.312Z"
   },
   {
    "duration": 4,
    "start_time": "2022-10-08T19:12:33.915Z"
   },
   {
    "duration": 9,
    "start_time": "2022-10-08T19:15:04.636Z"
   },
   {
    "duration": 10,
    "start_time": "2022-10-08T19:16:03.989Z"
   },
   {
    "duration": 17,
    "start_time": "2022-10-08T19:22:13.928Z"
   },
   {
    "duration": 10,
    "start_time": "2022-10-08T19:22:17.869Z"
   },
   {
    "duration": 8,
    "start_time": "2022-10-08T19:22:41.462Z"
   },
   {
    "duration": 9,
    "start_time": "2022-10-08T19:22:49.291Z"
   },
   {
    "duration": 12,
    "start_time": "2022-10-08T19:22:57.033Z"
   },
   {
    "duration": 9,
    "start_time": "2022-10-08T19:24:12.474Z"
   },
   {
    "duration": 9,
    "start_time": "2022-10-08T19:24:13.595Z"
   },
   {
    "duration": 7,
    "start_time": "2022-10-08T19:25:36.638Z"
   },
   {
    "duration": 9,
    "start_time": "2022-10-08T19:30:11.899Z"
   },
   {
    "duration": 10,
    "start_time": "2022-10-08T19:32:07.880Z"
   },
   {
    "duration": 7,
    "start_time": "2022-10-08T19:32:33.755Z"
   },
   {
    "duration": 13,
    "start_time": "2022-10-08T19:32:55.912Z"
   },
   {
    "duration": 5,
    "start_time": "2022-10-08T19:33:20.405Z"
   },
   {
    "duration": 17,
    "start_time": "2022-10-08T19:35:16.088Z"
   },
   {
    "duration": 16,
    "start_time": "2022-10-08T19:35:40.072Z"
   },
   {
    "duration": 38,
    "start_time": "2022-10-08T19:36:19.233Z"
   },
   {
    "duration": 19,
    "start_time": "2022-10-08T19:38:02.805Z"
   },
   {
    "duration": 10,
    "start_time": "2022-10-08T19:39:13.741Z"
   },
   {
    "duration": 33,
    "start_time": "2022-10-08T19:39:55.574Z"
   },
   {
    "duration": 59,
    "start_time": "2022-10-08T19:41:03.964Z"
   },
   {
    "duration": 18,
    "start_time": "2022-10-08T19:42:02.437Z"
   },
   {
    "duration": 52,
    "start_time": "2022-10-08T19:42:52.767Z"
   },
   {
    "duration": 16,
    "start_time": "2022-10-08T19:42:59.287Z"
   },
   {
    "duration": 20,
    "start_time": "2022-10-08T19:43:16.429Z"
   },
   {
    "duration": 15,
    "start_time": "2022-10-08T19:58:20.834Z"
   },
   {
    "duration": 19,
    "start_time": "2022-10-08T19:58:33.056Z"
   },
   {
    "duration": 39,
    "start_time": "2022-10-08T20:17:38.509Z"
   },
   {
    "duration": 28,
    "start_time": "2022-10-08T20:18:04.993Z"
   },
   {
    "duration": 29,
    "start_time": "2022-10-08T20:18:27.466Z"
   },
   {
    "duration": 31,
    "start_time": "2022-10-08T20:18:35.436Z"
   },
   {
    "duration": 49,
    "start_time": "2022-10-08T20:19:11.143Z"
   },
   {
    "duration": 44,
    "start_time": "2022-10-08T20:20:08.300Z"
   },
   {
    "duration": 38,
    "start_time": "2022-10-08T20:21:24.401Z"
   },
   {
    "duration": 34,
    "start_time": "2022-10-08T20:21:31.608Z"
   },
   {
    "duration": 48,
    "start_time": "2022-10-08T20:21:47.073Z"
   },
   {
    "duration": 63,
    "start_time": "2022-10-08T20:23:05.420Z"
   },
   {
    "duration": 44,
    "start_time": "2022-10-08T20:26:09.945Z"
   },
   {
    "duration": 16,
    "start_time": "2022-10-08T20:28:43.460Z"
   },
   {
    "duration": 3,
    "start_time": "2022-10-08T20:30:58.994Z"
   },
   {
    "duration": 15,
    "start_time": "2022-10-08T20:32:23.250Z"
   },
   {
    "duration": 2340,
    "start_time": "2022-10-08T20:33:38.437Z"
   },
   {
    "duration": 3001,
    "start_time": "2022-10-08T20:33:56.910Z"
   },
   {
    "duration": 11,
    "start_time": "2022-10-08T20:33:59.913Z"
   },
   {
    "duration": 60,
    "start_time": "2022-10-08T20:33:59.926Z"
   },
   {
    "duration": 14,
    "start_time": "2022-10-08T20:33:59.988Z"
   },
   {
    "duration": 43,
    "start_time": "2022-10-08T20:51:20.900Z"
   },
   {
    "duration": 2902,
    "start_time": "2022-10-08T20:51:31.009Z"
   },
   {
    "duration": 11,
    "start_time": "2022-10-08T20:51:33.913Z"
   },
   {
    "duration": 64,
    "start_time": "2022-10-08T20:51:33.926Z"
   },
   {
    "duration": 14,
    "start_time": "2022-10-08T20:51:33.992Z"
   },
   {
    "duration": 13,
    "start_time": "2022-10-08T20:51:34.008Z"
   },
   {
    "duration": 98,
    "start_time": "2022-10-08T20:54:55.838Z"
   },
   {
    "duration": 32,
    "start_time": "2022-10-08T20:55:02.498Z"
   },
   {
    "duration": 14,
    "start_time": "2022-10-08T20:56:43.405Z"
   },
   {
    "duration": 24,
    "start_time": "2022-10-08T20:56:53.145Z"
   },
   {
    "duration": 18,
    "start_time": "2022-10-08T20:58:38.755Z"
   },
   {
    "duration": 95,
    "start_time": "2022-10-08T20:58:43.715Z"
   },
   {
    "duration": 2999,
    "start_time": "2022-10-08T20:59:25.304Z"
   },
   {
    "duration": 10,
    "start_time": "2022-10-08T20:59:28.306Z"
   },
   {
    "duration": 51,
    "start_time": "2022-10-08T20:59:28.318Z"
   },
   {
    "duration": 16,
    "start_time": "2022-10-08T20:59:28.371Z"
   },
   {
    "duration": 42,
    "start_time": "2022-10-08T20:59:28.389Z"
   },
   {
    "duration": 28,
    "start_time": "2022-10-08T20:59:40.071Z"
   },
   {
    "duration": 4,
    "start_time": "2022-10-09T10:51:05.751Z"
   },
   {
    "duration": 42,
    "start_time": "2022-10-09T10:54:55.805Z"
   },
   {
    "duration": 2836,
    "start_time": "2022-10-09T10:55:03.789Z"
   },
   {
    "duration": 11,
    "start_time": "2022-10-09T10:55:06.627Z"
   },
   {
    "duration": 54,
    "start_time": "2022-10-09T10:55:06.640Z"
   },
   {
    "duration": 32,
    "start_time": "2022-10-09T10:55:06.696Z"
   },
   {
    "duration": 5,
    "start_time": "2022-10-09T10:55:06.730Z"
   },
   {
    "duration": 75,
    "start_time": "2022-10-09T17:04:48.116Z"
   },
   {
    "duration": 84,
    "start_time": "2022-10-09T17:04:52.370Z"
   },
   {
    "duration": 581,
    "start_time": "2022-10-09T17:31:01.605Z"
   },
   {
    "duration": 2,
    "start_time": "2022-10-09T17:45:29.370Z"
   },
   {
    "duration": 5,
    "start_time": "2022-10-09T18:06:01.805Z"
   },
   {
    "duration": 9,
    "start_time": "2022-10-09T18:06:25.667Z"
   },
   {
    "duration": 8,
    "start_time": "2022-10-09T18:06:40.404Z"
   },
   {
    "duration": 140,
    "start_time": "2022-10-09T18:07:29.588Z"
   },
   {
    "duration": 136,
    "start_time": "2022-10-09T18:08:10.374Z"
   },
   {
    "duration": 247,
    "start_time": "2022-10-09T18:08:16.875Z"
   },
   {
    "duration": 321,
    "start_time": "2022-10-09T18:32:58.553Z"
   },
   {
    "duration": 382,
    "start_time": "2022-10-09T18:33:14.518Z"
   },
   {
    "duration": 10,
    "start_time": "2022-10-09T18:33:42.504Z"
   },
   {
    "duration": 265,
    "start_time": "2022-10-09T18:34:26.900Z"
   },
   {
    "duration": 249,
    "start_time": "2022-10-09T18:36:56.004Z"
   },
   {
    "duration": 2712,
    "start_time": "2022-10-09T18:37:29.174Z"
   },
   {
    "duration": 15,
    "start_time": "2022-10-09T18:37:31.895Z"
   },
   {
    "duration": 41,
    "start_time": "2022-10-09T18:37:31.912Z"
   },
   {
    "duration": 50,
    "start_time": "2022-10-09T18:37:31.955Z"
   },
   {
    "duration": 6,
    "start_time": "2022-10-09T18:37:32.008Z"
   },
   {
    "duration": 563,
    "start_time": "2022-10-09T18:37:32.016Z"
   },
   {
    "duration": 17,
    "start_time": "2022-10-09T18:37:32.581Z"
   },
   {
    "duration": 259,
    "start_time": "2022-10-09T18:37:32.599Z"
   },
   {
    "duration": 287,
    "start_time": "2022-10-09T18:48:01.334Z"
   },
   {
    "duration": 254,
    "start_time": "2022-10-09T18:48:11.259Z"
   },
   {
    "duration": 2735,
    "start_time": "2022-10-09T18:48:30.173Z"
   },
   {
    "duration": 13,
    "start_time": "2022-10-09T18:48:32.910Z"
   },
   {
    "duration": 48,
    "start_time": "2022-10-09T18:48:32.925Z"
   },
   {
    "duration": 43,
    "start_time": "2022-10-09T18:48:32.975Z"
   },
   {
    "duration": 5,
    "start_time": "2022-10-09T18:48:33.021Z"
   },
   {
    "duration": 650,
    "start_time": "2022-10-09T18:48:33.028Z"
   },
   {
    "duration": 97,
    "start_time": "2022-10-09T18:48:33.681Z"
   },
   {
    "duration": 0,
    "start_time": "2022-10-09T18:48:33.780Z"
   },
   {
    "duration": 0,
    "start_time": "2022-10-09T18:48:33.782Z"
   },
   {
    "duration": 10,
    "start_time": "2022-10-09T18:48:54.804Z"
   },
   {
    "duration": 310,
    "start_time": "2022-10-09T18:48:56.620Z"
   },
   {
    "duration": 261,
    "start_time": "2022-10-09T18:49:00.996Z"
   },
   {
    "duration": 225,
    "start_time": "2022-10-09T19:02:46.248Z"
   },
   {
    "duration": 228,
    "start_time": "2022-10-09T19:03:00.923Z"
   },
   {
    "duration": 164,
    "start_time": "2022-10-09T19:03:07.182Z"
   },
   {
    "duration": 307,
    "start_time": "2022-10-09T19:05:46.613Z"
   },
   {
    "duration": 225,
    "start_time": "2022-10-09T19:06:23.887Z"
   },
   {
    "duration": 2491,
    "start_time": "2022-10-09T19:06:41.918Z"
   },
   {
    "duration": 8,
    "start_time": "2022-10-09T19:06:44.411Z"
   },
   {
    "duration": 38,
    "start_time": "2022-10-09T19:06:44.420Z"
   },
   {
    "duration": 48,
    "start_time": "2022-10-09T19:06:44.460Z"
   },
   {
    "duration": 4,
    "start_time": "2022-10-09T19:06:44.510Z"
   },
   {
    "duration": 554,
    "start_time": "2022-10-09T19:06:44.516Z"
   },
   {
    "duration": 173,
    "start_time": "2022-10-09T19:06:45.072Z"
   },
   {
    "duration": 239,
    "start_time": "2022-10-09T19:06:45.247Z"
   },
   {
    "duration": 234,
    "start_time": "2022-10-09T19:06:45.488Z"
   },
   {
    "duration": 295,
    "start_time": "2022-10-09T19:06:45.724Z"
   },
   {
    "duration": 238,
    "start_time": "2022-10-09T19:06:46.021Z"
   },
   {
    "duration": 234,
    "start_time": "2022-10-09T19:06:46.261Z"
   },
   {
    "duration": 290,
    "start_time": "2022-10-09T19:06:46.497Z"
   },
   {
    "duration": 228,
    "start_time": "2022-10-09T19:08:05.250Z"
   },
   {
    "duration": 125,
    "start_time": "2022-10-09T19:08:09.656Z"
   },
   {
    "duration": 323,
    "start_time": "2022-10-09T19:08:40.537Z"
   },
   {
    "duration": 125,
    "start_time": "2022-10-09T19:08:49.952Z"
   },
   {
    "duration": 142,
    "start_time": "2022-10-09T19:09:14.728Z"
   },
   {
    "duration": 141,
    "start_time": "2022-10-09T19:09:28.937Z"
   },
   {
    "duration": 236,
    "start_time": "2022-10-09T19:10:20.990Z"
   },
   {
    "duration": 247,
    "start_time": "2022-10-09T19:10:28.433Z"
   },
   {
    "duration": 260,
    "start_time": "2022-10-09T19:10:44.176Z"
   },
   {
    "duration": 351,
    "start_time": "2022-10-09T19:11:19.987Z"
   },
   {
    "duration": 236,
    "start_time": "2022-10-09T19:12:10.893Z"
   },
   {
    "duration": 219,
    "start_time": "2022-10-09T19:12:24.527Z"
   },
   {
    "duration": 3396,
    "start_time": "2022-10-09T19:12:29.486Z"
   },
   {
    "duration": 14,
    "start_time": "2022-10-09T19:12:32.884Z"
   },
   {
    "duration": 41,
    "start_time": "2022-10-09T19:12:32.901Z"
   },
   {
    "duration": 54,
    "start_time": "2022-10-09T19:12:32.944Z"
   },
   {
    "duration": 5,
    "start_time": "2022-10-09T19:12:33.000Z"
   },
   {
    "duration": 556,
    "start_time": "2022-10-09T19:12:33.006Z"
   },
   {
    "duration": 177,
    "start_time": "2022-10-09T19:12:33.564Z"
   },
   {
    "duration": 252,
    "start_time": "2022-10-09T19:12:33.743Z"
   },
   {
    "duration": 285,
    "start_time": "2022-10-09T19:12:33.997Z"
   },
   {
    "duration": 225,
    "start_time": "2022-10-09T19:12:34.285Z"
   },
   {
    "duration": 166,
    "start_time": "2022-10-09T19:12:34.512Z"
   },
   {
    "duration": 253,
    "start_time": "2022-10-09T19:12:34.680Z"
   },
   {
    "duration": 242,
    "start_time": "2022-10-09T19:12:34.934Z"
   },
   {
    "duration": 101,
    "start_time": "2022-10-09T19:54:26.450Z"
   },
   {
    "duration": 160,
    "start_time": "2022-10-09T19:54:35.251Z"
   },
   {
    "duration": 404,
    "start_time": "2022-10-09T19:55:15.649Z"
   },
   {
    "duration": 313,
    "start_time": "2022-10-09T19:55:51.116Z"
   },
   {
    "duration": 339,
    "start_time": "2022-10-09T19:56:28.170Z"
   },
   {
    "duration": 318,
    "start_time": "2022-10-09T19:57:00.480Z"
   },
   {
    "duration": 3,
    "start_time": "2022-10-09T20:07:56.344Z"
   },
   {
    "duration": 2658,
    "start_time": "2022-10-09T20:10:51.547Z"
   },
   {
    "duration": 272,
    "start_time": "2022-10-09T20:13:20.709Z"
   },
   {
    "duration": 285,
    "start_time": "2022-10-09T20:13:28.817Z"
   },
   {
    "duration": 73,
    "start_time": "2022-10-09T20:18:27.841Z"
   },
   {
    "duration": 1107,
    "start_time": "2022-10-09T20:18:36.380Z"
   },
   {
    "duration": 1134,
    "start_time": "2022-10-09T20:18:53.632Z"
   },
   {
    "duration": 244,
    "start_time": "2022-10-09T20:19:39.663Z"
   },
   {
    "duration": 288,
    "start_time": "2022-10-09T20:27:57.089Z"
   },
   {
    "duration": 2589,
    "start_time": "2022-10-09T20:28:40.789Z"
   },
   {
    "duration": 76,
    "start_time": "2022-10-09T20:30:51.092Z"
   },
   {
    "duration": 72,
    "start_time": "2022-10-09T20:31:01.157Z"
   },
   {
    "duration": 1676,
    "start_time": "2022-10-09T20:31:07.184Z"
   },
   {
    "duration": 1812,
    "start_time": "2022-10-09T20:31:50.539Z"
   },
   {
    "duration": 3340,
    "start_time": "2022-10-09T20:32:22.271Z"
   },
   {
    "duration": 2028,
    "start_time": "2022-10-09T20:32:42.256Z"
   },
   {
    "duration": 5353,
    "start_time": "2022-10-09T20:32:52.111Z"
   },
   {
    "duration": 2124,
    "start_time": "2022-10-09T20:33:10.887Z"
   },
   {
    "duration": 673,
    "start_time": "2022-10-09T20:33:40.163Z"
   },
   {
    "duration": 510,
    "start_time": "2022-10-09T20:34:34.195Z"
   },
   {
    "duration": 411,
    "start_time": "2022-10-09T20:36:41.229Z"
   },
   {
    "duration": 258,
    "start_time": "2022-10-09T20:37:08.593Z"
   },
   {
    "duration": 210,
    "start_time": "2022-10-09T20:37:19.365Z"
   },
   {
    "duration": 227,
    "start_time": "2022-10-09T20:37:40.050Z"
   },
   {
    "duration": 252,
    "start_time": "2022-10-09T20:37:47.124Z"
   },
   {
    "duration": 496,
    "start_time": "2022-10-09T20:39:38.091Z"
   },
   {
    "duration": 270,
    "start_time": "2022-10-09T20:40:10.845Z"
   },
   {
    "duration": 282,
    "start_time": "2022-10-09T20:44:31.695Z"
   },
   {
    "duration": 29,
    "start_time": "2022-10-09T20:44:47.863Z"
   },
   {
    "duration": 309,
    "start_time": "2022-10-09T20:45:37.172Z"
   },
   {
    "duration": 333,
    "start_time": "2022-10-09T20:46:10.296Z"
   },
   {
    "duration": 24,
    "start_time": "2022-10-09T20:46:19.569Z"
   },
   {
    "duration": 34,
    "start_time": "2022-10-09T20:46:30.766Z"
   },
   {
    "duration": 26,
    "start_time": "2022-10-09T20:46:42.425Z"
   },
   {
    "duration": 117,
    "start_time": "2022-10-09T20:47:23.960Z"
   },
   {
    "duration": 21,
    "start_time": "2022-10-09T20:49:23.943Z"
   },
   {
    "duration": 19,
    "start_time": "2022-10-09T20:50:37.586Z"
   },
   {
    "duration": 341,
    "start_time": "2022-10-09T20:51:04.454Z"
   },
   {
    "duration": 335,
    "start_time": "2022-10-09T20:51:27.934Z"
   },
   {
    "duration": 113,
    "start_time": "2022-10-09T20:51:45.883Z"
   },
   {
    "duration": 150,
    "start_time": "2022-10-09T20:53:25.311Z"
   },
   {
    "duration": 168,
    "start_time": "2022-10-09T20:53:52.693Z"
   },
   {
    "duration": 576,
    "start_time": "2022-10-09T20:54:37.872Z"
   },
   {
    "duration": 144,
    "start_time": "2022-10-09T20:54:52.622Z"
   },
   {
    "duration": 737,
    "start_time": "2022-10-09T20:55:40.720Z"
   },
   {
    "duration": 475,
    "start_time": "2022-10-09T20:57:11.980Z"
   },
   {
    "duration": 255,
    "start_time": "2022-10-09T20:57:39.363Z"
   },
   {
    "duration": 263,
    "start_time": "2022-10-09T20:58:04.923Z"
   },
   {
    "duration": 273,
    "start_time": "2022-10-09T20:58:14.686Z"
   },
   {
    "duration": 767,
    "start_time": "2022-10-09T20:59:03.380Z"
   },
   {
    "duration": 613,
    "start_time": "2022-10-09T20:59:14.509Z"
   },
   {
    "duration": 182,
    "start_time": "2022-10-09T21:00:07.753Z"
   },
   {
    "duration": 140,
    "start_time": "2022-10-09T21:00:13.046Z"
   },
   {
    "duration": 149,
    "start_time": "2022-10-09T21:00:18.831Z"
   },
   {
    "duration": 160,
    "start_time": "2022-10-09T21:00:29.421Z"
   },
   {
    "duration": 295,
    "start_time": "2022-10-09T21:02:36.412Z"
   },
   {
    "duration": 384,
    "start_time": "2022-10-09T21:07:16.476Z"
   },
   {
    "duration": 677,
    "start_time": "2022-10-09T21:21:38.616Z"
   },
   {
    "duration": 128,
    "start_time": "2022-10-09T21:30:46.997Z"
   },
   {
    "duration": 608,
    "start_time": "2022-10-09T21:32:37.363Z"
   },
   {
    "duration": 156,
    "start_time": "2022-10-09T21:32:57.986Z"
   },
   {
    "duration": 139,
    "start_time": "2022-10-09T21:33:08.447Z"
   },
   {
    "duration": 149,
    "start_time": "2022-10-09T21:33:29.309Z"
   },
   {
    "duration": 1198,
    "start_time": "2022-10-09T21:34:14.836Z"
   },
   {
    "duration": 134,
    "start_time": "2022-10-09T21:35:17.843Z"
   },
   {
    "duration": 1540,
    "start_time": "2022-10-09T21:37:58.798Z"
   },
   {
    "duration": 165,
    "start_time": "2022-10-09T21:38:26.139Z"
   },
   {
    "duration": 44,
    "start_time": "2022-10-10T16:42:41.286Z"
   },
   {
    "duration": 2995,
    "start_time": "2022-10-10T16:42:47.318Z"
   },
   {
    "duration": 9,
    "start_time": "2022-10-10T16:42:50.315Z"
   },
   {
    "duration": 42,
    "start_time": "2022-10-10T16:42:50.325Z"
   },
   {
    "duration": 23,
    "start_time": "2022-10-10T16:42:50.369Z"
   },
   {
    "duration": 5,
    "start_time": "2022-10-10T16:42:50.393Z"
   },
   {
    "duration": 604,
    "start_time": "2022-10-10T16:42:50.399Z"
   },
   {
    "duration": 183,
    "start_time": "2022-10-10T16:42:51.005Z"
   },
   {
    "duration": 280,
    "start_time": "2022-10-10T16:42:51.190Z"
   },
   {
    "duration": 319,
    "start_time": "2022-10-10T16:42:51.472Z"
   },
   {
    "duration": 122,
    "start_time": "2022-10-10T16:42:51.792Z"
   },
   {
    "duration": 139,
    "start_time": "2022-10-10T16:42:51.916Z"
   },
   {
    "duration": 234,
    "start_time": "2022-10-10T16:42:52.056Z"
   },
   {
    "duration": 268,
    "start_time": "2022-10-10T16:42:52.292Z"
   },
   {
    "duration": 309,
    "start_time": "2022-10-10T16:42:52.563Z"
   },
   {
    "duration": 673,
    "start_time": "2022-10-10T16:42:52.874Z"
   },
   {
    "duration": 161,
    "start_time": "2022-10-10T16:42:53.549Z"
   },
   {
    "duration": 296,
    "start_time": "2022-10-10T16:42:53.712Z"
   },
   {
    "duration": 144,
    "start_time": "2022-10-10T16:42:54.010Z"
   },
   {
    "duration": 637,
    "start_time": "2022-10-10T16:42:54.155Z"
   },
   {
    "duration": 692,
    "start_time": "2022-10-10T16:42:54.794Z"
   },
   {
    "duration": 250,
    "start_time": "2022-10-10T16:42:55.487Z"
   },
   {
    "duration": 337,
    "start_time": "2022-10-10T16:42:55.738Z"
   },
   {
    "duration": 239,
    "start_time": "2022-10-10T16:43:39.593Z"
   },
   {
    "duration": 6,
    "start_time": "2022-10-10T16:45:42.691Z"
   },
   {
    "duration": 11,
    "start_time": "2022-10-10T17:04:15.486Z"
   },
   {
    "duration": 136,
    "start_time": "2022-10-10T17:37:06.734Z"
   },
   {
    "duration": 48,
    "start_time": "2022-10-10T17:39:14.305Z"
   },
   {
    "duration": 48,
    "start_time": "2022-10-10T17:39:20.372Z"
   },
   {
    "duration": 134,
    "start_time": "2022-10-10T17:39:35.668Z"
   },
   {
    "duration": 16,
    "start_time": "2022-10-10T17:39:49.773Z"
   },
   {
    "duration": 215,
    "start_time": "2022-10-10T17:41:26.252Z"
   },
   {
    "duration": 8,
    "start_time": "2022-10-10T17:41:48.009Z"
   },
   {
    "duration": 139,
    "start_time": "2022-10-10T17:42:01.027Z"
   },
   {
    "duration": 1011,
    "start_time": "2022-10-10T17:43:06.396Z"
   },
   {
    "duration": 942,
    "start_time": "2022-10-10T17:48:25.181Z"
   },
   {
    "duration": 926,
    "start_time": "2022-10-10T17:49:40.232Z"
   },
   {
    "duration": 1234,
    "start_time": "2022-10-10T17:55:07.119Z"
   },
   {
    "duration": 27,
    "start_time": "2022-10-10T17:56:36.286Z"
   },
   {
    "duration": 20,
    "start_time": "2022-10-10T17:56:40.611Z"
   },
   {
    "duration": 856,
    "start_time": "2022-10-10T17:56:52.297Z"
   },
   {
    "duration": 18,
    "start_time": "2022-10-10T17:57:06.520Z"
   },
   {
    "duration": 21,
    "start_time": "2022-10-10T17:57:13.996Z"
   },
   {
    "duration": 51,
    "start_time": "2022-10-10T17:58:21.901Z"
   },
   {
    "duration": 27265,
    "start_time": "2022-10-10T17:58:45.750Z"
   },
   {
    "duration": 520,
    "start_time": "2022-10-10T18:00:03.687Z"
   },
   {
    "duration": 1049,
    "start_time": "2022-10-10T18:00:14.338Z"
   },
   {
    "duration": 183,
    "start_time": "2022-10-10T18:05:57.530Z"
   },
   {
    "duration": 665,
    "start_time": "2022-10-10T18:07:29.617Z"
   },
   {
    "duration": 1233,
    "start_time": "2022-10-10T18:07:43.050Z"
   },
   {
    "duration": 658,
    "start_time": "2022-10-10T18:07:51.816Z"
   },
   {
    "duration": 659,
    "start_time": "2022-10-10T18:08:02.740Z"
   },
   {
    "duration": 115,
    "start_time": "2022-10-10T18:10:38.218Z"
   },
   {
    "duration": 1249,
    "start_time": "2022-10-10T18:10:47.201Z"
   },
   {
    "duration": 2828,
    "start_time": "2022-10-10T18:12:12.697Z"
   },
   {
    "duration": 9,
    "start_time": "2022-10-10T18:12:15.528Z"
   },
   {
    "duration": 56,
    "start_time": "2022-10-10T18:12:15.539Z"
   },
   {
    "duration": 43,
    "start_time": "2022-10-10T18:12:15.597Z"
   },
   {
    "duration": 6,
    "start_time": "2022-10-10T18:12:15.642Z"
   },
   {
    "duration": 744,
    "start_time": "2022-10-10T18:12:15.650Z"
   },
   {
    "duration": 275,
    "start_time": "2022-10-10T18:12:16.396Z"
   },
   {
    "duration": 272,
    "start_time": "2022-10-10T18:12:16.673Z"
   },
   {
    "duration": 243,
    "start_time": "2022-10-10T18:12:16.947Z"
   },
   {
    "duration": 227,
    "start_time": "2022-10-10T18:12:17.191Z"
   },
   {
    "duration": 160,
    "start_time": "2022-10-10T18:12:17.420Z"
   },
   {
    "duration": 244,
    "start_time": "2022-10-10T18:12:17.581Z"
   },
   {
    "duration": 238,
    "start_time": "2022-10-10T18:12:17.827Z"
   },
   {
    "duration": 371,
    "start_time": "2022-10-10T18:12:18.069Z"
   },
   {
    "duration": 742,
    "start_time": "2022-10-10T18:12:18.442Z"
   },
   {
    "duration": 169,
    "start_time": "2022-10-10T18:12:19.186Z"
   },
   {
    "duration": 309,
    "start_time": "2022-10-10T18:12:19.357Z"
   },
   {
    "duration": 184,
    "start_time": "2022-10-10T18:12:19.668Z"
   },
   {
    "duration": 682,
    "start_time": "2022-10-10T18:12:19.853Z"
   },
   {
    "duration": 723,
    "start_time": "2022-10-10T18:12:20.536Z"
   },
   {
    "duration": 276,
    "start_time": "2022-10-10T18:12:21.260Z"
   },
   {
    "duration": 252,
    "start_time": "2022-10-10T18:12:21.538Z"
   },
   {
    "duration": 8,
    "start_time": "2022-10-10T18:12:21.792Z"
   },
   {
    "duration": 2675,
    "start_time": "2022-10-10T18:14:32.806Z"
   },
   {
    "duration": 9,
    "start_time": "2022-10-10T18:14:35.484Z"
   },
   {
    "duration": 64,
    "start_time": "2022-10-10T18:14:35.495Z"
   },
   {
    "duration": 27,
    "start_time": "2022-10-10T18:14:35.560Z"
   },
   {
    "duration": 6,
    "start_time": "2022-10-10T18:14:35.589Z"
   },
   {
    "duration": 647,
    "start_time": "2022-10-10T18:14:35.597Z"
   },
   {
    "duration": 271,
    "start_time": "2022-10-10T18:14:36.247Z"
   },
   {
    "duration": 271,
    "start_time": "2022-10-10T18:14:36.521Z"
   },
   {
    "duration": 242,
    "start_time": "2022-10-10T18:14:36.793Z"
   },
   {
    "duration": 210,
    "start_time": "2022-10-10T18:14:37.037Z"
   },
   {
    "duration": 153,
    "start_time": "2022-10-10T18:14:37.249Z"
   },
   {
    "duration": 232,
    "start_time": "2022-10-10T18:14:37.404Z"
   },
   {
    "duration": 242,
    "start_time": "2022-10-10T18:14:37.638Z"
   },
   {
    "duration": 351,
    "start_time": "2022-10-10T18:14:37.883Z"
   },
   {
    "duration": 745,
    "start_time": "2022-10-10T18:14:38.236Z"
   },
   {
    "duration": 166,
    "start_time": "2022-10-10T18:14:38.983Z"
   },
   {
    "duration": 296,
    "start_time": "2022-10-10T18:14:39.151Z"
   },
   {
    "duration": 153,
    "start_time": "2022-10-10T18:14:39.449Z"
   },
   {
    "duration": 732,
    "start_time": "2022-10-10T18:14:39.604Z"
   },
   {
    "duration": 754,
    "start_time": "2022-10-10T18:14:40.338Z"
   },
   {
    "duration": 281,
    "start_time": "2022-10-10T18:14:41.096Z"
   },
   {
    "duration": 268,
    "start_time": "2022-10-10T18:14:41.379Z"
   },
   {
    "duration": 9,
    "start_time": "2022-10-10T18:14:41.649Z"
   },
   {
    "duration": 114,
    "start_time": "2022-10-10T18:14:41.660Z"
   },
   {
    "duration": 185,
    "start_time": "2022-10-10T18:14:54.632Z"
   },
   {
    "duration": 2769,
    "start_time": "2022-10-10T18:15:19.904Z"
   },
   {
    "duration": 9,
    "start_time": "2022-10-10T18:15:22.675Z"
   },
   {
    "duration": 45,
    "start_time": "2022-10-10T18:15:22.686Z"
   },
   {
    "duration": 27,
    "start_time": "2022-10-10T18:15:22.733Z"
   },
   {
    "duration": 6,
    "start_time": "2022-10-10T18:15:22.762Z"
   },
   {
    "duration": 637,
    "start_time": "2022-10-10T18:15:22.770Z"
   },
   {
    "duration": 181,
    "start_time": "2022-10-10T18:15:23.409Z"
   },
   {
    "duration": 247,
    "start_time": "2022-10-10T18:15:23.592Z"
   },
   {
    "duration": 251,
    "start_time": "2022-10-10T18:15:23.840Z"
   },
   {
    "duration": 220,
    "start_time": "2022-10-10T18:15:24.093Z"
   },
   {
    "duration": 159,
    "start_time": "2022-10-10T18:15:24.315Z"
   },
   {
    "duration": 236,
    "start_time": "2022-10-10T18:15:24.476Z"
   },
   {
    "duration": 235,
    "start_time": "2022-10-10T18:15:24.714Z"
   },
   {
    "duration": 341,
    "start_time": "2022-10-10T18:15:24.951Z"
   },
   {
    "duration": 781,
    "start_time": "2022-10-10T18:15:25.294Z"
   },
   {
    "duration": 194,
    "start_time": "2022-10-10T18:15:26.076Z"
   },
   {
    "duration": 405,
    "start_time": "2022-10-10T18:15:26.272Z"
   },
   {
    "duration": 157,
    "start_time": "2022-10-10T18:15:26.678Z"
   },
   {
    "duration": 720,
    "start_time": "2022-10-10T18:15:26.838Z"
   },
   {
    "duration": 731,
    "start_time": "2022-10-10T18:15:27.560Z"
   },
   {
    "duration": 273,
    "start_time": "2022-10-10T18:15:28.292Z"
   },
   {
    "duration": 269,
    "start_time": "2022-10-10T18:15:28.567Z"
   },
   {
    "duration": 9,
    "start_time": "2022-10-10T18:15:28.838Z"
   },
   {
    "duration": 740,
    "start_time": "2022-10-10T18:15:28.849Z"
   },
   {
    "duration": 111,
    "start_time": "2022-10-10T18:15:29.591Z"
   },
   {
    "duration": 60,
    "start_time": "2022-10-10T18:17:31.752Z"
   },
   {
    "duration": 2787,
    "start_time": "2022-10-10T18:18:30.358Z"
   },
   {
    "duration": 8,
    "start_time": "2022-10-10T18:18:33.148Z"
   },
   {
    "duration": 46,
    "start_time": "2022-10-10T18:18:33.158Z"
   },
   {
    "duration": 33,
    "start_time": "2022-10-10T18:18:33.206Z"
   },
   {
    "duration": 6,
    "start_time": "2022-10-10T18:18:33.241Z"
   },
   {
    "duration": 625,
    "start_time": "2022-10-10T18:18:33.249Z"
   },
   {
    "duration": 177,
    "start_time": "2022-10-10T18:18:33.876Z"
   },
   {
    "duration": 265,
    "start_time": "2022-10-10T18:18:34.055Z"
   },
   {
    "duration": 254,
    "start_time": "2022-10-10T18:18:34.321Z"
   },
   {
    "duration": 221,
    "start_time": "2022-10-10T18:18:34.577Z"
   },
   {
    "duration": 165,
    "start_time": "2022-10-10T18:18:34.799Z"
   },
   {
    "duration": 230,
    "start_time": "2022-10-10T18:18:34.965Z"
   },
   {
    "duration": 238,
    "start_time": "2022-10-10T18:18:35.197Z"
   },
   {
    "duration": 327,
    "start_time": "2022-10-10T18:18:35.439Z"
   },
   {
    "duration": 844,
    "start_time": "2022-10-10T18:18:35.768Z"
   },
   {
    "duration": 193,
    "start_time": "2022-10-10T18:18:36.614Z"
   },
   {
    "duration": 295,
    "start_time": "2022-10-10T18:18:36.808Z"
   },
   {
    "duration": 152,
    "start_time": "2022-10-10T18:18:37.105Z"
   },
   {
    "duration": 656,
    "start_time": "2022-10-10T18:18:37.259Z"
   },
   {
    "duration": 738,
    "start_time": "2022-10-10T18:18:37.917Z"
   },
   {
    "duration": 287,
    "start_time": "2022-10-10T18:18:38.657Z"
   },
   {
    "duration": 249,
    "start_time": "2022-10-10T18:18:38.946Z"
   },
   {
    "duration": 9,
    "start_time": "2022-10-10T18:18:39.197Z"
   },
   {
    "duration": 816,
    "start_time": "2022-10-10T18:18:39.209Z"
   },
   {
    "duration": 109,
    "start_time": "2022-10-10T18:18:40.027Z"
   },
   {
    "duration": 640,
    "start_time": "2022-10-10T18:18:48.046Z"
   },
   {
    "duration": 600,
    "start_time": "2022-10-10T18:19:18.816Z"
   },
   {
    "duration": 1531,
    "start_time": "2022-10-10T18:20:04.969Z"
   },
   {
    "duration": 576,
    "start_time": "2022-10-10T18:22:01.853Z"
   },
   {
    "duration": 27747,
    "start_time": "2022-10-10T18:22:44.407Z"
   },
   {
    "duration": 49,
    "start_time": "2022-10-10T18:23:38.020Z"
   },
   {
    "duration": 772,
    "start_time": "2022-10-10T18:23:48.330Z"
   },
   {
    "duration": 934,
    "start_time": "2022-10-10T18:24:06.425Z"
   },
   {
    "duration": 659,
    "start_time": "2022-10-10T18:24:33.407Z"
   },
   {
    "duration": 308,
    "start_time": "2022-10-10T18:24:59.333Z"
   },
   {
    "duration": 715,
    "start_time": "2022-10-10T18:25:10.921Z"
   },
   {
    "duration": 670,
    "start_time": "2022-10-10T18:25:31.515Z"
   },
   {
    "duration": 332,
    "start_time": "2022-10-10T18:26:35.340Z"
   },
   {
    "duration": 718,
    "start_time": "2022-10-10T18:28:15.941Z"
   },
   {
    "duration": 47,
    "start_time": "2022-10-10T19:52:57.963Z"
   },
   {
    "duration": 7,
    "start_time": "2022-10-10T19:53:10.116Z"
   },
   {
    "duration": 3112,
    "start_time": "2022-10-10T19:53:19.385Z"
   },
   {
    "duration": 9,
    "start_time": "2022-10-10T19:53:22.499Z"
   },
   {
    "duration": 46,
    "start_time": "2022-10-10T19:53:22.510Z"
   },
   {
    "duration": 46,
    "start_time": "2022-10-10T19:53:22.558Z"
   },
   {
    "duration": 6,
    "start_time": "2022-10-10T19:53:22.606Z"
   },
   {
    "duration": 731,
    "start_time": "2022-10-10T19:53:22.613Z"
   },
   {
    "duration": 199,
    "start_time": "2022-10-10T19:53:23.346Z"
   },
   {
    "duration": 267,
    "start_time": "2022-10-10T19:53:23.547Z"
   },
   {
    "duration": 321,
    "start_time": "2022-10-10T19:53:23.815Z"
   },
   {
    "duration": 140,
    "start_time": "2022-10-10T19:53:24.138Z"
   },
   {
    "duration": 163,
    "start_time": "2022-10-10T19:53:24.280Z"
   },
   {
    "duration": 246,
    "start_time": "2022-10-10T19:53:24.445Z"
   },
   {
    "duration": 260,
    "start_time": "2022-10-10T19:53:24.692Z"
   },
   {
    "duration": 366,
    "start_time": "2022-10-10T19:53:24.954Z"
   },
   {
    "duration": 749,
    "start_time": "2022-10-10T19:53:25.322Z"
   },
   {
    "duration": 165,
    "start_time": "2022-10-10T19:53:26.073Z"
   },
   {
    "duration": 307,
    "start_time": "2022-10-10T19:53:26.239Z"
   },
   {
    "duration": 161,
    "start_time": "2022-10-10T19:53:26.548Z"
   },
   {
    "duration": 670,
    "start_time": "2022-10-10T19:53:26.711Z"
   },
   {
    "duration": 769,
    "start_time": "2022-10-10T19:53:27.383Z"
   },
   {
    "duration": 296,
    "start_time": "2022-10-10T19:53:28.154Z"
   },
   {
    "duration": 394,
    "start_time": "2022-10-10T19:53:28.453Z"
   },
   {
    "duration": 9,
    "start_time": "2022-10-10T19:53:28.849Z"
   },
   {
    "duration": 657,
    "start_time": "2022-10-10T19:53:28.860Z"
   },
   {
    "duration": 183,
    "start_time": "2022-10-10T19:53:29.519Z"
   },
   {
    "duration": 620,
    "start_time": "2022-10-10T19:53:29.704Z"
   },
   {
    "duration": 163,
    "start_time": "2022-10-10T20:05:55.530Z"
   },
   {
    "duration": 91,
    "start_time": "2022-10-10T20:06:10.761Z"
   },
   {
    "duration": 89,
    "start_time": "2022-10-10T20:06:12.221Z"
   },
   {
    "duration": 127,
    "start_time": "2022-10-10T20:06:50.995Z"
   },
   {
    "duration": 142,
    "start_time": "2022-10-10T20:07:14.453Z"
   },
   {
    "duration": 128,
    "start_time": "2022-10-10T20:07:20.620Z"
   },
   {
    "duration": 27840,
    "start_time": "2022-10-10T20:08:53.416Z"
   },
   {
    "duration": 327,
    "start_time": "2022-10-10T20:09:44.846Z"
   },
   {
    "duration": 465,
    "start_time": "2022-10-10T20:10:09.446Z"
   },
   {
    "duration": 2,
    "start_time": "2022-10-10T20:22:51.158Z"
   },
   {
    "duration": 21,
    "start_time": "2022-10-10T20:30:52.490Z"
   },
   {
    "duration": 20,
    "start_time": "2022-10-10T20:31:10.438Z"
   },
   {
    "duration": 22,
    "start_time": "2022-10-10T20:33:45.764Z"
   },
   {
    "duration": 264,
    "start_time": "2022-10-10T20:35:50.551Z"
   },
   {
    "duration": 86,
    "start_time": "2022-10-10T20:36:11.280Z"
   },
   {
    "duration": 22,
    "start_time": "2022-10-10T20:36:30.380Z"
   },
   {
    "duration": 75,
    "start_time": "2022-10-10T20:38:58.267Z"
   },
   {
    "duration": 22,
    "start_time": "2022-10-10T20:39:07.559Z"
   },
   {
    "duration": 32,
    "start_time": "2022-10-10T20:40:09.553Z"
   },
   {
    "duration": 1274,
    "start_time": "2022-10-10T20:42:37.593Z"
   },
   {
    "duration": 1358,
    "start_time": "2022-10-10T20:43:38.633Z"
   },
   {
    "duration": 38,
    "start_time": "2022-10-10T20:43:57.367Z"
   },
   {
    "duration": 1751,
    "start_time": "2022-10-10T20:44:23.637Z"
   },
   {
    "duration": 32,
    "start_time": "2022-10-10T20:45:43.864Z"
   },
   {
    "duration": 37,
    "start_time": "2022-10-10T20:46:09.991Z"
   },
   {
    "duration": 31,
    "start_time": "2022-10-10T20:46:38.556Z"
   },
   {
    "duration": 37,
    "start_time": "2022-10-10T20:47:01.683Z"
   },
   {
    "duration": 30,
    "start_time": "2022-10-10T20:47:38.154Z"
   },
   {
    "duration": 48,
    "start_time": "2022-10-10T20:47:58.129Z"
   },
   {
    "duration": 79,
    "start_time": "2022-10-10T20:48:37.230Z"
   },
   {
    "duration": 15,
    "start_time": "2022-10-10T21:02:04.953Z"
   },
   {
    "duration": 162,
    "start_time": "2022-10-10T21:02:38.311Z"
   },
   {
    "duration": 83,
    "start_time": "2022-10-10T21:11:04.671Z"
   },
   {
    "duration": 692,
    "start_time": "2022-10-10T21:49:19.607Z"
   },
   {
    "duration": 1021,
    "start_time": "2022-10-10T21:49:34.339Z"
   },
   {
    "duration": 3052,
    "start_time": "2022-10-10T21:51:17.773Z"
   },
   {
    "duration": 11,
    "start_time": "2022-10-10T21:51:20.828Z"
   },
   {
    "duration": 48,
    "start_time": "2022-10-10T21:51:20.840Z"
   },
   {
    "duration": 30,
    "start_time": "2022-10-10T21:51:20.890Z"
   },
   {
    "duration": 5,
    "start_time": "2022-10-10T21:51:20.922Z"
   },
   {
    "duration": 713,
    "start_time": "2022-10-10T21:51:20.930Z"
   },
   {
    "duration": 203,
    "start_time": "2022-10-10T21:51:21.644Z"
   },
   {
    "duration": 317,
    "start_time": "2022-10-10T21:51:21.849Z"
   },
   {
    "duration": 271,
    "start_time": "2022-10-10T21:51:22.168Z"
   },
   {
    "duration": 235,
    "start_time": "2022-10-10T21:51:22.443Z"
   },
   {
    "duration": 192,
    "start_time": "2022-10-10T21:51:22.680Z"
   },
   {
    "duration": 271,
    "start_time": "2022-10-10T21:51:22.874Z"
   },
   {
    "duration": 331,
    "start_time": "2022-10-10T21:51:23.147Z"
   },
   {
    "duration": 363,
    "start_time": "2022-10-10T21:51:23.480Z"
   },
   {
    "duration": 770,
    "start_time": "2022-10-10T21:51:23.845Z"
   },
   {
    "duration": 163,
    "start_time": "2022-10-10T21:51:24.617Z"
   },
   {
    "duration": 302,
    "start_time": "2022-10-10T21:51:24.781Z"
   },
   {
    "duration": 164,
    "start_time": "2022-10-10T21:51:25.088Z"
   },
   {
    "duration": 730,
    "start_time": "2022-10-10T21:51:25.253Z"
   },
   {
    "duration": 733,
    "start_time": "2022-10-10T21:51:25.988Z"
   },
   {
    "duration": 267,
    "start_time": "2022-10-10T21:51:26.723Z"
   },
   {
    "duration": 246,
    "start_time": "2022-10-10T21:51:26.991Z"
   },
   {
    "duration": 8,
    "start_time": "2022-10-10T21:51:27.238Z"
   },
   {
    "duration": 763,
    "start_time": "2022-10-10T21:51:27.248Z"
   },
   {
    "duration": 169,
    "start_time": "2022-10-10T21:51:28.012Z"
   },
   {
    "duration": 148,
    "start_time": "2022-10-10T21:51:28.188Z"
   },
   {
    "duration": 469,
    "start_time": "2022-10-10T21:51:28.338Z"
   },
   {
    "duration": 33,
    "start_time": "2022-10-10T21:51:28.810Z"
   },
   {
    "duration": 175,
    "start_time": "2022-10-10T21:51:28.845Z"
   },
   {
    "duration": 2548,
    "start_time": "2022-10-10T22:15:58.100Z"
   },
   {
    "duration": 12,
    "start_time": "2022-10-10T22:16:00.650Z"
   },
   {
    "duration": 61,
    "start_time": "2022-10-10T22:16:00.664Z"
   },
   {
    "duration": 29,
    "start_time": "2022-10-10T22:16:00.727Z"
   },
   {
    "duration": 7,
    "start_time": "2022-10-10T22:16:00.757Z"
   },
   {
    "duration": 585,
    "start_time": "2022-10-10T22:16:00.765Z"
   },
   {
    "duration": 175,
    "start_time": "2022-10-10T22:16:01.352Z"
   },
   {
    "duration": 242,
    "start_time": "2022-10-10T22:16:01.528Z"
   },
   {
    "duration": 245,
    "start_time": "2022-10-10T22:16:01.772Z"
   },
   {
    "duration": 217,
    "start_time": "2022-10-10T22:16:02.020Z"
   },
   {
    "duration": 151,
    "start_time": "2022-10-10T22:16:02.239Z"
   },
   {
    "duration": 226,
    "start_time": "2022-10-10T22:16:02.395Z"
   },
   {
    "duration": 229,
    "start_time": "2022-10-10T22:16:02.622Z"
   },
   {
    "duration": 360,
    "start_time": "2022-10-10T22:16:02.853Z"
   },
   {
    "duration": 737,
    "start_time": "2022-10-10T22:16:03.215Z"
   },
   {
    "duration": 177,
    "start_time": "2022-10-10T22:16:03.954Z"
   },
   {
    "duration": 285,
    "start_time": "2022-10-10T22:16:04.133Z"
   },
   {
    "duration": 166,
    "start_time": "2022-10-10T22:16:04.420Z"
   },
   {
    "duration": 694,
    "start_time": "2022-10-10T22:16:04.588Z"
   },
   {
    "duration": 703,
    "start_time": "2022-10-10T22:16:05.284Z"
   },
   {
    "duration": 259,
    "start_time": "2022-10-10T22:16:05.995Z"
   },
   {
    "duration": 249,
    "start_time": "2022-10-10T22:16:06.256Z"
   },
   {
    "duration": 10,
    "start_time": "2022-10-10T22:16:06.507Z"
   },
   {
    "duration": 809,
    "start_time": "2022-10-10T22:16:06.519Z"
   },
   {
    "duration": 165,
    "start_time": "2022-10-10T22:16:07.329Z"
   },
   {
    "duration": 127,
    "start_time": "2022-10-10T22:16:07.495Z"
   },
   {
    "duration": 476,
    "start_time": "2022-10-10T22:16:07.624Z"
   },
   {
    "duration": 33,
    "start_time": "2022-10-10T22:16:08.103Z"
   },
   {
    "duration": 169,
    "start_time": "2022-10-10T22:16:08.137Z"
   },
   {
    "duration": 15,
    "start_time": "2022-10-10T22:27:39.165Z"
   },
   {
    "duration": 256,
    "start_time": "2022-10-10T22:32:58.641Z"
   },
   {
    "duration": 156,
    "start_time": "2022-10-10T22:33:05.057Z"
   },
   {
    "duration": 54,
    "start_time": "2022-10-11T09:21:50.302Z"
   },
   {
    "duration": 2894,
    "start_time": "2022-10-11T09:22:01.765Z"
   },
   {
    "duration": 11,
    "start_time": "2022-10-11T09:22:04.661Z"
   },
   {
    "duration": 47,
    "start_time": "2022-10-11T09:22:04.674Z"
   },
   {
    "duration": 24,
    "start_time": "2022-10-11T09:22:04.723Z"
   },
   {
    "duration": 4,
    "start_time": "2022-10-11T09:22:04.749Z"
   },
   {
    "duration": 548,
    "start_time": "2022-10-11T09:22:04.755Z"
   },
   {
    "duration": 19,
    "start_time": "2022-10-11T09:22:05.304Z"
   },
   {
    "duration": 178,
    "start_time": "2022-10-11T09:22:05.325Z"
   },
   {
    "duration": 236,
    "start_time": "2022-10-11T09:22:05.505Z"
   },
   {
    "duration": 331,
    "start_time": "2022-10-11T09:22:05.743Z"
   },
   {
    "duration": 132,
    "start_time": "2022-10-11T09:22:06.076Z"
   },
   {
    "duration": 146,
    "start_time": "2022-10-11T09:22:06.210Z"
   },
   {
    "duration": 234,
    "start_time": "2022-10-11T09:22:06.358Z"
   },
   {
    "duration": 223,
    "start_time": "2022-10-11T09:22:06.594Z"
   },
   {
    "duration": 325,
    "start_time": "2022-10-11T09:22:06.819Z"
   },
   {
    "duration": 667,
    "start_time": "2022-10-11T09:22:07.145Z"
   },
   {
    "duration": 165,
    "start_time": "2022-10-11T09:22:07.813Z"
   },
   {
    "duration": 283,
    "start_time": "2022-10-11T09:22:07.980Z"
   },
   {
    "duration": 146,
    "start_time": "2022-10-11T09:22:08.265Z"
   },
   {
    "duration": 631,
    "start_time": "2022-10-11T09:22:08.413Z"
   },
   {
    "duration": 690,
    "start_time": "2022-10-11T09:22:09.046Z"
   },
   {
    "duration": 244,
    "start_time": "2022-10-11T09:22:09.737Z"
   },
   {
    "duration": 343,
    "start_time": "2022-10-11T09:22:09.985Z"
   },
   {
    "duration": 7,
    "start_time": "2022-10-11T09:22:10.330Z"
   },
   {
    "duration": 575,
    "start_time": "2022-10-11T09:22:10.338Z"
   },
   {
    "duration": 160,
    "start_time": "2022-10-11T09:22:10.915Z"
   },
   {
    "duration": 115,
    "start_time": "2022-10-11T09:22:11.077Z"
   },
   {
    "duration": 492,
    "start_time": "2022-10-11T09:22:11.193Z"
   },
   {
    "duration": 33,
    "start_time": "2022-10-11T09:22:11.686Z"
   },
   {
    "duration": 188,
    "start_time": "2022-10-11T09:22:11.721Z"
   },
   {
    "duration": 25,
    "start_time": "2022-10-11T09:25:04.650Z"
   },
   {
    "duration": 247,
    "start_time": "2022-10-11T09:37:59.986Z"
   },
   {
    "duration": 317,
    "start_time": "2022-10-11T09:38:14.059Z"
   },
   {
    "duration": 200,
    "start_time": "2022-10-11T09:41:02.935Z"
   },
   {
    "duration": 355,
    "start_time": "2022-10-11T09:42:25.198Z"
   },
   {
    "duration": 89,
    "start_time": "2022-10-11T10:10:41.834Z"
   },
   {
    "duration": 4,
    "start_time": "2022-10-11T10:10:56.594Z"
   },
   {
    "duration": 11,
    "start_time": "2022-10-11T10:12:26.283Z"
   },
   {
    "duration": 31,
    "start_time": "2022-10-11T10:12:39.305Z"
   },
   {
    "duration": 13,
    "start_time": "2022-10-11T10:13:04.387Z"
   },
   {
    "duration": 11,
    "start_time": "2022-10-11T10:13:11.349Z"
   },
   {
    "duration": 19,
    "start_time": "2022-10-11T10:13:38.010Z"
   },
   {
    "duration": 22,
    "start_time": "2022-10-11T10:14:41.470Z"
   },
   {
    "duration": 7,
    "start_time": "2022-10-11T10:14:55.305Z"
   },
   {
    "duration": 79,
    "start_time": "2022-10-11T10:15:35.849Z"
   },
   {
    "duration": 11,
    "start_time": "2022-10-11T10:16:57.635Z"
   },
   {
    "duration": 10,
    "start_time": "2022-10-11T10:17:11.644Z"
   },
   {
    "duration": 9,
    "start_time": "2022-10-11T10:20:01.919Z"
   },
   {
    "duration": 12,
    "start_time": "2022-10-11T10:24:19.792Z"
   },
   {
    "duration": 12,
    "start_time": "2022-10-11T10:24:37.212Z"
   },
   {
    "duration": 10,
    "start_time": "2022-10-11T10:25:46.176Z"
   },
   {
    "duration": 12,
    "start_time": "2022-10-11T10:28:23.422Z"
   },
   {
    "duration": 205,
    "start_time": "2022-10-11T10:44:56.076Z"
   },
   {
    "duration": 213,
    "start_time": "2022-10-11T10:46:21.915Z"
   },
   {
    "duration": 78,
    "start_time": "2022-10-11T10:47:13.754Z"
   },
   {
    "duration": 25,
    "start_time": "2022-10-11T10:59:29.964Z"
   },
   {
    "duration": 590,
    "start_time": "2022-10-11T11:13:52.355Z"
   },
   {
    "duration": 543,
    "start_time": "2022-10-11T11:14:23.466Z"
   },
   {
    "duration": 179,
    "start_time": "2022-10-11T11:15:39.628Z"
   },
   {
    "duration": 189,
    "start_time": "2022-10-11T11:15:42.591Z"
   },
   {
    "duration": 202,
    "start_time": "2022-10-11T11:15:45.735Z"
   },
   {
    "duration": 193,
    "start_time": "2022-10-11T11:24:50.730Z"
   },
   {
    "duration": 2474,
    "start_time": "2022-10-11T11:30:58.833Z"
   },
   {
    "duration": 8,
    "start_time": "2022-10-11T11:31:01.309Z"
   },
   {
    "duration": 70,
    "start_time": "2022-10-11T11:31:01.319Z"
   },
   {
    "duration": 55,
    "start_time": "2022-10-11T11:31:01.391Z"
   },
   {
    "duration": 5,
    "start_time": "2022-10-11T11:31:01.448Z"
   },
   {
    "duration": 598,
    "start_time": "2022-10-11T11:31:01.454Z"
   },
   {
    "duration": 170,
    "start_time": "2022-10-11T11:31:02.053Z"
   },
   {
    "duration": 235,
    "start_time": "2022-10-11T11:31:02.225Z"
   },
   {
    "duration": 234,
    "start_time": "2022-10-11T11:31:02.462Z"
   },
   {
    "duration": 200,
    "start_time": "2022-10-11T11:31:02.697Z"
   },
   {
    "duration": 145,
    "start_time": "2022-10-11T11:31:02.899Z"
   },
   {
    "duration": 224,
    "start_time": "2022-10-11T11:31:03.045Z"
   },
   {
    "duration": 242,
    "start_time": "2022-10-11T11:31:03.271Z"
   },
   {
    "duration": 18,
    "start_time": "2022-10-11T11:31:03.516Z"
   },
   {
    "duration": 316,
    "start_time": "2022-10-11T11:31:03.535Z"
   },
   {
    "duration": 690,
    "start_time": "2022-10-11T11:31:03.852Z"
   },
   {
    "duration": 159,
    "start_time": "2022-10-11T11:31:04.544Z"
   },
   {
    "duration": 267,
    "start_time": "2022-10-11T11:31:04.705Z"
   },
   {
    "duration": 141,
    "start_time": "2022-10-11T11:31:04.973Z"
   },
   {
    "duration": 635,
    "start_time": "2022-10-11T11:31:05.115Z"
   },
   {
    "duration": 646,
    "start_time": "2022-10-11T11:31:05.752Z"
   },
   {
    "duration": 259,
    "start_time": "2022-10-11T11:31:06.400Z"
   },
   {
    "duration": 239,
    "start_time": "2022-10-11T11:31:06.661Z"
   },
   {
    "duration": 386,
    "start_time": "2022-10-11T11:31:06.902Z"
   },
   {
    "duration": 5,
    "start_time": "2022-10-11T11:31:07.290Z"
   },
   {
    "duration": 17,
    "start_time": "2022-10-11T11:31:07.297Z"
   },
   {
    "duration": 15,
    "start_time": "2022-10-11T11:31:07.317Z"
   },
   {
    "duration": 198,
    "start_time": "2022-10-11T11:31:07.333Z"
   },
   {
    "duration": 202,
    "start_time": "2022-10-11T11:31:07.532Z"
   },
   {
    "duration": 198,
    "start_time": "2022-10-11T11:31:07.736Z"
   },
   {
    "duration": 159,
    "start_time": "2022-10-11T11:31:07.936Z"
   },
   {
    "duration": 119,
    "start_time": "2022-10-11T11:31:08.096Z"
   },
   {
    "duration": 434,
    "start_time": "2022-10-11T11:31:08.217Z"
   },
   {
    "duration": 32,
    "start_time": "2022-10-11T11:31:08.653Z"
   },
   {
    "duration": 155,
    "start_time": "2022-10-11T11:31:08.687Z"
   },
   {
    "duration": 2422,
    "start_time": "2022-10-11T13:54:58.647Z"
   },
   {
    "duration": 8,
    "start_time": "2022-10-11T13:55:01.070Z"
   },
   {
    "duration": 55,
    "start_time": "2022-10-11T13:55:01.079Z"
   },
   {
    "duration": 24,
    "start_time": "2022-10-11T13:55:01.136Z"
   },
   {
    "duration": 12,
    "start_time": "2022-10-11T13:55:01.162Z"
   },
   {
    "duration": 530,
    "start_time": "2022-10-11T13:55:01.176Z"
   },
   {
    "duration": 176,
    "start_time": "2022-10-11T13:55:01.708Z"
   },
   {
    "duration": 248,
    "start_time": "2022-10-11T13:55:01.886Z"
   },
   {
    "duration": 233,
    "start_time": "2022-10-11T13:55:02.136Z"
   },
   {
    "duration": 187,
    "start_time": "2022-10-11T13:55:02.371Z"
   },
   {
    "duration": 137,
    "start_time": "2022-10-11T13:55:02.560Z"
   },
   {
    "duration": 220,
    "start_time": "2022-10-11T13:55:02.704Z"
   },
   {
    "duration": 209,
    "start_time": "2022-10-11T13:55:02.926Z"
   },
   {
    "duration": 19,
    "start_time": "2022-10-11T13:55:03.137Z"
   },
   {
    "duration": 306,
    "start_time": "2022-10-11T13:55:03.157Z"
   },
   {
    "duration": 642,
    "start_time": "2022-10-11T13:55:03.465Z"
   },
   {
    "duration": 148,
    "start_time": "2022-10-11T13:55:04.109Z"
   },
   {
    "duration": 263,
    "start_time": "2022-10-11T13:55:04.258Z"
   },
   {
    "duration": 133,
    "start_time": "2022-10-11T13:55:04.523Z"
   },
   {
    "duration": 650,
    "start_time": "2022-10-11T13:55:04.657Z"
   },
   {
    "duration": 625,
    "start_time": "2022-10-11T13:55:05.308Z"
   },
   {
    "duration": 239,
    "start_time": "2022-10-11T13:55:05.935Z"
   },
   {
    "duration": 244,
    "start_time": "2022-10-11T13:55:06.176Z"
   },
   {
    "duration": 332,
    "start_time": "2022-10-11T13:55:06.422Z"
   },
   {
    "duration": 4,
    "start_time": "2022-10-11T13:55:06.756Z"
   },
   {
    "duration": 19,
    "start_time": "2022-10-11T13:55:06.761Z"
   },
   {
    "duration": 6,
    "start_time": "2022-10-11T13:55:06.781Z"
   },
   {
    "duration": 183,
    "start_time": "2022-10-11T13:55:06.804Z"
   },
   {
    "duration": 195,
    "start_time": "2022-10-11T13:55:06.988Z"
   },
   {
    "duration": 184,
    "start_time": "2022-10-11T13:55:07.184Z"
   },
   {
    "duration": 171,
    "start_time": "2022-10-11T13:55:07.370Z"
   },
   {
    "duration": 139,
    "start_time": "2022-10-11T13:55:07.543Z"
   },
   {
    "duration": 440,
    "start_time": "2022-10-11T13:55:07.683Z"
   },
   {
    "duration": 29,
    "start_time": "2022-10-11T13:55:08.125Z"
   },
   {
    "duration": 181,
    "start_time": "2022-10-11T13:55:08.156Z"
   }
  ],
  "kernelspec": {
   "display_name": "Python 3 (ipykernel)",
   "language": "python",
   "name": "python3"
  },
  "language_info": {
   "codemirror_mode": {
    "name": "ipython",
    "version": 3
   },
   "file_extension": ".py",
   "mimetype": "text/x-python",
   "name": "python",
   "nbconvert_exporter": "python",
   "pygments_lexer": "ipython3",
   "version": "3.9.5"
  },
  "toc": {
   "base_numbering": 1,
   "nav_menu": {},
   "number_sections": true,
   "sideBar": true,
   "skip_h1_title": true,
   "title_cell": "Table of Contents",
   "title_sidebar": "Contents",
   "toc_cell": false,
   "toc_position": {},
   "toc_section_display": true,
   "toc_window_display": true
  }
 },
 "nbformat": 4,
 "nbformat_minor": 2
}
