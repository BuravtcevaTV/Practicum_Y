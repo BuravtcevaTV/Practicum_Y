{
 "cells": [
  {
   "cell_type": "markdown",
   "metadata": {
    "toc": true
   },
   "source": [
    "<h1>Содержание<span class=\"tocSkip\"></span></h1>\n",
    "<div class=\"toc\"><ul class=\"toc-item\"><li><span><a href=\"#Загрузка-данных\" data-toc-modified-id=\"Загрузка-данных-1\"><span class=\"toc-item-num\">1&nbsp;&nbsp;</span>Загрузка данных</a></span><ul class=\"toc-item\"><li><span><a href=\"#Предобработка-данных\" data-toc-modified-id=\"Предобработка-данных-1.1\"><span class=\"toc-item-num\">1.1&nbsp;&nbsp;</span>Предобработка данных</a></span></li></ul></li><li><span><a href=\"#Умножение-матриц\" data-toc-modified-id=\"Умножение-матриц-2\"><span class=\"toc-item-num\">2&nbsp;&nbsp;</span>Умножение матриц</a></span></li><li><span><a href=\"#Алгоритм-преобразования\" data-toc-modified-id=\"Алгоритм-преобразования-3\"><span class=\"toc-item-num\">3&nbsp;&nbsp;</span>Алгоритм преобразования</a></span></li><li><span><a href=\"#Проверка-алгоритма\" data-toc-modified-id=\"Проверка-алгоритма-4\"><span class=\"toc-item-num\">4&nbsp;&nbsp;</span>Проверка алгоритма</a></span></li><li><span><a href=\"#Вывод\" data-toc-modified-id=\"Вывод-5\"><span class=\"toc-item-num\">5&nbsp;&nbsp;</span>Вывод</a></span></li><li><span><a href=\"#Чек-лист-проверки\" data-toc-modified-id=\"Чек-лист-проверки-6\"><span class=\"toc-item-num\">6&nbsp;&nbsp;</span>Чек-лист проверки</a></span></li></ul></div>"
   ]
  },
  {
   "cell_type": "markdown",
   "metadata": {},
   "source": [
    "# Защита персональных данных клиентов"
   ]
  },
  {
   "cell_type": "markdown",
   "metadata": {},
   "source": [
    "**Задача:** разработать такой метод преобразования данных, чтобы по ним было сложно восстановить персональную информацию. Обосновать корректность его работы.\n",
    "Нужно защитить данные, чтобы при преобразовании качество моделей машинного обучения не ухудшилось."
   ]
  },
  {
   "cell_type": "markdown",
   "metadata": {},
   "source": [
    "## Загрузка данных"
   ]
  },
  {
   "cell_type": "code",
   "execution_count": 1,
   "metadata": {},
   "outputs": [],
   "source": [
    "import pandas as pd\n",
    "import numpy as np\n",
    "import matplotlib.pyplot as plt\n",
    "\n",
    "from sklearn.linear_model import LinearRegression\n",
    "from sklearn.model_selection import train_test_split\n",
    "from sklearn.metrics import r2_score"
   ]
  },
  {
   "cell_type": "code",
   "execution_count": 2,
   "metadata": {},
   "outputs": [
    {
     "name": "stdout",
     "output_type": "stream",
     "text": [
      "<class 'pandas.core.frame.DataFrame'>\n",
      "RangeIndex: 5000 entries, 0 to 4999\n",
      "Data columns (total 5 columns):\n",
      " #   Column             Non-Null Count  Dtype  \n",
      "---  ------             --------------  -----  \n",
      " 0   Пол                5000 non-null   int64  \n",
      " 1   Возраст            5000 non-null   float64\n",
      " 2   Зарплата           5000 non-null   float64\n",
      " 3   Члены семьи        5000 non-null   int64  \n",
      " 4   Страховые выплаты  5000 non-null   int64  \n",
      "dtypes: float64(2), int64(3)\n",
      "memory usage: 195.4 KB\n"
     ]
    },
    {
     "data": {
      "text/html": [
       "<div>\n",
       "<style scoped>\n",
       "    .dataframe tbody tr th:only-of-type {\n",
       "        vertical-align: middle;\n",
       "    }\n",
       "\n",
       "    .dataframe tbody tr th {\n",
       "        vertical-align: top;\n",
       "    }\n",
       "\n",
       "    .dataframe thead th {\n",
       "        text-align: right;\n",
       "    }\n",
       "</style>\n",
       "<table border=\"1\" class=\"dataframe\">\n",
       "  <thead>\n",
       "    <tr style=\"text-align: right;\">\n",
       "      <th></th>\n",
       "      <th>Пол</th>\n",
       "      <th>Возраст</th>\n",
       "      <th>Зарплата</th>\n",
       "      <th>Члены семьи</th>\n",
       "      <th>Страховые выплаты</th>\n",
       "    </tr>\n",
       "  </thead>\n",
       "  <tbody>\n",
       "    <tr>\n",
       "      <th>0</th>\n",
       "      <td>1</td>\n",
       "      <td>41.0</td>\n",
       "      <td>49600.0</td>\n",
       "      <td>1</td>\n",
       "      <td>0</td>\n",
       "    </tr>\n",
       "    <tr>\n",
       "      <th>1</th>\n",
       "      <td>0</td>\n",
       "      <td>46.0</td>\n",
       "      <td>38000.0</td>\n",
       "      <td>1</td>\n",
       "      <td>1</td>\n",
       "    </tr>\n",
       "    <tr>\n",
       "      <th>2</th>\n",
       "      <td>0</td>\n",
       "      <td>29.0</td>\n",
       "      <td>21000.0</td>\n",
       "      <td>0</td>\n",
       "      <td>0</td>\n",
       "    </tr>\n",
       "    <tr>\n",
       "      <th>3</th>\n",
       "      <td>0</td>\n",
       "      <td>21.0</td>\n",
       "      <td>41700.0</td>\n",
       "      <td>2</td>\n",
       "      <td>0</td>\n",
       "    </tr>\n",
       "    <tr>\n",
       "      <th>4</th>\n",
       "      <td>1</td>\n",
       "      <td>28.0</td>\n",
       "      <td>26100.0</td>\n",
       "      <td>0</td>\n",
       "      <td>0</td>\n",
       "    </tr>\n",
       "  </tbody>\n",
       "</table>\n",
       "</div>"
      ],
      "text/plain": [
       "   Пол  Возраст  Зарплата  Члены семьи  Страховые выплаты\n",
       "0    1     41.0   49600.0            1                  0\n",
       "1    0     46.0   38000.0            1                  1\n",
       "2    0     29.0   21000.0            0                  0\n",
       "3    0     21.0   41700.0            2                  0\n",
       "4    1     28.0   26100.0            0                  0"
      ]
     },
     "execution_count": 2,
     "metadata": {},
     "output_type": "execute_result"
    }
   ],
   "source": [
    "df = pd.read_csv('/datasets/insurance.csv')\n",
    "\n",
    "df.info()\n",
    "df.head()"
   ]
  },
  {
   "cell_type": "code",
   "execution_count": 3,
   "metadata": {},
   "outputs": [
    {
     "data": {
      "image/png": "[encoded data removed]",
      "text/plain": [
       "<Figure size 720x1080 with 6 Axes>"
      ]
     },
     "metadata": {
      "needs_background": "light"
     },
     "output_type": "display_data"
    }
   ],
   "source": [
    "df.hist(figsize=(10, 15))\n",
    "plt.show()"
   ]
  },
  {
   "cell_type": "markdown",
   "metadata": {},
   "source": [
    "По предварительному изучению данных, требуется их предобработка.\n",
    "\n",
    "Следует: \n",
    "- Изменить типы данных столбцов \"Возраст\" и \"Зарплата\" на int \n",
    "- Проверить данные на наличие пропусков и дубликатов\n"
   ]
  },
  {
   "cell_type": "code",
   "execution_count": 4,
   "metadata": {},
   "outputs": [
    {
     "data": {
      "text/html": [
       "<div>\n",
       "<style scoped>\n",
       "    .dataframe tbody tr th:only-of-type {\n",
       "        vertical-align: middle;\n",
       "    }\n",
       "\n",
       "    .dataframe tbody tr th {\n",
       "        vertical-align: top;\n",
       "    }\n",
       "\n",
       "    .dataframe thead th {\n",
       "        text-align: right;\n",
       "    }\n",
       "</style>\n",
       "<table border=\"1\" class=\"dataframe\">\n",
       "  <thead>\n",
       "    <tr style=\"text-align: right;\">\n",
       "      <th></th>\n",
       "      <th>Пол</th>\n",
       "      <th>Возраст</th>\n",
       "      <th>Зарплата</th>\n",
       "      <th>Члены семьи</th>\n",
       "      <th>Страховые выплаты</th>\n",
       "    </tr>\n",
       "  </thead>\n",
       "  <tbody>\n",
       "    <tr>\n",
       "      <th>count</th>\n",
       "      <td>5000.000000</td>\n",
       "      <td>5000.000000</td>\n",
       "      <td>5000.000000</td>\n",
       "      <td>5000.000000</td>\n",
       "      <td>5000.000000</td>\n",
       "    </tr>\n",
       "    <tr>\n",
       "      <th>mean</th>\n",
       "      <td>0.499000</td>\n",
       "      <td>30.952800</td>\n",
       "      <td>39916.360000</td>\n",
       "      <td>1.194200</td>\n",
       "      <td>0.148000</td>\n",
       "    </tr>\n",
       "    <tr>\n",
       "      <th>std</th>\n",
       "      <td>0.500049</td>\n",
       "      <td>8.440807</td>\n",
       "      <td>9900.083569</td>\n",
       "      <td>1.091387</td>\n",
       "      <td>0.463183</td>\n",
       "    </tr>\n",
       "    <tr>\n",
       "      <th>min</th>\n",
       "      <td>0.000000</td>\n",
       "      <td>18.000000</td>\n",
       "      <td>5300.000000</td>\n",
       "      <td>0.000000</td>\n",
       "      <td>0.000000</td>\n",
       "    </tr>\n",
       "    <tr>\n",
       "      <th>25%</th>\n",
       "      <td>0.000000</td>\n",
       "      <td>24.000000</td>\n",
       "      <td>33300.000000</td>\n",
       "      <td>0.000000</td>\n",
       "      <td>0.000000</td>\n",
       "    </tr>\n",
       "    <tr>\n",
       "      <th>50%</th>\n",
       "      <td>0.000000</td>\n",
       "      <td>30.000000</td>\n",
       "      <td>40200.000000</td>\n",
       "      <td>1.000000</td>\n",
       "      <td>0.000000</td>\n",
       "    </tr>\n",
       "    <tr>\n",
       "      <th>75%</th>\n",
       "      <td>1.000000</td>\n",
       "      <td>37.000000</td>\n",
       "      <td>46600.000000</td>\n",
       "      <td>2.000000</td>\n",
       "      <td>0.000000</td>\n",
       "    </tr>\n",
       "    <tr>\n",
       "      <th>max</th>\n",
       "      <td>1.000000</td>\n",
       "      <td>65.000000</td>\n",
       "      <td>79000.000000</td>\n",
       "      <td>6.000000</td>\n",
       "      <td>5.000000</td>\n",
       "    </tr>\n",
       "  </tbody>\n",
       "</table>\n",
       "</div>"
      ],
      "text/plain": [
       "               Пол      Возраст      Зарплата  Члены семьи  Страховые выплаты\n",
       "count  5000.000000  5000.000000   5000.000000  5000.000000        5000.000000\n",
       "mean      0.499000    30.952800  39916.360000     1.194200           0.148000\n",
       "std       0.500049     8.440807   9900.083569     1.091387           0.463183\n",
       "min       0.000000    18.000000   5300.000000     0.000000           0.000000\n",
       "25%       0.000000    24.000000  33300.000000     0.000000           0.000000\n",
       "50%       0.000000    30.000000  40200.000000     1.000000           0.000000\n",
       "75%       1.000000    37.000000  46600.000000     2.000000           0.000000\n",
       "max       1.000000    65.000000  79000.000000     6.000000           5.000000"
      ]
     },
     "execution_count": 4,
     "metadata": {},
     "output_type": "execute_result"
    }
   ],
   "source": [
    "df.describe()"
   ]
  },
  {
   "cell_type": "code",
   "execution_count": 5,
   "metadata": {},
   "outputs": [
    {
     "data": {
      "image/png": "[encoded data removed]",
      "text/plain": [
       "<Figure size 576x576 with 1 Axes>"
      ]
     },
     "metadata": {},
     "output_type": "display_data"
    }
   ],
   "source": [
    "df_str = df.groupby('Страховые выплаты').size()\n",
    "df_str.plot(kind='pie', subplots=True, figsize=(8, 8))\n",
    "plt.title(\"Страховые выплаты\")\n",
    "plt.ylabel(\"\")\n",
    "plt.legend(loc='upper left', bbox_to_anchor=(1.0, 1.0))\n",
    "plt.show()"
   ]
  },
  {
   "cell_type": "code",
   "execution_count": 6,
   "metadata": {},
   "outputs": [
    {
     "data": {
      "image/png": "[encoded data removed]",
      "text/plain": [
       "<Figure size 576x576 with 1 Axes>"
      ]
     },
     "metadata": {},
     "output_type": "display_data"
    }
   ],
   "source": [
    "df_fam = df.groupby('Члены семьи').size()\n",
    "df_fam.plot(kind='pie', subplots=True, figsize=(8, 8))\n",
    "plt.title(\"Члены семьи\")\n",
    "plt.ylabel(\"\")\n",
    "plt.legend(loc='upper left', bbox_to_anchor=(1.0, 1.0))\n",
    "plt.show()"
   ]
  },
  {
   "cell_type": "markdown",
   "metadata": {},
   "source": [
    "### Предобработка данных"
   ]
  },
  {
   "cell_type": "code",
   "execution_count": 7,
   "metadata": {},
   "outputs": [],
   "source": [
    "# изменение типов данных\n",
    "df['Возраст'] = df['Возраст'].astype('int')\n",
    "df['Зарплата'] = df['Зарплата'].astype('int')"
   ]
  },
  {
   "cell_type": "code",
   "execution_count": 8,
   "metadata": {},
   "outputs": [
    {
     "name": "stdout",
     "output_type": "stream",
     "text": [
      "Пол                  0\n",
      "Возраст              0\n",
      "Зарплата             0\n",
      "Члены семьи          0\n",
      "Страховые выплаты    0\n",
      "dtype: int64\n"
     ]
    }
   ],
   "source": [
    "# Проверка на наличие пропусков\n",
    "print(df.isna().sum())"
   ]
  },
  {
   "cell_type": "code",
   "execution_count": 9,
   "metadata": {},
   "outputs": [
    {
     "name": "stdout",
     "output_type": "stream",
     "text": [
      "153\n"
     ]
    }
   ],
   "source": [
    "# Проверка на наличие дубликатов \n",
    "print(df.duplicated().sum())"
   ]
  },
  {
   "cell_type": "markdown",
   "metadata": {},
   "source": [
    "Пропусков не обнаружено.\n",
    "\n",
    "Число дубликатов мало, по сравнению с числом сторк во всем датасете, поэтому дубликаты можно удалить без особого вреда для исслеования."
   ]
  },
  {
   "cell_type": "code",
   "execution_count": 10,
   "metadata": {},
   "outputs": [],
   "source": [
    "df.drop_duplicates(inplace=True)"
   ]
  },
  {
   "cell_type": "markdown",
   "metadata": {},
   "source": [
    "## Умножение матриц"
   ]
  },
  {
   "cell_type": "markdown",
   "metadata": {},
   "source": [
    "Обозначения:\n",
    "\n",
    "- $X$ — матрица признаков (нулевой столбец состоит из единиц)\n",
    "\n",
    "- $y$ — вектор целевого признака\n",
    "\n",
    "- $P$ — матрица, на которую умножаются признаки\n",
    "\n",
    "- $w$ — вектор весов линейной регрессии (нулевой элемент равен сдвигу)"
   ]
  },
  {
   "cell_type": "markdown",
   "metadata": {},
   "source": [
    "Предсказания:\n",
    "\n",
    "$$\n",
    "a = Xw\n",
    "$$\n",
    "\n",
    "Задача обучения:\n",
    "\n",
    "$$\n",
    "w = \\arg\\min_w MSE(Xw, y)\n",
    "$$\n",
    "\n",
    "Формула обучения:\n",
    "\n",
    "$$\n",
    "w = (X^T X)^{-1} X^T y\n",
    "$$"
   ]
  },
  {
   "cell_type": "markdown",
   "metadata": {},
   "source": [
    "**Признаки умножают на обратимую матрицу. Изменится ли качество линейной регрессии?**"
   ]
  },
  {
   "cell_type": "markdown",
   "metadata": {},
   "source": [
    "**Ответ:** Качество линейной регрессии не изменится\n",
    "\n",
    "**Обоснование:** \n",
    "\n",
    "Создадим новую матрицу признаков путем перемножения текущей матрицы признаков $X$ и обратимой матрицы $P$$$Xp = XP$$\n",
    "\n",
    "Создадим новый ветор весов: подставим матрицу признаков $XP$ в формулу обучения $$ w_p = ((XP)^T (XP))^{-1} (XP)^T y $$.\n",
    "\n",
    "Преобразуем вектор весов, используя следующие формулы:\n",
    "$$\n",
    "(AB)^T = B^T A^T\n",
    "$$\n",
    "$$\n",
    "(AB)^{-1} = B^{-1} A^{-1}\n",
    "$$\n",
    "$$\n",
    "AA^{-1} = E\n",
    "$$\n",
    "\n",
    "Новый вектор весов: \n",
    "$$\n",
    "w_p = ((XP)^T (XP))^{-1} (XP)^T y =\n",
    "$$\n",
    "\n",
    "$$\n",
    "=(P^T X^T X P)^{-1} P^T X^T y = \n",
    "$$\n",
    "\n",
    "$$\n",
    "=P^{-1}(X^T X)^{-1} (P^T)^{-1} P^T X^T y = \n",
    "$$\n",
    "\n",
    "$$\n",
    "=P^{-1}(X^T X)^{-1} E X^T y \n",
    "$$\n",
    "\n",
    "$$\n",
    "w_p = P^{-1} w\n",
    "$$\n",
    "\n",
    "Предсказания с использованием новой матицы признаков: \n",
    "\n",
    "$$\n",
    "a_p = X_p w_p = X P P^{-1} w = XEw = Xw = a\n",
    "$$\n",
    "\n",
    "Таким образом, умножение матрицы признаков на обратимую матрицу не меняет качества модели линейной регрессии.\n"
   ]
  },
  {
   "cell_type": "markdown",
   "metadata": {},
   "source": [
    "## Алгоритм преобразования"
   ]
  },
  {
   "cell_type": "markdown",
   "metadata": {},
   "source": [
    "Умножение матрицы признаков на обратимую матрицу не меняет качества модели линейной регрессии - это свойство можно использовать для построения алгоритма защиты данных. "
   ]
  },
  {
   "cell_type": "markdown",
   "metadata": {},
   "source": [
    "**Алгоритм**\n",
    "1. **Создание случайной квадратной обратимой матрицы.** Случайно сгенерированная матрица (numpy.random.normal()) с высокой вероятностью окажется обратимой, однако следует это проверить.\n",
    "2. **Создание новой матрицы признаков** путем перемножения текущей матрицы признаков и обратимой матрицы.\n",
    "3. **Применение модели линеной регрессии на новых признаках.** "
   ]
  },
  {
   "cell_type": "markdown",
   "metadata": {},
   "source": [
    "**Обоснование**\n",
    "\n",
    "Как описывалось выше, предсказания модели линейной регрессии на старых и новых *(полученных путем перемножения старых признаков на обратимую матрицу)* признаках равны, а значит качество модели так же не меняется."
   ]
  },
  {
   "cell_type": "markdown",
   "metadata": {},
   "source": [
    "## Проверка алгоритма"
   ]
  },
  {
   "cell_type": "code",
   "execution_count": 11,
   "metadata": {},
   "outputs": [
    {
     "name": "stdout",
     "output_type": "stream",
     "text": [
      "features_train (3635, 4) \n",
      "target_train (3635,) \n",
      "features_test (1212, 4) \n",
      "target_test (1212,)\n"
     ]
    }
   ],
   "source": [
    "# Тренировочная и тестовая выборки\n",
    "features = df.drop('Страховые выплаты', axis=1)\n",
    "target = df['Страховые выплаты']\n",
    "\n",
    "features_train, features_test, target_train, target_test = train_test_split(\n",
    "    features, target, test_size=.25, random_state=12345)\n",
    "\n",
    "print('features_train', features_train.shape,\n",
    "     '\\ntarget_train', target_train.shape,\n",
    "     '\\nfeatures_test', features_test.shape,\n",
    "     '\\ntarget_test',target_test.shape)"
   ]
  },
  {
   "cell_type": "markdown",
   "metadata": {},
   "source": [
    "Создадим обратимую матрицу 4*4 (тк в данной задаче 4 признака)"
   ]
  },
  {
   "cell_type": "code",
   "execution_count": 12,
   "metadata": {},
   "outputs": [],
   "source": [
    "P = np.random.normal(size=(4,4)) \n",
    "try:  numpy.linalg.inv(P)\n",
    "except: P = np.random.normal(size=(4,4)) "
   ]
  },
  {
   "cell_type": "code",
   "execution_count": 13,
   "metadata": {},
   "outputs": [
    {
     "name": "stdout",
     "output_type": "stream",
     "text": [
      "features_train_new (3635, 4) \n",
      "features_test_new (1212, 4)\n"
     ]
    },
    {
     "data": {
      "text/html": [
       "<div>\n",
       "<style scoped>\n",
       "    .dataframe tbody tr th:only-of-type {\n",
       "        vertical-align: middle;\n",
       "    }\n",
       "\n",
       "    .dataframe tbody tr th {\n",
       "        vertical-align: top;\n",
       "    }\n",
       "\n",
       "    .dataframe thead th {\n",
       "        text-align: right;\n",
       "    }\n",
       "</style>\n",
       "<table border=\"1\" class=\"dataframe\">\n",
       "  <thead>\n",
       "    <tr style=\"text-align: right;\">\n",
       "      <th></th>\n",
       "      <th>0</th>\n",
       "      <th>1</th>\n",
       "      <th>2</th>\n",
       "      <th>3</th>\n",
       "    </tr>\n",
       "  </thead>\n",
       "  <tbody>\n",
       "    <tr>\n",
       "      <th>4599</th>\n",
       "      <td>5849.430247</td>\n",
       "      <td>-444.921157</td>\n",
       "      <td>-35638.388690</td>\n",
       "      <td>13188.559227</td>\n",
       "    </tr>\n",
       "    <tr>\n",
       "      <th>3882</th>\n",
       "      <td>5446.823328</td>\n",
       "      <td>-431.365454</td>\n",
       "      <td>-33155.840345</td>\n",
       "      <td>12279.022387</td>\n",
       "    </tr>\n",
       "    <tr>\n",
       "      <th>4705</th>\n",
       "      <td>3007.609259</td>\n",
       "      <td>-240.874018</td>\n",
       "      <td>-18311.385899</td>\n",
       "      <td>6782.352915</td>\n",
       "    </tr>\n",
       "    <tr>\n",
       "      <th>1400</th>\n",
       "      <td>4172.012377</td>\n",
       "      <td>-352.527234</td>\n",
       "      <td>-25377.789920</td>\n",
       "      <td>9409.930991</td>\n",
       "    </tr>\n",
       "    <tr>\n",
       "      <th>728</th>\n",
       "      <td>3494.086872</td>\n",
       "      <td>-295.218510</td>\n",
       "      <td>-21256.590919</td>\n",
       "      <td>7880.881973</td>\n",
       "    </tr>\n",
       "  </tbody>\n",
       "</table>\n",
       "</div>"
      ],
      "text/plain": [
       "                0           1             2             3\n",
       "4599  5849.430247 -444.921157 -35638.388690  13188.559227\n",
       "3882  5446.823328 -431.365454 -33155.840345  12279.022387\n",
       "4705  3007.609259 -240.874018 -18311.385899   6782.352915\n",
       "1400  4172.012377 -352.527234 -25377.789920   9409.930991\n",
       "728   3494.086872 -295.218510 -21256.590919   7880.881973"
      ]
     },
     "execution_count": 13,
     "metadata": {},
     "output_type": "execute_result"
    }
   ],
   "source": [
    "features_train_new = features_train @ P\n",
    "features_test_new = features_test @ P\n",
    "\n",
    "print('features_train_new', features_train_new.shape,\n",
    "     '\\nfeatures_test_new', features_test_new.shape)\n",
    "\n",
    "features_train_new.head()"
   ]
  },
  {
   "cell_type": "markdown",
   "metadata": {},
   "source": [
    "Проверим корректно ли происходит дешифровка признаков."
   ]
  },
  {
   "cell_type": "code",
   "execution_count": 14,
   "metadata": {},
   "outputs": [
    {
     "data": {
      "text/html": [
       "<div>\n",
       "<style scoped>\n",
       "    .dataframe tbody tr th:only-of-type {\n",
       "        vertical-align: middle;\n",
       "    }\n",
       "\n",
       "    .dataframe tbody tr th {\n",
       "        vertical-align: top;\n",
       "    }\n",
       "\n",
       "    .dataframe thead th {\n",
       "        text-align: right;\n",
       "    }\n",
       "</style>\n",
       "<table border=\"1\" class=\"dataframe\">\n",
       "  <thead>\n",
       "    <tr style=\"text-align: right;\">\n",
       "      <th></th>\n",
       "      <th>Пол</th>\n",
       "      <th>Возраст</th>\n",
       "      <th>Зарплата</th>\n",
       "      <th>Члены семьи</th>\n",
       "    </tr>\n",
       "  </thead>\n",
       "  <tbody>\n",
       "    <tr>\n",
       "      <th>4599</th>\n",
       "      <td>0</td>\n",
       "      <td>28</td>\n",
       "      <td>54500</td>\n",
       "      <td>2</td>\n",
       "    </tr>\n",
       "    <tr>\n",
       "      <th>3882</th>\n",
       "      <td>1</td>\n",
       "      <td>38</td>\n",
       "      <td>50700</td>\n",
       "      <td>1</td>\n",
       "    </tr>\n",
       "    <tr>\n",
       "      <th>4705</th>\n",
       "      <td>0</td>\n",
       "      <td>24</td>\n",
       "      <td>28000</td>\n",
       "      <td>1</td>\n",
       "    </tr>\n",
       "    <tr>\n",
       "      <th>1400</th>\n",
       "      <td>0</td>\n",
       "      <td>47</td>\n",
       "      <td>38800</td>\n",
       "      <td>0</td>\n",
       "    </tr>\n",
       "    <tr>\n",
       "      <th>728</th>\n",
       "      <td>0</td>\n",
       "      <td>40</td>\n",
       "      <td>32500</td>\n",
       "      <td>1</td>\n",
       "    </tr>\n",
       "  </tbody>\n",
       "</table>\n",
       "</div>"
      ],
      "text/plain": [
       "      Пол  Возраст  Зарплата  Члены семьи\n",
       "4599    0       28     54500            2\n",
       "3882    1       38     50700            1\n",
       "4705    0       24     28000            1\n",
       "1400    0       47     38800            0\n",
       "728     0       40     32500            1"
      ]
     },
     "execution_count": 14,
     "metadata": {},
     "output_type": "execute_result"
    }
   ],
   "source": [
    "features_train.head()"
   ]
  },
  {
   "cell_type": "code",
   "execution_count": 15,
   "metadata": {},
   "outputs": [
    {
     "data": {
      "text/html": [
       "<div>\n",
       "<style scoped>\n",
       "    .dataframe tbody tr th:only-of-type {\n",
       "        vertical-align: middle;\n",
       "    }\n",
       "\n",
       "    .dataframe tbody tr th {\n",
       "        vertical-align: top;\n",
       "    }\n",
       "\n",
       "    .dataframe thead th {\n",
       "        text-align: right;\n",
       "    }\n",
       "</style>\n",
       "<table border=\"1\" class=\"dataframe\">\n",
       "  <thead>\n",
       "    <tr style=\"text-align: right;\">\n",
       "      <th></th>\n",
       "      <th>0</th>\n",
       "      <th>1</th>\n",
       "      <th>2</th>\n",
       "      <th>3</th>\n",
       "    </tr>\n",
       "  </thead>\n",
       "  <tbody>\n",
       "    <tr>\n",
       "      <th>4599</th>\n",
       "      <td>-9.857424e-13</td>\n",
       "      <td>28.0</td>\n",
       "      <td>54500.0</td>\n",
       "      <td>2.000000e+00</td>\n",
       "    </tr>\n",
       "    <tr>\n",
       "      <th>3882</th>\n",
       "      <td>1.000000e+00</td>\n",
       "      <td>38.0</td>\n",
       "      <td>50700.0</td>\n",
       "      <td>1.000000e+00</td>\n",
       "    </tr>\n",
       "    <tr>\n",
       "      <th>4705</th>\n",
       "      <td>-2.776098e-13</td>\n",
       "      <td>24.0</td>\n",
       "      <td>28000.0</td>\n",
       "      <td>1.000000e+00</td>\n",
       "    </tr>\n",
       "    <tr>\n",
       "      <th>1400</th>\n",
       "      <td>-4.225231e-13</td>\n",
       "      <td>47.0</td>\n",
       "      <td>38800.0</td>\n",
       "      <td>-5.188482e-12</td>\n",
       "    </tr>\n",
       "    <tr>\n",
       "      <th>728</th>\n",
       "      <td>-6.248150e-13</td>\n",
       "      <td>40.0</td>\n",
       "      <td>32500.0</td>\n",
       "      <td>1.000000e+00</td>\n",
       "    </tr>\n",
       "  </tbody>\n",
       "</table>\n",
       "</div>"
      ],
      "text/plain": [
       "                 0     1        2             3\n",
       "4599 -9.857424e-13  28.0  54500.0  2.000000e+00\n",
       "3882  1.000000e+00  38.0  50700.0  1.000000e+00\n",
       "4705 -2.776098e-13  24.0  28000.0  1.000000e+00\n",
       "1400 -4.225231e-13  47.0  38800.0 -5.188482e-12\n",
       "728  -6.248150e-13  40.0  32500.0  1.000000e+00"
      ]
     },
     "execution_count": 15,
     "metadata": {},
     "output_type": "execute_result"
    }
   ],
   "source": [
    "(features_train_new @ (np.linalg.inv(P))).head() "
   ]
  },
  {
   "cell_type": "markdown",
   "metadata": {},
   "source": [
    "В пределах погрешности, дешифровка происходит корректно."
   ]
  },
  {
   "cell_type": "code",
   "execution_count": 16,
   "metadata": {},
   "outputs": [
    {
     "name": "stdout",
     "output_type": "stream",
     "text": [
      "r2 на обучающей выборке: 0.43215820265809746\n",
      "r2 на тестовой выборке: 0.425552801076332\n",
      "r2 на обучающей выборке с измененными параметрами: 0.4321582026580981\n",
      "r2 на тестовой выборке с измененными параметрами: 0.4255528010763313\n"
     ]
    }
   ],
   "source": [
    "# Обучение модели и рассчет метрики r2\n",
    "def r2(features, target):\n",
    "    model = LinearRegression()\n",
    "    model.fit(features, target)\n",
    "    predict = model.predict(features)\n",
    "    return(r2_score(target, predict))\n",
    "\n",
    "print(\"r2 на обучающей выборке:\", r2(features_train, target_train))\n",
    "print(\"r2 на тестовой выборке:\", r2(features_test, target_test))\n",
    "print(\"r2 на обучающей выборке с измененными параметрами:\", r2(features_train_new, target_train))\n",
    "print(\"r2 на тестовой выборке с измененными параметрами:\", r2(features_test_new, target_test))"
   ]
  },
  {
   "cell_type": "markdown",
   "metadata": {},
   "source": [
    "Метрика r2 выдает практически одинаковые зачения для модели как до преобразования признаков, так и после их преобразования."
   ]
  },
  {
   "cell_type": "markdown",
   "metadata": {},
   "source": [
    "## Вывод"
   ]
  },
  {
   "cell_type": "markdown",
   "metadata": {},
   "source": [
    "В ходе работы над проектом была проведена предобработка данных:\n",
    "- Изменены типы столбцов \"Возраст\" и \"Зарплата\"\n",
    "- Удалены дубликаты\n",
    "\n",
    "Проеденно исследование изменения качества линейной регрессии, в ходе которого было получено, что **перемножение матрицы признаков и обратимой матрицы не меняет качества модели линейной регрессии.**\n",
    "\n",
    "Предложен алгоритм преобразования данных для их защиты. Основные этапы алгоритма:\n",
    "\n",
    "1. Создание случайной квадратной обратимой матрицы\n",
    "2. Создание новой матрицы признаков\n",
    "3. Применение модели линеной регрессии на новых признаках\n",
    "\n",
    "Проведено сравнение метрики R2 для моделей начальными и измененными признаками. Метрика выдает практически одинаковые значения как до преобразования признаков, так и после их преобразования, что подтверждает вышеуказаное утверждение о неизменности качества модели линейной регрессии."
   ]
  },
  {
   "cell_type": "code",
   "execution_count": null,
   "metadata": {},
   "outputs": [],
   "source": []
  }
 ],
 "metadata": {
  "ExecuteTimeLog": [
   {
    "duration": 1262,
    "start_time": "2023-02-17T17:55:13.722Z"
   },
   {
    "duration": 173,
    "start_time": "2023-02-17T17:55:16.097Z"
   },
   {
    "duration": 506,
    "start_time": "2023-02-17T17:59:48.523Z"
   },
   {
    "duration": 837,
    "start_time": "2023-02-17T17:59:50.943Z"
   },
   {
    "duration": 47,
    "start_time": "2023-02-17T18:04:19.085Z"
   },
   {
    "duration": 7,
    "start_time": "2023-02-17T18:14:48.869Z"
   },
   {
    "duration": 11,
    "start_time": "2023-02-17T18:14:50.251Z"
   },
   {
    "duration": 7,
    "start_time": "2023-02-17T18:15:34.694Z"
   },
   {
    "duration": 138,
    "start_time": "2023-02-17T18:21:33.789Z"
   },
   {
    "duration": 12,
    "start_time": "2023-02-17T18:21:46.481Z"
   },
   {
    "duration": 8,
    "start_time": "2023-02-17T18:21:58.015Z"
   },
   {
    "duration": 5,
    "start_time": "2023-02-17T18:22:05.991Z"
   },
   {
    "duration": 47,
    "start_time": "2023-02-18T19:05:19.844Z"
   },
   {
    "duration": 1491,
    "start_time": "2023-02-18T19:05:32.022Z"
   },
   {
    "duration": 109,
    "start_time": "2023-02-18T19:05:33.515Z"
   },
   {
    "duration": 651,
    "start_time": "2023-02-18T19:05:33.626Z"
   },
   {
    "duration": 6,
    "start_time": "2023-02-18T19:05:34.280Z"
   },
   {
    "duration": 6,
    "start_time": "2023-02-18T19:05:34.289Z"
   },
   {
    "duration": 26,
    "start_time": "2023-02-18T19:05:34.297Z"
   },
   {
    "duration": 6,
    "start_time": "2023-02-18T19:05:34.325Z"
   },
   {
    "duration": 9,
    "start_time": "2023-02-18T19:05:34.333Z"
   },
   {
    "duration": 5,
    "start_time": "2023-02-18T19:26:05.831Z"
   },
   {
    "duration": 4,
    "start_time": "2023-02-18T19:26:18.038Z"
   },
   {
    "duration": 4,
    "start_time": "2023-02-18T19:29:34.788Z"
   },
   {
    "duration": 10,
    "start_time": "2023-02-18T19:35:42.836Z"
   },
   {
    "duration": 16,
    "start_time": "2023-02-18T19:39:01.669Z"
   },
   {
    "duration": 114,
    "start_time": "2023-02-18T19:40:33.530Z"
   },
   {
    "duration": 32,
    "start_time": "2023-02-18T19:40:43.193Z"
   },
   {
    "duration": 7,
    "start_time": "2023-02-18T19:41:22.917Z"
   },
   {
    "duration": 4,
    "start_time": "2023-02-18T19:41:48.644Z"
   },
   {
    "duration": 12,
    "start_time": "2023-02-18T19:41:55.870Z"
   },
   {
    "duration": 8,
    "start_time": "2023-02-18T19:42:05.208Z"
   },
   {
    "duration": 1494,
    "start_time": "2023-02-18T19:42:14.856Z"
   },
   {
    "duration": 56,
    "start_time": "2023-02-18T19:42:16.353Z"
   },
   {
    "duration": 612,
    "start_time": "2023-02-18T19:42:16.411Z"
   },
   {
    "duration": 5,
    "start_time": "2023-02-18T19:42:17.025Z"
   },
   {
    "duration": 16,
    "start_time": "2023-02-18T19:42:17.032Z"
   },
   {
    "duration": 7,
    "start_time": "2023-02-18T19:42:17.049Z"
   },
   {
    "duration": 6,
    "start_time": "2023-02-18T19:42:17.058Z"
   },
   {
    "duration": 10,
    "start_time": "2023-02-18T19:42:17.066Z"
   },
   {
    "duration": 14,
    "start_time": "2023-02-18T19:42:17.079Z"
   },
   {
    "duration": 36,
    "start_time": "2023-02-18T19:42:17.094Z"
   },
   {
    "duration": 8,
    "start_time": "2023-02-18T19:42:17.131Z"
   },
   {
    "duration": 11,
    "start_time": "2023-02-18T19:42:30.411Z"
   },
   {
    "duration": 7,
    "start_time": "2023-02-18T19:42:57.101Z"
   },
   {
    "duration": 16,
    "start_time": "2023-02-18T19:43:05.120Z"
   },
   {
    "duration": 3,
    "start_time": "2023-02-18T19:43:11.835Z"
   },
   {
    "duration": 11,
    "start_time": "2023-02-18T19:43:14.081Z"
   },
   {
    "duration": 6,
    "start_time": "2023-02-18T19:43:20.659Z"
   },
   {
    "duration": 16,
    "start_time": "2023-02-18T19:43:23.589Z"
   },
   {
    "duration": 3,
    "start_time": "2023-02-18T19:44:22.920Z"
   },
   {
    "duration": 13,
    "start_time": "2023-02-18T19:44:24.468Z"
   },
   {
    "duration": 5,
    "start_time": "2023-02-18T19:44:28.516Z"
   },
   {
    "duration": 10,
    "start_time": "2023-02-18T19:44:31.532Z"
   },
   {
    "duration": 3,
    "start_time": "2023-02-18T19:56:00.973Z"
   },
   {
    "duration": 72,
    "start_time": "2023-02-18T20:10:42.844Z"
   },
   {
    "duration": 271,
    "start_time": "2023-02-18T20:11:04.106Z"
   },
   {
    "duration": 11,
    "start_time": "2023-02-18T20:11:39.272Z"
   },
   {
    "duration": 18,
    "start_time": "2023-02-18T20:11:56.922Z"
   },
   {
    "duration": 146,
    "start_time": "2023-02-18T20:26:22.475Z"
   },
   {
    "duration": 166,
    "start_time": "2023-02-18T20:26:37.055Z"
   },
   {
    "duration": 70,
    "start_time": "2023-02-18T20:29:24.761Z"
   },
   {
    "duration": 1456,
    "start_time": "2023-02-18T20:39:32.732Z"
   },
   {
    "duration": 49,
    "start_time": "2023-02-18T20:39:34.190Z"
   },
   {
    "duration": 767,
    "start_time": "2023-02-18T20:39:34.240Z"
   },
   {
    "duration": 12,
    "start_time": "2023-02-18T20:39:35.009Z"
   },
   {
    "duration": 8,
    "start_time": "2023-02-18T20:39:35.024Z"
   },
   {
    "duration": 11,
    "start_time": "2023-02-18T20:39:35.034Z"
   },
   {
    "duration": 10,
    "start_time": "2023-02-18T20:39:35.046Z"
   },
   {
    "duration": 30,
    "start_time": "2023-02-18T20:39:35.058Z"
   },
   {
    "duration": 18,
    "start_time": "2023-02-18T20:39:35.090Z"
   },
   {
    "duration": 28,
    "start_time": "2023-02-18T20:39:35.110Z"
   },
   {
    "duration": 15,
    "start_time": "2023-02-18T20:39:35.140Z"
   },
   {
    "duration": 18,
    "start_time": "2023-02-18T20:39:35.157Z"
   },
   {
    "duration": 299,
    "start_time": "2023-02-18T20:39:35.222Z"
   },
   {
    "duration": 1312,
    "start_time": "2023-02-18T20:41:15.997Z"
   },
   {
    "duration": 49,
    "start_time": "2023-02-18T20:41:17.311Z"
   },
   {
    "duration": 572,
    "start_time": "2023-02-18T20:41:17.361Z"
   },
   {
    "duration": 5,
    "start_time": "2023-02-18T20:41:17.935Z"
   },
   {
    "duration": 6,
    "start_time": "2023-02-18T20:41:17.942Z"
   },
   {
    "duration": 5,
    "start_time": "2023-02-18T20:41:17.950Z"
   },
   {
    "duration": 4,
    "start_time": "2023-02-18T20:41:17.957Z"
   },
   {
    "duration": 7,
    "start_time": "2023-02-18T20:41:17.963Z"
   },
   {
    "duration": 3,
    "start_time": "2023-02-18T20:41:17.972Z"
   },
   {
    "duration": 46,
    "start_time": "2023-02-18T20:41:17.976Z"
   },
   {
    "duration": 7,
    "start_time": "2023-02-18T20:41:18.023Z"
   },
   {
    "duration": 15,
    "start_time": "2023-02-18T20:41:18.031Z"
   },
   {
    "duration": 274,
    "start_time": "2023-02-18T20:41:18.048Z"
   },
   {
    "duration": 1999,
    "start_time": "2023-02-19T05:24:17.500Z"
   },
   {
    "duration": 102,
    "start_time": "2023-02-19T05:24:19.501Z"
   },
   {
    "duration": 4,
    "start_time": "2023-02-19T05:28:43.653Z"
   },
   {
    "duration": 5,
    "start_time": "2023-02-19T05:28:44.123Z"
   },
   {
    "duration": 5,
    "start_time": "2023-02-19T05:28:44.311Z"
   },
   {
    "duration": 7,
    "start_time": "2023-02-19T05:28:46.362Z"
   },
   {
    "duration": 7,
    "start_time": "2023-02-19T05:30:32.757Z"
   },
   {
    "duration": 3,
    "start_time": "2023-02-19T05:30:35.074Z"
   },
   {
    "duration": 11,
    "start_time": "2023-02-19T05:31:09.674Z"
   },
   {
    "duration": 6,
    "start_time": "2023-02-19T05:31:14.371Z"
   },
   {
    "duration": 11,
    "start_time": "2023-02-19T05:31:14.581Z"
   },
   {
    "duration": 43,
    "start_time": "2023-02-19T05:31:15.749Z"
   },
   {
    "duration": 48,
    "start_time": "2023-02-19T10:32:31.276Z"
   },
   {
    "duration": 1546,
    "start_time": "2023-02-19T10:32:37.609Z"
   },
   {
    "duration": 111,
    "start_time": "2023-02-19T10:32:39.894Z"
   },
   {
    "duration": 644,
    "start_time": "2023-02-19T10:32:42.770Z"
   },
   {
    "duration": 25005,
    "start_time": "2023-02-19T10:32:47.363Z"
   },
   {
    "duration": 185,
    "start_time": "2023-02-19T10:34:04.067Z"
   },
   {
    "duration": 19657,
    "start_time": "2023-02-19T10:36:02.563Z"
   },
   {
    "duration": 168,
    "start_time": "2023-02-19T10:38:50.277Z"
   },
   {
    "duration": 20404,
    "start_time": "2023-02-19T10:39:04.509Z"
   },
   {
    "duration": 124,
    "start_time": "2023-02-19T10:40:27.112Z"
   },
   {
    "duration": 151,
    "start_time": "2023-02-19T10:42:59.470Z"
   },
   {
    "duration": 114,
    "start_time": "2023-02-19T10:43:10.209Z"
   },
   {
    "duration": 172,
    "start_time": "2023-02-19T10:51:09.919Z"
   },
   {
    "duration": 173,
    "start_time": "2023-02-19T10:51:29.247Z"
   },
   {
    "duration": 14,
    "start_time": "2023-02-19T10:51:57.181Z"
   },
   {
    "duration": 12,
    "start_time": "2023-02-19T10:52:30.127Z"
   },
   {
    "duration": 1407,
    "start_time": "2023-02-19T10:53:14.467Z"
   },
   {
    "duration": 45,
    "start_time": "2023-02-19T10:53:15.876Z"
   },
   {
    "duration": 645,
    "start_time": "2023-02-19T10:53:15.923Z"
   },
   {
    "duration": 178,
    "start_time": "2023-02-19T10:53:16.570Z"
   },
   {
    "duration": 165,
    "start_time": "2023-02-19T10:53:16.753Z"
   },
   {
    "duration": 5,
    "start_time": "2023-02-19T10:53:16.920Z"
   },
   {
    "duration": 9,
    "start_time": "2023-02-19T10:53:16.926Z"
   },
   {
    "duration": 22,
    "start_time": "2023-02-19T10:53:16.936Z"
   },
   {
    "duration": 5,
    "start_time": "2023-02-19T10:53:16.960Z"
   },
   {
    "duration": 8,
    "start_time": "2023-02-19T10:53:16.967Z"
   },
   {
    "duration": 4,
    "start_time": "2023-02-19T10:53:16.977Z"
   },
   {
    "duration": 16,
    "start_time": "2023-02-19T10:53:16.982Z"
   },
   {
    "duration": 128,
    "start_time": "2023-02-19T10:53:16.999Z"
   },
   {
    "duration": 31,
    "start_time": "2023-02-19T10:53:17.130Z"
   },
   {
    "duration": 193,
    "start_time": "2023-02-19T10:53:17.163Z"
   },
   {
    "duration": 123,
    "start_time": "2023-02-19T10:54:51.298Z"
   },
   {
    "duration": 165,
    "start_time": "2023-02-19T10:57:53.745Z"
   },
   {
    "duration": 173,
    "start_time": "2023-02-19T10:58:09.518Z"
   },
   {
    "duration": 164,
    "start_time": "2023-02-19T10:58:13.951Z"
   },
   {
    "duration": 28,
    "start_time": "2023-02-19T11:01:20.274Z"
   },
   {
    "duration": 1384,
    "start_time": "2023-02-19T11:01:49.752Z"
   },
   {
    "duration": 45,
    "start_time": "2023-02-19T11:01:51.139Z"
   },
   {
    "duration": 644,
    "start_time": "2023-02-19T11:01:51.185Z"
   },
   {
    "duration": 45,
    "start_time": "2023-02-19T11:01:51.830Z"
   },
   {
    "duration": 214,
    "start_time": "2023-02-19T11:01:51.878Z"
   },
   {
    "duration": 190,
    "start_time": "2023-02-19T11:01:52.094Z"
   },
   {
    "duration": 5,
    "start_time": "2023-02-19T11:01:52.286Z"
   },
   {
    "duration": 21,
    "start_time": "2023-02-19T11:01:52.292Z"
   },
   {
    "duration": 12,
    "start_time": "2023-02-19T11:01:52.315Z"
   },
   {
    "duration": 8,
    "start_time": "2023-02-19T11:01:52.329Z"
   },
   {
    "duration": 17,
    "start_time": "2023-02-19T11:01:52.339Z"
   },
   {
    "duration": 3,
    "start_time": "2023-02-19T11:01:52.358Z"
   },
   {
    "duration": 16,
    "start_time": "2023-02-19T11:01:52.362Z"
   },
   {
    "duration": 6,
    "start_time": "2023-02-19T11:01:52.381Z"
   },
   {
    "duration": 66,
    "start_time": "2023-02-19T11:01:52.388Z"
   },
   {
    "duration": 400,
    "start_time": "2023-02-19T11:01:52.456Z"
   }
  ],
  "kernelspec": {
   "display_name": "Python 3 (ipykernel)",
   "language": "python",
   "name": "python3"
  },
  "language_info": {
   "codemirror_mode": {
    "name": "ipython",
    "version": 3
   },
   "file_extension": ".py",
   "mimetype": "text/x-python",
   "name": "python",
   "nbconvert_exporter": "python",
   "pygments_lexer": "ipython3",
   "version": "3.9.5"
  },
  "toc": {
   "base_numbering": 1,
   "nav_menu": {},
   "number_sections": true,
   "sideBar": true,
   "skip_h1_title": true,
   "title_cell": "Содержание",
   "title_sidebar": "Contents",
   "toc_cell": true,
   "toc_position": {},
   "toc_section_display": true,
   "toc_window_display": false
  }
 },
 "nbformat": 4,
 "nbformat_minor": 2
}
