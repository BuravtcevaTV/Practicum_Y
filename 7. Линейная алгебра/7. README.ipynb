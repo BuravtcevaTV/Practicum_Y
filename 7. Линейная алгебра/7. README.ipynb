{
 "cells": [
  {
   "cell_type": "markdown",
   "source": [
    "## Защита персональных данных клиентов\n",
    "\n",
    " **Задача:** разработать такой метод преобразования данных, чтобы по ним было сложно восстановить персональную информацию. Обосновать корректность его работы.\n",
    "Нужно защитить данные, чтобы при преобразовании качество моделей машинного обучения не ухудшилось. \n",
    "\n",
    "## Библиотеки\n",
    "\n",
    "`pandas`\n",
    "`numpy`\n",
    "`matplotlib`\n",
    "`sklearn`\n",
    "\n",
    "##  Модели\n",
    "\n",
    "- Линейная регрессия\n",
    "\n",
    "\n",
    "## Итоги:\n",
    "\n",
    "- Проведена обработка и исследовательский анализ данных\n",
    "- Разработан алгоритм преобразования\n",
    "- Проведена проверка алгоритма\n",
    "- Проведено сравнение метрики R2 для моделей начальными и измененными признаками"
   ],
   "metadata": {
    "collapsed": false
   },
   "id": "91b4acd892530f7f"
  },
  {
   "cell_type": "code",
   "execution_count": null,
   "outputs": [],
   "source": [],
   "metadata": {
    "collapsed": false
   },
   "id": "34ffe94cb966c508"
  }
 ],
 "metadata": {
  "kernelspec": {
   "display_name": "Python 3",
   "language": "python",
   "name": "python3"
  },
  "language_info": {
   "codemirror_mode": {
    "name": "ipython",
    "version": 2
   },
   "file_extension": ".py",
   "mimetype": "text/x-python",
   "name": "python",
   "nbconvert_exporter": "python",
   "pygments_lexer": "ipython2",
   "version": "2.7.6"
  }
 },
 "nbformat": 4,
 "nbformat_minor": 5
}
