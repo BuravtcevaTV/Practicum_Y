{
 "cells": [
  {
   "cell_type": "markdown",
   "metadata": {},
   "source": [
    "# Классификация комментариев в интернет-магазине"
   ]
  },
  {
   "cell_type": "markdown",
   "metadata": {},
   "source": [
    "Интернет-магазин запускает новый сервис. Теперь пользователи могут редактировать и дополнять описания товаров. То есть клиенты предлагают свои правки и комментируют изменения других. Магазину нужен инструмент, который будет искать токсичные комментарии и отправлять их на модерацию. \n",
    "**Задача:** Обучить модель классифицировать комментарии на позитивные и негативные. В нашем распоряжении набор данных с разметкой о токсичности правок."
   ]
  },
  {
   "cell_type": "markdown",
   "metadata": {},
   "source": [
    "## Подготовка"
   ]
  },
  {
   "cell_type": "code",
   "execution_count": 1,
   "metadata": {},
   "outputs": [
    {
     "name": "stderr",
     "output_type": "stream",
     "text": [
      "[nltk_data] Downloading package averaged_perceptron_tagger to\n",
      "[nltk_data]     /home/jovyan/nltk_data...\n",
      "[nltk_data]   Unzipping taggers/averaged_perceptron_tagger.zip.\n",
      "[nltk_data] Downloading package stopwords to /home/jovyan/nltk_data...\n",
      "[nltk_data]   Package stopwords is already up-to-date!\n"
     ]
    },
    {
     "data": {
      "text/plain": [
       "True"
      ]
     },
     "execution_count": 1,
     "metadata": {},
     "output_type": "execute_result"
    }
   ],
   "source": [
    "import pandas as pd\n",
    "import numpy as np\n",
    "import matplotlib.pyplot as plt\n",
    "import time\n",
    "\n",
    "import re\n",
    "import nltk\n",
    "from nltk.stem import WordNetLemmatizer\n",
    "from nltk.corpus import wordnet\n",
    "from nltk.corpus import stopwords\n",
    "\n",
    "from sklearn.feature_extraction.text import TfidfVectorizer\n",
    "from sklearn.model_selection import train_test_split, GridSearchCV\n",
    "from sklearn.metrics import f1_score, make_scorer\n",
    "\n",
    "from sklearn.linear_model import LogisticRegression\n",
    "from lightgbm import LGBMClassifier\n",
    "from sklearn.dummy import DummyClassifier\n",
    "from sklearn.svm import LinearSVC\n",
    "\n",
    "import warnings\n",
    "warnings.filterwarnings(\"ignore\")\n",
    "\n",
    "nltk.download('averaged_perceptron_tagger')\n",
    "nltk.download('stopwords')\n"
   ]
  },
  {
   "cell_type": "code",
   "execution_count": 2,
   "metadata": {},
   "outputs": [
    {
     "name": "stdout",
     "output_type": "stream",
     "text": [
      "<class 'pandas.core.frame.DataFrame'>\n",
      "RangeIndex: 159292 entries, 0 to 159291\n",
      "Data columns (total 3 columns):\n",
      " #   Column      Non-Null Count   Dtype \n",
      "---  ------      --------------   ----- \n",
      " 0   Unnamed: 0  159292 non-null  int64 \n",
      " 1   text        159292 non-null  object\n",
      " 2   toxic       159292 non-null  int64 \n",
      "dtypes: int64(2), object(1)\n",
      "memory usage: 3.6+ MB\n"
     ]
    },
    {
     "data": {
      "text/html": [
       "<div>\n",
       "<style scoped>\n",
       "    .dataframe tbody tr th:only-of-type {\n",
       "        vertical-align: middle;\n",
       "    }\n",
       "\n",
       "    .dataframe tbody tr th {\n",
       "        vertical-align: top;\n",
       "    }\n",
       "\n",
       "    .dataframe thead th {\n",
       "        text-align: right;\n",
       "    }\n",
       "</style>\n",
       "<table border=\"1\" class=\"dataframe\">\n",
       "  <thead>\n",
       "    <tr style=\"text-align: right;\">\n",
       "      <th></th>\n",
       "      <th>Unnamed: 0</th>\n",
       "      <th>text</th>\n",
       "      <th>toxic</th>\n",
       "    </tr>\n",
       "  </thead>\n",
       "  <tbody>\n",
       "    <tr>\n",
       "      <th>0</th>\n",
       "      <td>0</td>\n",
       "      <td>Explanation\\nWhy the edits made under my usern...</td>\n",
       "      <td>0</td>\n",
       "    </tr>\n",
       "    <tr>\n",
       "      <th>1</th>\n",
       "      <td>1</td>\n",
       "      <td>D'aww! He matches this background colour I'm s...</td>\n",
       "      <td>0</td>\n",
       "    </tr>\n",
       "    <tr>\n",
       "      <th>2</th>\n",
       "      <td>2</td>\n",
       "      <td>Hey man, I'm really not trying to edit war. It...</td>\n",
       "      <td>0</td>\n",
       "    </tr>\n",
       "    <tr>\n",
       "      <th>3</th>\n",
       "      <td>3</td>\n",
       "      <td>\"\\nMore\\nI can't make any real suggestions on ...</td>\n",
       "      <td>0</td>\n",
       "    </tr>\n",
       "    <tr>\n",
       "      <th>4</th>\n",
       "      <td>4</td>\n",
       "      <td>You, sir, are my hero. Any chance you remember...</td>\n",
       "      <td>0</td>\n",
       "    </tr>\n",
       "  </tbody>\n",
       "</table>\n",
       "</div>"
      ],
      "text/plain": [
       "   Unnamed: 0                                               text  toxic\n",
       "0           0  Explanation\\nWhy the edits made under my usern...      0\n",
       "1           1  D'aww! He matches this background colour I'm s...      0\n",
       "2           2  Hey man, I'm really not trying to edit war. It...      0\n",
       "3           3  \"\\nMore\\nI can't make any real suggestions on ...      0\n",
       "4           4  You, sir, are my hero. Any chance you remember...      0"
      ]
     },
     "execution_count": 2,
     "metadata": {},
     "output_type": "execute_result"
    }
   ],
   "source": [
    "df = pd.read_csv('/datasets/toxic_comments.csv')\n",
    "\n",
    "df.info()\n",
    "df.head()"
   ]
  },
  {
   "cell_type": "code",
   "execution_count": 3,
   "metadata": {},
   "outputs": [
    {
     "data": {
      "text/html": [
       "<div>\n",
       "<style scoped>\n",
       "    .dataframe tbody tr th:only-of-type {\n",
       "        vertical-align: middle;\n",
       "    }\n",
       "\n",
       "    .dataframe tbody tr th {\n",
       "        vertical-align: top;\n",
       "    }\n",
       "\n",
       "    .dataframe thead th {\n",
       "        text-align: right;\n",
       "    }\n",
       "</style>\n",
       "<table border=\"1\" class=\"dataframe\">\n",
       "  <thead>\n",
       "    <tr style=\"text-align: right;\">\n",
       "      <th></th>\n",
       "      <th>Unnamed: 0</th>\n",
       "      <th>toxic</th>\n",
       "    </tr>\n",
       "  </thead>\n",
       "  <tbody>\n",
       "    <tr>\n",
       "      <th>count</th>\n",
       "      <td>159292.000000</td>\n",
       "      <td>159292.000000</td>\n",
       "    </tr>\n",
       "    <tr>\n",
       "      <th>mean</th>\n",
       "      <td>79725.697242</td>\n",
       "      <td>0.101612</td>\n",
       "    </tr>\n",
       "    <tr>\n",
       "      <th>std</th>\n",
       "      <td>46028.837471</td>\n",
       "      <td>0.302139</td>\n",
       "    </tr>\n",
       "    <tr>\n",
       "      <th>min</th>\n",
       "      <td>0.000000</td>\n",
       "      <td>0.000000</td>\n",
       "    </tr>\n",
       "    <tr>\n",
       "      <th>25%</th>\n",
       "      <td>39872.750000</td>\n",
       "      <td>0.000000</td>\n",
       "    </tr>\n",
       "    <tr>\n",
       "      <th>50%</th>\n",
       "      <td>79721.500000</td>\n",
       "      <td>0.000000</td>\n",
       "    </tr>\n",
       "    <tr>\n",
       "      <th>75%</th>\n",
       "      <td>119573.250000</td>\n",
       "      <td>0.000000</td>\n",
       "    </tr>\n",
       "    <tr>\n",
       "      <th>max</th>\n",
       "      <td>159450.000000</td>\n",
       "      <td>1.000000</td>\n",
       "    </tr>\n",
       "  </tbody>\n",
       "</table>\n",
       "</div>"
      ],
      "text/plain": [
       "          Unnamed: 0          toxic\n",
       "count  159292.000000  159292.000000\n",
       "mean    79725.697242       0.101612\n",
       "std     46028.837471       0.302139\n",
       "min         0.000000       0.000000\n",
       "25%     39872.750000       0.000000\n",
       "50%     79721.500000       0.000000\n",
       "75%    119573.250000       0.000000\n",
       "max    159450.000000       1.000000"
      ]
     },
     "execution_count": 3,
     "metadata": {},
     "output_type": "execute_result"
    }
   ],
   "source": [
    "df.describe()"
   ]
  },
  {
   "cell_type": "code",
   "execution_count": 4,
   "metadata": {},
   "outputs": [
    {
     "data": {
      "image/png": "[encoded data removed]",
      "text/plain": [
       "<Figure size 576x576 with 1 Axes>"
      ]
     },
     "metadata": {},
     "output_type": "display_data"
    }
   ],
   "source": [
    "df_tox = df.groupby('toxic').size()\n",
    "df_tox.plot(kind='pie', autopct='%1.1f%%',  subplots=True, figsize=(8, 8))\n",
    "plt.title('Токсичные комментарии')\n",
    "plt.ylabel('')\n",
    "plt.legend(['Позитивные комментарии','Токсичные комментарии'],loc='upper left', bbox_to_anchor=(1.0, 1.0))\n",
    "plt.show()"
   ]
  },
  {
   "cell_type": "markdown",
   "metadata": {},
   "source": [
    "### Предобработка"
   ]
  },
  {
   "cell_type": "markdown",
   "metadata": {},
   "source": [
    "Проверим данные на пропуски и дубликаты."
   ]
  },
  {
   "cell_type": "code",
   "execution_count": 5,
   "metadata": {},
   "outputs": [
    {
     "data": {
      "text/plain": [
       "0"
      ]
     },
     "execution_count": 5,
     "metadata": {},
     "output_type": "execute_result"
    }
   ],
   "source": [
    "df.duplicated().sum()"
   ]
  },
  {
   "cell_type": "code",
   "execution_count": 6,
   "metadata": {},
   "outputs": [
    {
     "data": {
      "text/plain": [
       "Unnamed: 0    0\n",
       "text          0\n",
       "toxic         0\n",
       "dtype: int64"
      ]
     },
     "execution_count": 6,
     "metadata": {},
     "output_type": "execute_result"
    }
   ],
   "source": [
    "df.isna().sum()"
   ]
  },
  {
   "cell_type": "markdown",
   "metadata": {},
   "source": [
    "Данные выглядят хорошо: типы столбцов верные, пропусков и дубликатов нет. Удалим столбец Unnamed: 0 - он не будет влиять на обучение моделей"
   ]
  },
  {
   "cell_type": "code",
   "execution_count": 7,
   "metadata": {},
   "outputs": [
    {
     "data": {
      "text/html": [
       "<div>\n",
       "<style scoped>\n",
       "    .dataframe tbody tr th:only-of-type {\n",
       "        vertical-align: middle;\n",
       "    }\n",
       "\n",
       "    .dataframe tbody tr th {\n",
       "        vertical-align: top;\n",
       "    }\n",
       "\n",
       "    .dataframe thead th {\n",
       "        text-align: right;\n",
       "    }\n",
       "</style>\n",
       "<table border=\"1\" class=\"dataframe\">\n",
       "  <thead>\n",
       "    <tr style=\"text-align: right;\">\n",
       "      <th></th>\n",
       "      <th>text</th>\n",
       "      <th>toxic</th>\n",
       "    </tr>\n",
       "  </thead>\n",
       "  <tbody>\n",
       "    <tr>\n",
       "      <th>0</th>\n",
       "      <td>Explanation\\nWhy the edits made under my usern...</td>\n",
       "      <td>0</td>\n",
       "    </tr>\n",
       "    <tr>\n",
       "      <th>1</th>\n",
       "      <td>D'aww! He matches this background colour I'm s...</td>\n",
       "      <td>0</td>\n",
       "    </tr>\n",
       "    <tr>\n",
       "      <th>2</th>\n",
       "      <td>Hey man, I'm really not trying to edit war. It...</td>\n",
       "      <td>0</td>\n",
       "    </tr>\n",
       "    <tr>\n",
       "      <th>3</th>\n",
       "      <td>\"\\nMore\\nI can't make any real suggestions on ...</td>\n",
       "      <td>0</td>\n",
       "    </tr>\n",
       "    <tr>\n",
       "      <th>4</th>\n",
       "      <td>You, sir, are my hero. Any chance you remember...</td>\n",
       "      <td>0</td>\n",
       "    </tr>\n",
       "  </tbody>\n",
       "</table>\n",
       "</div>"
      ],
      "text/plain": [
       "                                                text  toxic\n",
       "0  Explanation\\nWhy the edits made under my usern...      0\n",
       "1  D'aww! He matches this background colour I'm s...      0\n",
       "2  Hey man, I'm really not trying to edit war. It...      0\n",
       "3  \"\\nMore\\nI can't make any real suggestions on ...      0\n",
       "4  You, sir, are my hero. Any chance you remember...      0"
      ]
     },
     "execution_count": 7,
     "metadata": {},
     "output_type": "execute_result"
    }
   ],
   "source": [
    "df = df.drop(['Unnamed: 0'], axis=1)\n",
    "df.head()"
   ]
  },
  {
   "cell_type": "markdown",
   "metadata": {},
   "source": [
    "Таким образом, в ходе предобработки:\n",
    "- Пропусков и дубликатов не оказалось\n",
    "- Удален столбец Unnamed: 0"
   ]
  },
  {
   "cell_type": "markdown",
   "metadata": {},
   "source": [
    "### Подготовка данных к обучению"
   ]
  },
  {
   "cell_type": "code",
   "execution_count": 8,
   "metadata": {},
   "outputs": [],
   "source": [
    "# Очистка текста от лишних знаков\n",
    "def clear(text):\n",
    "    cleared = re.sub(r'[^a-zA-Z]', ' ', text)\n",
    "    return \" \".join(cleared.split())"
   ]
  },
  {
   "cell_type": "code",
   "execution_count": 9,
   "metadata": {},
   "outputs": [],
   "source": [
    "# POS-тег\n",
    "def get_wordnet_pos(word):\n",
    "    tag = nltk.pos_tag([word])[0][1][0].upper()\n",
    "    tag_dict = {\"J\": wordnet.ADJ,\n",
    "                \"N\": wordnet.NOUN,\n",
    "                \"V\": wordnet.VERB,\n",
    "                \"R\": wordnet.ADV}\n",
    "    return tag_dict.get(tag, wordnet.NOUN)"
   ]
  },
  {
   "cell_type": "code",
   "execution_count": 10,
   "metadata": {},
   "outputs": [],
   "source": [
    "# Лемматизация\n",
    "lemmatizer = WordNetLemmatizer()\n",
    "\n",
    "def lemmatize(text):\n",
    "    lemmatizer = WordNetLemmatizer()\n",
    "    word_list = nltk.word_tokenize(text)\n",
    "    lemm_list  = ' '.join([lemmatizer.lemmatize(w, get_wordnet_pos(w)) for w in word_list])\n",
    "    lemm_text = \"\".join(lemm_list)\n",
    "    return lemm_text"
   ]
  },
  {
   "cell_type": "code",
   "execution_count": 11,
   "metadata": {},
   "outputs": [
    {
     "name": "stdout",
     "output_type": "stream",
     "text": [
      "CPU times: user 17min 47s, sys: 1min 44s, total: 19min 31s\n",
      "Wall time: 19min 32s\n"
     ]
    },
    {
     "data": {
      "text/html": [
       "<div>\n",
       "<style scoped>\n",
       "    .dataframe tbody tr th:only-of-type {\n",
       "        vertical-align: middle;\n",
       "    }\n",
       "\n",
       "    .dataframe tbody tr th {\n",
       "        vertical-align: top;\n",
       "    }\n",
       "\n",
       "    .dataframe thead th {\n",
       "        text-align: right;\n",
       "    }\n",
       "</style>\n",
       "<table border=\"1\" class=\"dataframe\">\n",
       "  <thead>\n",
       "    <tr style=\"text-align: right;\">\n",
       "      <th></th>\n",
       "      <th>text</th>\n",
       "      <th>toxic</th>\n",
       "    </tr>\n",
       "  </thead>\n",
       "  <tbody>\n",
       "    <tr>\n",
       "      <th>0</th>\n",
       "      <td>Explanation Why the edits make under my userna...</td>\n",
       "      <td>0</td>\n",
       "    </tr>\n",
       "    <tr>\n",
       "      <th>1</th>\n",
       "      <td>D aww He match this background colour I m seem...</td>\n",
       "      <td>0</td>\n",
       "    </tr>\n",
       "    <tr>\n",
       "      <th>2</th>\n",
       "      <td>Hey man I m really not try to edit war It s ju...</td>\n",
       "      <td>0</td>\n",
       "    </tr>\n",
       "    <tr>\n",
       "      <th>3</th>\n",
       "      <td>More I can t make any real suggestion on impro...</td>\n",
       "      <td>0</td>\n",
       "    </tr>\n",
       "    <tr>\n",
       "      <th>4</th>\n",
       "      <td>You sir be my hero Any chance you remember wha...</td>\n",
       "      <td>0</td>\n",
       "    </tr>\n",
       "  </tbody>\n",
       "</table>\n",
       "</div>"
      ],
      "text/plain": [
       "                                                text  toxic\n",
       "0  Explanation Why the edits make under my userna...      0\n",
       "1  D aww He match this background colour I m seem...      0\n",
       "2  Hey man I m really not try to edit war It s ju...      0\n",
       "3  More I can t make any real suggestion on impro...      0\n",
       "4  You sir be my hero Any chance you remember wha...      0"
      ]
     },
     "execution_count": 11,
     "metadata": {},
     "output_type": "execute_result"
    }
   ],
   "source": [
    "%%time\n",
    "learn_df = pd.DataFrame(columns=['text', 'toxic'])\n",
    "\n",
    "learn_df['toxic'] = df['toxic']\n",
    "learn_df['text'] = df['text'].apply(lambda x: lemmatize(clear(x)))\n",
    "\n",
    "learn_df.head()"
   ]
  },
  {
   "cell_type": "markdown",
   "metadata": {},
   "source": [
    "### Разделение на выборки"
   ]
  },
  {
   "cell_type": "code",
   "execution_count": 12,
   "metadata": {},
   "outputs": [
    {
     "name": "stdout",
     "output_type": "stream",
     "text": [
      "(119469,)\n",
      "(39823,)\n"
     ]
    }
   ],
   "source": [
    "train, test = train_test_split(learn_df, test_size=0.25, random_state=12345)\n",
    "\n",
    "features_train = train['text']\n",
    "features_test = test['text']\n",
    "\n",
    "target_train = train['toxic']\n",
    "target_test = test['toxic']\n",
    "\n",
    "print(features_train.shape)\n",
    "print(features_test.shape)"
   ]
  },
  {
   "cell_type": "markdown",
   "metadata": {},
   "source": [
    "### Векторизация признаков"
   ]
  },
  {
   "cell_type": "code",
   "execution_count": 13,
   "metadata": {},
   "outputs": [],
   "source": [
    "stopwords = set(stopwords.words('english'))\n",
    "count_tf_idf = TfidfVectorizer(stop_words=stopwords)\n",
    "\n",
    "features_train_tf_idf = count_tf_idf.fit_transform(features_train)\n",
    "features_test_tf_idf = count_tf_idf.transform(features_test)"
   ]
  },
  {
   "cell_type": "markdown",
   "metadata": {},
   "source": [
    "## Обучение"
   ]
  },
  {
   "cell_type": "code",
   "execution_count": 14,
   "metadata": {},
   "outputs": [],
   "source": [
    "f1_scorer = make_scorer(f1_score)"
   ]
  },
  {
   "cell_type": "markdown",
   "metadata": {},
   "source": [
    "### Логистическая регрессия"
   ]
  },
  {
   "cell_type": "code",
   "execution_count": 15,
   "metadata": {},
   "outputs": [
    {
     "name": "stdout",
     "output_type": "stream",
     "text": [
      "Лучшие параметры модели логистическая регрессия: {'C': 1, 'class_weight': 'balanced'}\n",
      "f1 модели логистическая регрессия: 0.7409720837636851\n",
      "CPU times: user 1min 47s, sys: 2min 21s, total: 4min 9s\n",
      "Wall time: 4min 9s\n"
     ]
    }
   ],
   "source": [
    "%%time\n",
    "\n",
    "model_log = LogisticRegression(max_iter=1000)\n",
    "\n",
    "param_log = {'C': [.1, .5, 1],\n",
    "              'class_weight': ['balanced']}\n",
    "\n",
    "grid_log = GridSearchCV(estimator=model_log, param_grid=param_log, cv=3, scoring=f1_scorer)\n",
    "grid_log.fit(features_train_tf_idf, target_train)\n",
    "\n",
    "print('Лучшие параметры модели логистическая регрессия:', grid_log.best_params_)\n",
    "print('f1 модели логистическая регрессия:', grid_log.best_score_)"
   ]
  },
  {
   "cell_type": "markdown",
   "metadata": {},
   "source": [
    "### LinearSVC"
   ]
  },
  {
   "cell_type": "code",
   "execution_count": 16,
   "metadata": {},
   "outputs": [
    {
     "name": "stdout",
     "output_type": "stream",
     "text": [
      "Лучшие параметры модели LinearSVC: {'C': 1, 'class_weight': None}\n",
      "f1 модели LinearSVC: 0.7580035838220854\n",
      "CPU times: user 50.7 s, sys: 255 ms, total: 50.9 s\n",
      "Wall time: 51 s\n"
     ]
    }
   ],
   "source": [
    "%%time\n",
    "\n",
    "model_svc = LinearSVC(max_iter=10000)\n",
    "\n",
    "param_svc = {'C': [.1, .5, 1, 10],\n",
    "              'class_weight': [None, 'balanced']}\n",
    "\n",
    "grid_svc = GridSearchCV(estimator=model_svc, param_grid=param_svc, cv=3, scoring=f1_scorer)\n",
    "grid_svc.fit(features_train_tf_idf, target_train)\n",
    "\n",
    "print('Лучшие параметры модели LinearSVC:', grid_svc.best_params_)\n",
    "print('f1 модели LinearSVC:', grid_svc.best_score_)"
   ]
  },
  {
   "cell_type": "markdown",
   "metadata": {},
   "source": [
    "### DummyClassifier"
   ]
  },
  {
   "cell_type": "code",
   "execution_count": 18,
   "metadata": {},
   "outputs": [
    {
     "name": "stdout",
     "output_type": "stream",
     "text": [
      "f1 модели DummyClassifier: 0.10087229732523048\n"
     ]
    }
   ],
   "source": [
    "model_dum = DummyClassifier(strategy=\"stratified\")\n",
    "model_dum.fit(features_train, target_train)\n",
    "predict_dum = model_dum.predict(features_train_tf_idf)\n",
    "print('f1 модели DummyClassifier:', f1_score(target_train, predict_dum))"
   ]
  },
  {
   "cell_type": "markdown",
   "metadata": {},
   "source": [
    "## Выводы"
   ]
  },
  {
   "cell_type": "markdown",
   "metadata": {},
   "source": [
    "### Анализ моделей"
   ]
  },
  {
   "cell_type": "code",
   "execution_count": 21,
   "metadata": {},
   "outputs": [
    {
     "data": {
      "text/html": [
       "<div>\n",
       "<style scoped>\n",
       "    .dataframe tbody tr th:only-of-type {\n",
       "        vertical-align: middle;\n",
       "    }\n",
       "\n",
       "    .dataframe tbody tr th {\n",
       "        vertical-align: top;\n",
       "    }\n",
       "\n",
       "    .dataframe thead th {\n",
       "        text-align: right;\n",
       "    }\n",
       "</style>\n",
       "<table border=\"1\" class=\"dataframe\">\n",
       "  <thead>\n",
       "    <tr style=\"text-align: right;\">\n",
       "      <th></th>\n",
       "      <th>Модель</th>\n",
       "      <th>f1</th>\n",
       "    </tr>\n",
       "  </thead>\n",
       "  <tbody>\n",
       "    <tr>\n",
       "      <th>0</th>\n",
       "      <td>LogisticRegression</td>\n",
       "      <td>0.741</td>\n",
       "    </tr>\n",
       "    <tr>\n",
       "      <th>1</th>\n",
       "      <td>LinearSVC</td>\n",
       "      <td>0.758</td>\n",
       "    </tr>\n",
       "    <tr>\n",
       "      <th>2</th>\n",
       "      <td>DummyClassifier</td>\n",
       "      <td>0.101</td>\n",
       "    </tr>\n",
       "  </tbody>\n",
       "</table>\n",
       "</div>"
      ],
      "text/plain": [
       "               Модель     f1\n",
       "0  LogisticRegression  0.741\n",
       "1           LinearSVC  0.758\n",
       "2     DummyClassifier  0.101"
      ]
     },
     "metadata": {},
     "output_type": "display_data"
    }
   ],
   "source": [
    "models = {'Модель':['LogisticRegression', 'LinearSVC','DummyClassifier'],\n",
    "         'f1':['0.741','0.758','0.101']}\n",
    "\n",
    "display(pd.DataFrame.from_dict(models))"
   ]
  },
  {
   "cell_type": "markdown",
   "metadata": {},
   "source": [
    "Все модели показали результат f1 лучше, чем модель DummyClassifier, что говорит об адекватности всех представленных моделей.\n",
    "Наилучшей считается модель с минимальным значением f1. Модель с наилучшим результатом - LinearSVC. Проверим эту модель на тестовой выборке."
   ]
  },
  {
   "cell_type": "markdown",
   "metadata": {},
   "source": [
    "### Тестирование"
   ]
  },
  {
   "cell_type": "markdown",
   "metadata": {},
   "source": [
    "Исследуем лучшую модель на тестовой выборке."
   ]
  },
  {
   "cell_type": "code",
   "execution_count": 20,
   "metadata": {},
   "outputs": [
    {
     "name": "stdout",
     "output_type": "stream",
     "text": [
      "f1 модели LinearSVC на тестовой выбоорке 0.7784232365145228\n"
     ]
    }
   ],
   "source": [
    "model_svc = LinearSVC(max_iter=10000, C=1, class_weight=None)\n",
    "model_svc.fit(features_train_tf_idf, target_train)\n",
    "predict_svc = model_svc.predict(features_test_tf_idf)\n",
    "print('f1 модели LinearSVC на тестовой выбоорке', f1_score(target_test, predict_svc))"
   ]
  },
  {
   "cell_type": "markdown",
   "metadata": {},
   "source": [
    "## Вывод"
   ]
  },
  {
   "cell_type": "markdown",
   "metadata": {},
   "source": [
    "В ходе работы над проектом была проведена предобработка данных:\n",
    "- Пропусков и дубликатов не оказалось\n",
    "- Удален столбец Unnamed: 0\n",
    "\n",
    "Текст данных очищен от лишних знаков и лемматизирован. Проведена векторизация признаков.\n",
    "\n",
    "Для исслеования использовались следующие модели:\n",
    "- LogisticRegression \n",
    "- LinearSVC \n",
    "- DummyClassifier \n",
    "\n",
    "Все модели показали на тренировочной выборке результат f1 лучше, чем модель DummyClassifier, что говорит об адекватности всех представленных моделей. Модель с наилучшим результатом f1 - LinearSVC.\n",
    "\n",
    "f1 моделей на тренировочной выборке:\n",
    "- LogisticRegression (0.741)\n",
    "- LinearSVC (0.758)\n",
    "- DummyClassifier (0.101)\n",
    "\n",
    "f1 лучшей модели на тестовой выборке:\n",
    "- LinearSVC (0.778)"
   ]
  },
  {
   "cell_type": "code",
   "execution_count": null,
   "outputs": [],
   "source": [],
   "metadata": {
    "collapsed": false
   }
  }
 ],
 "metadata": {
  "ExecuteTimeLog": [
   {
    "duration": 5104,
    "start_time": "2023-03-08T18:49:05.982Z"
   },
   {
    "duration": 2230,
    "start_time": "2023-03-08T18:49:14.195Z"
   },
   {
    "duration": 883,
    "start_time": "2023-03-08T18:49:35.010Z"
   },
   {
    "duration": 237,
    "start_time": "2023-03-08T18:52:19.434Z"
   },
   {
    "duration": 17,
    "start_time": "2023-03-08T19:02:25.982Z"
   },
   {
    "duration": 24,
    "start_time": "2023-03-08T19:12:17.333Z"
   },
   {
    "duration": 199,
    "start_time": "2023-03-08T19:12:59.143Z"
   },
   {
    "duration": 26,
    "start_time": "2023-03-08T19:13:08.930Z"
   },
   {
    "duration": 125,
    "start_time": "2023-03-08T19:20:13.776Z"
   },
   {
    "duration": 118,
    "start_time": "2023-03-08T19:20:38.698Z"
   },
   {
    "duration": 67,
    "start_time": "2023-03-08T19:24:44.315Z"
   },
   {
    "duration": 21,
    "start_time": "2023-03-08T19:25:29.135Z"
   },
   {
    "duration": 292,
    "start_time": "2023-03-08T21:56:33.068Z"
   },
   {
    "duration": 1300,
    "start_time": "2023-03-08T21:57:04.379Z"
   },
   {
    "duration": 641,
    "start_time": "2023-03-08T21:57:09.385Z"
   },
   {
    "duration": 629,
    "start_time": "2023-03-08T21:57:51.143Z"
   },
   {
    "duration": 419,
    "start_time": "2023-03-08T21:59:05.656Z"
   },
   {
    "duration": 30,
    "start_time": "2023-03-08T21:59:29.697Z"
   },
   {
    "duration": 24,
    "start_time": "2023-03-08T22:01:23.273Z"
   },
   {
    "duration": 3,
    "start_time": "2023-03-08T22:01:37.825Z"
   },
   {
    "duration": 27,
    "start_time": "2023-03-08T22:03:00.151Z"
   },
   {
    "duration": 19,
    "start_time": "2023-03-08T22:03:07.425Z"
   },
   {
    "duration": 30,
    "start_time": "2023-03-08T22:03:10.800Z"
   },
   {
    "duration": 6,
    "start_time": "2023-03-08T22:03:23.170Z"
   },
   {
    "duration": 28,
    "start_time": "2023-03-08T22:03:28.356Z"
   },
   {
    "duration": 93,
    "start_time": "2023-03-08T22:04:35.938Z"
   },
   {
    "duration": 702,
    "start_time": "2023-03-08T22:04:47.426Z"
   },
   {
    "duration": 669,
    "start_time": "2023-03-08T22:05:19.936Z"
   },
   {
    "duration": 688,
    "start_time": "2023-03-08T22:05:40.431Z"
   },
   {
    "duration": 32,
    "start_time": "2023-03-08T22:07:40.702Z"
   },
   {
    "duration": 19,
    "start_time": "2023-03-08T22:13:10.893Z"
   },
   {
    "duration": 3700,
    "start_time": "2023-03-08T22:13:30.157Z"
   },
   {
    "duration": 3090,
    "start_time": "2023-03-08T22:14:02.593Z"
   },
   {
    "duration": 3163,
    "start_time": "2023-03-08T22:14:23.679Z"
   },
   {
    "duration": 3042,
    "start_time": "2023-03-08T22:14:59.922Z"
   },
   {
    "duration": 6,
    "start_time": "2023-03-08T22:16:08.390Z"
   },
   {
    "duration": 783,
    "start_time": "2023-03-08T22:17:18.771Z"
   },
   {
    "duration": 9,
    "start_time": "2023-03-08T22:17:31.730Z"
   },
   {
    "duration": 3920,
    "start_time": "2023-03-08T22:17:33.875Z"
   },
   {
    "duration": 18,
    "start_time": "2023-03-08T22:25:23.380Z"
   },
   {
    "duration": 227,
    "start_time": "2023-03-08T22:26:00.094Z"
   },
   {
    "duration": 6,
    "start_time": "2023-03-08T22:26:04.526Z"
   },
   {
    "duration": 27,
    "start_time": "2023-03-08T22:26:34.554Z"
   },
   {
    "duration": 5,
    "start_time": "2023-03-08T22:27:04.046Z"
   },
   {
    "duration": 31225,
    "start_time": "2023-03-08T22:32:19.780Z"
   },
   {
    "duration": 4975,
    "start_time": "2023-03-08T22:33:20.805Z"
   },
   {
    "duration": 6,
    "start_time": "2023-03-08T22:33:25.782Z"
   },
   {
    "duration": 5,
    "start_time": "2023-03-08T22:33:28.111Z"
   },
   {
    "duration": 589,
    "start_time": "2023-03-08T22:33:30.809Z"
   },
   {
    "duration": 4,
    "start_time": "2023-03-08T22:34:01.386Z"
   },
   {
    "duration": 538,
    "start_time": "2023-03-08T22:34:03.449Z"
   },
   {
    "duration": 28,
    "start_time": "2023-03-08T22:34:34.953Z"
   },
   {
    "duration": 774,
    "start_time": "2023-03-08T22:34:37.930Z"
   },
   {
    "duration": 10,
    "start_time": "2023-03-08T22:35:24.680Z"
   },
   {
    "duration": 785,
    "start_time": "2023-03-08T22:35:28.886Z"
   },
   {
    "duration": 4717,
    "start_time": "2023-03-08T22:35:45.471Z"
   },
   {
    "duration": 805,
    "start_time": "2023-03-08T22:35:53.021Z"
   },
   {
    "duration": 21,
    "start_time": "2023-03-08T22:35:56.041Z"
   },
   {
    "duration": 126,
    "start_time": "2023-03-08T22:35:58.079Z"
   },
   {
    "duration": 221,
    "start_time": "2023-03-08T22:36:00.982Z"
   },
   {
    "duration": 30,
    "start_time": "2023-03-08T22:36:02.757Z"
   },
   {
    "duration": 22,
    "start_time": "2023-03-08T22:36:04.915Z"
   },
   {
    "duration": 6,
    "start_time": "2023-03-08T22:36:25.744Z"
   },
   {
    "duration": 813,
    "start_time": "2023-03-08T22:36:28.027Z"
   },
   {
    "duration": 5,
    "start_time": "2023-03-08T22:36:39.584Z"
   },
   {
    "duration": 532,
    "start_time": "2023-03-08T22:36:41.534Z"
   },
   {
    "duration": 3632,
    "start_time": "2023-03-08T22:37:12.106Z"
   },
   {
    "duration": 3,
    "start_time": "2023-03-08T22:38:15.308Z"
   },
   {
    "duration": 3,
    "start_time": "2023-03-08T22:38:16.669Z"
   },
   {
    "duration": 3,
    "start_time": "2023-03-08T22:38:17.976Z"
   },
   {
    "duration": 3641,
    "start_time": "2023-03-08T22:38:19.888Z"
   },
   {
    "duration": 491,
    "start_time": "2023-03-08T22:38:41.279Z"
   },
   {
    "duration": 450,
    "start_time": "2023-03-08T22:39:15.313Z"
   },
   {
    "duration": 590,
    "start_time": "2023-03-08T22:39:21.696Z"
   },
   {
    "duration": 2,
    "start_time": "2023-03-08T22:39:38.407Z"
   },
   {
    "duration": 518,
    "start_time": "2023-03-08T22:39:40.537Z"
   },
   {
    "duration": 15,
    "start_time": "2023-03-08T22:40:10.810Z"
   },
   {
    "duration": 11,
    "start_time": "2023-03-08T22:40:11.039Z"
   },
   {
    "duration": 10,
    "start_time": "2023-03-08T22:40:12.443Z"
   },
   {
    "duration": 15503,
    "start_time": "2023-03-08T22:40:16.972Z"
   },
   {
    "duration": 4656,
    "start_time": "2023-03-08T22:47:11.691Z"
   },
   {
    "duration": 855,
    "start_time": "2023-03-08T22:47:16.350Z"
   },
   {
    "duration": 34,
    "start_time": "2023-03-08T22:47:17.206Z"
   },
   {
    "duration": 142,
    "start_time": "2023-03-08T22:47:17.242Z"
   },
   {
    "duration": 231,
    "start_time": "2023-03-08T22:47:17.386Z"
   },
   {
    "duration": 31,
    "start_time": "2023-03-08T22:47:17.618Z"
   },
   {
    "duration": 14,
    "start_time": "2023-03-08T22:47:17.651Z"
   },
   {
    "duration": 6,
    "start_time": "2023-03-08T22:47:17.667Z"
   },
   {
    "duration": 11,
    "start_time": "2023-03-08T22:47:17.675Z"
   },
   {
    "duration": 10,
    "start_time": "2023-03-08T22:47:17.687Z"
   },
   {
    "duration": 1026123,
    "start_time": "2023-03-08T22:47:17.698Z"
   },
   {
    "duration": 73,
    "start_time": "2023-03-08T23:04:23.823Z"
   },
   {
    "duration": 26,
    "start_time": "2023-03-08T23:10:06.030Z"
   },
   {
    "duration": 313,
    "start_time": "2023-03-08T23:12:48.002Z"
   },
   {
    "duration": 23,
    "start_time": "2023-03-08T23:13:38.051Z"
   },
   {
    "duration": 5931,
    "start_time": "2023-03-08T23:16:19.155Z"
   },
   {
    "duration": 18,
    "start_time": "2023-03-08T23:22:35.985Z"
   },
   {
    "duration": 12,
    "start_time": "2023-03-08T23:23:07.804Z"
   },
   {
    "duration": 3,
    "start_time": "2023-03-08T23:23:16.302Z"
   },
   {
    "duration": 182806,
    "start_time": "2023-03-08T23:23:18.380Z"
   },
   {
    "duration": 831198,
    "start_time": "2023-03-08T23:26:22.470Z"
   },
   {
    "duration": 46319,
    "start_time": "2023-03-08T23:40:16.429Z"
   },
   {
    "duration": 39,
    "start_time": "2023-03-08T23:41:04.300Z"
   },
   {
    "duration": 49828,
    "start_time": "2023-03-08T23:41:13.206Z"
   },
   {
    "duration": 451781,
    "start_time": "2023-03-08T23:44:32.771Z"
   },
   {
    "duration": 223897,
    "start_time": "2023-03-08T23:52:06.244Z"
   },
   {
    "duration": 36,
    "start_time": "2023-03-08T23:56:31.838Z"
   },
   {
    "duration": 109,
    "start_time": "2023-03-08T23:56:41.763Z"
   },
   {
    "duration": 216,
    "start_time": "2023-03-08T23:57:22.124Z"
   },
   {
    "duration": 3030,
    "start_time": "2023-03-08T23:57:39.155Z"
   },
   {
    "duration": 33633,
    "start_time": "2023-03-08T23:57:48.513Z"
   },
   {
    "duration": 1010230,
    "start_time": "2023-03-08T23:58:31.679Z"
   },
   {
    "duration": 25,
    "start_time": "2023-03-09T00:31:54.970Z"
   },
   {
    "duration": 37,
    "start_time": "2023-03-09T00:32:43.223Z"
   },
   {
    "duration": 7,
    "start_time": "2023-03-09T00:33:41.399Z"
   },
   {
    "duration": 876,
    "start_time": "2023-03-09T00:40:59.922Z"
   },
   {
    "duration": 899,
    "start_time": "2023-03-09T00:41:31.222Z"
   },
   {
    "duration": 1565,
    "start_time": "2023-03-09T00:42:21.137Z"
   },
   {
    "duration": 854,
    "start_time": "2023-03-09T00:42:26.009Z"
   },
   {
    "duration": 21,
    "start_time": "2023-03-09T00:42:29.279Z"
   },
   {
    "duration": 196,
    "start_time": "2023-03-09T00:42:31.907Z"
   },
   {
    "duration": 221,
    "start_time": "2023-03-09T00:42:46.709Z"
   },
   {
    "duration": 26,
    "start_time": "2023-03-09T00:42:48.727Z"
   },
   {
    "duration": 15,
    "start_time": "2023-03-09T00:42:57.323Z"
   },
   {
    "duration": 3,
    "start_time": "2023-03-09T00:43:01.087Z"
   },
   {
    "duration": 3,
    "start_time": "2023-03-09T00:43:03.171Z"
   },
   {
    "duration": 3,
    "start_time": "2023-03-09T00:43:04.973Z"
   },
   {
    "duration": 620,
    "start_time": "2023-03-09T00:43:06.624Z"
   },
   {
    "duration": 12,
    "start_time": "2023-03-09T00:43:48.455Z"
   },
   {
    "duration": 2,
    "start_time": "2023-03-09T00:44:13.587Z"
   },
   {
    "duration": 3,
    "start_time": "2023-03-09T00:44:21.253Z"
   },
   {
    "duration": 4,
    "start_time": "2023-03-09T00:44:22.679Z"
   },
   {
    "duration": 15225,
    "start_time": "2023-03-09T00:44:24.408Z"
   },
   {
    "duration": 1552,
    "start_time": "2023-03-09T00:44:45.610Z"
   },
   {
    "duration": 848,
    "start_time": "2023-03-09T00:44:47.164Z"
   },
   {
    "duration": 27,
    "start_time": "2023-03-09T00:44:48.014Z"
   },
   {
    "duration": 191,
    "start_time": "2023-03-09T00:44:48.043Z"
   },
   {
    "duration": 224,
    "start_time": "2023-03-09T00:44:48.236Z"
   },
   {
    "duration": 25,
    "start_time": "2023-03-09T00:44:48.462Z"
   },
   {
    "duration": 13,
    "start_time": "2023-03-09T00:44:48.488Z"
   },
   {
    "duration": 3,
    "start_time": "2023-03-09T00:44:48.502Z"
   },
   {
    "duration": 6,
    "start_time": "2023-03-09T00:44:48.506Z"
   },
   {
    "duration": 20,
    "start_time": "2023-03-09T00:44:48.514Z"
   },
   {
    "duration": 2477,
    "start_time": "2023-03-09T04:49:31.490Z"
   },
   {
    "duration": 2492,
    "start_time": "2023-03-09T04:49:33.969Z"
   },
   {
    "duration": 22,
    "start_time": "2023-03-09T04:49:36.462Z"
   },
   {
    "duration": 237,
    "start_time": "2023-03-09T04:49:36.486Z"
   },
   {
    "duration": 242,
    "start_time": "2023-03-09T04:49:36.725Z"
   },
   {
    "duration": 27,
    "start_time": "2023-03-09T04:49:36.969Z"
   },
   {
    "duration": 16,
    "start_time": "2023-03-09T04:49:36.998Z"
   },
   {
    "duration": 4,
    "start_time": "2023-03-09T04:49:37.015Z"
   },
   {
    "duration": 5,
    "start_time": "2023-03-09T04:49:37.021Z"
   },
   {
    "duration": 30,
    "start_time": "2023-03-09T04:49:37.028Z"
   },
   {
    "duration": 1172206,
    "start_time": "2023-03-09T04:49:37.060Z"
   },
   {
    "duration": 32,
    "start_time": "2023-03-09T05:09:09.268Z"
   },
   {
    "duration": 7540,
    "start_time": "2023-03-09T05:09:09.302Z"
   },
   {
    "duration": 3,
    "start_time": "2023-03-09T05:09:16.845Z"
   },
   {
    "duration": 249699,
    "start_time": "2023-03-09T05:09:16.857Z"
   },
   {
    "duration": 50972,
    "start_time": "2023-03-09T05:13:26.559Z"
   },
   {
    "duration": 5142251,
    "start_time": "2023-03-09T05:14:17.534Z"
   },
   {
    "duration": 44,
    "start_time": "2023-03-09T06:39:59.786Z"
   },
   {
    "duration": 11,
    "start_time": "2023-03-09T06:39:59.832Z"
   },
   {
    "duration": 1081,
    "start_time": "2023-03-09T06:39:59.857Z"
   },
   {
    "duration": 13,
    "start_time": "2023-03-09T06:40:41.177Z"
   }
  ],
  "kernelspec": {
   "display_name": "Python 3 (ipykernel)",
   "language": "python",
   "name": "python3"
  },
  "language_info": {
   "codemirror_mode": {
    "name": "ipython",
    "version": 3
   },
   "file_extension": ".py",
   "mimetype": "text/x-python",
   "name": "python",
   "nbconvert_exporter": "python",
   "pygments_lexer": "ipython3",
   "version": "3.9.5"
  },
  "toc": {
   "base_numbering": 1,
   "nav_menu": {},
   "number_sections": true,
   "sideBar": true,
   "skip_h1_title": true,
   "title_cell": "Содержание",
   "title_sidebar": "Contents",
   "toc_cell": true,
   "toc_position": {
    "height": "calc(100% - 180px)",
    "left": "10px",
    "top": "150px",
    "width": "302.391px"
   },
   "toc_section_display": true,
   "toc_window_display": false
  }
 },
 "nbformat": 4,
 "nbformat_minor": 2
}
