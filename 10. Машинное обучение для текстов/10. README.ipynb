{
 "cells": [
  {
   "cell_type": "markdown",
   "source": [
    "## Классификация комментариев в интернет-магазине\n",
    "\n",
    "Интернет-магазин запускает новый сервис. Теперь пользователи могут редактировать и дополнять описания товаров. То есть клиенты предлагают свои правки и комментируют изменения других. Магазину нужен инструмент, который будет искать токсичные комментарии и отправлять их на модерацию. \n",
    "**Задача:** Обучить модель классифицировать комментарии на позитивные и негативные. В нашем распоряжении набор данных с разметкой о токсичности правок.\n",
    "\n",
    " \n",
    "## Библиотеки\n",
    "\n",
    "`pandas`\n",
    "`numpy`\n",
    "`matplotlib`\n",
    "`time`\n",
    "`nltk`\n",
    "`sklearn`\n",
    "`statsmodels`\n",
    "`lightgbm`\n",
    "\n",
    "\n",
    "\n",
    "##  Модели\n",
    "\n",
    "- Логистическая регрессия\n",
    "- LinearSVC\n",
    "- DummyClassifier\n",
    "\n",
    "\n",
    "\n",
    "## Итоги:\n",
    "\n",
    "- Проведена обработка и исследовательский анализ данных\n",
    "- Проведена очистка текста от лишних знаков и лемматизация\n",
    "- Проведена векторизация признаков\n",
    "- Обучены модели \"Логистическая регрессия\", \"LinearSVC\" и \"DummyClassifier\" с использованием GridSearchCV\n",
    "- Рассчитаны метрики F1 для всех моделей\n",
    "- Проведена проверка лучшей модели на тестовой выборке\n"
   ],
   "metadata": {
    "collapsed": false
   },
   "id": "de4fda721bed26e7"
  },
  {
   "cell_type": "code",
   "execution_count": null,
   "outputs": [],
   "source": [],
   "metadata": {
    "collapsed": false
   },
   "id": "13ea61870587e5a3"
  }
 ],
 "metadata": {
  "kernelspec": {
   "display_name": "Python 3",
   "language": "python",
   "name": "python3"
  },
  "language_info": {
   "codemirror_mode": {
    "name": "ipython",
    "version": 2
   },
   "file_extension": ".py",
   "mimetype": "text/x-python",
   "name": "python",
   "nbconvert_exporter": "python",
   "pygments_lexer": "ipython2",
   "version": "2.7.6"
  }
 },
 "nbformat": 4,
 "nbformat_minor": 5
}
